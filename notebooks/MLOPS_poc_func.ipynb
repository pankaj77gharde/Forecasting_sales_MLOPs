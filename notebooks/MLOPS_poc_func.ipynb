{
 "cells": [
  {
   "cell_type": "markdown",
   "id": "891be5dc",
   "metadata": {
    "heading_collapsed": true
   },
   "source": [
    "# nural profet"
   ]
  },
  {
   "cell_type": "code",
   "execution_count": 184,
   "id": "407cdbe9",
   "metadata": {
    "ExecuteTime": {
     "end_time": "2022-12-30T13:24:57.760678Z",
     "start_time": "2022-12-30T13:24:56.401807Z"
    },
    "hidden": true
   },
   "outputs": [],
   "source": [
    "import pandas as pd \n",
    "import numpy as np \n",
    "from pmdarima.model_selection import train_test_split\n",
    "from neuralprophet import NeuralProphet\n",
    "from sklearn.metrics import mean_absolute_percentage_error\n",
    "import mlflow\n",
    "import warnings\n",
    "warnings.filterwarnings(\"ignore\")"
   ]
  },
  {
   "cell_type": "code",
   "execution_count": 121,
   "id": "d90b29d1",
   "metadata": {
    "ExecuteTime": {
     "end_time": "2022-12-30T10:10:43.712064Z",
     "start_time": "2022-12-30T10:10:43.658183Z"
    },
    "hidden": true
   },
   "outputs": [
    {
     "data": {
      "text/html": [
       "<div>\n",
       "<style scoped>\n",
       "    .dataframe tbody tr th:only-of-type {\n",
       "        vertical-align: middle;\n",
       "    }\n",
       "\n",
       "    .dataframe tbody tr th {\n",
       "        vertical-align: top;\n",
       "    }\n",
       "\n",
       "    .dataframe thead th {\n",
       "        text-align: right;\n",
       "    }\n",
       "</style>\n",
       "<table border=\"1\" class=\"dataframe\">\n",
       "  <thead>\n",
       "    <tr style=\"text-align: right;\">\n",
       "      <th></th>\n",
       "      <th>date</th>\n",
       "      <th>store</th>\n",
       "      <th>item</th>\n",
       "      <th>sales</th>\n",
       "    </tr>\n",
       "  </thead>\n",
       "  <tbody>\n",
       "    <tr>\n",
       "      <th>0</th>\n",
       "      <td>2013-01-01</td>\n",
       "      <td>1</td>\n",
       "      <td>1</td>\n",
       "      <td>13</td>\n",
       "    </tr>\n",
       "    <tr>\n",
       "      <th>1</th>\n",
       "      <td>2013-01-02</td>\n",
       "      <td>1</td>\n",
       "      <td>1</td>\n",
       "      <td>11</td>\n",
       "    </tr>\n",
       "    <tr>\n",
       "      <th>2</th>\n",
       "      <td>2013-01-03</td>\n",
       "      <td>1</td>\n",
       "      <td>1</td>\n",
       "      <td>14</td>\n",
       "    </tr>\n",
       "    <tr>\n",
       "      <th>3</th>\n",
       "      <td>2013-01-04</td>\n",
       "      <td>1</td>\n",
       "      <td>1</td>\n",
       "      <td>13</td>\n",
       "    </tr>\n",
       "    <tr>\n",
       "      <th>4</th>\n",
       "      <td>2013-01-05</td>\n",
       "      <td>1</td>\n",
       "      <td>1</td>\n",
       "      <td>10</td>\n",
       "    </tr>\n",
       "    <tr>\n",
       "      <th>...</th>\n",
       "      <td>...</td>\n",
       "      <td>...</td>\n",
       "      <td>...</td>\n",
       "      <td>...</td>\n",
       "    </tr>\n",
       "    <tr>\n",
       "      <th>91295</th>\n",
       "      <td>2017-12-27</td>\n",
       "      <td>1</td>\n",
       "      <td>50</td>\n",
       "      <td>38</td>\n",
       "    </tr>\n",
       "    <tr>\n",
       "      <th>91296</th>\n",
       "      <td>2017-12-28</td>\n",
       "      <td>1</td>\n",
       "      <td>50</td>\n",
       "      <td>52</td>\n",
       "    </tr>\n",
       "    <tr>\n",
       "      <th>91297</th>\n",
       "      <td>2017-12-29</td>\n",
       "      <td>1</td>\n",
       "      <td>50</td>\n",
       "      <td>59</td>\n",
       "    </tr>\n",
       "    <tr>\n",
       "      <th>91298</th>\n",
       "      <td>2017-12-30</td>\n",
       "      <td>1</td>\n",
       "      <td>50</td>\n",
       "      <td>66</td>\n",
       "    </tr>\n",
       "    <tr>\n",
       "      <th>91299</th>\n",
       "      <td>2017-12-31</td>\n",
       "      <td>1</td>\n",
       "      <td>50</td>\n",
       "      <td>45</td>\n",
       "    </tr>\n",
       "  </tbody>\n",
       "</table>\n",
       "<p>91300 rows × 4 columns</p>\n",
       "</div>"
      ],
      "text/plain": [
       "             date  store  item  sales\n",
       "0      2013-01-01      1     1     13\n",
       "1      2013-01-02      1     1     11\n",
       "2      2013-01-03      1     1     14\n",
       "3      2013-01-04      1     1     13\n",
       "4      2013-01-05      1     1     10\n",
       "...           ...    ...   ...    ...\n",
       "91295  2017-12-27      1    50     38\n",
       "91296  2017-12-28      1    50     52\n",
       "91297  2017-12-29      1    50     59\n",
       "91298  2017-12-30      1    50     66\n",
       "91299  2017-12-31      1    50     45\n",
       "\n",
       "[91300 rows x 4 columns]"
      ]
     },
     "execution_count": 121,
     "metadata": {},
     "output_type": "execute_result"
    }
   ],
   "source": [
    "df = pd.read_csv(\"train_data.csv\")\n",
    "df"
   ]
  },
  {
   "cell_type": "markdown",
   "id": "06e5c3c9",
   "metadata": {
    "hidden": true
   },
   "source": [
    "## Phase 1 : Preprocess"
   ]
  },
  {
   "cell_type": "code",
   "execution_count": 122,
   "id": "d5dd88b5",
   "metadata": {
    "ExecuteTime": {
     "end_time": "2022-12-30T10:10:51.560211Z",
     "start_time": "2022-12-30T10:10:51.545025Z"
    },
    "hidden": true
   },
   "outputs": [],
   "source": [
    "\"\"\"In pre process first grouping by items i.e. 50 \n",
    "   then by droping unique columns geting final X and Y dataframe\"\"\"\n",
    "def pre_pros(df):\n",
    "    y = {}\n",
    "    X = {}\n",
    "    for item,data in df.groupby(\"item\"):\n",
    "        data = data.drop([col for col in data.columns if data[col].nunique()==1], axis=1)\n",
    "        data.rename(columns={\"sales\" : f\"sales_{item}\"}, inplace=True)\n",
    "        X.update({\"date\" : data[\"date\"].values})\n",
    "        y.update({f\"sales_{item}\" : data[f\"sales_{item}\"].values})\n",
    "    df_X = pd.DataFrame(X)\n",
    "    df_y = pd.DataFrame(y)\n",
    "    df_final = pd.concat([df_X, df_y], axis=1)\n",
    "    \n",
    "    return df_final"
   ]
  },
  {
   "cell_type": "code",
   "execution_count": 123,
   "id": "f8d30280",
   "metadata": {
    "ExecuteTime": {
     "end_time": "2022-12-30T10:10:52.811473Z",
     "start_time": "2022-12-30T10:10:52.725299Z"
    },
    "hidden": true
   },
   "outputs": [],
   "source": [
    "proc_data = pre_pros(df)"
   ]
  },
  {
   "cell_type": "code",
   "execution_count": 124,
   "id": "ce309ae6",
   "metadata": {
    "ExecuteTime": {
     "end_time": "2022-12-30T10:10:54.186034Z",
     "start_time": "2022-12-30T10:10:54.160556Z"
    },
    "hidden": true,
    "scrolled": true
   },
   "outputs": [
    {
     "data": {
      "text/html": [
       "<div>\n",
       "<style scoped>\n",
       "    .dataframe tbody tr th:only-of-type {\n",
       "        vertical-align: middle;\n",
       "    }\n",
       "\n",
       "    .dataframe tbody tr th {\n",
       "        vertical-align: top;\n",
       "    }\n",
       "\n",
       "    .dataframe thead th {\n",
       "        text-align: right;\n",
       "    }\n",
       "</style>\n",
       "<table border=\"1\" class=\"dataframe\">\n",
       "  <thead>\n",
       "    <tr style=\"text-align: right;\">\n",
       "      <th></th>\n",
       "      <th>date</th>\n",
       "      <th>sales_1</th>\n",
       "      <th>sales_2</th>\n",
       "      <th>sales_3</th>\n",
       "      <th>sales_4</th>\n",
       "      <th>sales_5</th>\n",
       "      <th>sales_6</th>\n",
       "      <th>sales_7</th>\n",
       "      <th>sales_8</th>\n",
       "      <th>sales_9</th>\n",
       "      <th>...</th>\n",
       "      <th>sales_41</th>\n",
       "      <th>sales_42</th>\n",
       "      <th>sales_43</th>\n",
       "      <th>sales_44</th>\n",
       "      <th>sales_45</th>\n",
       "      <th>sales_46</th>\n",
       "      <th>sales_47</th>\n",
       "      <th>sales_48</th>\n",
       "      <th>sales_49</th>\n",
       "      <th>sales_50</th>\n",
       "    </tr>\n",
       "  </thead>\n",
       "  <tbody>\n",
       "    <tr>\n",
       "      <th>0</th>\n",
       "      <td>2013-01-01</td>\n",
       "      <td>13</td>\n",
       "      <td>33</td>\n",
       "      <td>15</td>\n",
       "      <td>10</td>\n",
       "      <td>11</td>\n",
       "      <td>31</td>\n",
       "      <td>25</td>\n",
       "      <td>33</td>\n",
       "      <td>18</td>\n",
       "      <td>...</td>\n",
       "      <td>6</td>\n",
       "      <td>21</td>\n",
       "      <td>22</td>\n",
       "      <td>20</td>\n",
       "      <td>37</td>\n",
       "      <td>30</td>\n",
       "      <td>17</td>\n",
       "      <td>21</td>\n",
       "      <td>18</td>\n",
       "      <td>30</td>\n",
       "    </tr>\n",
       "    <tr>\n",
       "      <th>1</th>\n",
       "      <td>2013-01-02</td>\n",
       "      <td>11</td>\n",
       "      <td>43</td>\n",
       "      <td>30</td>\n",
       "      <td>11</td>\n",
       "      <td>6</td>\n",
       "      <td>36</td>\n",
       "      <td>23</td>\n",
       "      <td>37</td>\n",
       "      <td>23</td>\n",
       "      <td>...</td>\n",
       "      <td>15</td>\n",
       "      <td>24</td>\n",
       "      <td>27</td>\n",
       "      <td>15</td>\n",
       "      <td>40</td>\n",
       "      <td>30</td>\n",
       "      <td>15</td>\n",
       "      <td>26</td>\n",
       "      <td>10</td>\n",
       "      <td>32</td>\n",
       "    </tr>\n",
       "    <tr>\n",
       "      <th>2</th>\n",
       "      <td>2013-01-03</td>\n",
       "      <td>14</td>\n",
       "      <td>23</td>\n",
       "      <td>14</td>\n",
       "      <td>8</td>\n",
       "      <td>8</td>\n",
       "      <td>18</td>\n",
       "      <td>34</td>\n",
       "      <td>38</td>\n",
       "      <td>25</td>\n",
       "      <td>...</td>\n",
       "      <td>5</td>\n",
       "      <td>14</td>\n",
       "      <td>19</td>\n",
       "      <td>11</td>\n",
       "      <td>42</td>\n",
       "      <td>30</td>\n",
       "      <td>5</td>\n",
       "      <td>25</td>\n",
       "      <td>17</td>\n",
       "      <td>25</td>\n",
       "    </tr>\n",
       "    <tr>\n",
       "      <th>3</th>\n",
       "      <td>2013-01-04</td>\n",
       "      <td>13</td>\n",
       "      <td>18</td>\n",
       "      <td>10</td>\n",
       "      <td>19</td>\n",
       "      <td>9</td>\n",
       "      <td>19</td>\n",
       "      <td>36</td>\n",
       "      <td>54</td>\n",
       "      <td>22</td>\n",
       "      <td>...</td>\n",
       "      <td>9</td>\n",
       "      <td>22</td>\n",
       "      <td>29</td>\n",
       "      <td>22</td>\n",
       "      <td>49</td>\n",
       "      <td>37</td>\n",
       "      <td>13</td>\n",
       "      <td>26</td>\n",
       "      <td>22</td>\n",
       "      <td>32</td>\n",
       "    </tr>\n",
       "    <tr>\n",
       "      <th>4</th>\n",
       "      <td>2013-01-05</td>\n",
       "      <td>10</td>\n",
       "      <td>34</td>\n",
       "      <td>23</td>\n",
       "      <td>12</td>\n",
       "      <td>8</td>\n",
       "      <td>31</td>\n",
       "      <td>38</td>\n",
       "      <td>51</td>\n",
       "      <td>29</td>\n",
       "      <td>...</td>\n",
       "      <td>13</td>\n",
       "      <td>18</td>\n",
       "      <td>34</td>\n",
       "      <td>19</td>\n",
       "      <td>52</td>\n",
       "      <td>28</td>\n",
       "      <td>12</td>\n",
       "      <td>28</td>\n",
       "      <td>15</td>\n",
       "      <td>35</td>\n",
       "    </tr>\n",
       "    <tr>\n",
       "      <th>...</th>\n",
       "      <td>...</td>\n",
       "      <td>...</td>\n",
       "      <td>...</td>\n",
       "      <td>...</td>\n",
       "      <td>...</td>\n",
       "      <td>...</td>\n",
       "      <td>...</td>\n",
       "      <td>...</td>\n",
       "      <td>...</td>\n",
       "      <td>...</td>\n",
       "      <td>...</td>\n",
       "      <td>...</td>\n",
       "      <td>...</td>\n",
       "      <td>...</td>\n",
       "      <td>...</td>\n",
       "      <td>...</td>\n",
       "      <td>...</td>\n",
       "      <td>...</td>\n",
       "      <td>...</td>\n",
       "      <td>...</td>\n",
       "      <td>...</td>\n",
       "    </tr>\n",
       "    <tr>\n",
       "      <th>1821</th>\n",
       "      <td>2017-12-27</td>\n",
       "      <td>14</td>\n",
       "      <td>55</td>\n",
       "      <td>26</td>\n",
       "      <td>16</td>\n",
       "      <td>6</td>\n",
       "      <td>32</td>\n",
       "      <td>45</td>\n",
       "      <td>58</td>\n",
       "      <td>37</td>\n",
       "      <td>...</td>\n",
       "      <td>10</td>\n",
       "      <td>23</td>\n",
       "      <td>29</td>\n",
       "      <td>22</td>\n",
       "      <td>65</td>\n",
       "      <td>43</td>\n",
       "      <td>12</td>\n",
       "      <td>31</td>\n",
       "      <td>17</td>\n",
       "      <td>38</td>\n",
       "    </tr>\n",
       "    <tr>\n",
       "      <th>1822</th>\n",
       "      <td>2017-12-28</td>\n",
       "      <td>19</td>\n",
       "      <td>50</td>\n",
       "      <td>21</td>\n",
       "      <td>20</td>\n",
       "      <td>15</td>\n",
       "      <td>51</td>\n",
       "      <td>36</td>\n",
       "      <td>49</td>\n",
       "      <td>34</td>\n",
       "      <td>...</td>\n",
       "      <td>9</td>\n",
       "      <td>19</td>\n",
       "      <td>28</td>\n",
       "      <td>19</td>\n",
       "      <td>54</td>\n",
       "      <td>41</td>\n",
       "      <td>15</td>\n",
       "      <td>37</td>\n",
       "      <td>21</td>\n",
       "      <td>52</td>\n",
       "    </tr>\n",
       "    <tr>\n",
       "      <th>1823</th>\n",
       "      <td>2017-12-29</td>\n",
       "      <td>15</td>\n",
       "      <td>50</td>\n",
       "      <td>38</td>\n",
       "      <td>25</td>\n",
       "      <td>17</td>\n",
       "      <td>55</td>\n",
       "      <td>57</td>\n",
       "      <td>54</td>\n",
       "      <td>46</td>\n",
       "      <td>...</td>\n",
       "      <td>22</td>\n",
       "      <td>15</td>\n",
       "      <td>32</td>\n",
       "      <td>36</td>\n",
       "      <td>77</td>\n",
       "      <td>48</td>\n",
       "      <td>21</td>\n",
       "      <td>39</td>\n",
       "      <td>23</td>\n",
       "      <td>59</td>\n",
       "    </tr>\n",
       "    <tr>\n",
       "      <th>1824</th>\n",
       "      <td>2017-12-30</td>\n",
       "      <td>27</td>\n",
       "      <td>56</td>\n",
       "      <td>27</td>\n",
       "      <td>19</td>\n",
       "      <td>22</td>\n",
       "      <td>55</td>\n",
       "      <td>60</td>\n",
       "      <td>75</td>\n",
       "      <td>37</td>\n",
       "      <td>...</td>\n",
       "      <td>20</td>\n",
       "      <td>35</td>\n",
       "      <td>58</td>\n",
       "      <td>21</td>\n",
       "      <td>63</td>\n",
       "      <td>56</td>\n",
       "      <td>19</td>\n",
       "      <td>50</td>\n",
       "      <td>29</td>\n",
       "      <td>66</td>\n",
       "    </tr>\n",
       "    <tr>\n",
       "      <th>1825</th>\n",
       "      <td>2017-12-31</td>\n",
       "      <td>23</td>\n",
       "      <td>67</td>\n",
       "      <td>29</td>\n",
       "      <td>15</td>\n",
       "      <td>17</td>\n",
       "      <td>53</td>\n",
       "      <td>55</td>\n",
       "      <td>62</td>\n",
       "      <td>50</td>\n",
       "      <td>...</td>\n",
       "      <td>25</td>\n",
       "      <td>27</td>\n",
       "      <td>41</td>\n",
       "      <td>25</td>\n",
       "      <td>73</td>\n",
       "      <td>52</td>\n",
       "      <td>12</td>\n",
       "      <td>47</td>\n",
       "      <td>21</td>\n",
       "      <td>45</td>\n",
       "    </tr>\n",
       "  </tbody>\n",
       "</table>\n",
       "<p>1826 rows × 51 columns</p>\n",
       "</div>"
      ],
      "text/plain": [
       "            date  sales_1  sales_2  sales_3  sales_4  sales_5  sales_6  \\\n",
       "0     2013-01-01       13       33       15       10       11       31   \n",
       "1     2013-01-02       11       43       30       11        6       36   \n",
       "2     2013-01-03       14       23       14        8        8       18   \n",
       "3     2013-01-04       13       18       10       19        9       19   \n",
       "4     2013-01-05       10       34       23       12        8       31   \n",
       "...          ...      ...      ...      ...      ...      ...      ...   \n",
       "1821  2017-12-27       14       55       26       16        6       32   \n",
       "1822  2017-12-28       19       50       21       20       15       51   \n",
       "1823  2017-12-29       15       50       38       25       17       55   \n",
       "1824  2017-12-30       27       56       27       19       22       55   \n",
       "1825  2017-12-31       23       67       29       15       17       53   \n",
       "\n",
       "      sales_7  sales_8  sales_9  ...  sales_41  sales_42  sales_43  sales_44  \\\n",
       "0          25       33       18  ...         6        21        22        20   \n",
       "1          23       37       23  ...        15        24        27        15   \n",
       "2          34       38       25  ...         5        14        19        11   \n",
       "3          36       54       22  ...         9        22        29        22   \n",
       "4          38       51       29  ...        13        18        34        19   \n",
       "...       ...      ...      ...  ...       ...       ...       ...       ...   \n",
       "1821       45       58       37  ...        10        23        29        22   \n",
       "1822       36       49       34  ...         9        19        28        19   \n",
       "1823       57       54       46  ...        22        15        32        36   \n",
       "1824       60       75       37  ...        20        35        58        21   \n",
       "1825       55       62       50  ...        25        27        41        25   \n",
       "\n",
       "      sales_45  sales_46  sales_47  sales_48  sales_49  sales_50  \n",
       "0           37        30        17        21        18        30  \n",
       "1           40        30        15        26        10        32  \n",
       "2           42        30         5        25        17        25  \n",
       "3           49        37        13        26        22        32  \n",
       "4           52        28        12        28        15        35  \n",
       "...        ...       ...       ...       ...       ...       ...  \n",
       "1821        65        43        12        31        17        38  \n",
       "1822        54        41        15        37        21        52  \n",
       "1823        77        48        21        39        23        59  \n",
       "1824        63        56        19        50        29        66  \n",
       "1825        73        52        12        47        21        45  \n",
       "\n",
       "[1826 rows x 51 columns]"
      ]
     },
     "execution_count": 124,
     "metadata": {},
     "output_type": "execute_result"
    }
   ],
   "source": [
    "proc_data"
   ]
  },
  {
   "cell_type": "markdown",
   "id": "4d73e7f1",
   "metadata": {
    "hidden": true
   },
   "source": [
    "## Phase 2 : NP Build Model"
   ]
  },
  {
   "cell_type": "code",
   "execution_count": 125,
   "id": "a0574b9c",
   "metadata": {
    "ExecuteTime": {
     "end_time": "2022-12-30T10:10:59.858271Z",
     "start_time": "2022-12-30T10:10:59.850963Z"
    },
    "hidden": true
   },
   "outputs": [],
   "source": [
    "def train_test_data(data, split_test = 0.2):\n",
    "    train, test = train_test_split(data, test_size = split_test) # splite by dates \n",
    "    return {\"train\" : train, \"test\" : test}"
   ]
  },
  {
   "cell_type": "code",
   "execution_count": 126,
   "id": "42c8135d",
   "metadata": {
    "ExecuteTime": {
     "end_time": "2022-12-30T10:11:00.221927Z",
     "start_time": "2022-12-30T10:11:00.213075Z"
    },
    "hidden": true
   },
   "outputs": [],
   "source": [
    "dict_data = train_test_data(proc_data, 0.1)"
   ]
  },
  {
   "cell_type": "code",
   "execution_count": 127,
   "id": "aa0d7cd1",
   "metadata": {
    "ExecuteTime": {
     "end_time": "2022-12-30T10:11:00.803640Z",
     "start_time": "2022-12-30T10:11:00.777917Z"
    },
    "hidden": true,
    "scrolled": true
   },
   "outputs": [
    {
     "data": {
      "text/plain": [
       "{'train':             date  sales_1  sales_2  sales_3  sales_4  sales_5  sales_6  \\\n",
       " 0     2013-01-01       13       33       15       10       11       31   \n",
       " 1     2013-01-02       11       43       30       11        6       36   \n",
       " 2     2013-01-03       14       23       14        8        8       18   \n",
       " 3     2013-01-04       13       18       10       19        9       19   \n",
       " 4     2013-01-05       10       34       23       12        8       31   \n",
       " ...          ...      ...      ...      ...      ...      ...      ...   \n",
       " 1638  2017-06-27       32       53       39       27       16       67   \n",
       " 1639  2017-06-28       50       63       40       18       14       70   \n",
       " 1640  2017-06-29       28       64       35       32       23       61   \n",
       " 1641  2017-06-30       28       82       45       29       22       74   \n",
       " 1642  2017-07-01       31       83       41       37       26       83   \n",
       " \n",
       "       sales_7  sales_8  sales_9  ...  sales_41  sales_42  sales_43  sales_44  \\\n",
       " 0          25       33       18  ...         6        21        22        20   \n",
       " 1          23       37       23  ...        15        24        27        15   \n",
       " 2          34       38       25  ...         5        14        19        11   \n",
       " 3          36       54       22  ...         9        22        29        22   \n",
       " 4          38       51       29  ...        13        18        34        19   \n",
       " ...       ...      ...      ...  ...       ...       ...       ...       ...   \n",
       " 1638       58       98       57  ...        33        48        55        26   \n",
       " 1639       70       81       59  ...        30        43        42        33   \n",
       " 1640       55      102       66  ...        32        42        56        29   \n",
       " 1641       64      103       57  ...        32        51        62        41   \n",
       " 1642       88      111       85  ...        40        52        67        43   \n",
       " \n",
       "       sales_45  sales_46  sales_47  sales_48  sales_49  sales_50  \n",
       " 0           37        30        17        21        18        30  \n",
       " 1           40        30        15        26        10        32  \n",
       " 2           42        30         5        25        17        25  \n",
       " 3           49        37        13        26        22        32  \n",
       " 4           52        28        12        28        15        35  \n",
       " ...        ...       ...       ...       ...       ...       ...  \n",
       " 1638        69        73        18        67        30        56  \n",
       " 1639        85        68        26        50        31        79  \n",
       " 1640        94        67        24        79        26        93  \n",
       " 1641        97        85        40        65        47        83  \n",
       " 1642       128        91        29        76        31        91  \n",
       " \n",
       " [1643 rows x 51 columns],\n",
       " 'test':             date  sales_1  sales_2  sales_3  sales_4  sales_5  sales_6  \\\n",
       " 1643  2017-07-02       38       98       58       39       26       89   \n",
       " 1644  2017-07-03       18       52       36       18       18       73   \n",
       " 1645  2017-07-04       23       66       47       30       23       69   \n",
       " 1646  2017-07-05       23       67       41       30       22       68   \n",
       " 1647  2017-07-06       31       67       43       26       26       83   \n",
       " ...          ...      ...      ...      ...      ...      ...      ...   \n",
       " 1821  2017-12-27       14       55       26       16        6       32   \n",
       " 1822  2017-12-28       19       50       21       20       15       51   \n",
       " 1823  2017-12-29       15       50       38       25       17       55   \n",
       " 1824  2017-12-30       27       56       27       19       22       55   \n",
       " 1825  2017-12-31       23       67       29       15       17       53   \n",
       " \n",
       "       sales_7  sales_8  sales_9  ...  sales_41  sales_42  sales_43  sales_44  \\\n",
       " 1643       90      105       79  ...        35        57        82        54   \n",
       " 1644       59       76       65  ...        17        33        51        40   \n",
       " 1645       86       88       48  ...        33        40        78        47   \n",
       " 1646       54       74       66  ...        26        54        65        35   \n",
       " 1647       86      103       71  ...        35        37        74        35   \n",
       " ...       ...      ...      ...  ...       ...       ...       ...       ...   \n",
       " 1821       45       58       37  ...        10        23        29        22   \n",
       " 1822       36       49       34  ...         9        19        28        19   \n",
       " 1823       57       54       46  ...        22        15        32        36   \n",
       " 1824       60       75       37  ...        20        35        58        21   \n",
       " 1825       55       62       50  ...        25        27        41        25   \n",
       " \n",
       "       sales_45  sales_46  sales_47  sales_48  sales_49  sales_50  \n",
       " 1643       123        99        23        90        46        97  \n",
       " 1644        88        55        23        49        25        68  \n",
       " 1645        93        65        29        53        42        84  \n",
       " 1646        86        59        32        61        40        91  \n",
       " 1647       103        81        37        70        31        88  \n",
       " ...        ...       ...       ...       ...       ...       ...  \n",
       " 1821        65        43        12        31        17        38  \n",
       " 1822        54        41        15        37        21        52  \n",
       " 1823        77        48        21        39        23        59  \n",
       " 1824        63        56        19        50        29        66  \n",
       " 1825        73        52        12        47        21        45  \n",
       " \n",
       " [183 rows x 51 columns]}"
      ]
     },
     "execution_count": 127,
     "metadata": {},
     "output_type": "execute_result"
    }
   ],
   "source": [
    "dict_data"
   ]
  },
  {
   "cell_type": "code",
   "execution_count": null,
   "id": "15be7d6f",
   "metadata": {
    "hidden": true
   },
   "outputs": [],
   "source": []
  },
  {
   "cell_type": "code",
   "execution_count": 128,
   "id": "ab946530",
   "metadata": {
    "ExecuteTime": {
     "end_time": "2022-12-30T10:12:07.408145Z",
     "start_time": "2022-12-30T10:12:07.378262Z"
    },
    "hidden": true
   },
   "outputs": [],
   "source": [
    "\"\"\"building nuralprofet model for each item i.e. 50 models\"\"\"\n",
    "def model_build_NP(data):    \n",
    "    \"\"\"using only train data\"\"\"\n",
    "    train = data[\"train\"]\n",
    "    train[\"date\"] = pd.to_datetime(train[\"date\"], format=\"%Y-%m-%d\") # date time formate\n",
    "    model_dict = {}\n",
    "    col_names = train.columns\n",
    "    for y_indx in range(1, len(train.columns)):\n",
    "        tsdf = train.iloc[:, [0, y_indx]]\n",
    "        item_name = col_names[y_indx] # item key for model_dict\n",
    "        tsdf.columns = [\"ds\", \"y\"] # NP formate colums\n",
    "        # model traning\n",
    "        npf = NeuralProphet(num_hidden_layers = 2) # n_lags= 7 perform good but issue in 30 days data creation for fourcast\n",
    "        npf.fit(tsdf, freq='D')\n",
    "        model_dict[item_name] = npf\n",
    "    return model_dict"
   ]
  },
  {
   "cell_type": "code",
   "execution_count": 129,
   "id": "af0b07a1",
   "metadata": {
    "ExecuteTime": {
     "end_time": "2022-12-30T10:22:39.512858Z",
     "start_time": "2022-12-30T10:12:08.686021Z"
    },
    "hidden": true,
    "scrolled": true
   },
   "outputs": [
    {
     "name": "stderr",
     "output_type": "stream",
     "text": [
      "INFO - (NP.df_utils._infer_frequency) - Major frequency D corresponds to 99.939% of the data.\n",
      "INFO - (NP.df_utils._infer_frequency) - Defined frequency is equal to major frequency - D\n",
      "INFO - (NP.config.init_data_params) - Setting normalization to global as only one dataframe provided for training.\n",
      "INFO - (NP.utils.set_auto_seasonalities) - Disabling daily seasonality. Run NeuralProphet with daily_seasonality=True to override this.\n",
      "INFO - (NP.config.set_auto_batch_epoch) - Auto-set batch_size to 32\n",
      "INFO - (NP.config.set_auto_batch_epoch) - Auto-set epochs to 167\n"
     ]
    },
    {
     "data": {
      "application/vnd.jupyter.widget-view+json": {
       "model_id": "02ffa0753e034ba78f41d49b9b600330",
       "version_major": 2,
       "version_minor": 0
      },
      "text/plain": [
       "  0%|          | 0/131 [00:00<?, ?it/s]"
      ]
     },
     "metadata": {},
     "output_type": "display_data"
    },
    {
     "name": "stderr",
     "output_type": "stream",
     "text": [
      "INFO - (NP.utils_torch.lr_range_test) - lr-range-test results: steep: 8.99E-02, min: 1.35E+00\n"
     ]
    },
    {
     "data": {
      "application/vnd.jupyter.widget-view+json": {
       "model_id": "cd5f3169e6f9482a81aae822ae8dd2ac",
       "version_major": 2,
       "version_minor": 0
      },
      "text/plain": [
       "  0%|          | 0/131 [00:00<?, ?it/s]"
      ]
     },
     "metadata": {},
     "output_type": "display_data"
    },
    {
     "name": "stderr",
     "output_type": "stream",
     "text": [
      "INFO - (NP.utils_torch.lr_range_test) - lr-range-test results: steep: 8.99E-02, min: 1.35E+00\n",
      "INFO - (NP.forecaster._init_train_loader) - lr-range-test selected learning rate: 9.32E-02\n",
      "Epoch[167/167]: 100%|███████████| 167/167 [00:12<00:00, 13.78it/s, SmoothL1Loss=0.0132, MAE=3.46, RMSE=4.36, RegLoss=0]\n",
      "INFO - (NP.df_utils._infer_frequency) - Major frequency D corresponds to 99.939% of the data.\n",
      "INFO - (NP.df_utils._infer_frequency) - Defined frequency is equal to major frequency - D\n",
      "INFO - (NP.config.init_data_params) - Setting normalization to global as only one dataframe provided for training.\n",
      "INFO - (NP.utils.set_auto_seasonalities) - Disabling daily seasonality. Run NeuralProphet with daily_seasonality=True to override this.\n",
      "INFO - (NP.config.set_auto_batch_epoch) - Auto-set batch_size to 32\n",
      "INFO - (NP.config.set_auto_batch_epoch) - Auto-set epochs to 167\n"
     ]
    },
    {
     "data": {
      "application/vnd.jupyter.widget-view+json": {
       "model_id": "435eecd2dd384685a23ea898f40b70fc",
       "version_major": 2,
       "version_minor": 0
      },
      "text/plain": [
       "  0%|          | 0/131 [00:00<?, ?it/s]"
      ]
     },
     "metadata": {},
     "output_type": "display_data"
    },
    {
     "name": "stderr",
     "output_type": "stream",
     "text": [
      "INFO - (NP.utils_torch.lr_range_test) - lr-range-test results: steep: 5.57E-02, min: 1.15E+00\n"
     ]
    },
    {
     "data": {
      "application/vnd.jupyter.widget-view+json": {
       "model_id": "30750f16060e4606bb7de599ceed756b",
       "version_major": 2,
       "version_minor": 0
      },
      "text/plain": [
       "  0%|          | 0/131 [00:00<?, ?it/s]"
      ]
     },
     "metadata": {},
     "output_type": "display_data"
    },
    {
     "name": "stderr",
     "output_type": "stream",
     "text": [
      "INFO - (NP.utils_torch.lr_range_test) - lr-range-test results: steep: 6.54E-02, min: 8.38E-01\n",
      "INFO - (NP.forecaster._init_train_loader) - lr-range-test selected learning rate: 7.14E-02\n",
      "Epoch[167/167]: 100%|██████████| 167/167 [00:12<00:00, 13.73it/s, SmoothL1Loss=0.00702, MAE=6.13, RMSE=7.62, RegLoss=0]\n",
      "INFO - (NP.df_utils._infer_frequency) - Major frequency D corresponds to 99.939% of the data.\n",
      "INFO - (NP.df_utils._infer_frequency) - Defined frequency is equal to major frequency - D\n",
      "INFO - (NP.config.init_data_params) - Setting normalization to global as only one dataframe provided for training.\n",
      "INFO - (NP.utils.set_auto_seasonalities) - Disabling daily seasonality. Run NeuralProphet with daily_seasonality=True to override this.\n",
      "INFO - (NP.config.set_auto_batch_epoch) - Auto-set batch_size to 32\n",
      "INFO - (NP.config.set_auto_batch_epoch) - Auto-set epochs to 167\n"
     ]
    },
    {
     "data": {
      "application/vnd.jupyter.widget-view+json": {
       "model_id": "56b8df5998644c6bb5a9bfd4167157fc",
       "version_major": 2,
       "version_minor": 0
      },
      "text/plain": [
       "  0%|          | 0/131 [00:00<?, ?it/s]"
      ]
     },
     "metadata": {},
     "output_type": "display_data"
    },
    {
     "name": "stderr",
     "output_type": "stream",
     "text": [
      "INFO - (NP.utils_torch.lr_range_test) - lr-range-test results: steep: 2.00E-01, min: 2.18E+00\n"
     ]
    },
    {
     "data": {
      "application/vnd.jupyter.widget-view+json": {
       "model_id": "17266f8f44d64b08b5945b223fcc6ecc",
       "version_major": 2,
       "version_minor": 0
      },
      "text/plain": [
       "  0%|          | 0/131 [00:00<?, ?it/s]"
      ]
     },
     "metadata": {},
     "output_type": "display_data"
    },
    {
     "name": "stderr",
     "output_type": "stream",
     "text": [
      "INFO - (NP.utils_torch.lr_range_test) - lr-range-test results: steep: 2.00E-01, min: 2.18E+00\n",
      "INFO - (NP.forecaster._init_train_loader) - lr-range-test selected learning rate: 1.58E-01\n",
      "Epoch[167/167]: 100%|██████████| 167/167 [00:11<00:00, 14.10it/s, SmoothL1Loss=0.00981, MAE=4.63, RMSE=5.83, RegLoss=0]\n",
      "INFO - (NP.df_utils._infer_frequency) - Major frequency D corresponds to 99.939% of the data.\n",
      "INFO - (NP.df_utils._infer_frequency) - Defined frequency is equal to major frequency - D\n",
      "INFO - (NP.config.init_data_params) - Setting normalization to global as only one dataframe provided for training.\n",
      "INFO - (NP.utils.set_auto_seasonalities) - Disabling daily seasonality. Run NeuralProphet with daily_seasonality=True to override this.\n",
      "INFO - (NP.config.set_auto_batch_epoch) - Auto-set batch_size to 32\n",
      "INFO - (NP.config.set_auto_batch_epoch) - Auto-set epochs to 167\n"
     ]
    },
    {
     "data": {
      "application/vnd.jupyter.widget-view+json": {
       "model_id": "48085c5e9ac24401822f4e0f7a9fdb1e",
       "version_major": 2,
       "version_minor": 0
      },
      "text/plain": [
       "  0%|          | 0/131 [00:00<?, ?it/s]"
      ]
     },
     "metadata": {},
     "output_type": "display_data"
    },
    {
     "name": "stderr",
     "output_type": "stream",
     "text": [
      "INFO - (NP.utils_torch.lr_range_test) - lr-range-test results: steep: 1.05E-01, min: 9.82E-01\n"
     ]
    },
    {
     "data": {
      "application/vnd.jupyter.widget-view+json": {
       "model_id": "2f502612223c4d01890cb06130fbceab",
       "version_major": 2,
       "version_minor": 0
      },
      "text/plain": [
       "  0%|          | 0/131 [00:00<?, ?it/s]"
      ]
     },
     "metadata": {},
     "output_type": "display_data"
    },
    {
     "name": "stderr",
     "output_type": "stream",
     "text": [
      "INFO - (NP.utils_torch.lr_range_test) - lr-range-test results: steep: 1.05E-01, min: 1.15E+00\n",
      "INFO - (NP.forecaster._init_train_loader) - lr-range-test selected learning rate: 1.04E-01\n",
      "Epoch[167/167]: 100%|███████████| 167/167 [00:12<00:00, 13.69it/s, SmoothL1Loss=0.0139, MAE=3.62, RMSE=4.46, RegLoss=0]\n",
      "INFO - (NP.df_utils._infer_frequency) - Major frequency D corresponds to 99.939% of the data.\n",
      "INFO - (NP.df_utils._infer_frequency) - Defined frequency is equal to major frequency - D\n",
      "INFO - (NP.config.init_data_params) - Setting normalization to global as only one dataframe provided for training.\n",
      "INFO - (NP.utils.set_auto_seasonalities) - Disabling daily seasonality. Run NeuralProphet with daily_seasonality=True to override this.\n",
      "INFO - (NP.config.set_auto_batch_epoch) - Auto-set batch_size to 32\n",
      "INFO - (NP.config.set_auto_batch_epoch) - Auto-set epochs to 167\n"
     ]
    },
    {
     "data": {
      "application/vnd.jupyter.widget-view+json": {
       "model_id": "e9bdc2f7d9f74360b4d885788c8d8c6c",
       "version_major": 2,
       "version_minor": 0
      },
      "text/plain": [
       "  0%|          | 0/131 [00:00<?, ?it/s]"
      ]
     },
     "metadata": {},
     "output_type": "display_data"
    },
    {
     "name": "stderr",
     "output_type": "stream",
     "text": [
      "INFO - (NP.utils_torch.lr_range_test) - lr-range-test results: steep: 8.99E-02, min: 1.15E+00\n"
     ]
    },
    {
     "data": {
      "application/vnd.jupyter.widget-view+json": {
       "model_id": "9760e69e374f4eb58c038927c669c2c5",
       "version_major": 2,
       "version_minor": 0
      },
      "text/plain": [
       "  0%|          | 0/131 [00:00<?, ?it/s]"
      ]
     },
     "metadata": {},
     "output_type": "display_data"
    },
    {
     "name": "stderr",
     "output_type": "stream",
     "text": [
      "INFO - (NP.utils_torch.lr_range_test) - lr-range-test results: steep: 7.67E-02, min: 1.15E+00\n",
      "INFO - (NP.forecaster._init_train_loader) - lr-range-test selected learning rate: 8.83E-02\n",
      "Epoch[167/167]: 100%|███████████| 167/167 [00:12<00:00, 13.71it/s, SmoothL1Loss=0.0153, MAE=3.17, RMSE=3.98, RegLoss=0]\n",
      "INFO - (NP.df_utils._infer_frequency) - Major frequency D corresponds to 99.939% of the data.\n",
      "INFO - (NP.df_utils._infer_frequency) - Defined frequency is equal to major frequency - D\n",
      "INFO - (NP.config.init_data_params) - Setting normalization to global as only one dataframe provided for training.\n",
      "INFO - (NP.utils.set_auto_seasonalities) - Disabling daily seasonality. Run NeuralProphet with daily_seasonality=True to override this.\n",
      "INFO - (NP.config.set_auto_batch_epoch) - Auto-set batch_size to 32\n",
      "INFO - (NP.config.set_auto_batch_epoch) - Auto-set epochs to 167\n"
     ]
    },
    {
     "data": {
      "application/vnd.jupyter.widget-view+json": {
       "model_id": "9d60d70ada944b6598a7c2c7008df8bc",
       "version_major": 2,
       "version_minor": 0
      },
      "text/plain": [
       "  0%|          | 0/131 [00:00<?, ?it/s]"
      ]
     },
     "metadata": {},
     "output_type": "display_data"
    },
    {
     "name": "stderr",
     "output_type": "stream",
     "text": [
      "INFO - (NP.utils_torch.lr_range_test) - lr-range-test results: steep: 7.67E-02, min: 1.70E-01\n"
     ]
    },
    {
     "data": {
      "application/vnd.jupyter.widget-view+json": {
       "model_id": "8156e80796ac4cf1a10454237ac4ce58",
       "version_major": 2,
       "version_minor": 0
      },
      "text/plain": [
       "  0%|          | 0/131 [00:00<?, ?it/s]"
      ]
     },
     "metadata": {},
     "output_type": "display_data"
    },
    {
     "name": "stderr",
     "output_type": "stream",
     "text": [
      "INFO - (NP.utils_torch.lr_range_test) - lr-range-test results: steep: 8.99E-02, min: 1.70E-01\n",
      "INFO - (NP.forecaster._init_train_loader) - lr-range-test selected learning rate: 8.83E-02\n",
      "Epoch[167/167]: 100%|██████████| 167/167 [00:12<00:00, 13.87it/s, SmoothL1Loss=0.00802, MAE=6.07, RMSE=7.54, RegLoss=0]\n",
      "INFO - (NP.df_utils._infer_frequency) - Major frequency D corresponds to 99.939% of the data.\n",
      "INFO - (NP.df_utils._infer_frequency) - Defined frequency is equal to major frequency - D\n",
      "INFO - (NP.config.init_data_params) - Setting normalization to global as only one dataframe provided for training.\n",
      "INFO - (NP.utils.set_auto_seasonalities) - Disabling daily seasonality. Run NeuralProphet with daily_seasonality=True to override this.\n",
      "INFO - (NP.config.set_auto_batch_epoch) - Auto-set batch_size to 32\n",
      "INFO - (NP.config.set_auto_batch_epoch) - Auto-set epochs to 167\n"
     ]
    },
    {
     "data": {
      "application/vnd.jupyter.widget-view+json": {
       "model_id": "a329b1cec55f4397b5351a52b8b6789a",
       "version_major": 2,
       "version_minor": 0
      },
      "text/plain": [
       "  0%|          | 0/131 [00:00<?, ?it/s]"
      ]
     },
     "metadata": {},
     "output_type": "display_data"
    },
    {
     "name": "stderr",
     "output_type": "stream",
     "text": [
      "INFO - (NP.utils_torch.lr_range_test) - lr-range-test results: steep: 6.54E-02, min: 8.38E-01\n"
     ]
    },
    {
     "data": {
      "application/vnd.jupyter.widget-view+json": {
       "model_id": "8c2d6e6070ac4d9ca0e666f40b9dc177",
       "version_major": 2,
       "version_minor": 0
      },
      "text/plain": [
       "  0%|          | 0/131 [00:00<?, ?it/s]"
      ]
     },
     "metadata": {},
     "output_type": "display_data"
    },
    {
     "name": "stderr",
     "output_type": "stream",
     "text": [
      "INFO - (NP.utils_torch.lr_range_test) - lr-range-test results: steep: 5.57E-02, min: 1.58E+00\n",
      "INFO - (NP.forecaster._init_train_loader) - lr-range-test selected learning rate: 7.14E-02\n",
      "Epoch[167/167]: 100%|██████████| 167/167 [00:11<00:00, 14.19it/s, SmoothL1Loss=0.00742, MAE=6.07, RMSE=7.61, RegLoss=0]\n",
      "INFO - (NP.df_utils._infer_frequency) - Major frequency D corresponds to 99.939% of the data.\n",
      "INFO - (NP.df_utils._infer_frequency) - Defined frequency is equal to major frequency - D\n",
      "INFO - (NP.config.init_data_params) - Setting normalization to global as only one dataframe provided for training.\n",
      "INFO - (NP.utils.set_auto_seasonalities) - Disabling daily seasonality. Run NeuralProphet with daily_seasonality=True to override this.\n",
      "INFO - (NP.config.set_auto_batch_epoch) - Auto-set batch_size to 32\n",
      "INFO - (NP.config.set_auto_batch_epoch) - Auto-set epochs to 167\n"
     ]
    },
    {
     "data": {
      "application/vnd.jupyter.widget-view+json": {
       "model_id": "b1a558493eb446ae8fa2ebca828526cc",
       "version_major": 2,
       "version_minor": 0
      },
      "text/plain": [
       "  0%|          | 0/131 [00:00<?, ?it/s]"
      ]
     },
     "metadata": {},
     "output_type": "display_data"
    },
    {
     "name": "stderr",
     "output_type": "stream",
     "text": [
      "INFO - (NP.utils_torch.lr_range_test) - lr-range-test results: steep: 1.70E-01, min: 3.78E-01\n"
     ]
    },
    {
     "data": {
      "application/vnd.jupyter.widget-view+json": {
       "model_id": "b4bf37b44f924f74bc354ef2f26281bb",
       "version_major": 2,
       "version_minor": 0
      },
      "text/plain": [
       "  0%|          | 0/131 [00:00<?, ?it/s]"
      ]
     },
     "metadata": {},
     "output_type": "display_data"
    },
    {
     "name": "stderr",
     "output_type": "stream",
     "text": [
      "INFO - (NP.utils_torch.lr_range_test) - lr-range-test results: steep: 1.70E-01, min: 3.78E-01\n",
      "INFO - (NP.forecaster._init_train_loader) - lr-range-test selected learning rate: 1.43E-01\n",
      "Epoch[167/167]: 100%|██████████| 167/167 [00:11<00:00, 14.21it/s, SmoothL1Loss=0.00664, MAE=6.99, RMSE=8.69, RegLoss=0]\n",
      "INFO - (NP.df_utils._infer_frequency) - Major frequency D corresponds to 99.939% of the data.\n",
      "INFO - (NP.df_utils._infer_frequency) - Defined frequency is equal to major frequency - D\n",
      "INFO - (NP.config.init_data_params) - Setting normalization to global as only one dataframe provided for training.\n",
      "INFO - (NP.utils.set_auto_seasonalities) - Disabling daily seasonality. Run NeuralProphet with daily_seasonality=True to override this.\n",
      "INFO - (NP.config.set_auto_batch_epoch) - Auto-set batch_size to 32\n",
      "INFO - (NP.config.set_auto_batch_epoch) - Auto-set epochs to 167\n"
     ]
    },
    {
     "data": {
      "application/vnd.jupyter.widget-view+json": {
       "model_id": "225f4a98151540a295e197b68b1d85ab",
       "version_major": 2,
       "version_minor": 0
      },
      "text/plain": [
       "  0%|          | 0/131 [00:00<?, ?it/s]"
      ]
     },
     "metadata": {},
     "output_type": "display_data"
    },
    {
     "name": "stderr",
     "output_type": "stream",
     "text": [
      "INFO - (NP.utils_torch.lr_range_test) - lr-range-test results: steep: 1.45E-01, min: 1.15E+00\n"
     ]
    },
    {
     "data": {
      "application/vnd.jupyter.widget-view+json": {
       "model_id": "0b094911223f498085ef7c9f5cd853bf",
       "version_major": 2,
       "version_minor": 0
      },
      "text/plain": [
       "  0%|          | 0/131 [00:00<?, ?it/s]"
      ]
     },
     "metadata": {},
     "output_type": "display_data"
    },
    {
     "name": "stderr",
     "output_type": "stream",
     "text": [
      "INFO - (NP.utils_torch.lr_range_test) - lr-range-test results: steep: 1.45E-01, min: 3.00E+00\n",
      "INFO - (NP.forecaster._init_train_loader) - lr-range-test selected learning rate: 1.28E-01\n",
      "Epoch[167/167]: 100%|██████████| 167/167 [00:13<00:00, 12.55it/s, SmoothL1Loss=0.00852, MAE=5.56, RMSE=6.99, RegLoss=0]\n",
      "INFO - (NP.df_utils._infer_frequency) - Major frequency D corresponds to 99.939% of the data.\n",
      "INFO - (NP.df_utils._infer_frequency) - Defined frequency is equal to major frequency - D\n",
      "INFO - (NP.config.init_data_params) - Setting normalization to global as only one dataframe provided for training.\n",
      "INFO - (NP.utils.set_auto_seasonalities) - Disabling daily seasonality. Run NeuralProphet with daily_seasonality=True to override this.\n",
      "INFO - (NP.config.set_auto_batch_epoch) - Auto-set batch_size to 32\n",
      "INFO - (NP.config.set_auto_batch_epoch) - Auto-set epochs to 167\n"
     ]
    },
    {
     "data": {
      "application/vnd.jupyter.widget-view+json": {
       "model_id": "3c65a4507e9d490680ffe15f08e41372",
       "version_major": 2,
       "version_minor": 0
      },
      "text/plain": [
       "  0%|          | 0/131 [00:00<?, ?it/s]"
      ]
     },
     "metadata": {},
     "output_type": "display_data"
    },
    {
     "name": "stderr",
     "output_type": "stream",
     "text": [
      "INFO - (NP.utils_torch.lr_range_test) - lr-range-test results: steep: 8.99E-02, min: 9.82E-01\n"
     ]
    },
    {
     "data": {
      "application/vnd.jupyter.widget-view+json": {
       "model_id": "ca6dab72a7e047afb30ac99d7854a535",
       "version_major": 2,
       "version_minor": 0
      },
      "text/plain": [
       "  0%|          | 0/131 [00:00<?, ?it/s]"
      ]
     },
     "metadata": {},
     "output_type": "display_data"
    },
    {
     "name": "stderr",
     "output_type": "stream",
     "text": [
      "INFO - (NP.utils_torch.lr_range_test) - lr-range-test results: steep: 8.99E-02, min: 1.35E+00\n",
      "INFO - (NP.forecaster._init_train_loader) - lr-range-test selected learning rate: 9.32E-02\n",
      "Epoch[167/167]: 100%|██████████| 167/167 [00:11<00:00, 14.24it/s, SmoothL1Loss=0.00597, MAE=6.89, RMSE=8.57, RegLoss=0]\n",
      "INFO - (NP.df_utils._infer_frequency) - Major frequency D corresponds to 99.939% of the data.\n",
      "INFO - (NP.df_utils._infer_frequency) - Defined frequency is equal to major frequency - D\n",
      "INFO - (NP.config.init_data_params) - Setting normalization to global as only one dataframe provided for training.\n",
      "INFO - (NP.utils.set_auto_seasonalities) - Disabling daily seasonality. Run NeuralProphet with daily_seasonality=True to override this.\n",
      "INFO - (NP.config.set_auto_batch_epoch) - Auto-set batch_size to 32\n",
      "INFO - (NP.config.set_auto_batch_epoch) - Auto-set epochs to 167\n"
     ]
    },
    {
     "data": {
      "application/vnd.jupyter.widget-view+json": {
       "model_id": "8b042180008e4eab89c7681a071b2237",
       "version_major": 2,
       "version_minor": 0
      },
      "text/plain": [
       "  0%|          | 0/131 [00:00<?, ?it/s]"
      ]
     },
     "metadata": {},
     "output_type": "display_data"
    },
    {
     "name": "stderr",
     "output_type": "stream",
     "text": [
      "INFO - (NP.utils_torch.lr_range_test) - lr-range-test results: steep: 1.70E-01, min: 4.43E-01\n"
     ]
    },
    {
     "data": {
      "application/vnd.jupyter.widget-view+json": {
       "model_id": "2f7637d17eff4b059f93a95e1fbf69e8",
       "version_major": 2,
       "version_minor": 0
      },
      "text/plain": [
       "  0%|          | 0/131 [00:00<?, ?it/s]"
      ]
     },
     "metadata": {},
     "output_type": "display_data"
    },
    {
     "name": "stderr",
     "output_type": "stream",
     "text": [
      "INFO - (NP.utils_torch.lr_range_test) - lr-range-test results: steep: 1.70E-01, min: 4.43E-01\n",
      "INFO - (NP.forecaster._init_train_loader) - lr-range-test selected learning rate: 1.43E-01\n",
      "Epoch[167/167]: 100%|██████████| 167/167 [00:11<00:00, 14.33it/s, SmoothL1Loss=0.00526, MAE=6.52, RMSE=8.13, RegLoss=0]\n",
      "INFO - (NP.df_utils._infer_frequency) - Major frequency D corresponds to 99.939% of the data.\n",
      "INFO - (NP.df_utils._infer_frequency) - Defined frequency is equal to major frequency - D\n",
      "INFO - (NP.config.init_data_params) - Setting normalization to global as only one dataframe provided for training.\n",
      "INFO - (NP.utils.set_auto_seasonalities) - Disabling daily seasonality. Run NeuralProphet with daily_seasonality=True to override this.\n",
      "INFO - (NP.config.set_auto_batch_epoch) - Auto-set batch_size to 32\n",
      "INFO - (NP.config.set_auto_batch_epoch) - Auto-set epochs to 167\n"
     ]
    },
    {
     "data": {
      "application/vnd.jupyter.widget-view+json": {
       "model_id": "e042129f570549d19b4a75c1e5357a15",
       "version_major": 2,
       "version_minor": 0
      },
      "text/plain": [
       "  0%|          | 0/131 [00:00<?, ?it/s]"
      ]
     },
     "metadata": {},
     "output_type": "display_data"
    },
    {
     "name": "stderr",
     "output_type": "stream",
     "text": [
      "INFO - (NP.utils_torch.lr_range_test) - lr-range-test results: steep: 7.67E-02, min: 3.22E-01\n"
     ]
    },
    {
     "data": {
      "application/vnd.jupyter.widget-view+json": {
       "model_id": "47660be981814f26848c97f9a922557f",
       "version_major": 2,
       "version_minor": 0
      },
      "text/plain": [
       "  0%|          | 0/131 [00:00<?, ?it/s]"
      ]
     },
     "metadata": {},
     "output_type": "display_data"
    },
    {
     "name": "stderr",
     "output_type": "stream",
     "text": [
      "INFO - (NP.utils_torch.lr_range_test) - lr-range-test results: steep: 8.99E-02, min: 1.35E+00\n",
      "INFO - (NP.forecaster._init_train_loader) - lr-range-test selected learning rate: 8.83E-02\n",
      "Epoch[167/167]: 100%|██████████| 167/167 [00:11<00:00, 14.33it/s, SmoothL1Loss=0.00667, MAE=6.65, RMSE=8.25, RegLoss=0]\n",
      "INFO - (NP.df_utils._infer_frequency) - Major frequency D corresponds to 99.939% of the data.\n",
      "INFO - (NP.df_utils._infer_frequency) - Defined frequency is equal to major frequency - D\n",
      "INFO - (NP.config.init_data_params) - Setting normalization to global as only one dataframe provided for training.\n",
      "INFO - (NP.utils.set_auto_seasonalities) - Disabling daily seasonality. Run NeuralProphet with daily_seasonality=True to override this.\n",
      "INFO - (NP.config.set_auto_batch_epoch) - Auto-set batch_size to 32\n",
      "INFO - (NP.config.set_auto_batch_epoch) - Auto-set epochs to 167\n"
     ]
    },
    {
     "data": {
      "application/vnd.jupyter.widget-view+json": {
       "model_id": "f6dc8b419beb4bc7a8e2c321f80fa5e4",
       "version_major": 2,
       "version_minor": 0
      },
      "text/plain": [
       "  0%|          | 0/131 [00:00<?, ?it/s]"
      ]
     },
     "metadata": {},
     "output_type": "display_data"
    },
    {
     "name": "stderr",
     "output_type": "stream",
     "text": [
      "INFO - (NP.utils_torch.lr_range_test) - lr-range-test results: steep: 1.45E-01, min: 1.15E+00\n"
     ]
    },
    {
     "data": {
      "application/vnd.jupyter.widget-view+json": {
       "model_id": "a6fd7feb872b424da4d0cbd46375445a",
       "version_major": 2,
       "version_minor": 0
      },
      "text/plain": [
       "  0%|          | 0/131 [00:00<?, ?it/s]"
      ]
     },
     "metadata": {},
     "output_type": "display_data"
    },
    {
     "name": "stderr",
     "output_type": "stream",
     "text": [
      "INFO - (NP.utils_torch.lr_range_test) - lr-range-test results: steep: 1.45E-01, min: 2.18E+00\n",
      "INFO - (NP.forecaster._init_train_loader) - lr-range-test selected learning rate: 1.28E-01\n",
      "Epoch[167/167]: 100%|██████████| 167/167 [00:11<00:00, 14.19it/s, SmoothL1Loss=0.00628, MAE=7.32, RMSE=9.12, RegLoss=0]\n",
      "INFO - (NP.df_utils._infer_frequency) - Major frequency D corresponds to 99.939% of the data.\n",
      "INFO - (NP.df_utils._infer_frequency) - Defined frequency is equal to major frequency - D\n",
      "INFO - (NP.config.init_data_params) - Setting normalization to global as only one dataframe provided for training.\n",
      "INFO - (NP.utils.set_auto_seasonalities) - Disabling daily seasonality. Run NeuralProphet with daily_seasonality=True to override this.\n",
      "INFO - (NP.config.set_auto_batch_epoch) - Auto-set batch_size to 32\n",
      "INFO - (NP.config.set_auto_batch_epoch) - Auto-set epochs to 167\n"
     ]
    },
    {
     "data": {
      "application/vnd.jupyter.widget-view+json": {
       "model_id": "3cd0c8c23a7843fb9f1beb6e0f0865bf",
       "version_major": 2,
       "version_minor": 0
      },
      "text/plain": [
       "  0%|          | 0/131 [00:00<?, ?it/s]"
      ]
     },
     "metadata": {},
     "output_type": "display_data"
    },
    {
     "name": "stderr",
     "output_type": "stream",
     "text": [
      "INFO - (NP.utils_torch.lr_range_test) - lr-range-test results: steep: 1.05E-01, min: 1.15E+00\n"
     ]
    },
    {
     "data": {
      "application/vnd.jupyter.widget-view+json": {
       "model_id": "e21ac3572c90437cb895a1bd145e8a0a",
       "version_major": 2,
       "version_minor": 0
      },
      "text/plain": [
       "  0%|          | 0/131 [00:00<?, ?it/s]"
      ]
     },
     "metadata": {},
     "output_type": "display_data"
    },
    {
     "name": "stderr",
     "output_type": "stream",
     "text": [
      "INFO - (NP.utils_torch.lr_range_test) - lr-range-test results: steep: 1.05E-01, min: 1.15E+00\n",
      "INFO - (NP.forecaster._init_train_loader) - lr-range-test selected learning rate: 1.04E-01\n",
      "Epoch[167/167]: 100%|██████████| 167/167 [00:11<00:00, 14.26it/s, SmoothL1Loss=0.00942, MAE=6.02, RMSE=7.62, RegLoss=0]\n",
      "INFO - (NP.df_utils._infer_frequency) - Major frequency D corresponds to 99.939% of the data.\n",
      "INFO - (NP.df_utils._infer_frequency) - Defined frequency is equal to major frequency - D\n",
      "INFO - (NP.config.init_data_params) - Setting normalization to global as only one dataframe provided for training.\n",
      "INFO - (NP.utils.set_auto_seasonalities) - Disabling daily seasonality. Run NeuralProphet with daily_seasonality=True to override this.\n",
      "INFO - (NP.config.set_auto_batch_epoch) - Auto-set batch_size to 32\n",
      "INFO - (NP.config.set_auto_batch_epoch) - Auto-set epochs to 167\n"
     ]
    },
    {
     "data": {
      "application/vnd.jupyter.widget-view+json": {
       "model_id": "ad58fc28d846480f829a154453a2fe92",
       "version_major": 2,
       "version_minor": 0
      },
      "text/plain": [
       "  0%|          | 0/131 [00:00<?, ?it/s]"
      ]
     },
     "metadata": {},
     "output_type": "display_data"
    },
    {
     "name": "stderr",
     "output_type": "stream",
     "text": [
      "INFO - (NP.utils_torch.lr_range_test) - lr-range-test results: steep: 1.45E-01, min: 1.35E+00\n"
     ]
    },
    {
     "data": {
      "application/vnd.jupyter.widget-view+json": {
       "model_id": "f05d1442b124412eb12951d79a524c6a",
       "version_major": 2,
       "version_minor": 0
      },
      "text/plain": [
       "  0%|          | 0/131 [00:00<?, ?it/s]"
      ]
     },
     "metadata": {},
     "output_type": "display_data"
    },
    {
     "name": "stderr",
     "output_type": "stream",
     "text": [
      "INFO - (NP.utils_torch.lr_range_test) - lr-range-test results: steep: 1.45E-01, min: 1.35E+00\n",
      "INFO - (NP.forecaster._init_train_loader) - lr-range-test selected learning rate: 1.28E-01\n",
      "Epoch[167/167]: 100%|███████████| 167/167 [00:11<00:00, 14.24it/s, SmoothL1Loss=0.00502, MAE=7.8, RMSE=9.76, RegLoss=0]\n",
      "INFO - (NP.df_utils._infer_frequency) - Major frequency D corresponds to 99.939% of the data.\n",
      "INFO - (NP.df_utils._infer_frequency) - Defined frequency is equal to major frequency - D\n",
      "INFO - (NP.config.init_data_params) - Setting normalization to global as only one dataframe provided for training.\n",
      "INFO - (NP.utils.set_auto_seasonalities) - Disabling daily seasonality. Run NeuralProphet with daily_seasonality=True to override this.\n",
      "INFO - (NP.config.set_auto_batch_epoch) - Auto-set batch_size to 32\n",
      "INFO - (NP.config.set_auto_batch_epoch) - Auto-set epochs to 167\n"
     ]
    },
    {
     "data": {
      "application/vnd.jupyter.widget-view+json": {
       "model_id": "02fa95fdc3c64deab9457c43a7a7efb6",
       "version_major": 2,
       "version_minor": 0
      },
      "text/plain": [
       "  0%|          | 0/131 [00:00<?, ?it/s]"
      ]
     },
     "metadata": {},
     "output_type": "display_data"
    },
    {
     "name": "stderr",
     "output_type": "stream",
     "text": [
      "INFO - (NP.utils_torch.lr_range_test) - lr-range-test results: steep: 8.99E-02, min: 2.00E-01\n"
     ]
    },
    {
     "data": {
      "application/vnd.jupyter.widget-view+json": {
       "model_id": "989f06faa3604c6d9cfa677d0e2a78f1",
       "version_major": 2,
       "version_minor": 0
      },
      "text/plain": [
       "  0%|          | 0/131 [00:00<?, ?it/s]"
      ]
     },
     "metadata": {},
     "output_type": "display_data"
    },
    {
     "name": "stderr",
     "output_type": "stream",
     "text": [
      "INFO - (NP.utils_torch.lr_range_test) - lr-range-test results: steep: 8.99E-02, min: 2.00E-01\n",
      "INFO - (NP.forecaster._init_train_loader) - lr-range-test selected learning rate: 9.32E-02\n",
      "Epoch[167/167]: 100%|███████████| 167/167 [00:11<00:00, 14.31it/s, SmoothL1Loss=0.0122, MAE=3.86, RMSE=4.81, RegLoss=0]\n",
      "INFO - (NP.df_utils._infer_frequency) - Major frequency D corresponds to 99.939% of the data.\n",
      "INFO - (NP.df_utils._infer_frequency) - Defined frequency is equal to major frequency - D\n",
      "INFO - (NP.config.init_data_params) - Setting normalization to global as only one dataframe provided for training.\n",
      "INFO - (NP.utils.set_auto_seasonalities) - Disabling daily seasonality. Run NeuralProphet with daily_seasonality=True to override this.\n",
      "INFO - (NP.config.set_auto_batch_epoch) - Auto-set batch_size to 32\n",
      "INFO - (NP.config.set_auto_batch_epoch) - Auto-set epochs to 167\n"
     ]
    },
    {
     "data": {
      "application/vnd.jupyter.widget-view+json": {
       "model_id": "ae7c0ee901f046c4acad0d95a6b07b18",
       "version_major": 2,
       "version_minor": 0
      },
      "text/plain": [
       "  0%|          | 0/131 [00:00<?, ?it/s]"
      ]
     },
     "metadata": {},
     "output_type": "display_data"
    },
    {
     "name": "stderr",
     "output_type": "stream",
     "text": [
      "INFO - (NP.utils_torch.lr_range_test) - lr-range-test results: steep: 7.67E-02, min: 1.45E-01\n"
     ]
    },
    {
     "data": {
      "application/vnd.jupyter.widget-view+json": {
       "model_id": "a4bc86df5fe143828dfabf4ac0b450eb",
       "version_major": 2,
       "version_minor": 0
      },
      "text/plain": [
       "  0%|          | 0/131 [00:00<?, ?it/s]"
      ]
     },
     "metadata": {},
     "output_type": "display_data"
    },
    {
     "name": "stderr",
     "output_type": "stream",
     "text": [
      "INFO - (NP.utils_torch.lr_range_test) - lr-range-test results: steep: 6.54E-02, min: 1.45E-01\n",
      "INFO - (NP.forecaster._init_train_loader) - lr-range-test selected learning rate: 7.94E-02\n",
      "Epoch[167/167]: 100%|███████████| 167/167 [00:11<00:00, 14.26it/s, SmoothL1Loss=0.0118, MAE=4.42, RMSE=5.49, RegLoss=0]\n",
      "INFO - (NP.df_utils._infer_frequency) - Major frequency D corresponds to 99.939% of the data.\n",
      "INFO - (NP.df_utils._infer_frequency) - Defined frequency is equal to major frequency - D\n",
      "INFO - (NP.config.init_data_params) - Setting normalization to global as only one dataframe provided for training.\n",
      "INFO - (NP.utils.set_auto_seasonalities) - Disabling daily seasonality. Run NeuralProphet with daily_seasonality=True to override this.\n",
      "INFO - (NP.config.set_auto_batch_epoch) - Auto-set batch_size to 32\n",
      "INFO - (NP.config.set_auto_batch_epoch) - Auto-set epochs to 167\n"
     ]
    },
    {
     "data": {
      "application/vnd.jupyter.widget-view+json": {
       "model_id": "ac47aaa02d3943f3be08b2c491dd172f",
       "version_major": 2,
       "version_minor": 0
      },
      "text/plain": [
       "  0%|          | 0/131 [00:00<?, ?it/s]"
      ]
     },
     "metadata": {},
     "output_type": "display_data"
    },
    {
     "name": "stderr",
     "output_type": "stream",
     "text": [
      "INFO - (NP.utils_torch.lr_range_test) - lr-range-test results: steep: 8.99E-02, min: 2.00E-01\n"
     ]
    },
    {
     "data": {
      "application/vnd.jupyter.widget-view+json": {
       "model_id": "3334cf49cbcb406fbe36dffd2f40bf7e",
       "version_major": 2,
       "version_minor": 0
      },
      "text/plain": [
       "  0%|          | 0/131 [00:00<?, ?it/s]"
      ]
     },
     "metadata": {},
     "output_type": "display_data"
    },
    {
     "name": "stderr",
     "output_type": "stream",
     "text": [
      "INFO - (NP.utils_torch.lr_range_test) - lr-range-test results: steep: 8.99E-02, min: 2.00E-01\n",
      "INFO - (NP.forecaster._init_train_loader) - lr-range-test selected learning rate: 9.32E-02\n",
      "Epoch[167/167]: 100%|██████████| 167/167 [00:11<00:00, 14.00it/s, SmoothL1Loss=0.00606, MAE=7.44, RMSE=9.26, RegLoss=0]\n",
      "INFO - (NP.df_utils._infer_frequency) - Major frequency D corresponds to 99.939% of the data.\n",
      "INFO - (NP.df_utils._infer_frequency) - Defined frequency is equal to major frequency - D\n",
      "INFO - (NP.config.init_data_params) - Setting normalization to global as only one dataframe provided for training.\n",
      "INFO - (NP.utils.set_auto_seasonalities) - Disabling daily seasonality. Run NeuralProphet with daily_seasonality=True to override this.\n",
      "INFO - (NP.config.set_auto_batch_epoch) - Auto-set batch_size to 32\n",
      "INFO - (NP.config.set_auto_batch_epoch) - Auto-set epochs to 167\n"
     ]
    },
    {
     "data": {
      "application/vnd.jupyter.widget-view+json": {
       "model_id": "c8ab3fb13f8e44f4958b235f06cb0e5c",
       "version_major": 2,
       "version_minor": 0
      },
      "text/plain": [
       "  0%|          | 0/131 [00:00<?, ?it/s]"
      ]
     },
     "metadata": {},
     "output_type": "display_data"
    },
    {
     "name": "stderr",
     "output_type": "stream",
     "text": [
      "INFO - (NP.utils_torch.lr_range_test) - lr-range-test results: steep: 6.54E-02, min: 1.45E-01\n"
     ]
    },
    {
     "data": {
      "application/vnd.jupyter.widget-view+json": {
       "model_id": "b10dd092c867464289df064b7d9199f2",
       "version_major": 2,
       "version_minor": 0
      },
      "text/plain": [
       "  0%|          | 0/131 [00:00<?, ?it/s]"
      ]
     },
     "metadata": {},
     "output_type": "display_data"
    },
    {
     "name": "stderr",
     "output_type": "stream",
     "text": [
      "INFO - (NP.utils_torch.lr_range_test) - lr-range-test results: steep: 7.67E-02, min: 8.38E-01\n",
      "INFO - (NP.forecaster._init_train_loader) - lr-range-test selected learning rate: 7.94E-02\n",
      "Epoch[167/167]: 100%|███████████| 167/167 [00:11<00:00, 14.10it/s, SmoothL1Loss=0.0105, MAE=5.11, RMSE=6.34, RegLoss=0]\n",
      "INFO - (NP.df_utils._infer_frequency) - Major frequency D corresponds to 99.939% of the data.\n",
      "INFO - (NP.df_utils._infer_frequency) - Defined frequency is equal to major frequency - D\n",
      "INFO - (NP.config.init_data_params) - Setting normalization to global as only one dataframe provided for training.\n",
      "INFO - (NP.utils.set_auto_seasonalities) - Disabling daily seasonality. Run NeuralProphet with daily_seasonality=True to override this.\n",
      "INFO - (NP.config.set_auto_batch_epoch) - Auto-set batch_size to 32\n",
      "INFO - (NP.config.set_auto_batch_epoch) - Auto-set epochs to 167\n"
     ]
    },
    {
     "data": {
      "application/vnd.jupyter.widget-view+json": {
       "model_id": "f2f04de23e6640baaf2c88c42fdc147b",
       "version_major": 2,
       "version_minor": 0
      },
      "text/plain": [
       "  0%|          | 0/131 [00:00<?, ?it/s]"
      ]
     },
     "metadata": {},
     "output_type": "display_data"
    },
    {
     "name": "stderr",
     "output_type": "stream",
     "text": [
      "INFO - (NP.utils_torch.lr_range_test) - lr-range-test results: steep: 8.99E-02, min: 1.15E+00\n"
     ]
    },
    {
     "data": {
      "application/vnd.jupyter.widget-view+json": {
       "model_id": "347d949b52ad4441a2f3326b753b94f8",
       "version_major": 2,
       "version_minor": 0
      },
      "text/plain": [
       "  0%|          | 0/131 [00:00<?, ?it/s]"
      ]
     },
     "metadata": {},
     "output_type": "display_data"
    },
    {
     "name": "stderr",
     "output_type": "stream",
     "text": [
      "INFO - (NP.utils_torch.lr_range_test) - lr-range-test results: steep: 8.99E-02, min: 9.82E-01\n",
      "INFO - (NP.forecaster._init_train_loader) - lr-range-test selected learning rate: 9.32E-02\n",
      "Epoch[167/167]: 100%|██████████| 167/167 [00:11<00:00, 14.08it/s, SmoothL1Loss=0.00772, MAE=5.15, RMSE=6.41, RegLoss=0]\n",
      "INFO - (NP.df_utils._infer_frequency) - Major frequency D corresponds to 99.939% of the data.\n",
      "INFO - (NP.df_utils._infer_frequency) - Defined frequency is equal to major frequency - D\n",
      "INFO - (NP.config.init_data_params) - Setting normalization to global as only one dataframe provided for training.\n",
      "INFO - (NP.utils.set_auto_seasonalities) - Disabling daily seasonality. Run NeuralProphet with daily_seasonality=True to override this.\n",
      "INFO - (NP.config.set_auto_batch_epoch) - Auto-set batch_size to 32\n",
      "INFO - (NP.config.set_auto_batch_epoch) - Auto-set epochs to 167\n"
     ]
    },
    {
     "data": {
      "application/vnd.jupyter.widget-view+json": {
       "model_id": "4af2bace4740459e9152c79a6cd2323f",
       "version_major": 2,
       "version_minor": 0
      },
      "text/plain": [
       "  0%|          | 0/131 [00:00<?, ?it/s]"
      ]
     },
     "metadata": {},
     "output_type": "display_data"
    },
    {
     "name": "stderr",
     "output_type": "stream",
     "text": [
      "INFO - (NP.utils_torch.lr_range_test) - lr-range-test results: steep: 7.67E-02, min: 6.09E-01\n"
     ]
    },
    {
     "data": {
      "application/vnd.jupyter.widget-view+json": {
       "model_id": "e25e96e4c84048c589a6fb9a8e299161",
       "version_major": 2,
       "version_minor": 0
      },
      "text/plain": [
       "  0%|          | 0/131 [00:00<?, ?it/s]"
      ]
     },
     "metadata": {},
     "output_type": "display_data"
    },
    {
     "name": "stderr",
     "output_type": "stream",
     "text": [
      "INFO - (NP.utils_torch.lr_range_test) - lr-range-test results: steep: 7.67E-02, min: 5.19E-01\n",
      "INFO - (NP.forecaster._init_train_loader) - lr-range-test selected learning rate: 8.38E-02\n",
      "Epoch[167/167]: 100%|██████████| 167/167 [00:11<00:00, 14.16it/s, SmoothL1Loss=0.00894, MAE=4.89, RMSE=6.06, RegLoss=0]\n",
      "INFO - (NP.df_utils._infer_frequency) - Major frequency D corresponds to 99.939% of the data.\n",
      "INFO - (NP.df_utils._infer_frequency) - Defined frequency is equal to major frequency - D\n",
      "INFO - (NP.config.init_data_params) - Setting normalization to global as only one dataframe provided for training.\n",
      "INFO - (NP.utils.set_auto_seasonalities) - Disabling daily seasonality. Run NeuralProphet with daily_seasonality=True to override this.\n",
      "INFO - (NP.config.set_auto_batch_epoch) - Auto-set batch_size to 32\n",
      "INFO - (NP.config.set_auto_batch_epoch) - Auto-set epochs to 167\n"
     ]
    },
    {
     "data": {
      "application/vnd.jupyter.widget-view+json": {
       "model_id": "09a770f08f324968a74f6a5a73cc8986",
       "version_major": 2,
       "version_minor": 0
      },
      "text/plain": [
       "  0%|          | 0/131 [00:00<?, ?it/s]"
      ]
     },
     "metadata": {},
     "output_type": "display_data"
    },
    {
     "name": "stderr",
     "output_type": "stream",
     "text": [
      "INFO - (NP.utils_torch.lr_range_test) - lr-range-test results: steep: 3.78E-01, min: 1.15E+00\n"
     ]
    },
    {
     "data": {
      "application/vnd.jupyter.widget-view+json": {
       "model_id": "99faea1597db4c588946c896f32412f2",
       "version_major": 2,
       "version_minor": 0
      },
      "text/plain": [
       "  0%|          | 0/131 [00:00<?, ?it/s]"
      ]
     },
     "metadata": {},
     "output_type": "display_data"
    },
    {
     "name": "stderr",
     "output_type": "stream",
     "text": [
      "INFO - (NP.utils_torch.lr_range_test) - lr-range-test results: steep: 6.09E-01, min: 1.86E+00\n",
      "INFO - (NP.forecaster._init_train_loader) - lr-range-test selected learning rate: 2.84E-01\n",
      "Epoch[167/167]: 100%|███████████| 167/167 [00:11<00:00, 14.25it/s, SmoothL1Loss=0.0066, MAE=7.47, RMSE=9.22, RegLoss=0]\n",
      "INFO - (NP.df_utils._infer_frequency) - Major frequency D corresponds to 99.939% of the data.\n",
      "INFO - (NP.df_utils._infer_frequency) - Defined frequency is equal to major frequency - D\n",
      "INFO - (NP.config.init_data_params) - Setting normalization to global as only one dataframe provided for training.\n",
      "INFO - (NP.utils.set_auto_seasonalities) - Disabling daily seasonality. Run NeuralProphet with daily_seasonality=True to override this.\n",
      "INFO - (NP.config.set_auto_batch_epoch) - Auto-set batch_size to 32\n",
      "INFO - (NP.config.set_auto_batch_epoch) - Auto-set epochs to 167\n"
     ]
    },
    {
     "data": {
      "application/vnd.jupyter.widget-view+json": {
       "model_id": "3dc52b5e4f034662bfb841c8e823c6e4",
       "version_major": 2,
       "version_minor": 0
      },
      "text/plain": [
       "  0%|          | 0/131 [00:00<?, ?it/s]"
      ]
     },
     "metadata": {},
     "output_type": "display_data"
    },
    {
     "name": "stderr",
     "output_type": "stream",
     "text": [
      "INFO - (NP.utils_torch.lr_range_test) - lr-range-test results: steep: 7.67E-02, min: 1.35E+00\n"
     ]
    },
    {
     "data": {
      "application/vnd.jupyter.widget-view+json": {
       "model_id": "707384419bdd42c9ae54ad6c71bd5366",
       "version_major": 2,
       "version_minor": 0
      },
      "text/plain": [
       "  0%|          | 0/131 [00:00<?, ?it/s]"
      ]
     },
     "metadata": {},
     "output_type": "display_data"
    },
    {
     "name": "stderr",
     "output_type": "stream",
     "text": [
      "INFO - (NP.utils_torch.lr_range_test) - lr-range-test results: steep: 7.67E-02, min: 1.35E+00\n",
      "INFO - (NP.forecaster._init_train_loader) - lr-range-test selected learning rate: 8.38E-02\n",
      "Epoch[167/167]: 100%|█████████████| 167/167 [00:11<00:00, 14.17it/s, SmoothL1Loss=0.012, MAE=4.3, RMSE=5.38, RegLoss=0]\n",
      "INFO - (NP.df_utils._infer_frequency) - Major frequency D corresponds to 99.939% of the data.\n",
      "INFO - (NP.df_utils._infer_frequency) - Defined frequency is equal to major frequency - D\n",
      "INFO - (NP.config.init_data_params) - Setting normalization to global as only one dataframe provided for training.\n",
      "INFO - (NP.utils.set_auto_seasonalities) - Disabling daily seasonality. Run NeuralProphet with daily_seasonality=True to override this.\n",
      "INFO - (NP.config.set_auto_batch_epoch) - Auto-set batch_size to 32\n",
      "INFO - (NP.config.set_auto_batch_epoch) - Auto-set epochs to 167\n"
     ]
    },
    {
     "data": {
      "application/vnd.jupyter.widget-view+json": {
       "model_id": "c496da387f184964b68f9bb56a2be736",
       "version_major": 2,
       "version_minor": 0
      },
      "text/plain": [
       "  0%|          | 0/131 [00:00<?, ?it/s]"
      ]
     },
     "metadata": {},
     "output_type": "display_data"
    },
    {
     "name": "stderr",
     "output_type": "stream",
     "text": [
      "INFO - (NP.utils_torch.lr_range_test) - lr-range-test results: steep: 7.67E-02, min: 1.70E-01\n"
     ]
    },
    {
     "data": {
      "application/vnd.jupyter.widget-view+json": {
       "model_id": "ea31e2c91f0e4fb7a69745f5704a57a9",
       "version_major": 2,
       "version_minor": 0
      },
      "text/plain": [
       "  0%|          | 0/131 [00:00<?, ?it/s]"
      ]
     },
     "metadata": {},
     "output_type": "display_data"
    },
    {
     "name": "stderr",
     "output_type": "stream",
     "text": [
      "INFO - (NP.utils_torch.lr_range_test) - lr-range-test results: steep: 7.67E-02, min: 1.70E-01\n",
      "INFO - (NP.forecaster._init_train_loader) - lr-range-test selected learning rate: 8.38E-02\n",
      "Epoch[167/167]: 100%|██████████| 167/167 [00:12<00:00, 13.46it/s, SmoothL1Loss=0.00697, MAE=6.43, RMSE=8.09, RegLoss=0]\n",
      "INFO - (NP.df_utils._infer_frequency) - Major frequency D corresponds to 99.939% of the data.\n",
      "INFO - (NP.df_utils._infer_frequency) - Defined frequency is equal to major frequency - D\n",
      "INFO - (NP.config.init_data_params) - Setting normalization to global as only one dataframe provided for training.\n",
      "INFO - (NP.utils.set_auto_seasonalities) - Disabling daily seasonality. Run NeuralProphet with daily_seasonality=True to override this.\n",
      "INFO - (NP.config.set_auto_batch_epoch) - Auto-set batch_size to 32\n",
      "INFO - (NP.config.set_auto_batch_epoch) - Auto-set epochs to 167\n"
     ]
    },
    {
     "data": {
      "application/vnd.jupyter.widget-view+json": {
       "model_id": "e9a2af8527f14c87bf4a347ca89e250e",
       "version_major": 2,
       "version_minor": 0
      },
      "text/plain": [
       "  0%|          | 0/131 [00:00<?, ?it/s]"
      ]
     },
     "metadata": {},
     "output_type": "display_data"
    },
    {
     "name": "stderr",
     "output_type": "stream",
     "text": [
      "INFO - (NP.utils_torch.lr_range_test) - lr-range-test results: steep: 1.05E-01, min: 1.15E+00\n"
     ]
    },
    {
     "data": {
      "application/vnd.jupyter.widget-view+json": {
       "model_id": "a0c0c35782c24d2ebd92992868923158",
       "version_major": 2,
       "version_minor": 0
      },
      "text/plain": [
       "  0%|          | 0/131 [00:00<?, ?it/s]"
      ]
     },
     "metadata": {},
     "output_type": "display_data"
    },
    {
     "name": "stderr",
     "output_type": "stream",
     "text": [
      "INFO - (NP.utils_torch.lr_range_test) - lr-range-test results: steep: 1.05E-01, min: 1.15E+00\n",
      "INFO - (NP.forecaster._init_train_loader) - lr-range-test selected learning rate: 1.04E-01\n",
      "Epoch[167/167]: 100%|██████████| 167/167 [00:12<00:00, 13.31it/s, SmoothL1Loss=0.00611, MAE=7.08, RMSE=8.78, RegLoss=0]\n",
      "INFO - (NP.df_utils._infer_frequency) - Major frequency D corresponds to 99.939% of the data.\n",
      "INFO - (NP.df_utils._infer_frequency) - Defined frequency is equal to major frequency - D\n",
      "INFO - (NP.config.init_data_params) - Setting normalization to global as only one dataframe provided for training.\n",
      "INFO - (NP.utils.set_auto_seasonalities) - Disabling daily seasonality. Run NeuralProphet with daily_seasonality=True to override this.\n",
      "INFO - (NP.config.set_auto_batch_epoch) - Auto-set batch_size to 32\n",
      "INFO - (NP.config.set_auto_batch_epoch) - Auto-set epochs to 167\n"
     ]
    },
    {
     "data": {
      "application/vnd.jupyter.widget-view+json": {
       "model_id": "eaf943d23aee43a0808d0cf74dd3f7a6",
       "version_major": 2,
       "version_minor": 0
      },
      "text/plain": [
       "  0%|          | 0/131 [00:00<?, ?it/s]"
      ]
     },
     "metadata": {},
     "output_type": "display_data"
    },
    {
     "name": "stderr",
     "output_type": "stream",
     "text": [
      "INFO - (NP.utils_torch.lr_range_test) - lr-range-test results: steep: 1.70E-01, min: 1.86E+00\n"
     ]
    },
    {
     "data": {
      "application/vnd.jupyter.widget-view+json": {
       "model_id": "4c9663eee5fc4906aa5160ec1e2827fe",
       "version_major": 2,
       "version_minor": 0
      },
      "text/plain": [
       "  0%|          | 0/131 [00:00<?, ?it/s]"
      ]
     },
     "metadata": {},
     "output_type": "display_data"
    },
    {
     "name": "stderr",
     "output_type": "stream",
     "text": [
      "INFO - (NP.utils_torch.lr_range_test) - lr-range-test results: steep: 1.70E-01, min: 1.58E+00\n",
      "INFO - (NP.forecaster._init_train_loader) - lr-range-test selected learning rate: 1.43E-01\n",
      "Epoch[167/167]: 100%|██████████| 167/167 [00:13<00:00, 12.05it/s, SmoothL1Loss=0.00834, MAE=5.31, RMSE=6.68, RegLoss=0]\n",
      "INFO - (NP.df_utils._infer_frequency) - Major frequency D corresponds to 99.939% of the data.\n",
      "INFO - (NP.df_utils._infer_frequency) - Defined frequency is equal to major frequency - D\n",
      "INFO - (NP.config.init_data_params) - Setting normalization to global as only one dataframe provided for training.\n",
      "INFO - (NP.utils.set_auto_seasonalities) - Disabling daily seasonality. Run NeuralProphet with daily_seasonality=True to override this.\n",
      "INFO - (NP.config.set_auto_batch_epoch) - Auto-set batch_size to 32\n",
      "INFO - (NP.config.set_auto_batch_epoch) - Auto-set epochs to 167\n"
     ]
    },
    {
     "data": {
      "application/vnd.jupyter.widget-view+json": {
       "model_id": "bf42129760de4cb991169b9e25f917ac",
       "version_major": 2,
       "version_minor": 0
      },
      "text/plain": [
       "  0%|          | 0/131 [00:00<?, ?it/s]"
      ]
     },
     "metadata": {},
     "output_type": "display_data"
    },
    {
     "name": "stderr",
     "output_type": "stream",
     "text": [
      "INFO - (NP.utils_torch.lr_range_test) - lr-range-test results: steep: 1.05E-01, min: 9.82E-01\n"
     ]
    },
    {
     "data": {
      "application/vnd.jupyter.widget-view+json": {
       "model_id": "f530b9d8d51a4ed29ae973b85fbef288",
       "version_major": 2,
       "version_minor": 0
      },
      "text/plain": [
       "  0%|          | 0/131 [00:00<?, ?it/s]"
      ]
     },
     "metadata": {},
     "output_type": "display_data"
    },
    {
     "name": "stderr",
     "output_type": "stream",
     "text": [
      "INFO - (NP.utils_torch.lr_range_test) - lr-range-test results: steep: 1.05E-01, min: 1.15E+00\n",
      "INFO - (NP.forecaster._init_train_loader) - lr-range-test selected learning rate: 1.04E-01\n",
      "Epoch[167/167]: 100%|███████████| 167/167 [00:12<00:00, 13.84it/s, SmoothL1Loss=0.0112, MAE=3.61, RMSE=4.46, RegLoss=0]\n",
      "INFO - (NP.df_utils._infer_frequency) - Major frequency D corresponds to 99.939% of the data.\n",
      "INFO - (NP.df_utils._infer_frequency) - Defined frequency is equal to major frequency - D\n",
      "INFO - (NP.config.init_data_params) - Setting normalization to global as only one dataframe provided for training.\n",
      "INFO - (NP.utils.set_auto_seasonalities) - Disabling daily seasonality. Run NeuralProphet with daily_seasonality=True to override this.\n",
      "INFO - (NP.config.set_auto_batch_epoch) - Auto-set batch_size to 32\n",
      "INFO - (NP.config.set_auto_batch_epoch) - Auto-set epochs to 167\n"
     ]
    },
    {
     "data": {
      "application/vnd.jupyter.widget-view+json": {
       "model_id": "c5557c211913470f89b22484833e8e71",
       "version_major": 2,
       "version_minor": 0
      },
      "text/plain": [
       "  0%|          | 0/131 [00:00<?, ?it/s]"
      ]
     },
     "metadata": {},
     "output_type": "display_data"
    },
    {
     "name": "stderr",
     "output_type": "stream",
     "text": [
      "INFO - (NP.utils_torch.lr_range_test) - lr-range-test results: steep: 1.24E-01, min: 2.74E-01\n"
     ]
    },
    {
     "data": {
      "application/vnd.jupyter.widget-view+json": {
       "model_id": "d45e4deedaef480c98041b95575563ea",
       "version_major": 2,
       "version_minor": 0
      },
      "text/plain": [
       "  0%|          | 0/131 [00:00<?, ?it/s]"
      ]
     },
     "metadata": {},
     "output_type": "display_data"
    },
    {
     "name": "stderr",
     "output_type": "stream",
     "text": [
      "INFO - (NP.utils_torch.lr_range_test) - lr-range-test results: steep: 1.24E-01, min: 2.34E-01\n",
      "INFO - (NP.forecaster._init_train_loader) - lr-range-test selected learning rate: 1.15E-01\n",
      "Epoch[167/167]: 100%|██████████| 167/167 [00:11<00:00, 14.08it/s, SmoothL1Loss=0.00666, MAE=7.56, RMSE=9.49, RegLoss=0]\n",
      "INFO - (NP.df_utils._infer_frequency) - Major frequency D corresponds to 99.939% of the data.\n",
      "INFO - (NP.df_utils._infer_frequency) - Defined frequency is equal to major frequency - D\n",
      "INFO - (NP.config.init_data_params) - Setting normalization to global as only one dataframe provided for training.\n",
      "INFO - (NP.utils.set_auto_seasonalities) - Disabling daily seasonality. Run NeuralProphet with daily_seasonality=True to override this.\n",
      "INFO - (NP.config.set_auto_batch_epoch) - Auto-set batch_size to 32\n",
      "INFO - (NP.config.set_auto_batch_epoch) - Auto-set epochs to 167\n"
     ]
    },
    {
     "data": {
      "application/vnd.jupyter.widget-view+json": {
       "model_id": "3109dceb5fff40b8b0f4c919c2f62256",
       "version_major": 2,
       "version_minor": 0
      },
      "text/plain": [
       "  0%|          | 0/131 [00:00<?, ?it/s]"
      ]
     },
     "metadata": {},
     "output_type": "display_data"
    },
    {
     "name": "stderr",
     "output_type": "stream",
     "text": [
      "INFO - (NP.utils_torch.lr_range_test) - lr-range-test results: steep: 6.54E-02, min: 1.15E+00\n"
     ]
    },
    {
     "data": {
      "application/vnd.jupyter.widget-view+json": {
       "model_id": "53ab3c7fa20b45108680969994d01e9a",
       "version_major": 2,
       "version_minor": 0
      },
      "text/plain": [
       "  0%|          | 0/131 [00:00<?, ?it/s]"
      ]
     },
     "metadata": {},
     "output_type": "display_data"
    },
    {
     "name": "stderr",
     "output_type": "stream",
     "text": [
      "INFO - (NP.utils_torch.lr_range_test) - lr-range-test results: steep: 6.54E-02, min: 1.35E+00\n",
      "INFO - (NP.forecaster._init_train_loader) - lr-range-test selected learning rate: 7.53E-02\n",
      "Epoch[167/167]: 100%|██████████| 167/167 [00:11<00:00, 14.20it/s, SmoothL1Loss=0.00632, MAE=6.46, RMSE=8.03, RegLoss=0]\n",
      "INFO - (NP.df_utils._infer_frequency) - Major frequency D corresponds to 99.939% of the data.\n",
      "INFO - (NP.df_utils._infer_frequency) - Defined frequency is equal to major frequency - D\n",
      "INFO - (NP.config.init_data_params) - Setting normalization to global as only one dataframe provided for training.\n",
      "INFO - (NP.utils.set_auto_seasonalities) - Disabling daily seasonality. Run NeuralProphet with daily_seasonality=True to override this.\n",
      "INFO - (NP.config.set_auto_batch_epoch) - Auto-set batch_size to 32\n",
      "INFO - (NP.config.set_auto_batch_epoch) - Auto-set epochs to 167\n"
     ]
    },
    {
     "data": {
      "application/vnd.jupyter.widget-view+json": {
       "model_id": "1ffecbe1871d476dbe0fb3e47c0aebb5",
       "version_major": 2,
       "version_minor": 0
      },
      "text/plain": [
       "  0%|          | 0/131 [00:00<?, ?it/s]"
      ]
     },
     "metadata": {},
     "output_type": "display_data"
    },
    {
     "name": "stderr",
     "output_type": "stream",
     "text": [
      "INFO - (NP.utils_torch.lr_range_test) - lr-range-test results: steep: 8.99E-02, min: 1.15E+00\n"
     ]
    },
    {
     "data": {
      "application/vnd.jupyter.widget-view+json": {
       "model_id": "152cb353114a415c84f8fa3471ad3f00",
       "version_major": 2,
       "version_minor": 0
      },
      "text/plain": [
       "  0%|          | 0/131 [00:00<?, ?it/s]"
      ]
     },
     "metadata": {},
     "output_type": "display_data"
    },
    {
     "name": "stderr",
     "output_type": "stream",
     "text": [
      "INFO - (NP.utils_torch.lr_range_test) - lr-range-test results: steep: 8.99E-02, min: 1.15E+00\n",
      "INFO - (NP.forecaster._init_train_loader) - lr-range-test selected learning rate: 9.32E-02\n",
      "Epoch[167/167]: 100%|███████████| 167/167 [00:11<00:00, 14.02it/s, SmoothL1Loss=0.0113, MAE=4.92, RMSE=6.12, RegLoss=0]\n",
      "INFO - (NP.df_utils._infer_frequency) - Major frequency D corresponds to 99.939% of the data.\n",
      "INFO - (NP.df_utils._infer_frequency) - Defined frequency is equal to major frequency - D\n",
      "INFO - (NP.config.init_data_params) - Setting normalization to global as only one dataframe provided for training.\n",
      "INFO - (NP.utils.set_auto_seasonalities) - Disabling daily seasonality. Run NeuralProphet with daily_seasonality=True to override this.\n",
      "INFO - (NP.config.set_auto_batch_epoch) - Auto-set batch_size to 32\n",
      "INFO - (NP.config.set_auto_batch_epoch) - Auto-set epochs to 167\n"
     ]
    },
    {
     "data": {
      "application/vnd.jupyter.widget-view+json": {
       "model_id": "ce09affd0a084c0485b37daa9643b9d5",
       "version_major": 2,
       "version_minor": 0
      },
      "text/plain": [
       "  0%|          | 0/131 [00:00<?, ?it/s]"
      ]
     },
     "metadata": {},
     "output_type": "display_data"
    },
    {
     "name": "stderr",
     "output_type": "stream",
     "text": [
      "INFO - (NP.utils_torch.lr_range_test) - lr-range-test results: steep: 1.45E-01, min: 1.58E+00\n"
     ]
    },
    {
     "data": {
      "application/vnd.jupyter.widget-view+json": {
       "model_id": "6495b9f6d79747989daa01d80f5a20b7",
       "version_major": 2,
       "version_minor": 0
      },
      "text/plain": [
       "  0%|          | 0/131 [00:00<?, ?it/s]"
      ]
     },
     "metadata": {},
     "output_type": "display_data"
    },
    {
     "name": "stderr",
     "output_type": "stream",
     "text": [
      "INFO - (NP.utils_torch.lr_range_test) - lr-range-test results: steep: 1.70E-01, min: 1.86E+00\n",
      "INFO - (NP.forecaster._init_train_loader) - lr-range-test selected learning rate: 1.35E-01\n",
      "Epoch[167/167]: 100%|██████████| 167/167 [00:11<00:00, 14.07it/s, SmoothL1Loss=0.00726, MAE=5.89, RMSE=7.41, RegLoss=0]\n",
      "INFO - (NP.df_utils._infer_frequency) - Major frequency D corresponds to 99.939% of the data.\n",
      "INFO - (NP.df_utils._infer_frequency) - Defined frequency is equal to major frequency - D\n",
      "INFO - (NP.config.init_data_params) - Setting normalization to global as only one dataframe provided for training.\n",
      "INFO - (NP.utils.set_auto_seasonalities) - Disabling daily seasonality. Run NeuralProphet with daily_seasonality=True to override this.\n",
      "INFO - (NP.config.set_auto_batch_epoch) - Auto-set batch_size to 32\n",
      "INFO - (NP.config.set_auto_batch_epoch) - Auto-set epochs to 167\n"
     ]
    },
    {
     "data": {
      "application/vnd.jupyter.widget-view+json": {
       "model_id": "46bd5bb1290947c595209729a305cc59",
       "version_major": 2,
       "version_minor": 0
      },
      "text/plain": [
       "  0%|          | 0/131 [00:00<?, ?it/s]"
      ]
     },
     "metadata": {},
     "output_type": "display_data"
    },
    {
     "name": "stderr",
     "output_type": "stream",
     "text": [
      "INFO - (NP.utils_torch.lr_range_test) - lr-range-test results: steep: 7.67E-02, min: 7.14E-01\n"
     ]
    },
    {
     "data": {
      "application/vnd.jupyter.widget-view+json": {
       "model_id": "2abb62b5fae24db5aeb039a388b75a49",
       "version_major": 2,
       "version_minor": 0
      },
      "text/plain": [
       "  0%|          | 0/131 [00:00<?, ?it/s]"
      ]
     },
     "metadata": {},
     "output_type": "display_data"
    },
    {
     "name": "stderr",
     "output_type": "stream",
     "text": [
      "INFO - (NP.utils_torch.lr_range_test) - lr-range-test results: steep: 7.67E-02, min: 3.00E+00\n",
      "INFO - (NP.forecaster._init_train_loader) - lr-range-test selected learning rate: 8.38E-02\n",
      "Epoch[167/167]: 100%|███████████| 167/167 [00:11<00:00, 13.93it/s, SmoothL1Loss=0.0102, MAE=5.27, RMSE=6.53, RegLoss=0]\n",
      "INFO - (NP.df_utils._infer_frequency) - Major frequency D corresponds to 99.939% of the data.\n",
      "INFO - (NP.df_utils._infer_frequency) - Defined frequency is equal to major frequency - D\n",
      "INFO - (NP.config.init_data_params) - Setting normalization to global as only one dataframe provided for training.\n",
      "INFO - (NP.utils.set_auto_seasonalities) - Disabling daily seasonality. Run NeuralProphet with daily_seasonality=True to override this.\n",
      "INFO - (NP.config.set_auto_batch_epoch) - Auto-set batch_size to 32\n",
      "INFO - (NP.config.set_auto_batch_epoch) - Auto-set epochs to 167\n"
     ]
    },
    {
     "data": {
      "application/vnd.jupyter.widget-view+json": {
       "model_id": "777a25c7811e41c9874609ffb3e05383",
       "version_major": 2,
       "version_minor": 0
      },
      "text/plain": [
       "  0%|          | 0/131 [00:00<?, ?it/s]"
      ]
     },
     "metadata": {},
     "output_type": "display_data"
    },
    {
     "name": "stderr",
     "output_type": "stream",
     "text": [
      "INFO - (NP.utils_torch.lr_range_test) - lr-range-test results: steep: 1.24E-01, min: 1.58E+00\n"
     ]
    },
    {
     "data": {
      "application/vnd.jupyter.widget-view+json": {
       "model_id": "053cee4f6bf74c24ac68e50c381ad139",
       "version_major": 2,
       "version_minor": 0
      },
      "text/plain": [
       "  0%|          | 0/131 [00:00<?, ?it/s]"
      ]
     },
     "metadata": {},
     "output_type": "display_data"
    },
    {
     "name": "stderr",
     "output_type": "stream",
     "text": [
      "INFO - (NP.utils_torch.lr_range_test) - lr-range-test results: steep: 1.24E-01, min: 1.58E+00\n",
      "INFO - (NP.forecaster._init_train_loader) - lr-range-test selected learning rate: 1.15E-01\n",
      "Epoch[167/167]: 100%|██████████| 167/167 [00:11<00:00, 14.03it/s, SmoothL1Loss=0.00765, MAE=6.59, RMSE=8.22, RegLoss=0]\n",
      "INFO - (NP.df_utils._infer_frequency) - Major frequency D corresponds to 99.939% of the data.\n",
      "INFO - (NP.df_utils._infer_frequency) - Defined frequency is equal to major frequency - D\n",
      "INFO - (NP.config.init_data_params) - Setting normalization to global as only one dataframe provided for training.\n",
      "INFO - (NP.utils.set_auto_seasonalities) - Disabling daily seasonality. Run NeuralProphet with daily_seasonality=True to override this.\n",
      "INFO - (NP.config.set_auto_batch_epoch) - Auto-set batch_size to 32\n",
      "INFO - (NP.config.set_auto_batch_epoch) - Auto-set epochs to 167\n"
     ]
    },
    {
     "data": {
      "application/vnd.jupyter.widget-view+json": {
       "model_id": "bacdd4e225ad4182a88fe1ab9838bce3",
       "version_major": 2,
       "version_minor": 0
      },
      "text/plain": [
       "  0%|          | 0/131 [00:00<?, ?it/s]"
      ]
     },
     "metadata": {},
     "output_type": "display_data"
    },
    {
     "name": "stderr",
     "output_type": "stream",
     "text": [
      "INFO - (NP.utils_torch.lr_range_test) - lr-range-test results: steep: 7.67E-02, min: 1.15E+00\n"
     ]
    },
    {
     "data": {
      "application/vnd.jupyter.widget-view+json": {
       "model_id": "58c29a3f70ad439898b1f8ed8edbc013",
       "version_major": 2,
       "version_minor": 0
      },
      "text/plain": [
       "  0%|          | 0/131 [00:00<?, ?it/s]"
      ]
     },
     "metadata": {},
     "output_type": "display_data"
    },
    {
     "name": "stderr",
     "output_type": "stream",
     "text": [
      "INFO - (NP.utils_torch.lr_range_test) - lr-range-test results: steep: 7.67E-02, min: 1.15E+00\n",
      "INFO - (NP.forecaster._init_train_loader) - lr-range-test selected learning rate: 8.38E-02\n",
      "Epoch[167/167]: 100%|█████████████| 167/167 [00:11<00:00, 14.03it/s, SmoothL1Loss=0.012, MAE=3.8, RMSE=4.78, RegLoss=0]\n",
      "INFO - (NP.df_utils._infer_frequency) - Major frequency D corresponds to 99.939% of the data.\n",
      "INFO - (NP.df_utils._infer_frequency) - Defined frequency is equal to major frequency - D\n",
      "INFO - (NP.config.init_data_params) - Setting normalization to global as only one dataframe provided for training.\n",
      "INFO - (NP.utils.set_auto_seasonalities) - Disabling daily seasonality. Run NeuralProphet with daily_seasonality=True to override this.\n",
      "INFO - (NP.config.set_auto_batch_epoch) - Auto-set batch_size to 32\n",
      "INFO - (NP.config.set_auto_batch_epoch) - Auto-set epochs to 167\n"
     ]
    },
    {
     "data": {
      "application/vnd.jupyter.widget-view+json": {
       "model_id": "84dcce4c531140dab900d3e475345ef1",
       "version_major": 2,
       "version_minor": 0
      },
      "text/plain": [
       "  0%|          | 0/131 [00:00<?, ?it/s]"
      ]
     },
     "metadata": {},
     "output_type": "display_data"
    },
    {
     "name": "stderr",
     "output_type": "stream",
     "text": [
      "INFO - (NP.utils_torch.lr_range_test) - lr-range-test results: steep: 1.70E-01, min: 2.18E+00\n"
     ]
    },
    {
     "data": {
      "application/vnd.jupyter.widget-view+json": {
       "model_id": "1e30bb03b77a42799cd1fb4f94377382",
       "version_major": 2,
       "version_minor": 0
      },
      "text/plain": [
       "  0%|          | 0/131 [00:00<?, ?it/s]"
      ]
     },
     "metadata": {},
     "output_type": "display_data"
    },
    {
     "name": "stderr",
     "output_type": "stream",
     "text": [
      "INFO - (NP.utils_torch.lr_range_test) - lr-range-test results: steep: 1.70E-01, min: 4.43E-01\n",
      "INFO - (NP.forecaster._init_train_loader) - lr-range-test selected learning rate: 1.43E-01\n",
      "Epoch[167/167]: 100%|███████████| 167/167 [00:12<00:00, 13.61it/s, SmoothL1Loss=0.00711, MAE=6.3, RMSE=7.91, RegLoss=0]\n",
      "INFO - (NP.df_utils._infer_frequency) - Major frequency D corresponds to 99.939% of the data.\n",
      "INFO - (NP.df_utils._infer_frequency) - Defined frequency is equal to major frequency - D\n",
      "INFO - (NP.config.init_data_params) - Setting normalization to global as only one dataframe provided for training.\n",
      "INFO - (NP.utils.set_auto_seasonalities) - Disabling daily seasonality. Run NeuralProphet with daily_seasonality=True to override this.\n",
      "INFO - (NP.config.set_auto_batch_epoch) - Auto-set batch_size to 32\n",
      "INFO - (NP.config.set_auto_batch_epoch) - Auto-set epochs to 167\n"
     ]
    },
    {
     "data": {
      "application/vnd.jupyter.widget-view+json": {
       "model_id": "eb2b093f0e7042129e8d1b5c9c448e00",
       "version_major": 2,
       "version_minor": 0
      },
      "text/plain": [
       "  0%|          | 0/131 [00:00<?, ?it/s]"
      ]
     },
     "metadata": {},
     "output_type": "display_data"
    },
    {
     "name": "stderr",
     "output_type": "stream",
     "text": [
      "INFO - (NP.utils_torch.lr_range_test) - lr-range-test results: steep: 8.99E-02, min: 6.09E-01\n"
     ]
    },
    {
     "data": {
      "application/vnd.jupyter.widget-view+json": {
       "model_id": "3f790b6b97a542c4bc067d43fe91c32d",
       "version_major": 2,
       "version_minor": 0
      },
      "text/plain": [
       "  0%|          | 0/131 [00:00<?, ?it/s]"
      ]
     },
     "metadata": {},
     "output_type": "display_data"
    },
    {
     "name": "stderr",
     "output_type": "stream",
     "text": [
      "INFO - (NP.utils_torch.lr_range_test) - lr-range-test results: steep: 8.99E-02, min: 6.09E-01\n",
      "INFO - (NP.forecaster._init_train_loader) - lr-range-test selected learning rate: 9.32E-02\n",
      "Epoch[167/167]: 100%|████████████| 167/167 [00:11<00:00, 14.11it/s, SmoothL1Loss=0.0065, MAE=6.86, RMSE=8.6, RegLoss=0]\n",
      "INFO - (NP.df_utils._infer_frequency) - Major frequency D corresponds to 99.939% of the data.\n",
      "INFO - (NP.df_utils._infer_frequency) - Defined frequency is equal to major frequency - D\n",
      "INFO - (NP.config.init_data_params) - Setting normalization to global as only one dataframe provided for training.\n",
      "INFO - (NP.utils.set_auto_seasonalities) - Disabling daily seasonality. Run NeuralProphet with daily_seasonality=True to override this.\n",
      "INFO - (NP.config.set_auto_batch_epoch) - Auto-set batch_size to 32\n",
      "INFO - (NP.config.set_auto_batch_epoch) - Auto-set epochs to 167\n"
     ]
    },
    {
     "data": {
      "application/vnd.jupyter.widget-view+json": {
       "model_id": "5e4489abd99a4369bff96798c42edf94",
       "version_major": 2,
       "version_minor": 0
      },
      "text/plain": [
       "  0%|          | 0/131 [00:00<?, ?it/s]"
      ]
     },
     "metadata": {},
     "output_type": "display_data"
    },
    {
     "name": "stderr",
     "output_type": "stream",
     "text": [
      "INFO - (NP.utils_torch.lr_range_test) - lr-range-test results: steep: 1.05E-01, min: 1.15E+00\n"
     ]
    },
    {
     "data": {
      "application/vnd.jupyter.widget-view+json": {
       "model_id": "3b9551aac5374ca8acc37a5593bc4780",
       "version_major": 2,
       "version_minor": 0
      },
      "text/plain": [
       "  0%|          | 0/131 [00:00<?, ?it/s]"
      ]
     },
     "metadata": {},
     "output_type": "display_data"
    },
    {
     "name": "stderr",
     "output_type": "stream",
     "text": [
      "INFO - (NP.utils_torch.lr_range_test) - lr-range-test results: steep: 8.99E-02, min: 1.35E+00\n",
      "INFO - (NP.forecaster._init_train_loader) - lr-range-test selected learning rate: 9.82E-02\n",
      "Epoch[167/167]: 100%|████████████| 167/167 [00:11<00:00, 14.02it/s, SmoothL1Loss=0.0133, MAE=4.16, RMSE=5.2, RegLoss=0]\n",
      "INFO - (NP.df_utils._infer_frequency) - Major frequency D corresponds to 99.939% of the data.\n",
      "INFO - (NP.df_utils._infer_frequency) - Defined frequency is equal to major frequency - D\n",
      "INFO - (NP.config.init_data_params) - Setting normalization to global as only one dataframe provided for training.\n",
      "INFO - (NP.utils.set_auto_seasonalities) - Disabling daily seasonality. Run NeuralProphet with daily_seasonality=True to override this.\n",
      "INFO - (NP.config.set_auto_batch_epoch) - Auto-set batch_size to 32\n",
      "INFO - (NP.config.set_auto_batch_epoch) - Auto-set epochs to 167\n"
     ]
    },
    {
     "data": {
      "application/vnd.jupyter.widget-view+json": {
       "model_id": "0e73aab4eaab43f4adab184f294cb787",
       "version_major": 2,
       "version_minor": 0
      },
      "text/plain": [
       "  0%|          | 0/131 [00:00<?, ?it/s]"
      ]
     },
     "metadata": {},
     "output_type": "display_data"
    },
    {
     "name": "stderr",
     "output_type": "stream",
     "text": [
      "INFO - (NP.utils_torch.lr_range_test) - lr-range-test results: steep: 1.05E-01, min: 1.15E+00\n"
     ]
    },
    {
     "data": {
      "application/vnd.jupyter.widget-view+json": {
       "model_id": "46c2a132f00c434abe52ac52f1a7b48f",
       "version_major": 2,
       "version_minor": 0
      },
      "text/plain": [
       "  0%|          | 0/131 [00:00<?, ?it/s]"
      ]
     },
     "metadata": {},
     "output_type": "display_data"
    },
    {
     "name": "stderr",
     "output_type": "stream",
     "text": [
      "INFO - (NP.utils_torch.lr_range_test) - lr-range-test results: steep: 1.24E-01, min: 1.15E+00\n",
      "INFO - (NP.forecaster._init_train_loader) - lr-range-test selected learning rate: 1.09E-01\n",
      "Epoch[167/167]: 100%|███████████| 167/167 [00:11<00:00, 14.13it/s, SmoothL1Loss=0.0056, MAE=7.27, RMSE=9.13, RegLoss=0]\n",
      "INFO - (NP.df_utils._infer_frequency) - Major frequency D corresponds to 99.939% of the data.\n",
      "INFO - (NP.df_utils._infer_frequency) - Defined frequency is equal to major frequency - D\n",
      "INFO - (NP.config.init_data_params) - Setting normalization to global as only one dataframe provided for training.\n",
      "INFO - (NP.utils.set_auto_seasonalities) - Disabling daily seasonality. Run NeuralProphet with daily_seasonality=True to override this.\n",
      "INFO - (NP.config.set_auto_batch_epoch) - Auto-set batch_size to 32\n",
      "INFO - (NP.config.set_auto_batch_epoch) - Auto-set epochs to 167\n"
     ]
    },
    {
     "data": {
      "application/vnd.jupyter.widget-view+json": {
       "model_id": "a14db4607d4f40f389b1b5e344dc516d",
       "version_major": 2,
       "version_minor": 0
      },
      "text/plain": [
       "  0%|          | 0/131 [00:00<?, ?it/s]"
      ]
     },
     "metadata": {},
     "output_type": "display_data"
    },
    {
     "name": "stderr",
     "output_type": "stream",
     "text": [
      "INFO - (NP.utils_torch.lr_range_test) - lr-range-test results: steep: 6.54E-02, min: 1.15E+00\n"
     ]
    },
    {
     "data": {
      "application/vnd.jupyter.widget-view+json": {
       "model_id": "9c144c6c26424819b150fca1275c40d4",
       "version_major": 2,
       "version_minor": 0
      },
      "text/plain": [
       "  0%|          | 0/131 [00:00<?, ?it/s]"
      ]
     },
     "metadata": {},
     "output_type": "display_data"
    },
    {
     "name": "stderr",
     "output_type": "stream",
     "text": [
      "INFO - (NP.utils_torch.lr_range_test) - lr-range-test results: steep: 7.67E-02, min: 3.78E-01\n",
      "INFO - (NP.forecaster._init_train_loader) - lr-range-test selected learning rate: 7.94E-02\n",
      "Epoch[167/167]: 100%|██████████| 167/167 [00:11<00:00, 14.10it/s, SmoothL1Loss=0.00984, MAE=5.14, RMSE=6.43, RegLoss=0]\n",
      "INFO - (NP.df_utils._infer_frequency) - Major frequency D corresponds to 99.939% of the data.\n",
      "INFO - (NP.df_utils._infer_frequency) - Defined frequency is equal to major frequency - D\n",
      "INFO - (NP.config.init_data_params) - Setting normalization to global as only one dataframe provided for training.\n",
      "INFO - (NP.utils.set_auto_seasonalities) - Disabling daily seasonality. Run NeuralProphet with daily_seasonality=True to override this.\n",
      "INFO - (NP.config.set_auto_batch_epoch) - Auto-set batch_size to 32\n",
      "INFO - (NP.config.set_auto_batch_epoch) - Auto-set epochs to 167\n"
     ]
    },
    {
     "data": {
      "application/vnd.jupyter.widget-view+json": {
       "model_id": "68ffdbe6f73b44fb9a90bf9c112c9a39",
       "version_major": 2,
       "version_minor": 0
      },
      "text/plain": [
       "  0%|          | 0/131 [00:00<?, ?it/s]"
      ]
     },
     "metadata": {},
     "output_type": "display_data"
    },
    {
     "name": "stderr",
     "output_type": "stream",
     "text": [
      "INFO - (NP.utils_torch.lr_range_test) - lr-range-test results: steep: 6.54E-02, min: 7.14E-01\n"
     ]
    },
    {
     "data": {
      "application/vnd.jupyter.widget-view+json": {
       "model_id": "3adc682482c24601a8bea467936eaa34",
       "version_major": 2,
       "version_minor": 0
      },
      "text/plain": [
       "  0%|          | 0/131 [00:00<?, ?it/s]"
      ]
     },
     "metadata": {},
     "output_type": "display_data"
    },
    {
     "name": "stderr",
     "output_type": "stream",
     "text": [
      "INFO - (NP.utils_torch.lr_range_test) - lr-range-test results: steep: 7.67E-02, min: 9.82E-01\n",
      "INFO - (NP.forecaster._init_train_loader) - lr-range-test selected learning rate: 7.94E-02\n",
      "Epoch[167/167]: 100%|███████████| 167/167 [00:11<00:00, 14.00it/s, SmoothL1Loss=0.0119, MAE=4.08, RMSE=5.05, RegLoss=0]\n",
      "INFO - (NP.df_utils._infer_frequency) - Major frequency D corresponds to 99.939% of the data.\n",
      "INFO - (NP.df_utils._infer_frequency) - Defined frequency is equal to major frequency - D\n",
      "INFO - (NP.config.init_data_params) - Setting normalization to global as only one dataframe provided for training.\n",
      "INFO - (NP.utils.set_auto_seasonalities) - Disabling daily seasonality. Run NeuralProphet with daily_seasonality=True to override this.\n",
      "INFO - (NP.config.set_auto_batch_epoch) - Auto-set batch_size to 32\n",
      "INFO - (NP.config.set_auto_batch_epoch) - Auto-set epochs to 167\n"
     ]
    },
    {
     "data": {
      "application/vnd.jupyter.widget-view+json": {
       "model_id": "6f81133fafd343cba8679ed6d2a4a03c",
       "version_major": 2,
       "version_minor": 0
      },
      "text/plain": [
       "  0%|          | 0/131 [00:00<?, ?it/s]"
      ]
     },
     "metadata": {},
     "output_type": "display_data"
    },
    {
     "name": "stderr",
     "output_type": "stream",
     "text": [
      "INFO - (NP.utils_torch.lr_range_test) - lr-range-test results: steep: 5.57E-02, min: 1.05E-01\n"
     ]
    },
    {
     "data": {
      "application/vnd.jupyter.widget-view+json": {
       "model_id": "876a3a6e14484f219ed4339e261984d9",
       "version_major": 2,
       "version_minor": 0
      },
      "text/plain": [
       "  0%|          | 0/131 [00:00<?, ?it/s]"
      ]
     },
     "metadata": {},
     "output_type": "display_data"
    },
    {
     "name": "stderr",
     "output_type": "stream",
     "text": [
      "INFO - (NP.utils_torch.lr_range_test) - lr-range-test results: steep: 7.14E-01, min: 1.05E-01\n",
      "INFO - (NP.forecaster._init_train_loader) - lr-range-test selected learning rate: 1.58E-01\n",
      "Epoch[167/167]: 100%|███████████| 167/167 [00:11<00:00, 14.16it/s, SmoothL1Loss=0.0128, MAE=3.61, RMSE=4.45, RegLoss=0]\n",
      "INFO - (NP.df_utils._infer_frequency) - Major frequency D corresponds to 99.939% of the data.\n",
      "INFO - (NP.df_utils._infer_frequency) - Defined frequency is equal to major frequency - D\n",
      "INFO - (NP.config.init_data_params) - Setting normalization to global as only one dataframe provided for training.\n",
      "INFO - (NP.utils.set_auto_seasonalities) - Disabling daily seasonality. Run NeuralProphet with daily_seasonality=True to override this.\n",
      "INFO - (NP.config.set_auto_batch_epoch) - Auto-set batch_size to 32\n",
      "INFO - (NP.config.set_auto_batch_epoch) - Auto-set epochs to 167\n"
     ]
    },
    {
     "data": {
      "application/vnd.jupyter.widget-view+json": {
       "model_id": "34da9f7aaa184f5c94e11639607dc317",
       "version_major": 2,
       "version_minor": 0
      },
      "text/plain": [
       "  0%|          | 0/131 [00:00<?, ?it/s]"
      ]
     },
     "metadata": {},
     "output_type": "display_data"
    },
    {
     "name": "stderr",
     "output_type": "stream",
     "text": [
      "INFO - (NP.utils_torch.lr_range_test) - lr-range-test results: steep: 1.24E-01, min: 1.15E+00\n"
     ]
    },
    {
     "data": {
      "application/vnd.jupyter.widget-view+json": {
       "model_id": "50e9d1c98d8e47a5971d52b7662aa461",
       "version_major": 2,
       "version_minor": 0
      },
      "text/plain": [
       "  0%|          | 0/131 [00:00<?, ?it/s]"
      ]
     },
     "metadata": {},
     "output_type": "display_data"
    },
    {
     "name": "stderr",
     "output_type": "stream",
     "text": [
      "INFO - (NP.utils_torch.lr_range_test) - lr-range-test results: steep: 1.45E-01, min: 1.15E+00\n",
      "INFO - (NP.forecaster._init_train_loader) - lr-range-test selected learning rate: 1.22E-01\n",
      "Epoch[167/167]: 100%|██████████| 167/167 [00:11<00:00, 13.99it/s, SmoothL1Loss=0.00892, MAE=4.36, RMSE=5.55, RegLoss=0]\n",
      "INFO - (NP.df_utils._infer_frequency) - Major frequency D corresponds to 99.939% of the data.\n",
      "INFO - (NP.df_utils._infer_frequency) - Defined frequency is equal to major frequency - D\n",
      "INFO - (NP.config.init_data_params) - Setting normalization to global as only one dataframe provided for training.\n",
      "INFO - (NP.utils.set_auto_seasonalities) - Disabling daily seasonality. Run NeuralProphet with daily_seasonality=True to override this.\n",
      "INFO - (NP.config.set_auto_batch_epoch) - Auto-set batch_size to 32\n",
      "INFO - (NP.config.set_auto_batch_epoch) - Auto-set epochs to 167\n"
     ]
    },
    {
     "data": {
      "application/vnd.jupyter.widget-view+json": {
       "model_id": "53e5515ba3204960aa79df72f99675e8",
       "version_major": 2,
       "version_minor": 0
      },
      "text/plain": [
       "  0%|          | 0/131 [00:00<?, ?it/s]"
      ]
     },
     "metadata": {},
     "output_type": "display_data"
    },
    {
     "name": "stderr",
     "output_type": "stream",
     "text": [
      "INFO - (NP.utils_torch.lr_range_test) - lr-range-test results: steep: 1.05E-01, min: 1.15E+00\n"
     ]
    },
    {
     "data": {
      "application/vnd.jupyter.widget-view+json": {
       "model_id": "8529c4f2df5a4d869fb5520a3941dff3",
       "version_major": 2,
       "version_minor": 0
      },
      "text/plain": [
       "  0%|          | 0/131 [00:00<?, ?it/s]"
      ]
     },
     "metadata": {},
     "output_type": "display_data"
    },
    {
     "name": "stderr",
     "output_type": "stream",
     "text": [
      "INFO - (NP.utils_torch.lr_range_test) - lr-range-test results: steep: 1.05E-01, min: 1.15E+00\n",
      "INFO - (NP.forecaster._init_train_loader) - lr-range-test selected learning rate: 1.04E-01\n",
      "Epoch[167/167]: 100%|██████████| 167/167 [00:11<00:00, 13.94it/s, SmoothL1Loss=0.00889, MAE=5.61, RMSE=7.01, RegLoss=0]\n",
      "INFO - (NP.df_utils._infer_frequency) - Major frequency D corresponds to 99.939% of the data.\n",
      "INFO - (NP.df_utils._infer_frequency) - Defined frequency is equal to major frequency - D\n",
      "INFO - (NP.config.init_data_params) - Setting normalization to global as only one dataframe provided for training.\n",
      "INFO - (NP.utils.set_auto_seasonalities) - Disabling daily seasonality. Run NeuralProphet with daily_seasonality=True to override this.\n",
      "INFO - (NP.config.set_auto_batch_epoch) - Auto-set batch_size to 32\n",
      "INFO - (NP.config.set_auto_batch_epoch) - Auto-set epochs to 167\n"
     ]
    },
    {
     "data": {
      "application/vnd.jupyter.widget-view+json": {
       "model_id": "e911801876544339b54e8e5200edfa40",
       "version_major": 2,
       "version_minor": 0
      },
      "text/plain": [
       "  0%|          | 0/131 [00:00<?, ?it/s]"
      ]
     },
     "metadata": {},
     "output_type": "display_data"
    },
    {
     "name": "stderr",
     "output_type": "stream",
     "text": [
      "INFO - (NP.utils_torch.lr_range_test) - lr-range-test results: steep: 7.67E-02, min: 4.43E-01\n"
     ]
    },
    {
     "data": {
      "application/vnd.jupyter.widget-view+json": {
       "model_id": "d81e9ef21cba40619473e3a613746a87",
       "version_major": 2,
       "version_minor": 0
      },
      "text/plain": [
       "  0%|          | 0/131 [00:00<?, ?it/s]"
      ]
     },
     "metadata": {},
     "output_type": "display_data"
    },
    {
     "name": "stderr",
     "output_type": "stream",
     "text": [
      "INFO - (NP.utils_torch.lr_range_test) - lr-range-test results: steep: 8.99E-02, min: 1.35E+00\n",
      "INFO - (NP.forecaster._init_train_loader) - lr-range-test selected learning rate: 8.83E-02\n",
      "Epoch[167/167]: 100%|███████████| 167/167 [00:11<00:00, 14.18it/s, SmoothL1Loss=0.0125, MAE=4.15, RMSE=5.16, RegLoss=0]\n",
      "INFO - (NP.df_utils._infer_frequency) - Major frequency D corresponds to 99.939% of the data.\n",
      "INFO - (NP.df_utils._infer_frequency) - Defined frequency is equal to major frequency - D\n",
      "INFO - (NP.config.init_data_params) - Setting normalization to global as only one dataframe provided for training.\n",
      "INFO - (NP.utils.set_auto_seasonalities) - Disabling daily seasonality. Run NeuralProphet with daily_seasonality=True to override this.\n",
      "INFO - (NP.config.set_auto_batch_epoch) - Auto-set batch_size to 32\n",
      "INFO - (NP.config.set_auto_batch_epoch) - Auto-set epochs to 167\n"
     ]
    },
    {
     "data": {
      "application/vnd.jupyter.widget-view+json": {
       "model_id": "1fdad6a98c684d78ad5c5c5b3d931888",
       "version_major": 2,
       "version_minor": 0
      },
      "text/plain": [
       "  0%|          | 0/131 [00:00<?, ?it/s]"
      ]
     },
     "metadata": {},
     "output_type": "display_data"
    },
    {
     "name": "stderr",
     "output_type": "stream",
     "text": [
      "INFO - (NP.utils_torch.lr_range_test) - lr-range-test results: steep: 8.99E-02, min: 2.00E-01\n"
     ]
    },
    {
     "data": {
      "application/vnd.jupyter.widget-view+json": {
       "model_id": "5546dfc30d7046a0b298bbc0abee8da6",
       "version_major": 2,
       "version_minor": 0
      },
      "text/plain": [
       "  0%|          | 0/131 [00:00<?, ?it/s]"
      ]
     },
     "metadata": {},
     "output_type": "display_data"
    },
    {
     "name": "stderr",
     "output_type": "stream",
     "text": [
      "INFO - (NP.utils_torch.lr_range_test) - lr-range-test results: steep: 8.99E-02, min: 1.15E+00\n",
      "INFO - (NP.forecaster._init_train_loader) - lr-range-test selected learning rate: 9.32E-02\n",
      "Epoch[167/167]: 100%|███████████| 167/167 [00:11<00:00, 14.07it/s, SmoothL1Loss=0.00639, MAE=7.1, RMSE=8.85, RegLoss=0]\n",
      "INFO - (NP.df_utils._infer_frequency) - Major frequency D corresponds to 99.939% of the data.\n",
      "INFO - (NP.df_utils._infer_frequency) - Defined frequency is equal to major frequency - D\n",
      "INFO - (NP.config.init_data_params) - Setting normalization to global as only one dataframe provided for training.\n",
      "INFO - (NP.utils.set_auto_seasonalities) - Disabling daily seasonality. Run NeuralProphet with daily_seasonality=True to override this.\n",
      "INFO - (NP.config.set_auto_batch_epoch) - Auto-set batch_size to 32\n",
      "INFO - (NP.config.set_auto_batch_epoch) - Auto-set epochs to 167\n"
     ]
    },
    {
     "data": {
      "application/vnd.jupyter.widget-view+json": {
       "model_id": "fc1891ffd8a8428b889dd70e122c599e",
       "version_major": 2,
       "version_minor": 0
      },
      "text/plain": [
       "  0%|          | 0/131 [00:00<?, ?it/s]"
      ]
     },
     "metadata": {},
     "output_type": "display_data"
    },
    {
     "name": "stderr",
     "output_type": "stream",
     "text": [
      "INFO - (NP.utils_torch.lr_range_test) - lr-range-test results: steep: 8.99E-02, min: 4.43E-01\n"
     ]
    },
    {
     "data": {
      "application/vnd.jupyter.widget-view+json": {
       "model_id": "5333b6230df14be592b5f25ffae65de6",
       "version_major": 2,
       "version_minor": 0
      },
      "text/plain": [
       "  0%|          | 0/131 [00:00<?, ?it/s]"
      ]
     },
     "metadata": {},
     "output_type": "display_data"
    },
    {
     "name": "stderr",
     "output_type": "stream",
     "text": [
      "INFO - (NP.utils_torch.lr_range_test) - lr-range-test results: steep: 8.99E-02, min: 1.15E+00\n",
      "INFO - (NP.forecaster._init_train_loader) - lr-range-test selected learning rate: 9.32E-02\n",
      "Epoch[167/167]: 100%|██████████| 167/167 [00:11<00:00, 14.18it/s, SmoothL1Loss=0.00757, MAE=6.05, RMSE=7.57, RegLoss=0]\n",
      "INFO - (NP.df_utils._infer_frequency) - Major frequency D corresponds to 99.939% of the data.\n",
      "INFO - (NP.df_utils._infer_frequency) - Defined frequency is equal to major frequency - D\n",
      "INFO - (NP.config.init_data_params) - Setting normalization to global as only one dataframe provided for training.\n",
      "INFO - (NP.utils.set_auto_seasonalities) - Disabling daily seasonality. Run NeuralProphet with daily_seasonality=True to override this.\n",
      "INFO - (NP.config.set_auto_batch_epoch) - Auto-set batch_size to 32\n",
      "INFO - (NP.config.set_auto_batch_epoch) - Auto-set epochs to 167\n"
     ]
    },
    {
     "data": {
      "application/vnd.jupyter.widget-view+json": {
       "model_id": "2314d4059fd84e459a8aebe1d00e0587",
       "version_major": 2,
       "version_minor": 0
      },
      "text/plain": [
       "  0%|          | 0/131 [00:00<?, ?it/s]"
      ]
     },
     "metadata": {},
     "output_type": "display_data"
    },
    {
     "name": "stderr",
     "output_type": "stream",
     "text": [
      "INFO - (NP.utils_torch.lr_range_test) - lr-range-test results: steep: 7.67E-02, min: 1.15E+00\n"
     ]
    },
    {
     "data": {
      "application/vnd.jupyter.widget-view+json": {
       "model_id": "bb14df7f754841f4ac6c8818721fc90e",
       "version_major": 2,
       "version_minor": 0
      },
      "text/plain": [
       "  0%|          | 0/131 [00:00<?, ?it/s]"
      ]
     },
     "metadata": {},
     "output_type": "display_data"
    },
    {
     "name": "stderr",
     "output_type": "stream",
     "text": [
      "INFO - (NP.utils_torch.lr_range_test) - lr-range-test results: steep: 7.67E-02, min: 9.82E-01\n",
      "INFO - (NP.forecaster._init_train_loader) - lr-range-test selected learning rate: 8.38E-02\n",
      "Epoch[167/167]: 100%|███████████| 167/167 [00:11<00:00, 13.99it/s, SmoothL1Loss=0.0139, MAE=3.41, RMSE=4.29, RegLoss=0]\n",
      "INFO - (NP.df_utils._infer_frequency) - Major frequency D corresponds to 99.939% of the data.\n",
      "INFO - (NP.df_utils._infer_frequency) - Defined frequency is equal to major frequency - D\n",
      "INFO - (NP.config.init_data_params) - Setting normalization to global as only one dataframe provided for training.\n",
      "INFO - (NP.utils.set_auto_seasonalities) - Disabling daily seasonality. Run NeuralProphet with daily_seasonality=True to override this.\n",
      "INFO - (NP.config.set_auto_batch_epoch) - Auto-set batch_size to 32\n",
      "INFO - (NP.config.set_auto_batch_epoch) - Auto-set epochs to 167\n"
     ]
    },
    {
     "data": {
      "application/vnd.jupyter.widget-view+json": {
       "model_id": "e3fa54277c6147f6a42e887415adc744",
       "version_major": 2,
       "version_minor": 0
      },
      "text/plain": [
       "  0%|          | 0/131 [00:00<?, ?it/s]"
      ]
     },
     "metadata": {},
     "output_type": "display_data"
    },
    {
     "name": "stderr",
     "output_type": "stream",
     "text": [
      "INFO - (NP.utils_torch.lr_range_test) - lr-range-test results: steep: 8.99E-02, min: 1.35E+00\n"
     ]
    },
    {
     "data": {
      "application/vnd.jupyter.widget-view+json": {
       "model_id": "5c65a5fe93d64a8496c86ada3d8a4ec6",
       "version_major": 2,
       "version_minor": 0
      },
      "text/plain": [
       "  0%|          | 0/131 [00:00<?, ?it/s]"
      ]
     },
     "metadata": {},
     "output_type": "display_data"
    },
    {
     "name": "stderr",
     "output_type": "stream",
     "text": [
      "INFO - (NP.utils_torch.lr_range_test) - lr-range-test results: steep: 8.99E-02, min: 1.35E+00\n",
      "INFO - (NP.forecaster._init_train_loader) - lr-range-test selected learning rate: 9.32E-02\n",
      "Epoch[167/167]: 100%|██████████| 167/167 [00:11<00:00, 14.14it/s, SmoothL1Loss=0.00819, MAE=5.59, RMSE=6.97, RegLoss=0]\n",
      "INFO - (NP.df_utils._infer_frequency) - Major frequency D corresponds to 99.939% of the data.\n",
      "INFO - (NP.df_utils._infer_frequency) - Defined frequency is equal to major frequency - D\n",
      "INFO - (NP.config.init_data_params) - Setting normalization to global as only one dataframe provided for training.\n",
      "INFO - (NP.utils.set_auto_seasonalities) - Disabling daily seasonality. Run NeuralProphet with daily_seasonality=True to override this.\n",
      "INFO - (NP.config.set_auto_batch_epoch) - Auto-set batch_size to 32\n",
      "INFO - (NP.config.set_auto_batch_epoch) - Auto-set epochs to 167\n"
     ]
    },
    {
     "data": {
      "application/vnd.jupyter.widget-view+json": {
       "model_id": "8a8bfe6d680a439485c0fe69fe309df6",
       "version_major": 2,
       "version_minor": 0
      },
      "text/plain": [
       "  0%|          | 0/131 [00:00<?, ?it/s]"
      ]
     },
     "metadata": {},
     "output_type": "display_data"
    },
    {
     "name": "stderr",
     "output_type": "stream",
     "text": [
      "INFO - (NP.utils_torch.lr_range_test) - lr-range-test results: steep: 8.99E-02, min: 1.35E+00\n"
     ]
    },
    {
     "data": {
      "application/vnd.jupyter.widget-view+json": {
       "model_id": "3a8cbd4eb8744d369ef072877305aea4",
       "version_major": 2,
       "version_minor": 0
      },
      "text/plain": [
       "  0%|          | 0/131 [00:00<?, ?it/s]"
      ]
     },
     "metadata": {},
     "output_type": "display_data"
    },
    {
     "name": "stderr",
     "output_type": "stream",
     "text": [
      "INFO - (NP.utils_torch.lr_range_test) - lr-range-test results: steep: 1.05E-01, min: 1.15E+00\n",
      "INFO - (NP.forecaster._init_train_loader) - lr-range-test selected learning rate: 9.82E-02\n",
      "Epoch[167/167]: 100%|███████████| 167/167 [00:11<00:00, 14.10it/s, SmoothL1Loss=0.0121, MAE=4.06, RMSE=5.09, RegLoss=0]\n",
      "INFO - (NP.df_utils._infer_frequency) - Major frequency D corresponds to 99.939% of the data.\n",
      "INFO - (NP.df_utils._infer_frequency) - Defined frequency is equal to major frequency - D\n",
      "INFO - (NP.config.init_data_params) - Setting normalization to global as only one dataframe provided for training.\n",
      "INFO - (NP.utils.set_auto_seasonalities) - Disabling daily seasonality. Run NeuralProphet with daily_seasonality=True to override this.\n",
      "INFO - (NP.config.set_auto_batch_epoch) - Auto-set batch_size to 32\n",
      "INFO - (NP.config.set_auto_batch_epoch) - Auto-set epochs to 167\n"
     ]
    },
    {
     "data": {
      "application/vnd.jupyter.widget-view+json": {
       "model_id": "589791543dd5471e88593b5f9cf747f5",
       "version_major": 2,
       "version_minor": 0
      },
      "text/plain": [
       "  0%|          | 0/131 [00:00<?, ?it/s]"
      ]
     },
     "metadata": {},
     "output_type": "display_data"
    },
    {
     "name": "stderr",
     "output_type": "stream",
     "text": [
      "INFO - (NP.utils_torch.lr_range_test) - lr-range-test results: steep: 8.99E-02, min: 7.14E-01\n"
     ]
    },
    {
     "data": {
      "application/vnd.jupyter.widget-view+json": {
       "model_id": "1ddbbf999c3c449aa45540c2c772203e",
       "version_major": 2,
       "version_minor": 0
      },
      "text/plain": [
       "  0%|          | 0/131 [00:00<?, ?it/s]"
      ]
     },
     "metadata": {},
     "output_type": "display_data"
    },
    {
     "name": "stderr",
     "output_type": "stream",
     "text": [
      "INFO - (NP.utils_torch.lr_range_test) - lr-range-test results: steep: 8.99E-02, min: 1.15E+00\n",
      "INFO - (NP.forecaster._init_train_loader) - lr-range-test selected learning rate: 9.32E-02\n",
      "Epoch[167/167]: 100%|██████████| 167/167 [00:11<00:00, 14.22it/s, SmoothL1Loss=0.00741, MAE=6.48, RMSE=8.09, RegLoss=0]\n"
     ]
    }
   ],
   "source": [
    "dict_models = model_build_NP(dict_data)"
   ]
  },
  {
   "cell_type": "code",
   "execution_count": 130,
   "id": "cd0db79e",
   "metadata": {
    "ExecuteTime": {
     "end_time": "2022-12-30T10:22:39.530721Z",
     "start_time": "2022-12-30T10:22:39.513811Z"
    },
    "hidden": true,
    "scrolled": true
   },
   "outputs": [
    {
     "data": {
      "text/plain": [
       "{'sales_1': <neuralprophet.forecaster.NeuralProphet at 0x1fc23072070>,\n",
       " 'sales_2': <neuralprophet.forecaster.NeuralProphet at 0x1fc1bb9a910>,\n",
       " 'sales_3': <neuralprophet.forecaster.NeuralProphet at 0x1fc1cece340>,\n",
       " 'sales_4': <neuralprophet.forecaster.NeuralProphet at 0x1fc22d985e0>,\n",
       " 'sales_5': <neuralprophet.forecaster.NeuralProphet at 0x1fc23056970>,\n",
       " 'sales_6': <neuralprophet.forecaster.NeuralProphet at 0x1fc2307c220>,\n",
       " 'sales_7': <neuralprophet.forecaster.NeuralProphet at 0x1fc23057790>,\n",
       " 'sales_8': <neuralprophet.forecaster.NeuralProphet at 0x1fc2307ba90>,\n",
       " 'sales_9': <neuralprophet.forecaster.NeuralProphet at 0x1fc23087610>,\n",
       " 'sales_10': <neuralprophet.forecaster.NeuralProphet at 0x1fc23073ca0>,\n",
       " 'sales_11': <neuralprophet.forecaster.NeuralProphet at 0x1fc23019b50>,\n",
       " 'sales_12': <neuralprophet.forecaster.NeuralProphet at 0x1fc23073550>,\n",
       " 'sales_13': <neuralprophet.forecaster.NeuralProphet at 0x1fc2308aee0>,\n",
       " 'sales_14': <neuralprophet.forecaster.NeuralProphet at 0x1fc23076760>,\n",
       " 'sales_15': <neuralprophet.forecaster.NeuralProphet at 0x1fc203e9c10>,\n",
       " 'sales_16': <neuralprophet.forecaster.NeuralProphet at 0x1fc2285a430>,\n",
       " 'sales_17': <neuralprophet.forecaster.NeuralProphet at 0x1fc20c16bb0>,\n",
       " 'sales_18': <neuralprophet.forecaster.NeuralProphet at 0x1fc22f9c970>,\n",
       " 'sales_19': <neuralprophet.forecaster.NeuralProphet at 0x1fc230736d0>,\n",
       " 'sales_20': <neuralprophet.forecaster.NeuralProphet at 0x1fc230954c0>,\n",
       " 'sales_21': <neuralprophet.forecaster.NeuralProphet at 0x1fc22f10ca0>,\n",
       " 'sales_22': <neuralprophet.forecaster.NeuralProphet at 0x1fc2302edc0>,\n",
       " 'sales_23': <neuralprophet.forecaster.NeuralProphet at 0x1fc2306d4c0>,\n",
       " 'sales_24': <neuralprophet.forecaster.NeuralProphet at 0x1fc2307c250>,\n",
       " 'sales_25': <neuralprophet.forecaster.NeuralProphet at 0x1fc23063880>,\n",
       " 'sales_26': <neuralprophet.forecaster.NeuralProphet at 0x1fc23060f40>,\n",
       " 'sales_27': <neuralprophet.forecaster.NeuralProphet at 0x1fc2383e7c0>,\n",
       " 'sales_28': <neuralprophet.forecaster.NeuralProphet at 0x1fc2383ed30>,\n",
       " 'sales_29': <neuralprophet.forecaster.NeuralProphet at 0x1fc2388d520>,\n",
       " 'sales_30': <neuralprophet.forecaster.NeuralProphet at 0x1fc2384cdc0>,\n",
       " 'sales_31': <neuralprophet.forecaster.NeuralProphet at 0x1fc238e57c0>,\n",
       " 'sales_32': <neuralprophet.forecaster.NeuralProphet at 0x1fc238e5e50>,\n",
       " 'sales_33': <neuralprophet.forecaster.NeuralProphet at 0x1fc23921880>,\n",
       " 'sales_34': <neuralprophet.forecaster.NeuralProphet at 0x1fc2397d370>,\n",
       " 'sales_35': <neuralprophet.forecaster.NeuralProphet at 0x1fc1bd2e400>,\n",
       " 'sales_36': <neuralprophet.forecaster.NeuralProphet at 0x1fc203d2190>,\n",
       " 'sales_37': <neuralprophet.forecaster.NeuralProphet at 0x1fc2306e4c0>,\n",
       " 'sales_38': <neuralprophet.forecaster.NeuralProphet at 0x1fc238bb100>,\n",
       " 'sales_39': <neuralprophet.forecaster.NeuralProphet at 0x1fc239c24f0>,\n",
       " 'sales_40': <neuralprophet.forecaster.NeuralProphet at 0x1fc23971190>,\n",
       " 'sales_41': <neuralprophet.forecaster.NeuralProphet at 0x1fc23a503a0>,\n",
       " 'sales_42': <neuralprophet.forecaster.NeuralProphet at 0x1fc239a8d60>,\n",
       " 'sales_43': <neuralprophet.forecaster.NeuralProphet at 0x1fc239a8c10>,\n",
       " 'sales_44': <neuralprophet.forecaster.NeuralProphet at 0x1fc23a86cd0>,\n",
       " 'sales_45': <neuralprophet.forecaster.NeuralProphet at 0x1fc23a866a0>,\n",
       " 'sales_46': <neuralprophet.forecaster.NeuralProphet at 0x1fc23affca0>,\n",
       " 'sales_47': <neuralprophet.forecaster.NeuralProphet at 0x1fc23b2e520>,\n",
       " 'sales_48': <neuralprophet.forecaster.NeuralProphet at 0x1fc23b3ab20>,\n",
       " 'sales_49': <neuralprophet.forecaster.NeuralProphet at 0x1fc23b3ab50>,\n",
       " 'sales_50': <neuralprophet.forecaster.NeuralProphet at 0x1fc23b81730>}"
      ]
     },
     "execution_count": 130,
     "metadata": {},
     "output_type": "execute_result"
    }
   ],
   "source": [
    "dict_models"
   ]
  },
  {
   "cell_type": "markdown",
   "id": "708aa742",
   "metadata": {
    "hidden": true
   },
   "source": [
    "## phase 3 : model evaluation "
   ]
  },
  {
   "cell_type": "code",
   "execution_count": 181,
   "id": "0ccd3728",
   "metadata": {
    "ExecuteTime": {
     "end_time": "2022-12-30T11:57:14.051154Z",
     "start_time": "2022-12-30T11:57:14.027934Z"
    },
    "hidden": true
   },
   "outputs": [],
   "source": [
    "def eval_model(model, data):\n",
    "    \"\"\"using only train data\"\"\"\n",
    "    train = data[\"train\"]\n",
    "    test = data[\"test\"]\n",
    "    \n",
    "    train[\"date\"] = pd.to_datetime(train[\"date\"], format=\"%Y-%m-%d\") # date time formate\n",
    "    test[\"date\"] = pd.to_datetime(test[\"date\"], format=\"%Y-%m-%d\")\n",
    "    \n",
    "    eval_dict = {}\n",
    "    col_names = train.columns\n",
    "\n",
    "    for y_indx in range(1, len(train.columns)):\n",
    "        item_dict_eval = {}\n",
    "        for name,dat in data.items():\n",
    "            tsdf = dat.iloc[:, [0, y_indx]]\n",
    "            item_name = col_names[y_indx] # item key for model_dict\n",
    "\n",
    "            tsdf.columns = [\"ds\", \"y\"] # NP formate colums\n",
    "            # model pred and eval\n",
    "            npf = model[item_name]\n",
    "            pred = npf.predict(tsdf)\n",
    "            mape = mean_absolute_percentage_error(pred.iloc[:,1], pred.iloc[:,2]) # change with lag eg. lag 7 : pred.iloc[7:,1], pred.iloc[7:,2]\n",
    "            item_dict_eval[f\"MAPE_{name}\"] = mape\n",
    "        eval_dict[f\"{item_name}\"] = item_dict_eval\n",
    "    \"\"\"overall MAPE\"\"\" \n",
    "    avg_mape_train = []\n",
    "    avg_mape_test = []\n",
    "    for i in eval_dict.values():\n",
    "        avg_mape_train.append(i[\"MAPE_train\"])\n",
    "        avg_mape_test.append(i[\"MAPE_test\"]) \n",
    "    avg_mape_train = sum(avg_mape_train)/50 # 50 no of items\n",
    "    avg_mape_test = sum(avg_mape_test)/50 # 50 no of items\n",
    "    eval_dict[\"AVG_accuracy_Train\"] = 1 - avg_mape_train\n",
    "    eval_dict[\"AVG_accuracy_Test\"] = 1 - avg_mape_test   \n",
    "    return eval_dict\n",
    "    "
   ]
  },
  {
   "cell_type": "code",
   "execution_count": 182,
   "id": "981163bb",
   "metadata": {
    "ExecuteTime": {
     "end_time": "2022-12-30T11:57:19.420343Z",
     "start_time": "2022-12-30T11:57:15.052624Z"
    },
    "hidden": true
   },
   "outputs": [
    {
     "name": "stderr",
     "output_type": "stream",
     "text": [
      "INFO - (NP.df_utils._infer_frequency) - Major frequency D corresponds to 99.939% of the data.\n",
      "INFO - (NP.df_utils._infer_frequency) - Defined frequency is equal to major frequency - D\n",
      "INFO - (NP.df_utils._infer_frequency) - Major frequency D corresponds to 99.939% of the data.\n",
      "INFO - (NP.df_utils._infer_frequency) - Defined frequency is equal to major frequency - D\n",
      "INFO - (NP.df_utils._infer_frequency) - Major frequency D corresponds to 99.454% of the data.\n",
      "INFO - (NP.df_utils._infer_frequency) - Defined frequency is equal to major frequency - D\n",
      "INFO - (NP.df_utils._infer_frequency) - Major frequency D corresponds to 99.454% of the data.\n",
      "INFO - (NP.df_utils._infer_frequency) - Defined frequency is equal to major frequency - D\n",
      "INFO - (NP.df_utils._infer_frequency) - Major frequency D corresponds to 99.939% of the data.\n",
      "INFO - (NP.df_utils._infer_frequency) - Defined frequency is equal to major frequency - D\n",
      "INFO - (NP.df_utils._infer_frequency) - Major frequency D corresponds to 99.939% of the data.\n",
      "INFO - (NP.df_utils._infer_frequency) - Defined frequency is equal to major frequency - D\n",
      "INFO - (NP.df_utils._infer_frequency) - Major frequency D corresponds to 99.454% of the data.\n",
      "INFO - (NP.df_utils._infer_frequency) - Defined frequency is equal to major frequency - D\n",
      "INFO - (NP.df_utils._infer_frequency) - Major frequency D corresponds to 99.454% of the data.\n",
      "INFO - (NP.df_utils._infer_frequency) - Defined frequency is equal to major frequency - D\n",
      "INFO - (NP.df_utils._infer_frequency) - Major frequency D corresponds to 99.939% of the data.\n",
      "INFO - (NP.df_utils._infer_frequency) - Defined frequency is equal to major frequency - D\n",
      "INFO - (NP.df_utils._infer_frequency) - Major frequency D corresponds to 99.939% of the data.\n",
      "INFO - (NP.df_utils._infer_frequency) - Defined frequency is equal to major frequency - D\n",
      "INFO - (NP.df_utils._infer_frequency) - Major frequency D corresponds to 99.454% of the data.\n",
      "INFO - (NP.df_utils._infer_frequency) - Defined frequency is equal to major frequency - D\n",
      "INFO - (NP.df_utils._infer_frequency) - Major frequency D corresponds to 99.454% of the data.\n",
      "INFO - (NP.df_utils._infer_frequency) - Defined frequency is equal to major frequency - D\n",
      "INFO - (NP.df_utils._infer_frequency) - Major frequency D corresponds to 99.939% of the data.\n",
      "INFO - (NP.df_utils._infer_frequency) - Defined frequency is equal to major frequency - D\n",
      "INFO - (NP.df_utils._infer_frequency) - Major frequency D corresponds to 99.939% of the data.\n",
      "INFO - (NP.df_utils._infer_frequency) - Defined frequency is equal to major frequency - D\n",
      "INFO - (NP.df_utils._infer_frequency) - Major frequency D corresponds to 99.454% of the data.\n",
      "INFO - (NP.df_utils._infer_frequency) - Defined frequency is equal to major frequency - D\n",
      "INFO - (NP.df_utils._infer_frequency) - Major frequency D corresponds to 99.454% of the data.\n",
      "INFO - (NP.df_utils._infer_frequency) - Defined frequency is equal to major frequency - D\n",
      "INFO - (NP.df_utils._infer_frequency) - Major frequency D corresponds to 99.939% of the data.\n",
      "INFO - (NP.df_utils._infer_frequency) - Defined frequency is equal to major frequency - D\n",
      "INFO - (NP.df_utils._infer_frequency) - Major frequency D corresponds to 99.939% of the data.\n",
      "INFO - (NP.df_utils._infer_frequency) - Defined frequency is equal to major frequency - D\n",
      "INFO - (NP.df_utils._infer_frequency) - Major frequency D corresponds to 99.454% of the data.\n",
      "INFO - (NP.df_utils._infer_frequency) - Defined frequency is equal to major frequency - D\n",
      "INFO - (NP.df_utils._infer_frequency) - Major frequency D corresponds to 99.454% of the data.\n",
      "INFO - (NP.df_utils._infer_frequency) - Defined frequency is equal to major frequency - D\n",
      "INFO - (NP.df_utils._infer_frequency) - Major frequency D corresponds to 99.939% of the data.\n",
      "INFO - (NP.df_utils._infer_frequency) - Defined frequency is equal to major frequency - D\n",
      "INFO - (NP.df_utils._infer_frequency) - Major frequency D corresponds to 99.939% of the data.\n",
      "INFO - (NP.df_utils._infer_frequency) - Defined frequency is equal to major frequency - D\n",
      "INFO - (NP.df_utils._infer_frequency) - Major frequency D corresponds to 99.454% of the data.\n",
      "INFO - (NP.df_utils._infer_frequency) - Defined frequency is equal to major frequency - D\n",
      "INFO - (NP.df_utils._infer_frequency) - Major frequency D corresponds to 99.454% of the data.\n",
      "INFO - (NP.df_utils._infer_frequency) - Defined frequency is equal to major frequency - D\n",
      "INFO - (NP.df_utils._infer_frequency) - Major frequency D corresponds to 99.939% of the data.\n",
      "INFO - (NP.df_utils._infer_frequency) - Defined frequency is equal to major frequency - D\n",
      "INFO - (NP.df_utils._infer_frequency) - Major frequency D corresponds to 99.939% of the data.\n",
      "INFO - (NP.df_utils._infer_frequency) - Defined frequency is equal to major frequency - D\n",
      "INFO - (NP.df_utils._infer_frequency) - Major frequency D corresponds to 99.454% of the data.\n",
      "INFO - (NP.df_utils._infer_frequency) - Defined frequency is equal to major frequency - D\n",
      "INFO - (NP.df_utils._infer_frequency) - Major frequency D corresponds to 99.454% of the data.\n",
      "INFO - (NP.df_utils._infer_frequency) - Defined frequency is equal to major frequency - D\n",
      "INFO - (NP.df_utils._infer_frequency) - Major frequency D corresponds to 99.939% of the data.\n",
      "INFO - (NP.df_utils._infer_frequency) - Defined frequency is equal to major frequency - D\n",
      "INFO - (NP.df_utils._infer_frequency) - Major frequency D corresponds to 99.939% of the data.\n",
      "INFO - (NP.df_utils._infer_frequency) - Defined frequency is equal to major frequency - D\n",
      "INFO - (NP.df_utils._infer_frequency) - Major frequency D corresponds to 99.454% of the data.\n",
      "INFO - (NP.df_utils._infer_frequency) - Defined frequency is equal to major frequency - D\n",
      "INFO - (NP.df_utils._infer_frequency) - Major frequency D corresponds to 99.454% of the data.\n",
      "INFO - (NP.df_utils._infer_frequency) - Defined frequency is equal to major frequency - D\n",
      "INFO - (NP.df_utils._infer_frequency) - Major frequency D corresponds to 99.939% of the data.\n",
      "INFO - (NP.df_utils._infer_frequency) - Defined frequency is equal to major frequency - D\n",
      "INFO - (NP.df_utils._infer_frequency) - Major frequency D corresponds to 99.939% of the data.\n",
      "INFO - (NP.df_utils._infer_frequency) - Defined frequency is equal to major frequency - D\n",
      "INFO - (NP.df_utils._infer_frequency) - Major frequency D corresponds to 99.454% of the data.\n",
      "INFO - (NP.df_utils._infer_frequency) - Defined frequency is equal to major frequency - D\n",
      "INFO - (NP.df_utils._infer_frequency) - Major frequency D corresponds to 99.454% of the data.\n",
      "INFO - (NP.df_utils._infer_frequency) - Defined frequency is equal to major frequency - D\n",
      "INFO - (NP.df_utils._infer_frequency) - Major frequency D corresponds to 99.939% of the data.\n",
      "INFO - (NP.df_utils._infer_frequency) - Defined frequency is equal to major frequency - D\n",
      "INFO - (NP.df_utils._infer_frequency) - Major frequency D corresponds to 99.939% of the data.\n",
      "INFO - (NP.df_utils._infer_frequency) - Defined frequency is equal to major frequency - D\n",
      "INFO - (NP.df_utils._infer_frequency) - Major frequency D corresponds to 99.454% of the data.\n",
      "INFO - (NP.df_utils._infer_frequency) - Defined frequency is equal to major frequency - D\n",
      "INFO - (NP.df_utils._infer_frequency) - Major frequency D corresponds to 99.454% of the data.\n",
      "INFO - (NP.df_utils._infer_frequency) - Defined frequency is equal to major frequency - D\n",
      "INFO - (NP.df_utils._infer_frequency) - Major frequency D corresponds to 99.939% of the data.\n",
      "INFO - (NP.df_utils._infer_frequency) - Defined frequency is equal to major frequency - D\n",
      "INFO - (NP.df_utils._infer_frequency) - Major frequency D corresponds to 99.939% of the data.\n",
      "INFO - (NP.df_utils._infer_frequency) - Defined frequency is equal to major frequency - D\n",
      "INFO - (NP.df_utils._infer_frequency) - Major frequency D corresponds to 99.454% of the data.\n",
      "INFO - (NP.df_utils._infer_frequency) - Defined frequency is equal to major frequency - D\n",
      "INFO - (NP.df_utils._infer_frequency) - Major frequency D corresponds to 99.454% of the data.\n",
      "INFO - (NP.df_utils._infer_frequency) - Defined frequency is equal to major frequency - D\n",
      "INFO - (NP.df_utils._infer_frequency) - Major frequency D corresponds to 99.939% of the data.\n",
      "INFO - (NP.df_utils._infer_frequency) - Defined frequency is equal to major frequency - D\n"
     ]
    },
    {
     "name": "stderr",
     "output_type": "stream",
     "text": [
      "INFO - (NP.df_utils._infer_frequency) - Major frequency D corresponds to 99.939% of the data.\n",
      "INFO - (NP.df_utils._infer_frequency) - Defined frequency is equal to major frequency - D\n",
      "INFO - (NP.df_utils._infer_frequency) - Major frequency D corresponds to 99.454% of the data.\n",
      "INFO - (NP.df_utils._infer_frequency) - Defined frequency is equal to major frequency - D\n",
      "INFO - (NP.df_utils._infer_frequency) - Major frequency D corresponds to 99.454% of the data.\n",
      "INFO - (NP.df_utils._infer_frequency) - Defined frequency is equal to major frequency - D\n",
      "INFO - (NP.df_utils._infer_frequency) - Major frequency D corresponds to 99.939% of the data.\n",
      "INFO - (NP.df_utils._infer_frequency) - Defined frequency is equal to major frequency - D\n",
      "INFO - (NP.df_utils._infer_frequency) - Major frequency D corresponds to 99.939% of the data.\n",
      "INFO - (NP.df_utils._infer_frequency) - Defined frequency is equal to major frequency - D\n",
      "INFO - (NP.df_utils._infer_frequency) - Major frequency D corresponds to 99.454% of the data.\n",
      "INFO - (NP.df_utils._infer_frequency) - Defined frequency is equal to major frequency - D\n",
      "INFO - (NP.df_utils._infer_frequency) - Major frequency D corresponds to 99.454% of the data.\n",
      "INFO - (NP.df_utils._infer_frequency) - Defined frequency is equal to major frequency - D\n",
      "INFO - (NP.df_utils._infer_frequency) - Major frequency D corresponds to 99.939% of the data.\n",
      "INFO - (NP.df_utils._infer_frequency) - Defined frequency is equal to major frequency - D\n",
      "INFO - (NP.df_utils._infer_frequency) - Major frequency D corresponds to 99.939% of the data.\n",
      "INFO - (NP.df_utils._infer_frequency) - Defined frequency is equal to major frequency - D\n",
      "INFO - (NP.df_utils._infer_frequency) - Major frequency D corresponds to 99.454% of the data.\n",
      "INFO - (NP.df_utils._infer_frequency) - Defined frequency is equal to major frequency - D\n",
      "INFO - (NP.df_utils._infer_frequency) - Major frequency D corresponds to 99.454% of the data.\n",
      "INFO - (NP.df_utils._infer_frequency) - Defined frequency is equal to major frequency - D\n",
      "INFO - (NP.df_utils._infer_frequency) - Major frequency D corresponds to 99.939% of the data.\n",
      "INFO - (NP.df_utils._infer_frequency) - Defined frequency is equal to major frequency - D\n",
      "INFO - (NP.df_utils._infer_frequency) - Major frequency D corresponds to 99.939% of the data.\n",
      "INFO - (NP.df_utils._infer_frequency) - Defined frequency is equal to major frequency - D\n",
      "INFO - (NP.df_utils._infer_frequency) - Major frequency D corresponds to 99.454% of the data.\n",
      "INFO - (NP.df_utils._infer_frequency) - Defined frequency is equal to major frequency - D\n",
      "INFO - (NP.df_utils._infer_frequency) - Major frequency D corresponds to 99.454% of the data.\n",
      "INFO - (NP.df_utils._infer_frequency) - Defined frequency is equal to major frequency - D\n",
      "INFO - (NP.df_utils._infer_frequency) - Major frequency D corresponds to 99.939% of the data.\n",
      "INFO - (NP.df_utils._infer_frequency) - Defined frequency is equal to major frequency - D\n",
      "INFO - (NP.df_utils._infer_frequency) - Major frequency D corresponds to 99.939% of the data.\n",
      "INFO - (NP.df_utils._infer_frequency) - Defined frequency is equal to major frequency - D\n",
      "INFO - (NP.df_utils._infer_frequency) - Major frequency D corresponds to 99.454% of the data.\n",
      "INFO - (NP.df_utils._infer_frequency) - Defined frequency is equal to major frequency - D\n",
      "INFO - (NP.df_utils._infer_frequency) - Major frequency D corresponds to 99.454% of the data.\n",
      "INFO - (NP.df_utils._infer_frequency) - Defined frequency is equal to major frequency - D\n",
      "INFO - (NP.df_utils._infer_frequency) - Major frequency D corresponds to 99.939% of the data.\n",
      "INFO - (NP.df_utils._infer_frequency) - Defined frequency is equal to major frequency - D\n",
      "INFO - (NP.df_utils._infer_frequency) - Major frequency D corresponds to 99.939% of the data.\n",
      "INFO - (NP.df_utils._infer_frequency) - Defined frequency is equal to major frequency - D\n",
      "INFO - (NP.df_utils._infer_frequency) - Major frequency D corresponds to 99.454% of the data.\n",
      "INFO - (NP.df_utils._infer_frequency) - Defined frequency is equal to major frequency - D\n",
      "INFO - (NP.df_utils._infer_frequency) - Major frequency D corresponds to 99.454% of the data.\n",
      "INFO - (NP.df_utils._infer_frequency) - Defined frequency is equal to major frequency - D\n",
      "INFO - (NP.df_utils._infer_frequency) - Major frequency D corresponds to 99.939% of the data.\n",
      "INFO - (NP.df_utils._infer_frequency) - Defined frequency is equal to major frequency - D\n",
      "INFO - (NP.df_utils._infer_frequency) - Major frequency D corresponds to 99.939% of the data.\n",
      "INFO - (NP.df_utils._infer_frequency) - Defined frequency is equal to major frequency - D\n",
      "INFO - (NP.df_utils._infer_frequency) - Major frequency D corresponds to 99.454% of the data.\n",
      "INFO - (NP.df_utils._infer_frequency) - Defined frequency is equal to major frequency - D\n",
      "INFO - (NP.df_utils._infer_frequency) - Major frequency D corresponds to 99.454% of the data.\n",
      "INFO - (NP.df_utils._infer_frequency) - Defined frequency is equal to major frequency - D\n",
      "INFO - (NP.df_utils._infer_frequency) - Major frequency D corresponds to 99.939% of the data.\n",
      "INFO - (NP.df_utils._infer_frequency) - Defined frequency is equal to major frequency - D\n",
      "INFO - (NP.df_utils._infer_frequency) - Major frequency D corresponds to 99.939% of the data.\n",
      "INFO - (NP.df_utils._infer_frequency) - Defined frequency is equal to major frequency - D\n",
      "INFO - (NP.df_utils._infer_frequency) - Major frequency D corresponds to 99.454% of the data.\n",
      "INFO - (NP.df_utils._infer_frequency) - Defined frequency is equal to major frequency - D\n",
      "INFO - (NP.df_utils._infer_frequency) - Major frequency D corresponds to 99.454% of the data.\n",
      "INFO - (NP.df_utils._infer_frequency) - Defined frequency is equal to major frequency - D\n",
      "INFO - (NP.df_utils._infer_frequency) - Major frequency D corresponds to 99.939% of the data.\n",
      "INFO - (NP.df_utils._infer_frequency) - Defined frequency is equal to major frequency - D\n",
      "INFO - (NP.df_utils._infer_frequency) - Major frequency D corresponds to 99.939% of the data.\n",
      "INFO - (NP.df_utils._infer_frequency) - Defined frequency is equal to major frequency - D\n",
      "INFO - (NP.df_utils._infer_frequency) - Major frequency D corresponds to 99.454% of the data.\n",
      "INFO - (NP.df_utils._infer_frequency) - Defined frequency is equal to major frequency - D\n",
      "INFO - (NP.df_utils._infer_frequency) - Major frequency D corresponds to 99.454% of the data.\n",
      "INFO - (NP.df_utils._infer_frequency) - Defined frequency is equal to major frequency - D\n",
      "INFO - (NP.df_utils._infer_frequency) - Major frequency D corresponds to 99.939% of the data.\n",
      "INFO - (NP.df_utils._infer_frequency) - Defined frequency is equal to major frequency - D\n",
      "INFO - (NP.df_utils._infer_frequency) - Major frequency D corresponds to 99.939% of the data.\n",
      "INFO - (NP.df_utils._infer_frequency) - Defined frequency is equal to major frequency - D\n",
      "INFO - (NP.df_utils._infer_frequency) - Major frequency D corresponds to 99.454% of the data.\n",
      "INFO - (NP.df_utils._infer_frequency) - Defined frequency is equal to major frequency - D\n",
      "INFO - (NP.df_utils._infer_frequency) - Major frequency D corresponds to 99.454% of the data.\n",
      "INFO - (NP.df_utils._infer_frequency) - Defined frequency is equal to major frequency - D\n",
      "INFO - (NP.df_utils._infer_frequency) - Major frequency D corresponds to 99.939% of the data.\n",
      "INFO - (NP.df_utils._infer_frequency) - Defined frequency is equal to major frequency - D\n",
      "INFO - (NP.df_utils._infer_frequency) - Major frequency D corresponds to 99.939% of the data.\n",
      "INFO - (NP.df_utils._infer_frequency) - Defined frequency is equal to major frequency - D\n",
      "INFO - (NP.df_utils._infer_frequency) - Major frequency D corresponds to 99.454% of the data.\n",
      "INFO - (NP.df_utils._infer_frequency) - Defined frequency is equal to major frequency - D\n",
      "INFO - (NP.df_utils._infer_frequency) - Major frequency D corresponds to 99.454% of the data.\n",
      "INFO - (NP.df_utils._infer_frequency) - Defined frequency is equal to major frequency - D\n",
      "INFO - (NP.df_utils._infer_frequency) - Major frequency D corresponds to 99.939% of the data.\n",
      "INFO - (NP.df_utils._infer_frequency) - Defined frequency is equal to major frequency - D\n",
      "INFO - (NP.df_utils._infer_frequency) - Major frequency D corresponds to 99.939% of the data.\n",
      "INFO - (NP.df_utils._infer_frequency) - Defined frequency is equal to major frequency - D\n"
     ]
    },
    {
     "name": "stderr",
     "output_type": "stream",
     "text": [
      "INFO - (NP.df_utils._infer_frequency) - Major frequency D corresponds to 99.454% of the data.\n",
      "INFO - (NP.df_utils._infer_frequency) - Defined frequency is equal to major frequency - D\n",
      "INFO - (NP.df_utils._infer_frequency) - Major frequency D corresponds to 99.454% of the data.\n",
      "INFO - (NP.df_utils._infer_frequency) - Defined frequency is equal to major frequency - D\n",
      "INFO - (NP.df_utils._infer_frequency) - Major frequency D corresponds to 99.939% of the data.\n",
      "INFO - (NP.df_utils._infer_frequency) - Defined frequency is equal to major frequency - D\n",
      "INFO - (NP.df_utils._infer_frequency) - Major frequency D corresponds to 99.939% of the data.\n",
      "INFO - (NP.df_utils._infer_frequency) - Defined frequency is equal to major frequency - D\n",
      "INFO - (NP.df_utils._infer_frequency) - Major frequency D corresponds to 99.454% of the data.\n",
      "INFO - (NP.df_utils._infer_frequency) - Defined frequency is equal to major frequency - D\n",
      "INFO - (NP.df_utils._infer_frequency) - Major frequency D corresponds to 99.454% of the data.\n",
      "INFO - (NP.df_utils._infer_frequency) - Defined frequency is equal to major frequency - D\n",
      "INFO - (NP.df_utils._infer_frequency) - Major frequency D corresponds to 99.939% of the data.\n",
      "INFO - (NP.df_utils._infer_frequency) - Defined frequency is equal to major frequency - D\n",
      "INFO - (NP.df_utils._infer_frequency) - Major frequency D corresponds to 99.939% of the data.\n",
      "INFO - (NP.df_utils._infer_frequency) - Defined frequency is equal to major frequency - D\n",
      "INFO - (NP.df_utils._infer_frequency) - Major frequency D corresponds to 99.454% of the data.\n",
      "INFO - (NP.df_utils._infer_frequency) - Defined frequency is equal to major frequency - D\n",
      "INFO - (NP.df_utils._infer_frequency) - Major frequency D corresponds to 99.454% of the data.\n",
      "INFO - (NP.df_utils._infer_frequency) - Defined frequency is equal to major frequency - D\n",
      "INFO - (NP.df_utils._infer_frequency) - Major frequency D corresponds to 99.939% of the data.\n",
      "INFO - (NP.df_utils._infer_frequency) - Defined frequency is equal to major frequency - D\n",
      "INFO - (NP.df_utils._infer_frequency) - Major frequency D corresponds to 99.939% of the data.\n",
      "INFO - (NP.df_utils._infer_frequency) - Defined frequency is equal to major frequency - D\n",
      "INFO - (NP.df_utils._infer_frequency) - Major frequency D corresponds to 99.454% of the data.\n",
      "INFO - (NP.df_utils._infer_frequency) - Defined frequency is equal to major frequency - D\n",
      "INFO - (NP.df_utils._infer_frequency) - Major frequency D corresponds to 99.454% of the data.\n",
      "INFO - (NP.df_utils._infer_frequency) - Defined frequency is equal to major frequency - D\n",
      "INFO - (NP.df_utils._infer_frequency) - Major frequency D corresponds to 99.939% of the data.\n",
      "INFO - (NP.df_utils._infer_frequency) - Defined frequency is equal to major frequency - D\n",
      "INFO - (NP.df_utils._infer_frequency) - Major frequency D corresponds to 99.939% of the data.\n",
      "INFO - (NP.df_utils._infer_frequency) - Defined frequency is equal to major frequency - D\n",
      "INFO - (NP.df_utils._infer_frequency) - Major frequency D corresponds to 99.454% of the data.\n",
      "INFO - (NP.df_utils._infer_frequency) - Defined frequency is equal to major frequency - D\n",
      "INFO - (NP.df_utils._infer_frequency) - Major frequency D corresponds to 99.454% of the data.\n",
      "INFO - (NP.df_utils._infer_frequency) - Defined frequency is equal to major frequency - D\n",
      "INFO - (NP.df_utils._infer_frequency) - Major frequency D corresponds to 99.939% of the data.\n",
      "INFO - (NP.df_utils._infer_frequency) - Defined frequency is equal to major frequency - D\n",
      "INFO - (NP.df_utils._infer_frequency) - Major frequency D corresponds to 99.939% of the data.\n",
      "INFO - (NP.df_utils._infer_frequency) - Defined frequency is equal to major frequency - D\n",
      "INFO - (NP.df_utils._infer_frequency) - Major frequency D corresponds to 99.454% of the data.\n",
      "INFO - (NP.df_utils._infer_frequency) - Defined frequency is equal to major frequency - D\n",
      "INFO - (NP.df_utils._infer_frequency) - Major frequency D corresponds to 99.454% of the data.\n",
      "INFO - (NP.df_utils._infer_frequency) - Defined frequency is equal to major frequency - D\n",
      "INFO - (NP.df_utils._infer_frequency) - Major frequency D corresponds to 99.939% of the data.\n",
      "INFO - (NP.df_utils._infer_frequency) - Defined frequency is equal to major frequency - D\n",
      "INFO - (NP.df_utils._infer_frequency) - Major frequency D corresponds to 99.939% of the data.\n",
      "INFO - (NP.df_utils._infer_frequency) - Defined frequency is equal to major frequency - D\n",
      "INFO - (NP.df_utils._infer_frequency) - Major frequency D corresponds to 99.454% of the data.\n",
      "INFO - (NP.df_utils._infer_frequency) - Defined frequency is equal to major frequency - D\n",
      "INFO - (NP.df_utils._infer_frequency) - Major frequency D corresponds to 99.454% of the data.\n",
      "INFO - (NP.df_utils._infer_frequency) - Defined frequency is equal to major frequency - D\n",
      "INFO - (NP.df_utils._infer_frequency) - Major frequency D corresponds to 99.939% of the data.\n",
      "INFO - (NP.df_utils._infer_frequency) - Defined frequency is equal to major frequency - D\n",
      "INFO - (NP.df_utils._infer_frequency) - Major frequency D corresponds to 99.939% of the data.\n",
      "INFO - (NP.df_utils._infer_frequency) - Defined frequency is equal to major frequency - D\n",
      "INFO - (NP.df_utils._infer_frequency) - Major frequency D corresponds to 99.454% of the data.\n",
      "INFO - (NP.df_utils._infer_frequency) - Defined frequency is equal to major frequency - D\n",
      "INFO - (NP.df_utils._infer_frequency) - Major frequency D corresponds to 99.454% of the data.\n",
      "INFO - (NP.df_utils._infer_frequency) - Defined frequency is equal to major frequency - D\n",
      "INFO - (NP.df_utils._infer_frequency) - Major frequency D corresponds to 99.939% of the data.\n",
      "INFO - (NP.df_utils._infer_frequency) - Defined frequency is equal to major frequency - D\n",
      "INFO - (NP.df_utils._infer_frequency) - Major frequency D corresponds to 99.939% of the data.\n",
      "INFO - (NP.df_utils._infer_frequency) - Defined frequency is equal to major frequency - D\n",
      "INFO - (NP.df_utils._infer_frequency) - Major frequency D corresponds to 99.454% of the data.\n",
      "INFO - (NP.df_utils._infer_frequency) - Defined frequency is equal to major frequency - D\n",
      "INFO - (NP.df_utils._infer_frequency) - Major frequency D corresponds to 99.454% of the data.\n",
      "INFO - (NP.df_utils._infer_frequency) - Defined frequency is equal to major frequency - D\n",
      "INFO - (NP.df_utils._infer_frequency) - Major frequency D corresponds to 99.939% of the data.\n",
      "INFO - (NP.df_utils._infer_frequency) - Defined frequency is equal to major frequency - D\n",
      "INFO - (NP.df_utils._infer_frequency) - Major frequency D corresponds to 99.939% of the data.\n",
      "INFO - (NP.df_utils._infer_frequency) - Defined frequency is equal to major frequency - D\n",
      "INFO - (NP.df_utils._infer_frequency) - Major frequency D corresponds to 99.454% of the data.\n",
      "INFO - (NP.df_utils._infer_frequency) - Defined frequency is equal to major frequency - D\n",
      "INFO - (NP.df_utils._infer_frequency) - Major frequency D corresponds to 99.454% of the data.\n",
      "INFO - (NP.df_utils._infer_frequency) - Defined frequency is equal to major frequency - D\n",
      "INFO - (NP.df_utils._infer_frequency) - Major frequency D corresponds to 99.939% of the data.\n",
      "INFO - (NP.df_utils._infer_frequency) - Defined frequency is equal to major frequency - D\n",
      "INFO - (NP.df_utils._infer_frequency) - Major frequency D corresponds to 99.939% of the data.\n",
      "INFO - (NP.df_utils._infer_frequency) - Defined frequency is equal to major frequency - D\n",
      "INFO - (NP.df_utils._infer_frequency) - Major frequency D corresponds to 99.454% of the data.\n",
      "INFO - (NP.df_utils._infer_frequency) - Defined frequency is equal to major frequency - D\n",
      "INFO - (NP.df_utils._infer_frequency) - Major frequency D corresponds to 99.454% of the data.\n",
      "INFO - (NP.df_utils._infer_frequency) - Defined frequency is equal to major frequency - D\n",
      "INFO - (NP.df_utils._infer_frequency) - Major frequency D corresponds to 99.939% of the data.\n",
      "INFO - (NP.df_utils._infer_frequency) - Defined frequency is equal to major frequency - D\n",
      "INFO - (NP.df_utils._infer_frequency) - Major frequency D corresponds to 99.939% of the data.\n",
      "INFO - (NP.df_utils._infer_frequency) - Defined frequency is equal to major frequency - D\n",
      "INFO - (NP.df_utils._infer_frequency) - Major frequency D corresponds to 99.454% of the data.\n",
      "INFO - (NP.df_utils._infer_frequency) - Defined frequency is equal to major frequency - D\n"
     ]
    },
    {
     "name": "stderr",
     "output_type": "stream",
     "text": [
      "INFO - (NP.df_utils._infer_frequency) - Major frequency D corresponds to 99.454% of the data.\n",
      "INFO - (NP.df_utils._infer_frequency) - Defined frequency is equal to major frequency - D\n",
      "INFO - (NP.df_utils._infer_frequency) - Major frequency D corresponds to 99.939% of the data.\n",
      "INFO - (NP.df_utils._infer_frequency) - Defined frequency is equal to major frequency - D\n",
      "INFO - (NP.df_utils._infer_frequency) - Major frequency D corresponds to 99.939% of the data.\n",
      "INFO - (NP.df_utils._infer_frequency) - Defined frequency is equal to major frequency - D\n",
      "INFO - (NP.df_utils._infer_frequency) - Major frequency D corresponds to 99.454% of the data.\n",
      "INFO - (NP.df_utils._infer_frequency) - Defined frequency is equal to major frequency - D\n",
      "INFO - (NP.df_utils._infer_frequency) - Major frequency D corresponds to 99.454% of the data.\n",
      "INFO - (NP.df_utils._infer_frequency) - Defined frequency is equal to major frequency - D\n",
      "INFO - (NP.df_utils._infer_frequency) - Major frequency D corresponds to 99.939% of the data.\n",
      "INFO - (NP.df_utils._infer_frequency) - Defined frequency is equal to major frequency - D\n",
      "INFO - (NP.df_utils._infer_frequency) - Major frequency D corresponds to 99.939% of the data.\n",
      "INFO - (NP.df_utils._infer_frequency) - Defined frequency is equal to major frequency - D\n",
      "INFO - (NP.df_utils._infer_frequency) - Major frequency D corresponds to 99.454% of the data.\n",
      "INFO - (NP.df_utils._infer_frequency) - Defined frequency is equal to major frequency - D\n",
      "INFO - (NP.df_utils._infer_frequency) - Major frequency D corresponds to 99.454% of the data.\n",
      "INFO - (NP.df_utils._infer_frequency) - Defined frequency is equal to major frequency - D\n",
      "INFO - (NP.df_utils._infer_frequency) - Major frequency D corresponds to 99.939% of the data.\n",
      "INFO - (NP.df_utils._infer_frequency) - Defined frequency is equal to major frequency - D\n",
      "INFO - (NP.df_utils._infer_frequency) - Major frequency D corresponds to 99.939% of the data.\n",
      "INFO - (NP.df_utils._infer_frequency) - Defined frequency is equal to major frequency - D\n",
      "INFO - (NP.df_utils._infer_frequency) - Major frequency D corresponds to 99.454% of the data.\n",
      "INFO - (NP.df_utils._infer_frequency) - Defined frequency is equal to major frequency - D\n",
      "INFO - (NP.df_utils._infer_frequency) - Major frequency D corresponds to 99.454% of the data.\n",
      "INFO - (NP.df_utils._infer_frequency) - Defined frequency is equal to major frequency - D\n",
      "INFO - (NP.df_utils._infer_frequency) - Major frequency D corresponds to 99.939% of the data.\n",
      "INFO - (NP.df_utils._infer_frequency) - Defined frequency is equal to major frequency - D\n",
      "INFO - (NP.df_utils._infer_frequency) - Major frequency D corresponds to 99.939% of the data.\n",
      "INFO - (NP.df_utils._infer_frequency) - Defined frequency is equal to major frequency - D\n",
      "INFO - (NP.df_utils._infer_frequency) - Major frequency D corresponds to 99.454% of the data.\n",
      "INFO - (NP.df_utils._infer_frequency) - Defined frequency is equal to major frequency - D\n",
      "INFO - (NP.df_utils._infer_frequency) - Major frequency D corresponds to 99.454% of the data.\n",
      "INFO - (NP.df_utils._infer_frequency) - Defined frequency is equal to major frequency - D\n",
      "INFO - (NP.df_utils._infer_frequency) - Major frequency D corresponds to 99.939% of the data.\n",
      "INFO - (NP.df_utils._infer_frequency) - Defined frequency is equal to major frequency - D\n",
      "INFO - (NP.df_utils._infer_frequency) - Major frequency D corresponds to 99.939% of the data.\n",
      "INFO - (NP.df_utils._infer_frequency) - Defined frequency is equal to major frequency - D\n",
      "INFO - (NP.df_utils._infer_frequency) - Major frequency D corresponds to 99.454% of the data.\n",
      "INFO - (NP.df_utils._infer_frequency) - Defined frequency is equal to major frequency - D\n",
      "INFO - (NP.df_utils._infer_frequency) - Major frequency D corresponds to 99.454% of the data.\n",
      "INFO - (NP.df_utils._infer_frequency) - Defined frequency is equal to major frequency - D\n",
      "INFO - (NP.df_utils._infer_frequency) - Major frequency D corresponds to 99.939% of the data.\n",
      "INFO - (NP.df_utils._infer_frequency) - Defined frequency is equal to major frequency - D\n",
      "INFO - (NP.df_utils._infer_frequency) - Major frequency D corresponds to 99.939% of the data.\n",
      "INFO - (NP.df_utils._infer_frequency) - Defined frequency is equal to major frequency - D\n",
      "INFO - (NP.df_utils._infer_frequency) - Major frequency D corresponds to 99.454% of the data.\n",
      "INFO - (NP.df_utils._infer_frequency) - Defined frequency is equal to major frequency - D\n",
      "INFO - (NP.df_utils._infer_frequency) - Major frequency D corresponds to 99.454% of the data.\n",
      "INFO - (NP.df_utils._infer_frequency) - Defined frequency is equal to major frequency - D\n",
      "INFO - (NP.df_utils._infer_frequency) - Major frequency D corresponds to 99.939% of the data.\n",
      "INFO - (NP.df_utils._infer_frequency) - Defined frequency is equal to major frequency - D\n",
      "INFO - (NP.df_utils._infer_frequency) - Major frequency D corresponds to 99.939% of the data.\n",
      "INFO - (NP.df_utils._infer_frequency) - Defined frequency is equal to major frequency - D\n",
      "INFO - (NP.df_utils._infer_frequency) - Major frequency D corresponds to 99.454% of the data.\n",
      "INFO - (NP.df_utils._infer_frequency) - Defined frequency is equal to major frequency - D\n",
      "INFO - (NP.df_utils._infer_frequency) - Major frequency D corresponds to 99.454% of the data.\n",
      "INFO - (NP.df_utils._infer_frequency) - Defined frequency is equal to major frequency - D\n",
      "INFO - (NP.df_utils._infer_frequency) - Major frequency D corresponds to 99.939% of the data.\n",
      "INFO - (NP.df_utils._infer_frequency) - Defined frequency is equal to major frequency - D\n",
      "INFO - (NP.df_utils._infer_frequency) - Major frequency D corresponds to 99.939% of the data.\n",
      "INFO - (NP.df_utils._infer_frequency) - Defined frequency is equal to major frequency - D\n",
      "INFO - (NP.df_utils._infer_frequency) - Major frequency D corresponds to 99.454% of the data.\n",
      "INFO - (NP.df_utils._infer_frequency) - Defined frequency is equal to major frequency - D\n",
      "INFO - (NP.df_utils._infer_frequency) - Major frequency D corresponds to 99.454% of the data.\n",
      "INFO - (NP.df_utils._infer_frequency) - Defined frequency is equal to major frequency - D\n",
      "INFO - (NP.df_utils._infer_frequency) - Major frequency D corresponds to 99.939% of the data.\n",
      "INFO - (NP.df_utils._infer_frequency) - Defined frequency is equal to major frequency - D\n",
      "INFO - (NP.df_utils._infer_frequency) - Major frequency D corresponds to 99.939% of the data.\n",
      "INFO - (NP.df_utils._infer_frequency) - Defined frequency is equal to major frequency - D\n",
      "INFO - (NP.df_utils._infer_frequency) - Major frequency D corresponds to 99.454% of the data.\n",
      "INFO - (NP.df_utils._infer_frequency) - Defined frequency is equal to major frequency - D\n",
      "INFO - (NP.df_utils._infer_frequency) - Major frequency D corresponds to 99.454% of the data.\n",
      "INFO - (NP.df_utils._infer_frequency) - Defined frequency is equal to major frequency - D\n",
      "INFO - (NP.df_utils._infer_frequency) - Major frequency D corresponds to 99.939% of the data.\n",
      "INFO - (NP.df_utils._infer_frequency) - Defined frequency is equal to major frequency - D\n",
      "INFO - (NP.df_utils._infer_frequency) - Major frequency D corresponds to 99.939% of the data.\n",
      "INFO - (NP.df_utils._infer_frequency) - Defined frequency is equal to major frequency - D\n",
      "INFO - (NP.df_utils._infer_frequency) - Major frequency D corresponds to 99.454% of the data.\n",
      "INFO - (NP.df_utils._infer_frequency) - Defined frequency is equal to major frequency - D\n",
      "INFO - (NP.df_utils._infer_frequency) - Major frequency D corresponds to 99.454% of the data.\n",
      "INFO - (NP.df_utils._infer_frequency) - Defined frequency is equal to major frequency - D\n",
      "INFO - (NP.df_utils._infer_frequency) - Major frequency D corresponds to 99.939% of the data.\n",
      "INFO - (NP.df_utils._infer_frequency) - Defined frequency is equal to major frequency - D\n",
      "INFO - (NP.df_utils._infer_frequency) - Major frequency D corresponds to 99.939% of the data.\n",
      "INFO - (NP.df_utils._infer_frequency) - Defined frequency is equal to major frequency - D\n",
      "INFO - (NP.df_utils._infer_frequency) - Major frequency D corresponds to 99.454% of the data.\n",
      "INFO - (NP.df_utils._infer_frequency) - Defined frequency is equal to major frequency - D\n",
      "INFO - (NP.df_utils._infer_frequency) - Major frequency D corresponds to 99.454% of the data.\n",
      "INFO - (NP.df_utils._infer_frequency) - Defined frequency is equal to major frequency - D\n"
     ]
    },
    {
     "name": "stderr",
     "output_type": "stream",
     "text": [
      "INFO - (NP.df_utils._infer_frequency) - Major frequency D corresponds to 99.939% of the data.\n",
      "INFO - (NP.df_utils._infer_frequency) - Defined frequency is equal to major frequency - D\n",
      "INFO - (NP.df_utils._infer_frequency) - Major frequency D corresponds to 99.939% of the data.\n",
      "INFO - (NP.df_utils._infer_frequency) - Defined frequency is equal to major frequency - D\n",
      "INFO - (NP.df_utils._infer_frequency) - Major frequency D corresponds to 99.454% of the data.\n",
      "INFO - (NP.df_utils._infer_frequency) - Defined frequency is equal to major frequency - D\n",
      "INFO - (NP.df_utils._infer_frequency) - Major frequency D corresponds to 99.454% of the data.\n",
      "INFO - (NP.df_utils._infer_frequency) - Defined frequency is equal to major frequency - D\n",
      "INFO - (NP.df_utils._infer_frequency) - Major frequency D corresponds to 99.939% of the data.\n",
      "INFO - (NP.df_utils._infer_frequency) - Defined frequency is equal to major frequency - D\n",
      "INFO - (NP.df_utils._infer_frequency) - Major frequency D corresponds to 99.939% of the data.\n",
      "INFO - (NP.df_utils._infer_frequency) - Defined frequency is equal to major frequency - D\n",
      "INFO - (NP.df_utils._infer_frequency) - Major frequency D corresponds to 99.454% of the data.\n",
      "INFO - (NP.df_utils._infer_frequency) - Defined frequency is equal to major frequency - D\n",
      "INFO - (NP.df_utils._infer_frequency) - Major frequency D corresponds to 99.454% of the data.\n",
      "INFO - (NP.df_utils._infer_frequency) - Defined frequency is equal to major frequency - D\n",
      "INFO - (NP.df_utils._infer_frequency) - Major frequency D corresponds to 99.939% of the data.\n",
      "INFO - (NP.df_utils._infer_frequency) - Defined frequency is equal to major frequency - D\n",
      "INFO - (NP.df_utils._infer_frequency) - Major frequency D corresponds to 99.939% of the data.\n",
      "INFO - (NP.df_utils._infer_frequency) - Defined frequency is equal to major frequency - D\n",
      "INFO - (NP.df_utils._infer_frequency) - Major frequency D corresponds to 99.454% of the data.\n",
      "INFO - (NP.df_utils._infer_frequency) - Defined frequency is equal to major frequency - D\n",
      "INFO - (NP.df_utils._infer_frequency) - Major frequency D corresponds to 99.454% of the data.\n",
      "INFO - (NP.df_utils._infer_frequency) - Defined frequency is equal to major frequency - D\n",
      "INFO - (NP.df_utils._infer_frequency) - Major frequency D corresponds to 99.939% of the data.\n",
      "INFO - (NP.df_utils._infer_frequency) - Defined frequency is equal to major frequency - D\n",
      "INFO - (NP.df_utils._infer_frequency) - Major frequency D corresponds to 99.939% of the data.\n",
      "INFO - (NP.df_utils._infer_frequency) - Defined frequency is equal to major frequency - D\n",
      "INFO - (NP.df_utils._infer_frequency) - Major frequency D corresponds to 99.454% of the data.\n",
      "INFO - (NP.df_utils._infer_frequency) - Defined frequency is equal to major frequency - D\n",
      "INFO - (NP.df_utils._infer_frequency) - Major frequency D corresponds to 99.454% of the data.\n",
      "INFO - (NP.df_utils._infer_frequency) - Defined frequency is equal to major frequency - D\n",
      "INFO - (NP.df_utils._infer_frequency) - Major frequency D corresponds to 99.939% of the data.\n",
      "INFO - (NP.df_utils._infer_frequency) - Defined frequency is equal to major frequency - D\n",
      "INFO - (NP.df_utils._infer_frequency) - Major frequency D corresponds to 99.939% of the data.\n",
      "INFO - (NP.df_utils._infer_frequency) - Defined frequency is equal to major frequency - D\n",
      "INFO - (NP.df_utils._infer_frequency) - Major frequency D corresponds to 99.454% of the data.\n",
      "INFO - (NP.df_utils._infer_frequency) - Defined frequency is equal to major frequency - D\n",
      "INFO - (NP.df_utils._infer_frequency) - Major frequency D corresponds to 99.454% of the data.\n",
      "INFO - (NP.df_utils._infer_frequency) - Defined frequency is equal to major frequency - D\n"
     ]
    }
   ],
   "source": [
    "eval_dic = eval_model(dict_models, dict_data)"
   ]
  },
  {
   "cell_type": "code",
   "execution_count": 183,
   "id": "6a6c4dac",
   "metadata": {
    "ExecuteTime": {
     "end_time": "2022-12-30T11:57:19.447946Z",
     "start_time": "2022-12-30T11:57:19.420343Z"
    },
    "hidden": true,
    "scrolled": true
   },
   "outputs": [
    {
     "data": {
      "text/plain": [
       "{'sales_1': {'MAPE_train': 0.2044386629975771,\n",
       "  'MAPE_test': 0.21278813136332056},\n",
       " 'sales_2': {'MAPE_train': 0.12648012078101903,\n",
       "  'MAPE_test': 0.10764987746246348},\n",
       " 'sales_3': {'MAPE_train': 0.15540576068596187,\n",
       "  'MAPE_test': 0.15417509333630983},\n",
       " 'sales_4': {'MAPE_train': 0.21235317011952226,\n",
       "  'MAPE_test': 0.1991418260344544},\n",
       " 'sales_5': {'MAPE_train': 0.23243487207543065,\n",
       "  'MAPE_test': 0.19564298348157533},\n",
       " 'sales_6': {'MAPE_train': 0.12551144375948023,\n",
       "  'MAPE_test': 0.11012502448455297},\n",
       " 'sales_7': {'MAPE_train': 0.12716642445156448,\n",
       "  'MAPE_test': 0.13051604726733512},\n",
       " 'sales_8': {'MAPE_train': 0.1092714477573306,\n",
       "  'MAPE_test': 0.12037133191106908},\n",
       " 'sales_9': {'MAPE_train': 0.13197304323409184,\n",
       "  'MAPE_test': 0.1322190517288165},\n",
       " 'sales_10': {'MAPE_train': 0.1132398285665379,\n",
       "  'MAPE_test': 0.11210417713910635},\n",
       " 'sales_11': {'MAPE_train': 0.11127563287285096,\n",
       "  'MAPE_test': 0.11600979549189752},\n",
       " 'sales_12': {'MAPE_train': 0.11378003212941305,\n",
       "  'MAPE_test': 0.1089537357091568},\n",
       " 'sales_13': {'MAPE_train': 0.10435018419752225,\n",
       "  'MAPE_test': 0.09269285043991123},\n",
       " 'sales_14': {'MAPE_train': 0.12244886856448697,\n",
       "  'MAPE_test': 0.10840786880579838},\n",
       " 'sales_15': {'MAPE_train': 0.10714381936499348,\n",
       "  'MAPE_test': 0.09760746391447567},\n",
       " 'sales_16': {'MAPE_train': 0.18860792050084407,\n",
       "  'MAPE_test': 0.20383600722034506},\n",
       " 'sales_17': {'MAPE_train': 0.16726755841913432,\n",
       "  'MAPE_test': 0.15455708777645286},\n",
       " 'sales_18': {'MAPE_train': 0.10622994651489112,\n",
       "  'MAPE_test': 0.09924040588963372},\n",
       " 'sales_19': {'MAPE_train': 0.15703176794166165,\n",
       "  'MAPE_test': 0.1325205541538555},\n",
       " 'sales_20': {'MAPE_train': 0.13097344980873157,\n",
       "  'MAPE_test': 0.16100394200936768},\n",
       " 'sales_21': {'MAPE_train': 0.14943775557893335,\n",
       "  'MAPE_test': 0.13974830084198386},\n",
       " 'sales_22': {'MAPE_train': 0.11092003300186182,\n",
       "  'MAPE_test': 0.10055466253294103},\n",
       " 'sales_23': {'MAPE_train': 0.1901534086589872,\n",
       "  'MAPE_test': 0.1529433401554004},\n",
       " 'sales_24': {'MAPE_train': 0.11652052629439358,\n",
       "  'MAPE_test': 0.11560816913615053},\n",
       " 'sales_25': {'MAPE_train': 0.10614411579872943,\n",
       "  'MAPE_test': 0.09114510211529488},\n",
       " 'sales_26': {'MAPE_train': 0.1366760823086127,\n",
       "  'MAPE_test': 0.1289922955856912},\n",
       " 'sales_27': {'MAPE_train': 0.21454016658682792,\n",
       "  'MAPE_test': 0.19344502681139014},\n",
       " 'sales_28': {'MAPE_train': 0.10289123943106547,\n",
       "  'MAPE_test': 0.09910527476488341},\n",
       " 'sales_29': {'MAPE_train': 0.112284657944472,\n",
       "  'MAPE_test': 0.11062814445937094},\n",
       " 'sales_30': {'MAPE_train': 0.1497406356338636,\n",
       "  'MAPE_test': 0.12436102575784475},\n",
       " 'sales_31': {'MAPE_train': 0.12257588709190001,\n",
       "  'MAPE_test': 0.11151903368720237},\n",
       " 'sales_32': {'MAPE_train': 0.1452695101280823,\n",
       "  'MAPE_test': 0.1292949066893403},\n",
       " 'sales_33': {'MAPE_train': 0.11390948225325065,\n",
       "  'MAPE_test': 0.11256554772022857},\n",
       " 'sales_34': {'MAPE_train': 0.1865445778875147,\n",
       "  'MAPE_test': 0.16119726068950754},\n",
       " 'sales_35': {'MAPE_train': 0.11479340487354318,\n",
       "  'MAPE_test': 0.11002331140176017},\n",
       " 'sales_36': {'MAPE_train': 0.10711874356550324,\n",
       "  'MAPE_test': 0.11258936595826402},\n",
       " 'sales_37': {'MAPE_train': 0.18060119805809818,\n",
       "  'MAPE_test': 0.18919041339672987},\n",
       " 'sales_38': {'MAPE_train': 0.10733394992382855,\n",
       "  'MAPE_test': 0.11700288270899505},\n",
       " 'sales_39': {'MAPE_train': 0.14596126464879164,\n",
       "  'MAPE_test': 0.14523392194073967},\n",
       " 'sales_40': {'MAPE_train': 0.17473091184074477,\n",
       "  'MAPE_test': 0.15804328717955912},\n",
       " 'sales_41': {'MAPE_train': 0.21659465709701453,\n",
       "  'MAPE_test': 0.19897447902715212},\n",
       " 'sales_42': {'MAPE_train': 0.14532060898480248,\n",
       "  'MAPE_test': 0.15115224661596818},\n",
       " 'sales_43': {'MAPE_train': 0.13325251596748788,\n",
       "  'MAPE_test': 0.13236158022609076},\n",
       " 'sales_44': {'MAPE_train': 0.17745796885728124,\n",
       "  'MAPE_test': 0.15955372207034366},\n",
       " 'sales_45': {'MAPE_train': 0.10555442482434298,\n",
       "  'MAPE_test': 0.11027584703005829},\n",
       " 'sales_46': {'MAPE_train': 0.12527762677406407,\n",
       "  'MAPE_test': 0.10311992224890189},\n",
       " 'sales_47': {'MAPE_train': 0.20023522298326873,\n",
       "  'MAPE_test': 0.1864917167955436},\n",
       " 'sales_48': {'MAPE_train': 0.1322019994722427,\n",
       "  'MAPE_test': 0.11939899878342947},\n",
       " 'sales_49': {'MAPE_train': 0.17367556675418808,\n",
       "  'MAPE_test': 0.15566662623252983},\n",
       " 'sales_50': {'MAPE_train': 0.11869099624619606,\n",
       "  'MAPE_test': 0.10425265109775542},\n",
       " 'AVG_accuracy_Train': 0.8567241381157413,\n",
       " 'AVG_accuracy_Test': 0.8645199536143809}"
      ]
     },
     "execution_count": 183,
     "metadata": {},
     "output_type": "execute_result"
    }
   ],
   "source": [
    "eval_dic"
   ]
  },
  {
   "cell_type": "code",
   "execution_count": 179,
   "id": "8c36d416",
   "metadata": {
    "ExecuteTime": {
     "end_time": "2022-12-30T11:55:35.911859Z",
     "start_time": "2022-12-30T11:55:35.899595Z"
    },
    "hidden": true
   },
   "outputs": [],
   "source": [
    "  "
   ]
  },
  {
   "cell_type": "code",
   "execution_count": null,
   "id": "094527b8",
   "metadata": {
    "ExecuteTime": {
     "end_time": "2022-12-30T11:55:41.040718Z",
     "start_time": "2022-12-30T11:55:41.024075Z"
    },
    "hidden": true
   },
   "outputs": [],
   "source": []
  },
  {
   "cell_type": "markdown",
   "id": "20a3819d",
   "metadata": {
    "hidden": true
   },
   "source": [
    "## phase 4 : final model building with all data (we can add model compare in future here)"
   ]
  },
  {
   "cell_type": "code",
   "execution_count": 135,
   "id": "6806daee",
   "metadata": {
    "ExecuteTime": {
     "end_time": "2022-12-30T10:23:02.018769Z",
     "start_time": "2022-12-30T10:23:01.992692Z"
    },
    "hidden": true
   },
   "outputs": [],
   "source": [
    "def final_model_build_NP(data): \n",
    "    \"\"\"considering whole data for traning final models\"\"\"\n",
    "    data[\"date\"] = pd.to_datetime(data[\"date\"], format=\"%Y-%m-%d\") # date time formate\n",
    "    final_model_dict = {}\n",
    "    col_names = data.columns\n",
    "    for y_indx in range(1, len(data.columns)):\n",
    "        tsdf = data.iloc[:, [0, y_indx]]\n",
    "        item_name = col_names[y_indx] # item key for model_dict\n",
    "        tsdf.columns = [\"ds\", \"y\"] # NP formate colums\n",
    "        # model traning\n",
    "        npf = NeuralProphet(num_hidden_layers = 2) # n_lags= 7 \n",
    "        npf.fit(tsdf, freq='D')\n",
    "        final_model_dict[item_name] = npf\n",
    "      \n",
    "    return final_model_dict"
   ]
  },
  {
   "cell_type": "code",
   "execution_count": 136,
   "id": "6e158cab",
   "metadata": {
    "ExecuteTime": {
     "end_time": "2022-12-30T10:34:12.247911Z",
     "start_time": "2022-12-30T10:23:03.092438Z"
    },
    "hidden": true,
    "scrolled": true
   },
   "outputs": [
    {
     "name": "stderr",
     "output_type": "stream",
     "text": [
      "INFO - (NP.df_utils._infer_frequency) - Major frequency D corresponds to 99.945% of the data.\n",
      "INFO - (NP.df_utils._infer_frequency) - Defined frequency is equal to major frequency - D\n",
      "INFO - (NP.config.init_data_params) - Setting normalization to global as only one dataframe provided for training.\n",
      "INFO - (NP.utils.set_auto_seasonalities) - Disabling daily seasonality. Run NeuralProphet with daily_seasonality=True to override this.\n",
      "INFO - (NP.config.set_auto_batch_epoch) - Auto-set batch_size to 32\n",
      "INFO - (NP.config.set_auto_batch_epoch) - Auto-set epochs to 162\n"
     ]
    },
    {
     "data": {
      "application/vnd.jupyter.widget-view+json": {
       "model_id": "56efdb3bb325414193cff0d2bd02ebcb",
       "version_major": 2,
       "version_minor": 0
      },
      "text/plain": [
       "  0%|          | 0/132 [00:00<?, ?it/s]"
      ]
     },
     "metadata": {},
     "output_type": "display_data"
    },
    {
     "name": "stderr",
     "output_type": "stream",
     "text": [
      "INFO - (NP.utils_torch.lr_range_test) - lr-range-test results: steep: 5.90E-02, min: 1.30E-01\n"
     ]
    },
    {
     "data": {
      "application/vnd.jupyter.widget-view+json": {
       "model_id": "8aef698f65bf40a09debcef98e77d763",
       "version_major": 2,
       "version_minor": 0
      },
      "text/plain": [
       "  0%|          | 0/132 [00:00<?, ?it/s]"
      ]
     },
     "metadata": {},
     "output_type": "display_data"
    },
    {
     "name": "stderr",
     "output_type": "stream",
     "text": [
      "INFO - (NP.utils_torch.lr_range_test) - lr-range-test results: steep: 5.90E-02, min: 1.52E-01\n",
      "INFO - (NP.forecaster._init_train_loader) - lr-range-test selected learning rate: 7.04E-02\n",
      "Epoch[162/162]: 100%|███████████| 162/162 [00:12<00:00, 12.57it/s, SmoothL1Loss=0.0125, MAE=3.51, RMSE=4.39, RegLoss=0]\n",
      "INFO - (NP.df_utils._infer_frequency) - Major frequency D corresponds to 99.945% of the data.\n",
      "INFO - (NP.df_utils._infer_frequency) - Defined frequency is equal to major frequency - D\n",
      "INFO - (NP.config.init_data_params) - Setting normalization to global as only one dataframe provided for training.\n",
      "INFO - (NP.utils.set_auto_seasonalities) - Disabling daily seasonality. Run NeuralProphet with daily_seasonality=True to override this.\n",
      "INFO - (NP.config.set_auto_batch_epoch) - Auto-set batch_size to 32\n",
      "INFO - (NP.config.set_auto_batch_epoch) - Auto-set epochs to 162\n"
     ]
    },
    {
     "data": {
      "application/vnd.jupyter.widget-view+json": {
       "model_id": "43bfb9ed3d0c43fc9edeca90e1c2b382",
       "version_major": 2,
       "version_minor": 0
      },
      "text/plain": [
       "  0%|          | 0/132 [00:00<?, ?it/s]"
      ]
     },
     "metadata": {},
     "output_type": "display_data"
    },
    {
     "name": "stderr",
     "output_type": "stream",
     "text": [
      "INFO - (NP.utils_torch.lr_range_test) - lr-range-test results: steep: 1.30E-01, min: 2.87E-01\n"
     ]
    },
    {
     "data": {
      "application/vnd.jupyter.widget-view+json": {
       "model_id": "aea471eeb0404112bcefd5d1474ffba3",
       "version_major": 2,
       "version_minor": 0
      },
      "text/plain": [
       "  0%|          | 0/132 [00:00<?, ?it/s]"
      ]
     },
     "metadata": {},
     "output_type": "display_data"
    },
    {
     "name": "stderr",
     "output_type": "stream",
     "text": [
      "INFO - (NP.utils_torch.lr_range_test) - lr-range-test results: steep: 1.30E-01, min: 2.87E-01\n",
      "INFO - (NP.forecaster._init_train_loader) - lr-range-test selected learning rate: 1.19E-01\n",
      "Epoch[162/162]: 100%|██████████| 162/162 [00:12<00:00, 12.84it/s, SmoothL1Loss=0.00694, MAE=6.15, RMSE=7.69, RegLoss=0]\n",
      "INFO - (NP.df_utils._infer_frequency) - Major frequency D corresponds to 99.945% of the data.\n",
      "INFO - (NP.df_utils._infer_frequency) - Defined frequency is equal to major frequency - D\n",
      "INFO - (NP.config.init_data_params) - Setting normalization to global as only one dataframe provided for training.\n",
      "INFO - (NP.utils.set_auto_seasonalities) - Disabling daily seasonality. Run NeuralProphet with daily_seasonality=True to override this.\n",
      "INFO - (NP.config.set_auto_batch_epoch) - Auto-set batch_size to 32\n",
      "INFO - (NP.config.set_auto_batch_epoch) - Auto-set epochs to 162\n"
     ]
    },
    {
     "data": {
      "application/vnd.jupyter.widget-view+json": {
       "model_id": "b5361f186df64af690a52ea1c5f48d72",
       "version_major": 2,
       "version_minor": 0
      },
      "text/plain": [
       "  0%|          | 0/132 [00:00<?, ?it/s]"
      ]
     },
     "metadata": {},
     "output_type": "display_data"
    },
    {
     "name": "stderr",
     "output_type": "stream",
     "text": [
      "INFO - (NP.utils_torch.lr_range_test) - lr-range-test results: steep: 1.11E-01, min: 1.02E+00\n"
     ]
    },
    {
     "data": {
      "application/vnd.jupyter.widget-view+json": {
       "model_id": "f68845217d0a46f4b5f350ce3b2fca36",
       "version_major": 2,
       "version_minor": 0
      },
      "text/plain": [
       "  0%|          | 0/132 [00:00<?, ?it/s]"
      ]
     },
     "metadata": {},
     "output_type": "display_data"
    },
    {
     "name": "stderr",
     "output_type": "stream",
     "text": [
      "INFO - (NP.utils_torch.lr_range_test) - lr-range-test results: steep: 6.33E-01, min: 1.40E+00\n",
      "INFO - (NP.forecaster._init_train_loader) - lr-range-test selected learning rate: 1.92E-01\n",
      "Epoch[162/162]: 100%|██████████| 162/162 [00:12<00:00, 12.86it/s, SmoothL1Loss=0.00967, MAE=4.72, RMSE=5.94, RegLoss=0]\n",
      "INFO - (NP.df_utils._infer_frequency) - Major frequency D corresponds to 99.945% of the data.\n",
      "INFO - (NP.df_utils._infer_frequency) - Defined frequency is equal to major frequency - D\n",
      "INFO - (NP.config.init_data_params) - Setting normalization to global as only one dataframe provided for training.\n",
      "INFO - (NP.utils.set_auto_seasonalities) - Disabling daily seasonality. Run NeuralProphet with daily_seasonality=True to override this.\n",
      "INFO - (NP.config.set_auto_batch_epoch) - Auto-set batch_size to 32\n",
      "INFO - (NP.config.set_auto_batch_epoch) - Auto-set epochs to 162\n"
     ]
    },
    {
     "data": {
      "application/vnd.jupyter.widget-view+json": {
       "model_id": "806810bd5fd842afadec6ccc718ae5b4",
       "version_major": 2,
       "version_minor": 0
      },
      "text/plain": [
       "  0%|          | 0/132 [00:00<?, ?it/s]"
      ]
     },
     "metadata": {},
     "output_type": "display_data"
    },
    {
     "name": "stderr",
     "output_type": "stream",
     "text": [
      "INFO - (NP.utils_torch.lr_range_test) - lr-range-test results: steep: 8.10E-02, min: 1.02E+00\n"
     ]
    },
    {
     "data": {
      "application/vnd.jupyter.widget-view+json": {
       "model_id": "ae63d99137d14b889de24424362d2ab9",
       "version_major": 2,
       "version_minor": 0
      },
      "text/plain": [
       "  0%|          | 0/132 [00:00<?, ?it/s]"
      ]
     },
     "metadata": {},
     "output_type": "display_data"
    },
    {
     "name": "stderr",
     "output_type": "stream",
     "text": [
      "INFO - (NP.utils_torch.lr_range_test) - lr-range-test results: steep: 8.10E-02, min: 2.45E-01\n",
      "INFO - (NP.forecaster._init_train_loader) - lr-range-test selected learning rate: 8.69E-02\n",
      "Epoch[162/162]: 100%|████████████| 162/162 [00:12<00:00, 12.82it/s, SmoothL1Loss=0.0141, MAE=3.66, RMSE=4.5, RegLoss=0]\n",
      "INFO - (NP.df_utils._infer_frequency) - Major frequency D corresponds to 99.945% of the data.\n",
      "INFO - (NP.df_utils._infer_frequency) - Defined frequency is equal to major frequency - D\n",
      "INFO - (NP.config.init_data_params) - Setting normalization to global as only one dataframe provided for training.\n",
      "INFO - (NP.utils.set_auto_seasonalities) - Disabling daily seasonality. Run NeuralProphet with daily_seasonality=True to override this.\n",
      "INFO - (NP.config.set_auto_batch_epoch) - Auto-set batch_size to 32\n",
      "INFO - (NP.config.set_auto_batch_epoch) - Auto-set epochs to 162\n"
     ]
    },
    {
     "data": {
      "application/vnd.jupyter.widget-view+json": {
       "model_id": "248d3a8160a741ed95fec9aa193fb579",
       "version_major": 2,
       "version_minor": 0
      },
      "text/plain": [
       "  0%|          | 0/132 [00:00<?, ?it/s]"
      ]
     },
     "metadata": {},
     "output_type": "display_data"
    },
    {
     "name": "stderr",
     "output_type": "stream",
     "text": [
      "INFO - (NP.utils_torch.lr_range_test) - lr-range-test results: steep: 1.30E-01, min: 1.40E+00\n"
     ]
    },
    {
     "data": {
      "application/vnd.jupyter.widget-view+json": {
       "model_id": "4dd9549c933249d485f91414d05eb3b7",
       "version_major": 2,
       "version_minor": 0
      },
      "text/plain": [
       "  0%|          | 0/132 [00:00<?, ?it/s]"
      ]
     },
     "metadata": {},
     "output_type": "display_data"
    },
    {
     "name": "stderr",
     "output_type": "stream",
     "text": [
      "INFO - (NP.utils_torch.lr_range_test) - lr-range-test results: steep: 1.30E-01, min: 1.19E+00\n",
      "INFO - (NP.forecaster._init_train_loader) - lr-range-test selected learning rate: 1.19E-01\n",
      "Epoch[162/162]: 100%|███████████| 162/162 [00:12<00:00, 12.76it/s, SmoothL1Loss=0.0154, MAE=3.17, RMSE=3.99, RegLoss=0]\n",
      "INFO - (NP.df_utils._infer_frequency) - Major frequency D corresponds to 99.945% of the data.\n",
      "INFO - (NP.df_utils._infer_frequency) - Defined frequency is equal to major frequency - D\n",
      "INFO - (NP.config.init_data_params) - Setting normalization to global as only one dataframe provided for training.\n",
      "INFO - (NP.utils.set_auto_seasonalities) - Disabling daily seasonality. Run NeuralProphet with daily_seasonality=True to override this.\n",
      "INFO - (NP.config.set_auto_batch_epoch) - Auto-set batch_size to 32\n",
      "INFO - (NP.config.set_auto_batch_epoch) - Auto-set epochs to 162\n"
     ]
    },
    {
     "data": {
      "application/vnd.jupyter.widget-view+json": {
       "model_id": "1d489fb79c2241db9b7a14c3651f4810",
       "version_major": 2,
       "version_minor": 0
      },
      "text/plain": [
       "  0%|          | 0/132 [00:00<?, ?it/s]"
      ]
     },
     "metadata": {},
     "output_type": "display_data"
    },
    {
     "name": "stderr",
     "output_type": "stream",
     "text": [
      "INFO - (NP.utils_torch.lr_range_test) - lr-range-test results: steep: 1.30E-01, min: 7.42E-01\n"
     ]
    },
    {
     "data": {
      "application/vnd.jupyter.widget-view+json": {
       "model_id": "83d6246f03294dc8ad362828474d4c81",
       "version_major": 2,
       "version_minor": 0
      },
      "text/plain": [
       "  0%|          | 0/132 [00:00<?, ?it/s]"
      ]
     },
     "metadata": {},
     "output_type": "display_data"
    },
    {
     "name": "stderr",
     "output_type": "stream",
     "text": [
      "INFO - (NP.utils_torch.lr_range_test) - lr-range-test results: steep: 1.11E-01, min: 1.19E+00\n",
      "INFO - (NP.forecaster._init_train_loader) - lr-range-test selected learning rate: 1.13E-01\n",
      "Epoch[162/162]: 100%|███████████| 162/162 [00:12<00:00, 12.72it/s, SmoothL1Loss=0.00812, MAE=6.1, RMSE=7.58, RegLoss=0]\n",
      "INFO - (NP.df_utils._infer_frequency) - Major frequency D corresponds to 99.945% of the data.\n",
      "INFO - (NP.df_utils._infer_frequency) - Defined frequency is equal to major frequency - D\n",
      "INFO - (NP.config.init_data_params) - Setting normalization to global as only one dataframe provided for training.\n",
      "INFO - (NP.utils.set_auto_seasonalities) - Disabling daily seasonality. Run NeuralProphet with daily_seasonality=True to override this.\n",
      "INFO - (NP.config.set_auto_batch_epoch) - Auto-set batch_size to 32\n",
      "INFO - (NP.config.set_auto_batch_epoch) - Auto-set epochs to 162\n"
     ]
    },
    {
     "data": {
      "application/vnd.jupyter.widget-view+json": {
       "model_id": "0e0357b7adfc457c8fe1513778c56211",
       "version_major": 2,
       "version_minor": 0
      },
      "text/plain": [
       "  0%|          | 0/132 [00:00<?, ?it/s]"
      ]
     },
     "metadata": {},
     "output_type": "display_data"
    },
    {
     "name": "stderr",
     "output_type": "stream",
     "text": [
      "INFO - (NP.utils_torch.lr_range_test) - lr-range-test results: steep: 8.10E-02, min: 1.64E+00\n"
     ]
    },
    {
     "data": {
      "application/vnd.jupyter.widget-view+json": {
       "model_id": "c13069f96ba74167892dac3a0ef53ad9",
       "version_major": 2,
       "version_minor": 0
      },
      "text/plain": [
       "  0%|          | 0/132 [00:00<?, ?it/s]"
      ]
     },
     "metadata": {},
     "output_type": "display_data"
    },
    {
     "name": "stderr",
     "output_type": "stream",
     "text": [
      "INFO - (NP.utils_torch.lr_range_test) - lr-range-test results: steep: 8.10E-02, min: 1.64E+00\n",
      "INFO - (NP.forecaster._init_train_loader) - lr-range-test selected learning rate: 8.69E-02\n",
      "Epoch[162/162]: 100%|██████████| 162/162 [00:12<00:00, 12.79it/s, SmoothL1Loss=0.00709, MAE=6.15, RMSE=7.68, RegLoss=0]\n",
      "INFO - (NP.df_utils._infer_frequency) - Major frequency D corresponds to 99.945% of the data.\n",
      "INFO - (NP.df_utils._infer_frequency) - Defined frequency is equal to major frequency - D\n",
      "INFO - (NP.config.init_data_params) - Setting normalization to global as only one dataframe provided for training.\n",
      "INFO - (NP.utils.set_auto_seasonalities) - Disabling daily seasonality. Run NeuralProphet with daily_seasonality=True to override this.\n",
      "INFO - (NP.config.set_auto_batch_epoch) - Auto-set batch_size to 32\n",
      "INFO - (NP.config.set_auto_batch_epoch) - Auto-set epochs to 162\n"
     ]
    },
    {
     "data": {
      "application/vnd.jupyter.widget-view+json": {
       "model_id": "5473762af82944acb7f64833a1d6e305",
       "version_major": 2,
       "version_minor": 0
      },
      "text/plain": [
       "  0%|          | 0/132 [00:00<?, ?it/s]"
      ]
     },
     "metadata": {},
     "output_type": "display_data"
    },
    {
     "name": "stderr",
     "output_type": "stream",
     "text": [
      "INFO - (NP.utils_torch.lr_range_test) - lr-range-test results: steep: 1.11E-01, min: 1.02E+00\n"
     ]
    },
    {
     "data": {
      "application/vnd.jupyter.widget-view+json": {
       "model_id": "94d0f1ea775249f994727532956651e2",
       "version_major": 2,
       "version_minor": 0
      },
      "text/plain": [
       "  0%|          | 0/132 [00:00<?, ?it/s]"
      ]
     },
     "metadata": {},
     "output_type": "display_data"
    },
    {
     "name": "stderr",
     "output_type": "stream",
     "text": [
      "INFO - (NP.utils_torch.lr_range_test) - lr-range-test results: steep: 9.49E-02, min: 1.40E+00\n",
      "INFO - (NP.forecaster._init_train_loader) - lr-range-test selected learning rate: 1.02E-01\n",
      "Epoch[162/162]: 100%|██████████| 162/162 [00:12<00:00, 12.62it/s, SmoothL1Loss=0.00674, MAE=7.14, RMSE=8.88, RegLoss=0]\n",
      "INFO - (NP.df_utils._infer_frequency) - Major frequency D corresponds to 99.945% of the data.\n",
      "INFO - (NP.df_utils._infer_frequency) - Defined frequency is equal to major frequency - D\n",
      "INFO - (NP.config.init_data_params) - Setting normalization to global as only one dataframe provided for training.\n",
      "INFO - (NP.utils.set_auto_seasonalities) - Disabling daily seasonality. Run NeuralProphet with daily_seasonality=True to override this.\n",
      "INFO - (NP.config.set_auto_batch_epoch) - Auto-set batch_size to 32\n",
      "INFO - (NP.config.set_auto_batch_epoch) - Auto-set epochs to 162\n"
     ]
    },
    {
     "data": {
      "application/vnd.jupyter.widget-view+json": {
       "model_id": "95d1cf73075a404bbc2e950114682f2e",
       "version_major": 2,
       "version_minor": 0
      },
      "text/plain": [
       "  0%|          | 0/132 [00:00<?, ?it/s]"
      ]
     },
     "metadata": {},
     "output_type": "display_data"
    },
    {
     "name": "stderr",
     "output_type": "stream",
     "text": [
      "INFO - (NP.utils_torch.lr_range_test) - lr-range-test results: steep: 2.09E-01, min: 1.19E+00\n"
     ]
    },
    {
     "data": {
      "application/vnd.jupyter.widget-view+json": {
       "model_id": "afdfa66cfdb348ef88339899e9cedbd1",
       "version_major": 2,
       "version_minor": 0
      },
      "text/plain": [
       "  0%|          | 0/132 [00:00<?, ?it/s]"
      ]
     },
     "metadata": {},
     "output_type": "display_data"
    },
    {
     "name": "stderr",
     "output_type": "stream",
     "text": [
      "INFO - (NP.utils_torch.lr_range_test) - lr-range-test results: steep: 2.45E-01, min: 1.19E+00\n",
      "INFO - (NP.forecaster._init_train_loader) - lr-range-test selected learning rate: 1.72E-01\n",
      "Epoch[162/162]: 100%|██████████| 162/162 [00:12<00:00, 12.76it/s, SmoothL1Loss=0.00835, MAE=5.63, RMSE=7.05, RegLoss=0]\n",
      "INFO - (NP.df_utils._infer_frequency) - Major frequency D corresponds to 99.945% of the data.\n",
      "INFO - (NP.df_utils._infer_frequency) - Defined frequency is equal to major frequency - D\n",
      "INFO - (NP.config.init_data_params) - Setting normalization to global as only one dataframe provided for training.\n",
      "INFO - (NP.utils.set_auto_seasonalities) - Disabling daily seasonality. Run NeuralProphet with daily_seasonality=True to override this.\n",
      "INFO - (NP.config.set_auto_batch_epoch) - Auto-set batch_size to 32\n",
      "INFO - (NP.config.set_auto_batch_epoch) - Auto-set epochs to 162\n"
     ]
    },
    {
     "data": {
      "application/vnd.jupyter.widget-view+json": {
       "model_id": "0bf560ae287b46ab96ab8a5fa2e976db",
       "version_major": 2,
       "version_minor": 0
      },
      "text/plain": [
       "  0%|          | 0/132 [00:00<?, ?it/s]"
      ]
     },
     "metadata": {},
     "output_type": "display_data"
    },
    {
     "name": "stderr",
     "output_type": "stream",
     "text": [
      "INFO - (NP.utils_torch.lr_range_test) - lr-range-test results: steep: 9.49E-02, min: 1.64E+00\n"
     ]
    },
    {
     "data": {
      "application/vnd.jupyter.widget-view+json": {
       "model_id": "3a11e02c8d70428c97f663211225628b",
       "version_major": 2,
       "version_minor": 0
      },
      "text/plain": [
       "  0%|          | 0/132 [00:00<?, ?it/s]"
      ]
     },
     "metadata": {},
     "output_type": "display_data"
    },
    {
     "name": "stderr",
     "output_type": "stream",
     "text": [
      "INFO - (NP.utils_torch.lr_range_test) - lr-range-test results: steep: 9.49E-02, min: 1.19E+00\n",
      "INFO - (NP.forecaster._init_train_loader) - lr-range-test selected learning rate: 9.65E-02\n",
      "Epoch[162/162]: 100%|██████████| 162/162 [00:12<00:00, 12.83it/s, SmoothL1Loss=0.00582, MAE=7.08, RMSE=8.79, RegLoss=0]\n",
      "INFO - (NP.df_utils._infer_frequency) - Major frequency D corresponds to 99.945% of the data.\n",
      "INFO - (NP.df_utils._infer_frequency) - Defined frequency is equal to major frequency - D\n",
      "INFO - (NP.config.init_data_params) - Setting normalization to global as only one dataframe provided for training.\n",
      "INFO - (NP.utils.set_auto_seasonalities) - Disabling daily seasonality. Run NeuralProphet with daily_seasonality=True to override this.\n",
      "INFO - (NP.config.set_auto_batch_epoch) - Auto-set batch_size to 32\n",
      "INFO - (NP.config.set_auto_batch_epoch) - Auto-set epochs to 162\n"
     ]
    },
    {
     "data": {
      "application/vnd.jupyter.widget-view+json": {
       "model_id": "6bd79c1be27844d6a6bb05002b160dc0",
       "version_major": 2,
       "version_minor": 0
      },
      "text/plain": [
       "  0%|          | 0/132 [00:00<?, ?it/s]"
      ]
     },
     "metadata": {},
     "output_type": "display_data"
    },
    {
     "name": "stderr",
     "output_type": "stream",
     "text": [
      "INFO - (NP.utils_torch.lr_range_test) - lr-range-test results: steep: 9.49E-02, min: 1.40E+00\n"
     ]
    },
    {
     "data": {
      "application/vnd.jupyter.widget-view+json": {
       "model_id": "6b582169e0be4115b28713353f3dde20",
       "version_major": 2,
       "version_minor": 0
      },
      "text/plain": [
       "  0%|          | 0/132 [00:00<?, ?it/s]"
      ]
     },
     "metadata": {},
     "output_type": "display_data"
    },
    {
     "name": "stderr",
     "output_type": "stream",
     "text": [
      "INFO - (NP.utils_torch.lr_range_test) - lr-range-test results: steep: 9.49E-02, min: 1.19E+00\n",
      "INFO - (NP.forecaster._init_train_loader) - lr-range-test selected learning rate: 9.65E-02\n",
      "Epoch[162/162]: 100%|██████████| 162/162 [00:12<00:00, 12.82it/s, SmoothL1Loss=0.00511, MAE=6.68, RMSE=8.32, RegLoss=0]\n",
      "INFO - (NP.df_utils._infer_frequency) - Major frequency D corresponds to 99.945% of the data.\n",
      "INFO - (NP.df_utils._infer_frequency) - Defined frequency is equal to major frequency - D\n",
      "INFO - (NP.config.init_data_params) - Setting normalization to global as only one dataframe provided for training.\n",
      "INFO - (NP.utils.set_auto_seasonalities) - Disabling daily seasonality. Run NeuralProphet with daily_seasonality=True to override this.\n",
      "INFO - (NP.config.set_auto_batch_epoch) - Auto-set batch_size to 32\n",
      "INFO - (NP.config.set_auto_batch_epoch) - Auto-set epochs to 162\n"
     ]
    },
    {
     "data": {
      "application/vnd.jupyter.widget-view+json": {
       "model_id": "28c474529fd243019c2805bb1bbfb3b8",
       "version_major": 2,
       "version_minor": 0
      },
      "text/plain": [
       "  0%|          | 0/132 [00:00<?, ?it/s]"
      ]
     },
     "metadata": {},
     "output_type": "display_data"
    },
    {
     "name": "stderr",
     "output_type": "stream",
     "text": [
      "INFO - (NP.utils_torch.lr_range_test) - lr-range-test results: steep: 5.90E-02, min: 1.30E-01\n"
     ]
    },
    {
     "data": {
      "application/vnd.jupyter.widget-view+json": {
       "model_id": "79ef9080041143c187dcb71ada289108",
       "version_major": 2,
       "version_minor": 0
      },
      "text/plain": [
       "  0%|          | 0/132 [00:00<?, ?it/s]"
      ]
     },
     "metadata": {},
     "output_type": "display_data"
    },
    {
     "name": "stderr",
     "output_type": "stream",
     "text": [
      "INFO - (NP.utils_torch.lr_range_test) - lr-range-test results: steep: 6.91E-02, min: 1.52E-01\n",
      "INFO - (NP.forecaster._init_train_loader) - lr-range-test selected learning rate: 7.42E-02\n",
      "Epoch[162/162]: 100%|██████████| 162/162 [00:12<00:00, 12.84it/s, SmoothL1Loss=0.00642, MAE=6.74, RMSE=8.32, RegLoss=0]\n",
      "INFO - (NP.df_utils._infer_frequency) - Major frequency D corresponds to 99.945% of the data.\n",
      "INFO - (NP.df_utils._infer_frequency) - Defined frequency is equal to major frequency - D\n",
      "INFO - (NP.config.init_data_params) - Setting normalization to global as only one dataframe provided for training.\n",
      "INFO - (NP.utils.set_auto_seasonalities) - Disabling daily seasonality. Run NeuralProphet with daily_seasonality=True to override this.\n",
      "INFO - (NP.config.set_auto_batch_epoch) - Auto-set batch_size to 32\n",
      "INFO - (NP.config.set_auto_batch_epoch) - Auto-set epochs to 162\n"
     ]
    },
    {
     "data": {
      "application/vnd.jupyter.widget-view+json": {
       "model_id": "47578d99c5f3480c8185a52353d8b960",
       "version_major": 2,
       "version_minor": 0
      },
      "text/plain": [
       "  0%|          | 0/132 [00:00<?, ?it/s]"
      ]
     },
     "metadata": {},
     "output_type": "display_data"
    },
    {
     "name": "stderr",
     "output_type": "stream",
     "text": [
      "INFO - (NP.utils_torch.lr_range_test) - lr-range-test results: steep: 1.11E-01, min: 3.36E-01\n"
     ]
    },
    {
     "data": {
      "application/vnd.jupyter.widget-view+json": {
       "model_id": "e7eb1690be744db9a447d30e7450ddbd",
       "version_major": 2,
       "version_minor": 0
      },
      "text/plain": [
       "  0%|          | 0/132 [00:00<?, ?it/s]"
      ]
     },
     "metadata": {},
     "output_type": "display_data"
    },
    {
     "name": "stderr",
     "output_type": "stream",
     "text": [
      "INFO - (NP.utils_torch.lr_range_test) - lr-range-test results: steep: 1.30E-01, min: 2.87E-01\n",
      "INFO - (NP.forecaster._init_train_loader) - lr-range-test selected learning rate: 1.13E-01\n",
      "Epoch[162/162]: 100%|██████████| 162/162 [00:12<00:00, 12.74it/s, SmoothL1Loss=0.00626, MAE=7.38, RMSE=9.22, RegLoss=0]\n",
      "INFO - (NP.df_utils._infer_frequency) - Major frequency D corresponds to 99.945% of the data.\n",
      "INFO - (NP.df_utils._infer_frequency) - Defined frequency is equal to major frequency - D\n",
      "INFO - (NP.config.init_data_params) - Setting normalization to global as only one dataframe provided for training.\n",
      "INFO - (NP.utils.set_auto_seasonalities) - Disabling daily seasonality. Run NeuralProphet with daily_seasonality=True to override this.\n",
      "INFO - (NP.config.set_auto_batch_epoch) - Auto-set batch_size to 32\n",
      "INFO - (NP.config.set_auto_batch_epoch) - Auto-set epochs to 162\n"
     ]
    },
    {
     "data": {
      "application/vnd.jupyter.widget-view+json": {
       "model_id": "3b776dea6f9e4a1baa81479c3dd6606a",
       "version_major": 2,
       "version_minor": 0
      },
      "text/plain": [
       "  0%|          | 0/132 [00:00<?, ?it/s]"
      ]
     },
     "metadata": {},
     "output_type": "display_data"
    },
    {
     "name": "stderr",
     "output_type": "stream",
     "text": [
      "INFO - (NP.utils_torch.lr_range_test) - lr-range-test results: steep: 1.30E-01, min: 4.61E-01\n"
     ]
    },
    {
     "data": {
      "application/vnd.jupyter.widget-view+json": {
       "model_id": "5d5e84b564dd43d58bca5e2bc1c9cc72",
       "version_major": 2,
       "version_minor": 0
      },
      "text/plain": [
       "  0%|          | 0/132 [00:00<?, ?it/s]"
      ]
     },
     "metadata": {},
     "output_type": "display_data"
    },
    {
     "name": "stderr",
     "output_type": "stream",
     "text": [
      "INFO - (NP.utils_torch.lr_range_test) - lr-range-test results: steep: 1.11E-01, min: 3.36E-01\n",
      "INFO - (NP.forecaster._init_train_loader) - lr-range-test selected learning rate: 1.13E-01\n",
      "Epoch[162/162]: 100%|██████████| 162/162 [00:12<00:00, 12.72it/s, SmoothL1Loss=0.00871, MAE=6.13, RMSE=7.72, RegLoss=0]\n",
      "INFO - (NP.df_utils._infer_frequency) - Major frequency D corresponds to 99.945% of the data.\n",
      "INFO - (NP.df_utils._infer_frequency) - Defined frequency is equal to major frequency - D\n",
      "INFO - (NP.config.init_data_params) - Setting normalization to global as only one dataframe provided for training.\n",
      "INFO - (NP.utils.set_auto_seasonalities) - Disabling daily seasonality. Run NeuralProphet with daily_seasonality=True to override this.\n",
      "INFO - (NP.config.set_auto_batch_epoch) - Auto-set batch_size to 32\n",
      "INFO - (NP.config.set_auto_batch_epoch) - Auto-set epochs to 162\n"
     ]
    },
    {
     "data": {
      "application/vnd.jupyter.widget-view+json": {
       "model_id": "ae2fde6388964a1fb8371ba6c30dca99",
       "version_major": 2,
       "version_minor": 0
      },
      "text/plain": [
       "  0%|          | 0/132 [00:00<?, ?it/s]"
      ]
     },
     "metadata": {},
     "output_type": "display_data"
    },
    {
     "name": "stderr",
     "output_type": "stream",
     "text": [
      "INFO - (NP.utils_torch.lr_range_test) - lr-range-test results: steep: 1.11E-01, min: 5.41E-01\n"
     ]
    },
    {
     "data": {
      "application/vnd.jupyter.widget-view+json": {
       "model_id": "c669d887d58d406999b86d5b89bebf7b",
       "version_major": 2,
       "version_minor": 0
      },
      "text/plain": [
       "  0%|          | 0/132 [00:00<?, ?it/s]"
      ]
     },
     "metadata": {},
     "output_type": "display_data"
    },
    {
     "name": "stderr",
     "output_type": "stream",
     "text": [
      "INFO - (NP.utils_torch.lr_range_test) - lr-range-test results: steep: 1.30E-01, min: 4.61E-01\n",
      "INFO - (NP.forecaster._init_train_loader) - lr-range-test selected learning rate: 1.13E-01\n",
      "Epoch[162/162]: 100%|██████████| 162/162 [00:12<00:00, 12.74it/s, SmoothL1Loss=0.00489, MAE=7.86, RMSE=9.84, RegLoss=0]\n",
      "INFO - (NP.df_utils._infer_frequency) - Major frequency D corresponds to 99.945% of the data.\n",
      "INFO - (NP.df_utils._infer_frequency) - Defined frequency is equal to major frequency - D\n",
      "INFO - (NP.config.init_data_params) - Setting normalization to global as only one dataframe provided for training.\n",
      "INFO - (NP.utils.set_auto_seasonalities) - Disabling daily seasonality. Run NeuralProphet with daily_seasonality=True to override this.\n",
      "INFO - (NP.config.set_auto_batch_epoch) - Auto-set batch_size to 32\n",
      "INFO - (NP.config.set_auto_batch_epoch) - Auto-set epochs to 162\n"
     ]
    },
    {
     "data": {
      "application/vnd.jupyter.widget-view+json": {
       "model_id": "0fc91f63c6e54077a4a7496e0e0097f5",
       "version_major": 2,
       "version_minor": 0
      },
      "text/plain": [
       "  0%|          | 0/132 [00:00<?, ?it/s]"
      ]
     },
     "metadata": {},
     "output_type": "display_data"
    },
    {
     "name": "stderr",
     "output_type": "stream",
     "text": [
      "INFO - (NP.utils_torch.lr_range_test) - lr-range-test results: steep: 1.11E-01, min: 1.92E+00\n"
     ]
    },
    {
     "data": {
      "application/vnd.jupyter.widget-view+json": {
       "model_id": "565a415cbf824151aa3c1e30ebdf3ac1",
       "version_major": 2,
       "version_minor": 0
      },
      "text/plain": [
       "  0%|          | 0/132 [00:00<?, ?it/s]"
      ]
     },
     "metadata": {},
     "output_type": "display_data"
    },
    {
     "name": "stderr",
     "output_type": "stream",
     "text": [
      "INFO - (NP.utils_torch.lr_range_test) - lr-range-test results: steep: 1.30E-01, min: 1.40E+00\n",
      "INFO - (NP.forecaster._init_train_loader) - lr-range-test selected learning rate: 1.13E-01\n",
      "Epoch[162/162]: 100%|███████████| 162/162 [00:12<00:00, 12.76it/s, SmoothL1Loss=0.0121, MAE=3.95, RMSE=4.93, RegLoss=0]\n",
      "INFO - (NP.df_utils._infer_frequency) - Major frequency D corresponds to 99.945% of the data.\n",
      "INFO - (NP.df_utils._infer_frequency) - Defined frequency is equal to major frequency - D\n",
      "INFO - (NP.config.init_data_params) - Setting normalization to global as only one dataframe provided for training.\n",
      "INFO - (NP.utils.set_auto_seasonalities) - Disabling daily seasonality. Run NeuralProphet with daily_seasonality=True to override this.\n",
      "INFO - (NP.config.set_auto_batch_epoch) - Auto-set batch_size to 32\n",
      "INFO - (NP.config.set_auto_batch_epoch) - Auto-set epochs to 162\n"
     ]
    },
    {
     "data": {
      "application/vnd.jupyter.widget-view+json": {
       "model_id": "4123e29449f94d3a890863146491b581",
       "version_major": 2,
       "version_minor": 0
      },
      "text/plain": [
       "  0%|          | 0/132 [00:00<?, ?it/s]"
      ]
     },
     "metadata": {},
     "output_type": "display_data"
    },
    {
     "name": "stderr",
     "output_type": "stream",
     "text": [
      "INFO - (NP.utils_torch.lr_range_test) - lr-range-test results: steep: 8.10E-02, min: 8.69E-01\n"
     ]
    },
    {
     "data": {
      "application/vnd.jupyter.widget-view+json": {
       "model_id": "dfc512acc173407daaac71e2568ec800",
       "version_major": 2,
       "version_minor": 0
      },
      "text/plain": [
       "  0%|          | 0/132 [00:00<?, ?it/s]"
      ]
     },
     "metadata": {},
     "output_type": "display_data"
    },
    {
     "name": "stderr",
     "output_type": "stream",
     "text": [
      "INFO - (NP.utils_torch.lr_range_test) - lr-range-test results: steep: 8.10E-02, min: 8.69E-01\n",
      "INFO - (NP.forecaster._init_train_loader) - lr-range-test selected learning rate: 8.69E-02\n",
      "Epoch[162/162]: 100%|███████████| 162/162 [00:12<00:00, 12.78it/s, SmoothL1Loss=0.0113, MAE=4.45, RMSE=5.53, RegLoss=0]\n",
      "INFO - (NP.df_utils._infer_frequency) - Major frequency D corresponds to 99.945% of the data.\n",
      "INFO - (NP.df_utils._infer_frequency) - Defined frequency is equal to major frequency - D\n",
      "INFO - (NP.config.init_data_params) - Setting normalization to global as only one dataframe provided for training.\n",
      "INFO - (NP.utils.set_auto_seasonalities) - Disabling daily seasonality. Run NeuralProphet with daily_seasonality=True to override this.\n",
      "INFO - (NP.config.set_auto_batch_epoch) - Auto-set batch_size to 32\n",
      "INFO - (NP.config.set_auto_batch_epoch) - Auto-set epochs to 162\n"
     ]
    },
    {
     "data": {
      "application/vnd.jupyter.widget-view+json": {
       "model_id": "10970e9cd45a43808f36419c7f3ac717",
       "version_major": 2,
       "version_minor": 0
      },
      "text/plain": [
       "  0%|          | 0/132 [00:00<?, ?it/s]"
      ]
     },
     "metadata": {},
     "output_type": "display_data"
    },
    {
     "name": "stderr",
     "output_type": "stream",
     "text": [
      "INFO - (NP.utils_torch.lr_range_test) - lr-range-test results: steep: 6.91E-02, min: 1.52E-01\n"
     ]
    },
    {
     "data": {
      "application/vnd.jupyter.widget-view+json": {
       "model_id": "4a3973957bf24a55adcb0dce1b7184a0",
       "version_major": 2,
       "version_minor": 0
      },
      "text/plain": [
       "  0%|          | 0/132 [00:00<?, ?it/s]"
      ]
     },
     "metadata": {},
     "output_type": "display_data"
    },
    {
     "name": "stderr",
     "output_type": "stream",
     "text": [
      "INFO - (NP.utils_torch.lr_range_test) - lr-range-test results: steep: 8.10E-02, min: 1.79E-01\n",
      "INFO - (NP.forecaster._init_train_loader) - lr-range-test selected learning rate: 8.24E-02\n",
      "Epoch[162/162]: 100%|██████████| 162/162 [00:12<00:00, 12.67it/s, SmoothL1Loss=0.00588, MAE=7.51, RMSE=9.37, RegLoss=0]\n",
      "INFO - (NP.df_utils._infer_frequency) - Major frequency D corresponds to 99.945% of the data.\n",
      "INFO - (NP.df_utils._infer_frequency) - Defined frequency is equal to major frequency - D\n",
      "INFO - (NP.config.init_data_params) - Setting normalization to global as only one dataframe provided for training.\n",
      "INFO - (NP.utils.set_auto_seasonalities) - Disabling daily seasonality. Run NeuralProphet with daily_seasonality=True to override this.\n",
      "INFO - (NP.config.set_auto_batch_epoch) - Auto-set batch_size to 32\n",
      "INFO - (NP.config.set_auto_batch_epoch) - Auto-set epochs to 162\n"
     ]
    },
    {
     "data": {
      "application/vnd.jupyter.widget-view+json": {
       "model_id": "9ee85e0021884f3e8ce75e6ad474c83e",
       "version_major": 2,
       "version_minor": 0
      },
      "text/plain": [
       "  0%|          | 0/132 [00:00<?, ?it/s]"
      ]
     },
     "metadata": {},
     "output_type": "display_data"
    },
    {
     "name": "stderr",
     "output_type": "stream",
     "text": [
      "INFO - (NP.utils_torch.lr_range_test) - lr-range-test results: steep: 4.30E-02, min: 1.11E-01\n"
     ]
    },
    {
     "data": {
      "application/vnd.jupyter.widget-view+json": {
       "model_id": "ff2f675915304646911c1db3257e8482",
       "version_major": 2,
       "version_minor": 0
      },
      "text/plain": [
       "  0%|          | 0/132 [00:00<?, ?it/s]"
      ]
     },
     "metadata": {},
     "output_type": "display_data"
    },
    {
     "name": "stderr",
     "output_type": "stream",
     "text": [
      "INFO - (NP.utils_torch.lr_range_test) - lr-range-test results: steep: 4.30E-02, min: 5.41E-01\n",
      "INFO - (NP.forecaster._init_train_loader) - lr-range-test selected learning rate: 5.70E-02\n",
      "Epoch[162/162]: 100%|██████████| 162/162 [00:12<00:00, 12.61it/s, SmoothL1Loss=0.00968, MAE=5.13, RMSE=6.35, RegLoss=0]\n",
      "INFO - (NP.df_utils._infer_frequency) - Major frequency D corresponds to 99.945% of the data.\n",
      "INFO - (NP.df_utils._infer_frequency) - Defined frequency is equal to major frequency - D\n",
      "INFO - (NP.config.init_data_params) - Setting normalization to global as only one dataframe provided for training.\n",
      "INFO - (NP.utils.set_auto_seasonalities) - Disabling daily seasonality. Run NeuralProphet with daily_seasonality=True to override this.\n",
      "INFO - (NP.config.set_auto_batch_epoch) - Auto-set batch_size to 32\n",
      "INFO - (NP.config.set_auto_batch_epoch) - Auto-set epochs to 162\n"
     ]
    },
    {
     "data": {
      "application/vnd.jupyter.widget-view+json": {
       "model_id": "07d7e7bd2f574efdba23154ce2d92389",
       "version_major": 2,
       "version_minor": 0
      },
      "text/plain": [
       "  0%|          | 0/132 [00:00<?, ?it/s]"
      ]
     },
     "metadata": {},
     "output_type": "display_data"
    },
    {
     "name": "stderr",
     "output_type": "stream",
     "text": [
      "INFO - (NP.utils_torch.lr_range_test) - lr-range-test results: steep: 1.52E-01, min: 1.64E+00\n"
     ]
    },
    {
     "data": {
      "application/vnd.jupyter.widget-view+json": {
       "model_id": "93ce05c990034e1c9cd3d0f78aaa6076",
       "version_major": 2,
       "version_minor": 0
      },
      "text/plain": [
       "  0%|          | 0/132 [00:00<?, ?it/s]"
      ]
     },
     "metadata": {},
     "output_type": "display_data"
    },
    {
     "name": "stderr",
     "output_type": "stream",
     "text": [
      "INFO - (NP.utils_torch.lr_range_test) - lr-range-test results: steep: 1.30E-01, min: 6.33E-01\n",
      "INFO - (NP.forecaster._init_train_loader) - lr-range-test selected learning rate: 1.26E-01\n",
      "Epoch[162/162]: 100%|██████████| 162/162 [00:12<00:00, 12.77it/s, SmoothL1Loss=0.00767, MAE=5.29, RMSE=6.63, RegLoss=0]\n",
      "INFO - (NP.df_utils._infer_frequency) - Major frequency D corresponds to 99.945% of the data.\n",
      "INFO - (NP.df_utils._infer_frequency) - Defined frequency is equal to major frequency - D\n",
      "INFO - (NP.config.init_data_params) - Setting normalization to global as only one dataframe provided for training.\n",
      "INFO - (NP.utils.set_auto_seasonalities) - Disabling daily seasonality. Run NeuralProphet with daily_seasonality=True to override this.\n",
      "INFO - (NP.config.set_auto_batch_epoch) - Auto-set batch_size to 32\n",
      "INFO - (NP.config.set_auto_batch_epoch) - Auto-set epochs to 162\n"
     ]
    },
    {
     "data": {
      "application/vnd.jupyter.widget-view+json": {
       "model_id": "bdc33bb3f1d3491a9e80de3e34c894da",
       "version_major": 2,
       "version_minor": 0
      },
      "text/plain": [
       "  0%|          | 0/132 [00:00<?, ?it/s]"
      ]
     },
     "metadata": {},
     "output_type": "display_data"
    },
    {
     "name": "stderr",
     "output_type": "stream",
     "text": [
      "INFO - (NP.utils_torch.lr_range_test) - lr-range-test results: steep: 3.94E-01, min: 5.04E-02\n"
     ]
    },
    {
     "data": {
      "application/vnd.jupyter.widget-view+json": {
       "model_id": "b54195015dec4e2e861e79ee89fbc7dc",
       "version_major": 2,
       "version_minor": 0
      },
      "text/plain": [
       "  0%|          | 0/132 [00:00<?, ?it/s]"
      ]
     },
     "metadata": {},
     "output_type": "display_data"
    },
    {
     "name": "stderr",
     "output_type": "stream",
     "text": [
      "INFO - (NP.utils_torch.lr_range_test) - lr-range-test results: steep: 3.36E-01, min: 5.90E-02\n",
      "INFO - (NP.forecaster._init_train_loader) - lr-range-test selected learning rate: 2.37E-01\n",
      "Epoch[162/162]: 100%|██████████| 162/162 [00:12<00:00, 12.80it/s, SmoothL1Loss=0.00923, MAE=4.96, RMSE=6.21, RegLoss=0]\n",
      "INFO - (NP.df_utils._infer_frequency) - Major frequency D corresponds to 99.945% of the data.\n",
      "INFO - (NP.df_utils._infer_frequency) - Defined frequency is equal to major frequency - D\n",
      "INFO - (NP.config.init_data_params) - Setting normalization to global as only one dataframe provided for training.\n",
      "INFO - (NP.utils.set_auto_seasonalities) - Disabling daily seasonality. Run NeuralProphet with daily_seasonality=True to override this.\n",
      "INFO - (NP.config.set_auto_batch_epoch) - Auto-set batch_size to 32\n",
      "INFO - (NP.config.set_auto_batch_epoch) - Auto-set epochs to 162\n"
     ]
    },
    {
     "data": {
      "application/vnd.jupyter.widget-view+json": {
       "model_id": "2945dee3945444b8a7b86a85cdde798d",
       "version_major": 2,
       "version_minor": 0
      },
      "text/plain": [
       "  0%|          | 0/132 [00:00<?, ?it/s]"
      ]
     },
     "metadata": {},
     "output_type": "display_data"
    },
    {
     "name": "stderr",
     "output_type": "stream",
     "text": [
      "INFO - (NP.utils_torch.lr_range_test) - lr-range-test results: steep: 1.11E-01, min: 1.02E+00\n"
     ]
    },
    {
     "data": {
      "application/vnd.jupyter.widget-view+json": {
       "model_id": "9e3b340a68ec444f84ec76cf1739f118",
       "version_major": 2,
       "version_minor": 0
      },
      "text/plain": [
       "  0%|          | 0/132 [00:00<?, ?it/s]"
      ]
     },
     "metadata": {},
     "output_type": "display_data"
    },
    {
     "name": "stderr",
     "output_type": "stream",
     "text": [
      "INFO - (NP.utils_torch.lr_range_test) - lr-range-test results: steep: 9.49E-02, min: 1.19E+00\n",
      "INFO - (NP.forecaster._init_train_loader) - lr-range-test selected learning rate: 1.02E-01\n",
      "Epoch[162/162]: 100%|██████████| 162/162 [00:12<00:00, 12.70it/s, SmoothL1Loss=0.00661, MAE=7.54, RMSE=9.34, RegLoss=0]\n",
      "INFO - (NP.df_utils._infer_frequency) - Major frequency D corresponds to 99.945% of the data.\n",
      "INFO - (NP.df_utils._infer_frequency) - Defined frequency is equal to major frequency - D\n",
      "INFO - (NP.config.init_data_params) - Setting normalization to global as only one dataframe provided for training.\n",
      "INFO - (NP.utils.set_auto_seasonalities) - Disabling daily seasonality. Run NeuralProphet with daily_seasonality=True to override this.\n",
      "INFO - (NP.config.set_auto_batch_epoch) - Auto-set batch_size to 32\n",
      "INFO - (NP.config.set_auto_batch_epoch) - Auto-set epochs to 162\n"
     ]
    },
    {
     "data": {
      "application/vnd.jupyter.widget-view+json": {
       "model_id": "d9e92bab4d0747c08b2e09a32a070c37",
       "version_major": 2,
       "version_minor": 0
      },
      "text/plain": [
       "  0%|          | 0/132 [00:00<?, ?it/s]"
      ]
     },
     "metadata": {},
     "output_type": "display_data"
    },
    {
     "name": "stderr",
     "output_type": "stream",
     "text": [
      "INFO - (NP.utils_torch.lr_range_test) - lr-range-test results: steep: 6.91E-02, min: 1.19E+00\n"
     ]
    },
    {
     "data": {
      "application/vnd.jupyter.widget-view+json": {
       "model_id": "63b5f777c8854397a4c54e22b217172f",
       "version_major": 2,
       "version_minor": 0
      },
      "text/plain": [
       "  0%|          | 0/132 [00:00<?, ?it/s]"
      ]
     },
     "metadata": {},
     "output_type": "display_data"
    },
    {
     "name": "stderr",
     "output_type": "stream",
     "text": [
      "INFO - (NP.utils_torch.lr_range_test) - lr-range-test results: steep: 6.91E-02, min: 1.19E+00\n",
      "INFO - (NP.forecaster._init_train_loader) - lr-range-test selected learning rate: 7.82E-02\n",
      "Epoch[162/162]: 100%|███████████| 162/162 [00:12<00:00, 12.69it/s, SmoothL1Loss=0.0116, MAE=4.36, RMSE=5.44, RegLoss=0]\n",
      "INFO - (NP.df_utils._infer_frequency) - Major frequency D corresponds to 99.945% of the data.\n",
      "INFO - (NP.df_utils._infer_frequency) - Defined frequency is equal to major frequency - D\n",
      "INFO - (NP.config.init_data_params) - Setting normalization to global as only one dataframe provided for training.\n",
      "INFO - (NP.utils.set_auto_seasonalities) - Disabling daily seasonality. Run NeuralProphet with daily_seasonality=True to override this.\n",
      "INFO - (NP.config.set_auto_batch_epoch) - Auto-set batch_size to 32\n",
      "INFO - (NP.config.set_auto_batch_epoch) - Auto-set epochs to 162\n"
     ]
    },
    {
     "data": {
      "application/vnd.jupyter.widget-view+json": {
       "model_id": "abf23d56077b485e94be804c0b75518e",
       "version_major": 2,
       "version_minor": 0
      },
      "text/plain": [
       "  0%|          | 0/132 [00:00<?, ?it/s]"
      ]
     },
     "metadata": {},
     "output_type": "display_data"
    },
    {
     "name": "stderr",
     "output_type": "stream",
     "text": [
      "INFO - (NP.utils_torch.lr_range_test) - lr-range-test results: steep: 8.10E-02, min: 1.02E+00\n"
     ]
    },
    {
     "data": {
      "application/vnd.jupyter.widget-view+json": {
       "model_id": "15a2c3aa3b854489bf8a863831365d89",
       "version_major": 2,
       "version_minor": 0
      },
      "text/plain": [
       "  0%|          | 0/132 [00:00<?, ?it/s]"
      ]
     },
     "metadata": {},
     "output_type": "display_data"
    },
    {
     "name": "stderr",
     "output_type": "stream",
     "text": [
      "INFO - (NP.utils_torch.lr_range_test) - lr-range-test results: steep: 8.10E-02, min: 1.79E-01\n",
      "INFO - (NP.forecaster._init_train_loader) - lr-range-test selected learning rate: 8.69E-02\n",
      "Epoch[162/162]: 100%|████████████| 162/162 [00:12<00:00, 12.79it/s, SmoothL1Loss=0.00695, MAE=6.6, RMSE=8.3, RegLoss=0]\n",
      "INFO - (NP.df_utils._infer_frequency) - Major frequency D corresponds to 99.945% of the data.\n",
      "INFO - (NP.df_utils._infer_frequency) - Defined frequency is equal to major frequency - D\n",
      "INFO - (NP.config.init_data_params) - Setting normalization to global as only one dataframe provided for training.\n",
      "INFO - (NP.utils.set_auto_seasonalities) - Disabling daily seasonality. Run NeuralProphet with daily_seasonality=True to override this.\n",
      "INFO - (NP.config.set_auto_batch_epoch) - Auto-set batch_size to 32\n",
      "INFO - (NP.config.set_auto_batch_epoch) - Auto-set epochs to 162\n"
     ]
    },
    {
     "data": {
      "application/vnd.jupyter.widget-view+json": {
       "model_id": "53fd755106a44b618b4e05f0b8bf631d",
       "version_major": 2,
       "version_minor": 0
      },
      "text/plain": [
       "  0%|          | 0/132 [00:00<?, ?it/s]"
      ]
     },
     "metadata": {},
     "output_type": "display_data"
    },
    {
     "name": "stderr",
     "output_type": "stream",
     "text": [
      "INFO - (NP.utils_torch.lr_range_test) - lr-range-test results: steep: 1.11E-01, min: 1.40E+00\n"
     ]
    },
    {
     "data": {
      "application/vnd.jupyter.widget-view+json": {
       "model_id": "62d4bab3b07c456a8adf859763cf20ff",
       "version_major": 2,
       "version_minor": 0
      },
      "text/plain": [
       "  0%|          | 0/132 [00:00<?, ?it/s]"
      ]
     },
     "metadata": {},
     "output_type": "display_data"
    },
    {
     "name": "stderr",
     "output_type": "stream",
     "text": [
      "INFO - (NP.utils_torch.lr_range_test) - lr-range-test results: steep: 1.30E-01, min: 1.64E+00\n",
      "INFO - (NP.forecaster._init_train_loader) - lr-range-test selected learning rate: 1.13E-01\n",
      "Epoch[162/162]: 100%|██████████| 162/162 [00:12<00:00, 12.83it/s, SmoothL1Loss=0.00589, MAE=7.12, RMSE=8.81, RegLoss=0]\n",
      "INFO - (NP.df_utils._infer_frequency) - Major frequency D corresponds to 99.945% of the data.\n",
      "INFO - (NP.df_utils._infer_frequency) - Defined frequency is equal to major frequency - D\n",
      "INFO - (NP.config.init_data_params) - Setting normalization to global as only one dataframe provided for training.\n",
      "INFO - (NP.utils.set_auto_seasonalities) - Disabling daily seasonality. Run NeuralProphet with daily_seasonality=True to override this.\n",
      "INFO - (NP.config.set_auto_batch_epoch) - Auto-set batch_size to 32\n",
      "INFO - (NP.config.set_auto_batch_epoch) - Auto-set epochs to 162\n"
     ]
    },
    {
     "data": {
      "application/vnd.jupyter.widget-view+json": {
       "model_id": "392d55e9b5b84a69be65a69ef532da28",
       "version_major": 2,
       "version_minor": 0
      },
      "text/plain": [
       "  0%|          | 0/132 [00:00<?, ?it/s]"
      ]
     },
     "metadata": {},
     "output_type": "display_data"
    },
    {
     "name": "stderr",
     "output_type": "stream",
     "text": [
      "INFO - (NP.utils_torch.lr_range_test) - lr-range-test results: steep: 1.30E-01, min: 4.95E+00\n"
     ]
    },
    {
     "data": {
      "application/vnd.jupyter.widget-view+json": {
       "model_id": "2e695dc901e34f1cb7e2bee9044f13d4",
       "version_major": 2,
       "version_minor": 0
      },
      "text/plain": [
       "  0%|          | 0/132 [00:00<?, ?it/s]"
      ]
     },
     "metadata": {},
     "output_type": "display_data"
    },
    {
     "name": "stderr",
     "output_type": "stream",
     "text": [
      "INFO - (NP.utils_torch.lr_range_test) - lr-range-test results: steep: 1.52E-01, min: 3.36E-01\n",
      "INFO - (NP.forecaster._init_train_loader) - lr-range-test selected learning rate: 1.26E-01\n",
      "Epoch[162/162]: 100%|██████████| 162/162 [00:12<00:00, 12.73it/s, SmoothL1Loss=0.00797, MAE=5.41, RMSE=6.76, RegLoss=0]\n",
      "INFO - (NP.df_utils._infer_frequency) - Major frequency D corresponds to 99.945% of the data.\n",
      "INFO - (NP.df_utils._infer_frequency) - Defined frequency is equal to major frequency - D\n",
      "INFO - (NP.config.init_data_params) - Setting normalization to global as only one dataframe provided for training.\n",
      "INFO - (NP.utils.set_auto_seasonalities) - Disabling daily seasonality. Run NeuralProphet with daily_seasonality=True to override this.\n",
      "INFO - (NP.config.set_auto_batch_epoch) - Auto-set batch_size to 32\n",
      "INFO - (NP.config.set_auto_batch_epoch) - Auto-set epochs to 162\n"
     ]
    },
    {
     "data": {
      "application/vnd.jupyter.widget-view+json": {
       "model_id": "d198cbf3b9724b298e8f915db95b449a",
       "version_major": 2,
       "version_minor": 0
      },
      "text/plain": [
       "  0%|          | 0/132 [00:00<?, ?it/s]"
      ]
     },
     "metadata": {},
     "output_type": "display_data"
    },
    {
     "name": "stderr",
     "output_type": "stream",
     "text": [
      "INFO - (NP.utils_torch.lr_range_test) - lr-range-test results: steep: 9.49E-02, min: 2.09E-01\n"
     ]
    },
    {
     "data": {
      "application/vnd.jupyter.widget-view+json": {
       "model_id": "e3be5db3d1df4a9eba05527a5a935f23",
       "version_major": 2,
       "version_minor": 0
      },
      "text/plain": [
       "  0%|          | 0/132 [00:00<?, ?it/s]"
      ]
     },
     "metadata": {},
     "output_type": "display_data"
    },
    {
     "name": "stderr",
     "output_type": "stream",
     "text": [
      "INFO - (NP.utils_torch.lr_range_test) - lr-range-test results: steep: 8.10E-02, min: 2.09E-01\n",
      "INFO - (NP.forecaster._init_train_loader) - lr-range-test selected learning rate: 9.16E-02\n",
      "Epoch[162/162]: 100%|████████████| 162/162 [00:12<00:00, 12.75it/s, SmoothL1Loss=0.0107, MAE=3.64, RMSE=4.5, RegLoss=0]\n",
      "INFO - (NP.df_utils._infer_frequency) - Major frequency D corresponds to 99.945% of the data.\n",
      "INFO - (NP.df_utils._infer_frequency) - Defined frequency is equal to major frequency - D\n",
      "INFO - (NP.config.init_data_params) - Setting normalization to global as only one dataframe provided for training.\n",
      "INFO - (NP.utils.set_auto_seasonalities) - Disabling daily seasonality. Run NeuralProphet with daily_seasonality=True to override this.\n",
      "INFO - (NP.config.set_auto_batch_epoch) - Auto-set batch_size to 32\n",
      "INFO - (NP.config.set_auto_batch_epoch) - Auto-set epochs to 162\n"
     ]
    },
    {
     "data": {
      "application/vnd.jupyter.widget-view+json": {
       "model_id": "a1e00ae8940041a58de8354a3843be85",
       "version_major": 2,
       "version_minor": 0
      },
      "text/plain": [
       "  0%|          | 0/132 [00:00<?, ?it/s]"
      ]
     },
     "metadata": {},
     "output_type": "display_data"
    },
    {
     "name": "stderr",
     "output_type": "stream",
     "text": [
      "INFO - (NP.utils_torch.lr_range_test) - lr-range-test results: steep: 8.10E-02, min: 7.42E-01\n"
     ]
    },
    {
     "data": {
      "application/vnd.jupyter.widget-view+json": {
       "model_id": "64a06f3413b04da7b30655cac7db11bf",
       "version_major": 2,
       "version_minor": 0
      },
      "text/plain": [
       "  0%|          | 0/132 [00:00<?, ?it/s]"
      ]
     },
     "metadata": {},
     "output_type": "display_data"
    },
    {
     "name": "stderr",
     "output_type": "stream",
     "text": [
      "INFO - (NP.utils_torch.lr_range_test) - lr-range-test results: steep: 8.10E-02, min: 1.64E+00\n",
      "INFO - (NP.forecaster._init_train_loader) - lr-range-test selected learning rate: 8.69E-02\n",
      "Epoch[162/162]: 100%|██████████| 162/162 [00:12<00:00, 12.75it/s, SmoothL1Loss=0.00663, MAE=7.72, RMSE=9.71, RegLoss=0]\n",
      "INFO - (NP.df_utils._infer_frequency) - Major frequency D corresponds to 99.945% of the data.\n",
      "INFO - (NP.df_utils._infer_frequency) - Defined frequency is equal to major frequency - D\n",
      "INFO - (NP.config.init_data_params) - Setting normalization to global as only one dataframe provided for training.\n",
      "INFO - (NP.utils.set_auto_seasonalities) - Disabling daily seasonality. Run NeuralProphet with daily_seasonality=True to override this.\n",
      "INFO - (NP.config.set_auto_batch_epoch) - Auto-set batch_size to 32\n",
      "INFO - (NP.config.set_auto_batch_epoch) - Auto-set epochs to 162\n"
     ]
    },
    {
     "data": {
      "application/vnd.jupyter.widget-view+json": {
       "model_id": "5b76ac03910f481da81778ffc02eac04",
       "version_major": 2,
       "version_minor": 0
      },
      "text/plain": [
       "  0%|          | 0/132 [00:00<?, ?it/s]"
      ]
     },
     "metadata": {},
     "output_type": "display_data"
    },
    {
     "name": "stderr",
     "output_type": "stream",
     "text": [
      "INFO - (NP.utils_torch.lr_range_test) - lr-range-test results: steep: 9.49E-02, min: 1.79E-01\n"
     ]
    },
    {
     "data": {
      "application/vnd.jupyter.widget-view+json": {
       "model_id": "417ecf5e665c4627ab5eca4ff8b4c421",
       "version_major": 2,
       "version_minor": 0
      },
      "text/plain": [
       "  0%|          | 0/132 [00:00<?, ?it/s]"
      ]
     },
     "metadata": {},
     "output_type": "display_data"
    },
    {
     "name": "stderr",
     "output_type": "stream",
     "text": [
      "INFO - (NP.utils_torch.lr_range_test) - lr-range-test results: steep: 8.10E-02, min: 1.79E-01\n",
      "INFO - (NP.forecaster._init_train_loader) - lr-range-test selected learning rate: 9.16E-02\n",
      "Epoch[162/162]: 100%|██████████| 162/162 [00:12<00:00, 12.78it/s, SmoothL1Loss=0.00622, MAE=6.59, RMSE=8.19, RegLoss=0]\n",
      "INFO - (NP.df_utils._infer_frequency) - Major frequency D corresponds to 99.945% of the data.\n",
      "INFO - (NP.df_utils._infer_frequency) - Defined frequency is equal to major frequency - D\n",
      "INFO - (NP.config.init_data_params) - Setting normalization to global as only one dataframe provided for training.\n",
      "INFO - (NP.utils.set_auto_seasonalities) - Disabling daily seasonality. Run NeuralProphet with daily_seasonality=True to override this.\n",
      "INFO - (NP.config.set_auto_batch_epoch) - Auto-set batch_size to 32\n",
      "INFO - (NP.config.set_auto_batch_epoch) - Auto-set epochs to 162\n"
     ]
    },
    {
     "data": {
      "application/vnd.jupyter.widget-view+json": {
       "model_id": "ec73053d5c3043319aaf0b75e32c6eec",
       "version_major": 2,
       "version_minor": 0
      },
      "text/plain": [
       "  0%|          | 0/132 [00:00<?, ?it/s]"
      ]
     },
     "metadata": {},
     "output_type": "display_data"
    },
    {
     "name": "stderr",
     "output_type": "stream",
     "text": [
      "INFO - (NP.utils_torch.lr_range_test) - lr-range-test results: steep: 9.49E-02, min: 1.92E+00\n"
     ]
    },
    {
     "data": {
      "application/vnd.jupyter.widget-view+json": {
       "model_id": "3ebc515b1b064a52bd29bbf088170c95",
       "version_major": 2,
       "version_minor": 0
      },
      "text/plain": [
       "  0%|          | 0/132 [00:00<?, ?it/s]"
      ]
     },
     "metadata": {},
     "output_type": "display_data"
    },
    {
     "name": "stderr",
     "output_type": "stream",
     "text": [
      "INFO - (NP.utils_torch.lr_range_test) - lr-range-test results: steep: 8.10E-02, min: 1.40E+00\n",
      "INFO - (NP.forecaster._init_train_loader) - lr-range-test selected learning rate: 9.16E-02\n",
      "Epoch[162/162]: 100%|███████████| 162/162 [00:12<00:00, 12.81it/s, SmoothL1Loss=0.0104, MAE=4.96, RMSE=6.16, RegLoss=0]\n",
      "INFO - (NP.df_utils._infer_frequency) - Major frequency D corresponds to 99.945% of the data.\n",
      "INFO - (NP.df_utils._infer_frequency) - Defined frequency is equal to major frequency - D\n",
      "INFO - (NP.config.init_data_params) - Setting normalization to global as only one dataframe provided for training.\n",
      "INFO - (NP.utils.set_auto_seasonalities) - Disabling daily seasonality. Run NeuralProphet with daily_seasonality=True to override this.\n",
      "INFO - (NP.config.set_auto_batch_epoch) - Auto-set batch_size to 32\n",
      "INFO - (NP.config.set_auto_batch_epoch) - Auto-set epochs to 162\n"
     ]
    },
    {
     "data": {
      "application/vnd.jupyter.widget-view+json": {
       "model_id": "25089e3b6b834d568534e8c6214e44a4",
       "version_major": 2,
       "version_minor": 0
      },
      "text/plain": [
       "  0%|          | 0/132 [00:00<?, ?it/s]"
      ]
     },
     "metadata": {},
     "output_type": "display_data"
    },
    {
     "name": "stderr",
     "output_type": "stream",
     "text": [
      "INFO - (NP.utils_torch.lr_range_test) - lr-range-test results: steep: 1.30E-01, min: 2.87E-01\n"
     ]
    },
    {
     "data": {
      "application/vnd.jupyter.widget-view+json": {
       "model_id": "e912d814a79048198b5bc899f8ded4fc",
       "version_major": 2,
       "version_minor": 0
      },
      "text/plain": [
       "  0%|          | 0/132 [00:00<?, ?it/s]"
      ]
     },
     "metadata": {},
     "output_type": "display_data"
    },
    {
     "name": "stderr",
     "output_type": "stream",
     "text": [
      "INFO - (NP.utils_torch.lr_range_test) - lr-range-test results: steep: 1.30E-01, min: 2.87E-01\n",
      "INFO - (NP.forecaster._init_train_loader) - lr-range-test selected learning rate: 1.19E-01\n",
      "Epoch[162/162]: 100%|███████████| 162/162 [00:12<00:00, 12.75it/s, SmoothL1Loss=0.00722, MAE=5.96, RMSE=7.5, RegLoss=0]\n",
      "INFO - (NP.df_utils._infer_frequency) - Major frequency D corresponds to 99.945% of the data.\n",
      "INFO - (NP.df_utils._infer_frequency) - Defined frequency is equal to major frequency - D\n",
      "INFO - (NP.config.init_data_params) - Setting normalization to global as only one dataframe provided for training.\n",
      "INFO - (NP.utils.set_auto_seasonalities) - Disabling daily seasonality. Run NeuralProphet with daily_seasonality=True to override this.\n",
      "INFO - (NP.config.set_auto_batch_epoch) - Auto-set batch_size to 32\n",
      "INFO - (NP.config.set_auto_batch_epoch) - Auto-set epochs to 162\n"
     ]
    },
    {
     "data": {
      "application/vnd.jupyter.widget-view+json": {
       "model_id": "b704ec56c03146b79d771e3a13613f13",
       "version_major": 2,
       "version_minor": 0
      },
      "text/plain": [
       "  0%|          | 0/132 [00:00<?, ?it/s]"
      ]
     },
     "metadata": {},
     "output_type": "display_data"
    },
    {
     "name": "stderr",
     "output_type": "stream",
     "text": [
      "INFO - (NP.utils_torch.lr_range_test) - lr-range-test results: steep: 1.30E-01, min: 1.02E+00\n"
     ]
    },
    {
     "data": {
      "application/vnd.jupyter.widget-view+json": {
       "model_id": "6f038eb93cb549f5a803ea5c9165ac21",
       "version_major": 2,
       "version_minor": 0
      },
      "text/plain": [
       "  0%|          | 0/132 [00:00<?, ?it/s]"
      ]
     },
     "metadata": {},
     "output_type": "display_data"
    },
    {
     "name": "stderr",
     "output_type": "stream",
     "text": [
      "INFO - (NP.utils_torch.lr_range_test) - lr-range-test results: steep: 1.30E-01, min: 1.19E+00\n",
      "INFO - (NP.forecaster._init_train_loader) - lr-range-test selected learning rate: 1.19E-01\n",
      "Epoch[162/162]: 100%|██████████| 162/162 [00:12<00:00, 12.70it/s, SmoothL1Loss=0.00993, MAE=5.26, RMSE=6.57, RegLoss=0]\n",
      "INFO - (NP.df_utils._infer_frequency) - Major frequency D corresponds to 99.945% of the data.\n",
      "INFO - (NP.df_utils._infer_frequency) - Defined frequency is equal to major frequency - D\n",
      "INFO - (NP.config.init_data_params) - Setting normalization to global as only one dataframe provided for training.\n",
      "INFO - (NP.utils.set_auto_seasonalities) - Disabling daily seasonality. Run NeuralProphet with daily_seasonality=True to override this.\n",
      "INFO - (NP.config.set_auto_batch_epoch) - Auto-set batch_size to 32\n",
      "INFO - (NP.config.set_auto_batch_epoch) - Auto-set epochs to 162\n"
     ]
    },
    {
     "data": {
      "application/vnd.jupyter.widget-view+json": {
       "model_id": "d7d8df6eea314b0ea295f3eabd8f193d",
       "version_major": 2,
       "version_minor": 0
      },
      "text/plain": [
       "  0%|          | 0/132 [00:00<?, ?it/s]"
      ]
     },
     "metadata": {},
     "output_type": "display_data"
    },
    {
     "name": "stderr",
     "output_type": "stream",
     "text": [
      "INFO - (NP.utils_torch.lr_range_test) - lr-range-test results: steep: 1.79E-01, min: 1.40E+00\n"
     ]
    },
    {
     "data": {
      "application/vnd.jupyter.widget-view+json": {
       "model_id": "1d02a76d2b92403e958e6c209256bbdd",
       "version_major": 2,
       "version_minor": 0
      },
      "text/plain": [
       "  0%|          | 0/132 [00:00<?, ?it/s]"
      ]
     },
     "metadata": {},
     "output_type": "display_data"
    },
    {
     "name": "stderr",
     "output_type": "stream",
     "text": [
      "INFO - (NP.utils_torch.lr_range_test) - lr-range-test results: steep: 2.09E-01, min: 1.92E+00\n",
      "INFO - (NP.forecaster._init_train_loader) - lr-range-test selected learning rate: 1.55E-01\n",
      "Epoch[162/162]: 100%|██████████| 162/162 [00:12<00:00, 12.72it/s, SmoothL1Loss=0.00747, MAE=6.69, RMSE=8.36, RegLoss=0]\n",
      "INFO - (NP.df_utils._infer_frequency) - Major frequency D corresponds to 99.945% of the data.\n",
      "INFO - (NP.df_utils._infer_frequency) - Defined frequency is equal to major frequency - D\n",
      "INFO - (NP.config.init_data_params) - Setting normalization to global as only one dataframe provided for training.\n",
      "INFO - (NP.utils.set_auto_seasonalities) - Disabling daily seasonality. Run NeuralProphet with daily_seasonality=True to override this.\n",
      "INFO - (NP.config.set_auto_batch_epoch) - Auto-set batch_size to 32\n",
      "INFO - (NP.config.set_auto_batch_epoch) - Auto-set epochs to 162\n"
     ]
    },
    {
     "data": {
      "application/vnd.jupyter.widget-view+json": {
       "model_id": "852751a2ea1746809fd4d8402ee154f3",
       "version_major": 2,
       "version_minor": 0
      },
      "text/plain": [
       "  0%|          | 0/132 [00:00<?, ?it/s]"
      ]
     },
     "metadata": {},
     "output_type": "display_data"
    },
    {
     "name": "stderr",
     "output_type": "stream",
     "text": [
      "INFO - (NP.utils_torch.lr_range_test) - lr-range-test results: steep: 8.10E-02, min: 1.92E+00\n"
     ]
    },
    {
     "data": {
      "application/vnd.jupyter.widget-view+json": {
       "model_id": "4cc809d231704dc387cdfead6619c4b7",
       "version_major": 2,
       "version_minor": 0
      },
      "text/plain": [
       "  0%|          | 0/132 [00:00<?, ?it/s]"
      ]
     },
     "metadata": {},
     "output_type": "display_data"
    },
    {
     "name": "stderr",
     "output_type": "stream",
     "text": [
      "INFO - (NP.utils_torch.lr_range_test) - lr-range-test results: steep: 8.10E-02, min: 1.40E+00\n",
      "INFO - (NP.forecaster._init_train_loader) - lr-range-test selected learning rate: 8.69E-02\n",
      "Epoch[162/162]: 100%|███████████| 162/162 [00:12<00:00, 12.69it/s, SmoothL1Loss=0.0114, MAE=3.82, RMSE=4.79, RegLoss=0]\n",
      "INFO - (NP.df_utils._infer_frequency) - Major frequency D corresponds to 99.945% of the data.\n",
      "INFO - (NP.df_utils._infer_frequency) - Defined frequency is equal to major frequency - D\n",
      "INFO - (NP.config.init_data_params) - Setting normalization to global as only one dataframe provided for training.\n",
      "INFO - (NP.utils.set_auto_seasonalities) - Disabling daily seasonality. Run NeuralProphet with daily_seasonality=True to override this.\n",
      "INFO - (NP.config.set_auto_batch_epoch) - Auto-set batch_size to 32\n",
      "INFO - (NP.config.set_auto_batch_epoch) - Auto-set epochs to 162\n"
     ]
    },
    {
     "data": {
      "application/vnd.jupyter.widget-view+json": {
       "model_id": "ad8bea73317b47bbab4d5f075b0ddd90",
       "version_major": 2,
       "version_minor": 0
      },
      "text/plain": [
       "  0%|          | 0/132 [00:00<?, ?it/s]"
      ]
     },
     "metadata": {},
     "output_type": "display_data"
    },
    {
     "name": "stderr",
     "output_type": "stream",
     "text": [
      "INFO - (NP.utils_torch.lr_range_test) - lr-range-test results: steep: 9.49E-02, min: 8.69E-01\n"
     ]
    },
    {
     "data": {
      "application/vnd.jupyter.widget-view+json": {
       "model_id": "dc725d32848149e68c9a165a8867bcb0",
       "version_major": 2,
       "version_minor": 0
      },
      "text/plain": [
       "  0%|          | 0/132 [00:00<?, ?it/s]"
      ]
     },
     "metadata": {},
     "output_type": "display_data"
    },
    {
     "name": "stderr",
     "output_type": "stream",
     "text": [
      "INFO - (NP.utils_torch.lr_range_test) - lr-range-test results: steep: 1.30E-01, min: 2.24E+00\n",
      "INFO - (NP.forecaster._init_train_loader) - lr-range-test selected learning rate: 1.07E-01\n",
      "Epoch[162/162]: 100%|██████████| 162/162 [00:12<00:00, 12.66it/s, SmoothL1Loss=0.00719, MAE=6.44, RMSE=8.08, RegLoss=0]\n",
      "INFO - (NP.df_utils._infer_frequency) - Major frequency D corresponds to 99.945% of the data.\n",
      "INFO - (NP.df_utils._infer_frequency) - Defined frequency is equal to major frequency - D\n",
      "INFO - (NP.config.init_data_params) - Setting normalization to global as only one dataframe provided for training.\n",
      "INFO - (NP.utils.set_auto_seasonalities) - Disabling daily seasonality. Run NeuralProphet with daily_seasonality=True to override this.\n",
      "INFO - (NP.config.set_auto_batch_epoch) - Auto-set batch_size to 32\n",
      "INFO - (NP.config.set_auto_batch_epoch) - Auto-set epochs to 162\n"
     ]
    },
    {
     "data": {
      "application/vnd.jupyter.widget-view+json": {
       "model_id": "ccc4a9a0933046b6835d0743b74f37e6",
       "version_major": 2,
       "version_minor": 0
      },
      "text/plain": [
       "  0%|          | 0/132 [00:00<?, ?it/s]"
      ]
     },
     "metadata": {},
     "output_type": "display_data"
    },
    {
     "name": "stderr",
     "output_type": "stream",
     "text": [
      "INFO - (NP.utils_torch.lr_range_test) - lr-range-test results: steep: 1.79E-01, min: 3.94E-01\n"
     ]
    },
    {
     "data": {
      "application/vnd.jupyter.widget-view+json": {
       "model_id": "ac946cf146054e859cb6dea8b69bf6ee",
       "version_major": 2,
       "version_minor": 0
      },
      "text/plain": [
       "  0%|          | 0/132 [00:00<?, ?it/s]"
      ]
     },
     "metadata": {},
     "output_type": "display_data"
    },
    {
     "name": "stderr",
     "output_type": "stream",
     "text": [
      "INFO - (NP.utils_torch.lr_range_test) - lr-range-test results: steep: 1.52E-01, min: 1.92E+00\n",
      "INFO - (NP.forecaster._init_train_loader) - lr-range-test selected learning rate: 1.40E-01\n",
      "Epoch[162/162]: 100%|██████████| 162/162 [00:12<00:00, 12.75it/s, SmoothL1Loss=0.00646, MAE=7.06, RMSE=8.78, RegLoss=0]\n",
      "INFO - (NP.df_utils._infer_frequency) - Major frequency D corresponds to 99.945% of the data.\n",
      "INFO - (NP.df_utils._infer_frequency) - Defined frequency is equal to major frequency - D\n",
      "INFO - (NP.config.init_data_params) - Setting normalization to global as only one dataframe provided for training.\n",
      "INFO - (NP.utils.set_auto_seasonalities) - Disabling daily seasonality. Run NeuralProphet with daily_seasonality=True to override this.\n",
      "INFO - (NP.config.set_auto_batch_epoch) - Auto-set batch_size to 32\n",
      "INFO - (NP.config.set_auto_batch_epoch) - Auto-set epochs to 162\n"
     ]
    },
    {
     "data": {
      "application/vnd.jupyter.widget-view+json": {
       "model_id": "87a2986662654ddfb81cb274253fe990",
       "version_major": 2,
       "version_minor": 0
      },
      "text/plain": [
       "  0%|          | 0/132 [00:00<?, ?it/s]"
      ]
     },
     "metadata": {},
     "output_type": "display_data"
    },
    {
     "name": "stderr",
     "output_type": "stream",
     "text": [
      "INFO - (NP.utils_torch.lr_range_test) - lr-range-test results: steep: 1.11E-01, min: 2.24E+00\n"
     ]
    },
    {
     "data": {
      "application/vnd.jupyter.widget-view+json": {
       "model_id": "b2f7c24ef1974c13bdfcc3989eed6a1d",
       "version_major": 2,
       "version_minor": 0
      },
      "text/plain": [
       "  0%|          | 0/132 [00:00<?, ?it/s]"
      ]
     },
     "metadata": {},
     "output_type": "display_data"
    },
    {
     "name": "stderr",
     "output_type": "stream",
     "text": [
      "INFO - (NP.utils_torch.lr_range_test) - lr-range-test results: steep: 2.09E-01, min: 3.94E-01\n",
      "INFO - (NP.forecaster._init_train_loader) - lr-range-test selected learning rate: 1.32E-01\n",
      "Epoch[162/162]: 100%|███████████| 162/162 [00:12<00:00, 12.75it/s, SmoothL1Loss=0.0134, MAE=4.28, RMSE=5.36, RegLoss=0]\n",
      "INFO - (NP.df_utils._infer_frequency) - Major frequency D corresponds to 99.945% of the data.\n",
      "INFO - (NP.df_utils._infer_frequency) - Defined frequency is equal to major frequency - D\n",
      "INFO - (NP.config.init_data_params) - Setting normalization to global as only one dataframe provided for training.\n",
      "INFO - (NP.utils.set_auto_seasonalities) - Disabling daily seasonality. Run NeuralProphet with daily_seasonality=True to override this.\n",
      "INFO - (NP.config.set_auto_batch_epoch) - Auto-set batch_size to 32\n",
      "INFO - (NP.config.set_auto_batch_epoch) - Auto-set epochs to 162\n"
     ]
    },
    {
     "data": {
      "application/vnd.jupyter.widget-view+json": {
       "model_id": "b49e964d4f6f4e73ae5f496be97686af",
       "version_major": 2,
       "version_minor": 0
      },
      "text/plain": [
       "  0%|          | 0/132 [00:00<?, ?it/s]"
      ]
     },
     "metadata": {},
     "output_type": "display_data"
    },
    {
     "name": "stderr",
     "output_type": "stream",
     "text": [
      "INFO - (NP.utils_torch.lr_range_test) - lr-range-test results: steep: 8.10E-02, min: 1.92E+00\n"
     ]
    },
    {
     "data": {
      "application/vnd.jupyter.widget-view+json": {
       "model_id": "4390d5df36244fb59529fd9d949c674e",
       "version_major": 2,
       "version_minor": 0
      },
      "text/plain": [
       "  0%|          | 0/132 [00:00<?, ?it/s]"
      ]
     },
     "metadata": {},
     "output_type": "display_data"
    },
    {
     "name": "stderr",
     "output_type": "stream",
     "text": [
      "INFO - (NP.utils_torch.lr_range_test) - lr-range-test results: steep: 8.10E-02, min: 1.79E-01\n",
      "INFO - (NP.forecaster._init_train_loader) - lr-range-test selected learning rate: 8.69E-02\n",
      "Epoch[162/162]: 100%|██████████| 162/162 [00:12<00:00, 12.72it/s, SmoothL1Loss=0.00557, MAE=7.41, RMSE=9.32, RegLoss=0]\n",
      "INFO - (NP.df_utils._infer_frequency) - Major frequency D corresponds to 99.945% of the data.\n",
      "INFO - (NP.df_utils._infer_frequency) - Defined frequency is equal to major frequency - D\n",
      "INFO - (NP.config.init_data_params) - Setting normalization to global as only one dataframe provided for training.\n",
      "INFO - (NP.utils.set_auto_seasonalities) - Disabling daily seasonality. Run NeuralProphet with daily_seasonality=True to override this.\n",
      "INFO - (NP.config.set_auto_batch_epoch) - Auto-set batch_size to 32\n",
      "INFO - (NP.config.set_auto_batch_epoch) - Auto-set epochs to 162\n"
     ]
    },
    {
     "data": {
      "application/vnd.jupyter.widget-view+json": {
       "model_id": "af93155b3cdc4ec58930e3213dec1550",
       "version_major": 2,
       "version_minor": 0
      },
      "text/plain": [
       "  0%|          | 0/132 [00:00<?, ?it/s]"
      ]
     },
     "metadata": {},
     "output_type": "display_data"
    },
    {
     "name": "stderr",
     "output_type": "stream",
     "text": [
      "INFO - (NP.utils_torch.lr_range_test) - lr-range-test results: steep: 1.11E-01, min: 1.40E+00\n"
     ]
    },
    {
     "data": {
      "application/vnd.jupyter.widget-view+json": {
       "model_id": "1b7b41ef2adc423c835c8bd9352b54eb",
       "version_major": 2,
       "version_minor": 0
      },
      "text/plain": [
       "  0%|          | 0/132 [00:00<?, ?it/s]"
      ]
     },
     "metadata": {},
     "output_type": "display_data"
    },
    {
     "name": "stderr",
     "output_type": "stream",
     "text": [
      "INFO - (NP.utils_torch.lr_range_test) - lr-range-test results: steep: 1.11E-01, min: 2.63E+00\n",
      "INFO - (NP.forecaster._init_train_loader) - lr-range-test selected learning rate: 1.07E-01\n",
      "Epoch[162/162]: 100%|█████████████| 162/162 [00:12<00:00, 12.77it/s, SmoothL1Loss=0.01, MAE=5.28, RMSE=6.61, RegLoss=0]\n",
      "INFO - (NP.df_utils._infer_frequency) - Major frequency D corresponds to 99.945% of the data.\n",
      "INFO - (NP.df_utils._infer_frequency) - Defined frequency is equal to major frequency - D\n",
      "INFO - (NP.config.init_data_params) - Setting normalization to global as only one dataframe provided for training.\n",
      "INFO - (NP.utils.set_auto_seasonalities) - Disabling daily seasonality. Run NeuralProphet with daily_seasonality=True to override this.\n",
      "INFO - (NP.config.set_auto_batch_epoch) - Auto-set batch_size to 32\n",
      "INFO - (NP.config.set_auto_batch_epoch) - Auto-set epochs to 162\n"
     ]
    },
    {
     "data": {
      "application/vnd.jupyter.widget-view+json": {
       "model_id": "d451f04a772f4cfeb321d02f1956d02f",
       "version_major": 2,
       "version_minor": 0
      },
      "text/plain": [
       "  0%|          | 0/132 [00:00<?, ?it/s]"
      ]
     },
     "metadata": {},
     "output_type": "display_data"
    },
    {
     "name": "stderr",
     "output_type": "stream",
     "text": [
      "INFO - (NP.utils_torch.lr_range_test) - lr-range-test results: steep: 1.30E-01, min: 2.87E-01\n"
     ]
    },
    {
     "data": {
      "application/vnd.jupyter.widget-view+json": {
       "model_id": "36dec3af84a3433ba40062ee50b4e512",
       "version_major": 2,
       "version_minor": 0
      },
      "text/plain": [
       "  0%|          | 0/132 [00:00<?, ?it/s]"
      ]
     },
     "metadata": {},
     "output_type": "display_data"
    },
    {
     "name": "stderr",
     "output_type": "stream",
     "text": [
      "INFO - (NP.utils_torch.lr_range_test) - lr-range-test results: steep: 1.11E-01, min: 3.36E-01\n",
      "INFO - (NP.forecaster._init_train_loader) - lr-range-test selected learning rate: 1.13E-01\n",
      "Epoch[162/162]: 100%|███████████| 162/162 [00:12<00:00, 12.62it/s, SmoothL1Loss=0.0115, MAE=4.13, RMSE=5.11, RegLoss=0]\n",
      "INFO - (NP.df_utils._infer_frequency) - Major frequency D corresponds to 99.945% of the data.\n",
      "INFO - (NP.df_utils._infer_frequency) - Defined frequency is equal to major frequency - D\n",
      "INFO - (NP.config.init_data_params) - Setting normalization to global as only one dataframe provided for training.\n",
      "INFO - (NP.utils.set_auto_seasonalities) - Disabling daily seasonality. Run NeuralProphet with daily_seasonality=True to override this.\n",
      "INFO - (NP.config.set_auto_batch_epoch) - Auto-set batch_size to 32\n",
      "INFO - (NP.config.set_auto_batch_epoch) - Auto-set epochs to 162\n"
     ]
    },
    {
     "data": {
      "application/vnd.jupyter.widget-view+json": {
       "model_id": "93c1081b3145447e94f9168a34493e01",
       "version_major": 2,
       "version_minor": 0
      },
      "text/plain": [
       "  0%|          | 0/132 [00:00<?, ?it/s]"
      ]
     },
     "metadata": {},
     "output_type": "display_data"
    },
    {
     "name": "stderr",
     "output_type": "stream",
     "text": [
      "INFO - (NP.utils_torch.lr_range_test) - lr-range-test results: steep: 9.49E-02, min: 1.19E+00\n"
     ]
    },
    {
     "data": {
      "application/vnd.jupyter.widget-view+json": {
       "model_id": "72dd2721c08b4030af20d41d50f09f8f",
       "version_major": 2,
       "version_minor": 0
      },
      "text/plain": [
       "  0%|          | 0/132 [00:00<?, ?it/s]"
      ]
     },
     "metadata": {},
     "output_type": "display_data"
    },
    {
     "name": "stderr",
     "output_type": "stream",
     "text": [
      "INFO - (NP.utils_torch.lr_range_test) - lr-range-test results: steep: 9.49E-02, min: 1.19E+00\n",
      "INFO - (NP.forecaster._init_train_loader) - lr-range-test selected learning rate: 9.65E-02\n",
      "Epoch[162/162]: 100%|███████████| 162/162 [00:12<00:00, 12.70it/s, SmoothL1Loss=0.0132, MAE=3.66, RMSE=4.52, RegLoss=0]\n",
      "INFO - (NP.df_utils._infer_frequency) - Major frequency D corresponds to 99.945% of the data.\n",
      "INFO - (NP.df_utils._infer_frequency) - Defined frequency is equal to major frequency - D\n",
      "INFO - (NP.config.init_data_params) - Setting normalization to global as only one dataframe provided for training.\n",
      "INFO - (NP.utils.set_auto_seasonalities) - Disabling daily seasonality. Run NeuralProphet with daily_seasonality=True to override this.\n",
      "INFO - (NP.config.set_auto_batch_epoch) - Auto-set batch_size to 32\n",
      "INFO - (NP.config.set_auto_batch_epoch) - Auto-set epochs to 162\n"
     ]
    },
    {
     "data": {
      "application/vnd.jupyter.widget-view+json": {
       "model_id": "3ed6dabdf7f047738dff41c00be2fa36",
       "version_major": 2,
       "version_minor": 0
      },
      "text/plain": [
       "  0%|          | 0/132 [00:00<?, ?it/s]"
      ]
     },
     "metadata": {},
     "output_type": "display_data"
    },
    {
     "name": "stderr",
     "output_type": "stream",
     "text": [
      "INFO - (NP.utils_torch.lr_range_test) - lr-range-test results: steep: 1.52E-01, min: 1.02E+00\n"
     ]
    },
    {
     "data": {
      "application/vnd.jupyter.widget-view+json": {
       "model_id": "95441376d2fd477b880d37f967bc1b28",
       "version_major": 2,
       "version_minor": 0
      },
      "text/plain": [
       "  0%|          | 0/132 [00:00<?, ?it/s]"
      ]
     },
     "metadata": {},
     "output_type": "display_data"
    },
    {
     "name": "stderr",
     "output_type": "stream",
     "text": [
      "INFO - (NP.utils_torch.lr_range_test) - lr-range-test results: steep: 1.52E-01, min: 1.02E+00\n",
      "INFO - (NP.forecaster._init_train_loader) - lr-range-test selected learning rate: 1.32E-01\n",
      "Epoch[162/162]: 100%|██████████| 162/162 [00:12<00:00, 12.75it/s, SmoothL1Loss=0.00875, MAE=4.44, RMSE=5.64, RegLoss=0]\n",
      "INFO - (NP.df_utils._infer_frequency) - Major frequency D corresponds to 99.945% of the data.\n",
      "INFO - (NP.df_utils._infer_frequency) - Defined frequency is equal to major frequency - D\n",
      "INFO - (NP.config.init_data_params) - Setting normalization to global as only one dataframe provided for training.\n",
      "INFO - (NP.utils.set_auto_seasonalities) - Disabling daily seasonality. Run NeuralProphet with daily_seasonality=True to override this.\n",
      "INFO - (NP.config.set_auto_batch_epoch) - Auto-set batch_size to 32\n",
      "INFO - (NP.config.set_auto_batch_epoch) - Auto-set epochs to 162\n"
     ]
    },
    {
     "data": {
      "application/vnd.jupyter.widget-view+json": {
       "model_id": "acf2711af6194471a2d0b8d2a22f0f52",
       "version_major": 2,
       "version_minor": 0
      },
      "text/plain": [
       "  0%|          | 0/132 [00:00<?, ?it/s]"
      ]
     },
     "metadata": {},
     "output_type": "display_data"
    },
    {
     "name": "stderr",
     "output_type": "stream",
     "text": [
      "INFO - (NP.utils_torch.lr_range_test) - lr-range-test results: steep: 1.30E-01, min: 1.19E+00\n"
     ]
    },
    {
     "data": {
      "application/vnd.jupyter.widget-view+json": {
       "model_id": "49e40c8c247345adb36e78f651eab9c6",
       "version_major": 2,
       "version_minor": 0
      },
      "text/plain": [
       "  0%|          | 0/132 [00:00<?, ?it/s]"
      ]
     },
     "metadata": {},
     "output_type": "display_data"
    },
    {
     "name": "stderr",
     "output_type": "stream",
     "text": [
      "INFO - (NP.utils_torch.lr_range_test) - lr-range-test results: steep: 1.30E-01, min: 1.02E+00\n",
      "INFO - (NP.forecaster._init_train_loader) - lr-range-test selected learning rate: 1.19E-01\n",
      "Epoch[162/162]: 100%|██████████| 162/162 [00:12<00:00, 12.67it/s, SmoothL1Loss=0.00854, MAE=5.72, RMSE=7.12, RegLoss=0]\n",
      "INFO - (NP.df_utils._infer_frequency) - Major frequency D corresponds to 99.945% of the data.\n",
      "INFO - (NP.df_utils._infer_frequency) - Defined frequency is equal to major frequency - D\n",
      "INFO - (NP.config.init_data_params) - Setting normalization to global as only one dataframe provided for training.\n",
      "INFO - (NP.utils.set_auto_seasonalities) - Disabling daily seasonality. Run NeuralProphet with daily_seasonality=True to override this.\n",
      "INFO - (NP.config.set_auto_batch_epoch) - Auto-set batch_size to 32\n",
      "INFO - (NP.config.set_auto_batch_epoch) - Auto-set epochs to 162\n"
     ]
    },
    {
     "data": {
      "application/vnd.jupyter.widget-view+json": {
       "model_id": "c75fbbde402143de85992d793e4fe83c",
       "version_major": 2,
       "version_minor": 0
      },
      "text/plain": [
       "  0%|          | 0/132 [00:00<?, ?it/s]"
      ]
     },
     "metadata": {},
     "output_type": "display_data"
    },
    {
     "name": "stderr",
     "output_type": "stream",
     "text": [
      "INFO - (NP.utils_torch.lr_range_test) - lr-range-test results: steep: 9.49E-02, min: 1.40E+00\n"
     ]
    },
    {
     "data": {
      "application/vnd.jupyter.widget-view+json": {
       "model_id": "33bd42dedbad48afb16cb0ad2afd4d7d",
       "version_major": 2,
       "version_minor": 0
      },
      "text/plain": [
       "  0%|          | 0/132 [00:00<?, ?it/s]"
      ]
     },
     "metadata": {},
     "output_type": "display_data"
    },
    {
     "name": "stderr",
     "output_type": "stream",
     "text": [
      "INFO - (NP.utils_torch.lr_range_test) - lr-range-test results: steep: 9.49E-02, min: 1.40E+00\n",
      "INFO - (NP.forecaster._init_train_loader) - lr-range-test selected learning rate: 9.65E-02\n",
      "Epoch[162/162]: 100%|███████████| 162/162 [00:12<00:00, 12.65it/s, SmoothL1Loss=0.0122, MAE=4.21, RMSE=5.27, RegLoss=0]\n",
      "INFO - (NP.df_utils._infer_frequency) - Major frequency D corresponds to 99.945% of the data.\n",
      "INFO - (NP.df_utils._infer_frequency) - Defined frequency is equal to major frequency - D\n",
      "INFO - (NP.config.init_data_params) - Setting normalization to global as only one dataframe provided for training.\n",
      "INFO - (NP.utils.set_auto_seasonalities) - Disabling daily seasonality. Run NeuralProphet with daily_seasonality=True to override this.\n",
      "INFO - (NP.config.set_auto_batch_epoch) - Auto-set batch_size to 32\n",
      "INFO - (NP.config.set_auto_batch_epoch) - Auto-set epochs to 162\n"
     ]
    },
    {
     "data": {
      "application/vnd.jupyter.widget-view+json": {
       "model_id": "94cdbe82797545f3895f2c24cf298b25",
       "version_major": 2,
       "version_minor": 0
      },
      "text/plain": [
       "  0%|          | 0/132 [00:00<?, ?it/s]"
      ]
     },
     "metadata": {},
     "output_type": "display_data"
    },
    {
     "name": "stderr",
     "output_type": "stream",
     "text": [
      "INFO - (NP.utils_torch.lr_range_test) - lr-range-test results: steep: 8.10E-02, min: 1.64E+00\n"
     ]
    },
    {
     "data": {
      "application/vnd.jupyter.widget-view+json": {
       "model_id": "4b7b25dea8a545d09e3b2e912c202923",
       "version_major": 2,
       "version_minor": 0
      },
      "text/plain": [
       "  0%|          | 0/132 [00:00<?, ?it/s]"
      ]
     },
     "metadata": {},
     "output_type": "display_data"
    },
    {
     "name": "stderr",
     "output_type": "stream",
     "text": [
      "INFO - (NP.utils_torch.lr_range_test) - lr-range-test results: steep: 7.42E-01, min: 2.24E+00\n",
      "INFO - (NP.forecaster._init_train_loader) - lr-range-test selected learning rate: 1.82E-01\n",
      "Epoch[162/162]: 100%|██████████| 162/162 [00:12<00:00, 12.67it/s, SmoothL1Loss=0.00615, MAE=7.24, RMSE=9.04, RegLoss=0]\n",
      "INFO - (NP.df_utils._infer_frequency) - Major frequency D corresponds to 99.945% of the data.\n",
      "INFO - (NP.df_utils._infer_frequency) - Defined frequency is equal to major frequency - D\n",
      "INFO - (NP.config.init_data_params) - Setting normalization to global as only one dataframe provided for training.\n",
      "INFO - (NP.utils.set_auto_seasonalities) - Disabling daily seasonality. Run NeuralProphet with daily_seasonality=True to override this.\n",
      "INFO - (NP.config.set_auto_batch_epoch) - Auto-set batch_size to 32\n",
      "INFO - (NP.config.set_auto_batch_epoch) - Auto-set epochs to 162\n"
     ]
    },
    {
     "data": {
      "application/vnd.jupyter.widget-view+json": {
       "model_id": "71f647c446694830b8ffceb4d175c90d",
       "version_major": 2,
       "version_minor": 0
      },
      "text/plain": [
       "  0%|          | 0/132 [00:00<?, ?it/s]"
      ]
     },
     "metadata": {},
     "output_type": "display_data"
    },
    {
     "name": "stderr",
     "output_type": "stream",
     "text": [
      "INFO - (NP.utils_torch.lr_range_test) - lr-range-test results: steep: 8.10E-02, min: 1.79E-01\n"
     ]
    },
    {
     "data": {
      "application/vnd.jupyter.widget-view+json": {
       "model_id": "090c7f031ad44e8b88c773528887cd80",
       "version_major": 2,
       "version_minor": 0
      },
      "text/plain": [
       "  0%|          | 0/132 [00:00<?, ?it/s]"
      ]
     },
     "metadata": {},
     "output_type": "display_data"
    },
    {
     "name": "stderr",
     "output_type": "stream",
     "text": [
      "INFO - (NP.utils_torch.lr_range_test) - lr-range-test results: steep: 8.10E-02, min: 2.63E+00\n",
      "INFO - (NP.forecaster._init_train_loader) - lr-range-test selected learning rate: 8.69E-02\n",
      "Epoch[162/162]: 100%|██████████| 162/162 [00:12<00:00, 12.78it/s, SmoothL1Loss=0.00723, MAE=6.09, RMSE=7.63, RegLoss=0]\n",
      "INFO - (NP.df_utils._infer_frequency) - Major frequency D corresponds to 99.945% of the data.\n",
      "INFO - (NP.df_utils._infer_frequency) - Defined frequency is equal to major frequency - D\n",
      "INFO - (NP.config.init_data_params) - Setting normalization to global as only one dataframe provided for training.\n",
      "INFO - (NP.utils.set_auto_seasonalities) - Disabling daily seasonality. Run NeuralProphet with daily_seasonality=True to override this.\n",
      "INFO - (NP.config.set_auto_batch_epoch) - Auto-set batch_size to 32\n",
      "INFO - (NP.config.set_auto_batch_epoch) - Auto-set epochs to 162\n"
     ]
    },
    {
     "data": {
      "application/vnd.jupyter.widget-view+json": {
       "model_id": "bb312986e2804f008225af1fbd8c7d5a",
       "version_major": 2,
       "version_minor": 0
      },
      "text/plain": [
       "  0%|          | 0/132 [00:00<?, ?it/s]"
      ]
     },
     "metadata": {},
     "output_type": "display_data"
    },
    {
     "name": "stderr",
     "output_type": "stream",
     "text": [
      "INFO - (NP.utils_torch.lr_range_test) - lr-range-test results: steep: 6.91E-02, min: 1.19E+00\n"
     ]
    },
    {
     "data": {
      "application/vnd.jupyter.widget-view+json": {
       "model_id": "dab3c6e53e0c49fba52d809c8e73ac12",
       "version_major": 2,
       "version_minor": 0
      },
      "text/plain": [
       "  0%|          | 0/132 [00:00<?, ?it/s]"
      ]
     },
     "metadata": {},
     "output_type": "display_data"
    },
    {
     "name": "stderr",
     "output_type": "stream",
     "text": [
      "INFO - (NP.utils_torch.lr_range_test) - lr-range-test results: steep: 5.90E-02, min: 1.19E+00\n",
      "INFO - (NP.forecaster._init_train_loader) - lr-range-test selected learning rate: 7.42E-02\n",
      "Epoch[162/162]: 100%|███████████| 162/162 [00:12<00:00, 12.67it/s, SmoothL1Loss=0.0132, MAE=3.45, RMSE=4.34, RegLoss=0]\n",
      "INFO - (NP.df_utils._infer_frequency) - Major frequency D corresponds to 99.945% of the data.\n",
      "INFO - (NP.df_utils._infer_frequency) - Defined frequency is equal to major frequency - D\n",
      "INFO - (NP.config.init_data_params) - Setting normalization to global as only one dataframe provided for training.\n",
      "INFO - (NP.utils.set_auto_seasonalities) - Disabling daily seasonality. Run NeuralProphet with daily_seasonality=True to override this.\n",
      "INFO - (NP.config.set_auto_batch_epoch) - Auto-set batch_size to 32\n",
      "INFO - (NP.config.set_auto_batch_epoch) - Auto-set epochs to 162\n"
     ]
    },
    {
     "data": {
      "application/vnd.jupyter.widget-view+json": {
       "model_id": "da1f2c1f3e8a4b9083617e87488fc0e1",
       "version_major": 2,
       "version_minor": 0
      },
      "text/plain": [
       "  0%|          | 0/132 [00:00<?, ?it/s]"
      ]
     },
     "metadata": {},
     "output_type": "display_data"
    },
    {
     "name": "stderr",
     "output_type": "stream",
     "text": [
      "INFO - (NP.utils_torch.lr_range_test) - lr-range-test results: steep: 6.91E-02, min: 8.69E-01\n"
     ]
    },
    {
     "data": {
      "application/vnd.jupyter.widget-view+json": {
       "model_id": "395d298669794a5085041f0775ced6c1",
       "version_major": 2,
       "version_minor": 0
      },
      "text/plain": [
       "  0%|          | 0/132 [00:00<?, ?it/s]"
      ]
     },
     "metadata": {},
     "output_type": "display_data"
    },
    {
     "name": "stderr",
     "output_type": "stream",
     "text": [
      "INFO - (NP.utils_torch.lr_range_test) - lr-range-test results: steep: 8.10E-02, min: 1.02E+00\n",
      "INFO - (NP.forecaster._init_train_loader) - lr-range-test selected learning rate: 8.24E-02\n",
      "Epoch[162/162]: 100%|██████████| 162/162 [00:12<00:00, 12.71it/s, SmoothL1Loss=0.00783, MAE=5.67, RMSE=7.08, RegLoss=0]\n",
      "INFO - (NP.df_utils._infer_frequency) - Major frequency D corresponds to 99.945% of the data.\n",
      "INFO - (NP.df_utils._infer_frequency) - Defined frequency is equal to major frequency - D\n",
      "INFO - (NP.config.init_data_params) - Setting normalization to global as only one dataframe provided for training.\n",
      "INFO - (NP.utils.set_auto_seasonalities) - Disabling daily seasonality. Run NeuralProphet with daily_seasonality=True to override this.\n",
      "INFO - (NP.config.set_auto_batch_epoch) - Auto-set batch_size to 32\n",
      "INFO - (NP.config.set_auto_batch_epoch) - Auto-set epochs to 162\n"
     ]
    },
    {
     "data": {
      "application/vnd.jupyter.widget-view+json": {
       "model_id": "19462eebd8f2490aadb4bdb1f354aabf",
       "version_major": 2,
       "version_minor": 0
      },
      "text/plain": [
       "  0%|          | 0/132 [00:00<?, ?it/s]"
      ]
     },
     "metadata": {},
     "output_type": "display_data"
    },
    {
     "name": "stderr",
     "output_type": "stream",
     "text": [
      "INFO - (NP.utils_torch.lr_range_test) - lr-range-test results: steep: 1.30E-01, min: 1.40E+00\n"
     ]
    },
    {
     "data": {
      "application/vnd.jupyter.widget-view+json": {
       "model_id": "a5081873c3184d52a8dbbbddbd9cf22e",
       "version_major": 2,
       "version_minor": 0
      },
      "text/plain": [
       "  0%|          | 0/132 [00:00<?, ?it/s]"
      ]
     },
     "metadata": {},
     "output_type": "display_data"
    },
    {
     "name": "stderr",
     "output_type": "stream",
     "text": [
      "INFO - (NP.utils_torch.lr_range_test) - lr-range-test results: steep: 1.30E-01, min: 4.61E-01\n",
      "INFO - (NP.forecaster._init_train_loader) - lr-range-test selected learning rate: 1.19E-01\n",
      "Epoch[162/162]: 100%|███████████| 162/162 [00:12<00:00, 12.66it/s, SmoothL1Loss=0.0116, MAE=4.13, RMSE=5.14, RegLoss=0]\n",
      "INFO - (NP.df_utils._infer_frequency) - Major frequency D corresponds to 99.945% of the data.\n",
      "INFO - (NP.df_utils._infer_frequency) - Defined frequency is equal to major frequency - D\n",
      "INFO - (NP.config.init_data_params) - Setting normalization to global as only one dataframe provided for training.\n",
      "INFO - (NP.utils.set_auto_seasonalities) - Disabling daily seasonality. Run NeuralProphet with daily_seasonality=True to override this.\n",
      "INFO - (NP.config.set_auto_batch_epoch) - Auto-set batch_size to 32\n",
      "INFO - (NP.config.set_auto_batch_epoch) - Auto-set epochs to 162\n"
     ]
    },
    {
     "data": {
      "application/vnd.jupyter.widget-view+json": {
       "model_id": "ab991ecb7518499aaa2d8ad0ae18dc68",
       "version_major": 2,
       "version_minor": 0
      },
      "text/plain": [
       "  0%|          | 0/132 [00:00<?, ?it/s]"
      ]
     },
     "metadata": {},
     "output_type": "display_data"
    },
    {
     "name": "stderr",
     "output_type": "stream",
     "text": [
      "INFO - (NP.utils_torch.lr_range_test) - lr-range-test results: steep: 9.49E-02, min: 8.69E-01\n"
     ]
    },
    {
     "data": {
      "application/vnd.jupyter.widget-view+json": {
       "model_id": "05de2432a7a4401f94f81a71734cab41",
       "version_major": 2,
       "version_minor": 0
      },
      "text/plain": [
       "  0%|          | 0/132 [00:00<?, ?it/s]"
      ]
     },
     "metadata": {},
     "output_type": "display_data"
    },
    {
     "name": "stderr",
     "output_type": "stream",
     "text": [
      "INFO - (NP.utils_torch.lr_range_test) - lr-range-test results: steep: 9.49E-02, min: 1.19E+00\n",
      "INFO - (NP.forecaster._init_train_loader) - lr-range-test selected learning rate: 9.65E-02\n",
      "Epoch[162/162]: 100%|██████████| 162/162 [00:12<00:00, 12.70it/s, SmoothL1Loss=0.00733, MAE=6.56, RMSE=8.17, RegLoss=0]\n"
     ]
    }
   ],
   "source": [
    "final_models = final_model_build_NP(proc_data)"
   ]
  },
  {
   "cell_type": "code",
   "execution_count": 137,
   "id": "594a96bc",
   "metadata": {
    "ExecuteTime": {
     "end_time": "2022-12-30T10:34:12.264288Z",
     "start_time": "2022-12-30T10:34:12.249911Z"
    },
    "hidden": true,
    "scrolled": true
   },
   "outputs": [
    {
     "data": {
      "text/plain": [
       "{'sales_1': <neuralprophet.forecaster.NeuralProphet at 0x1fc23b1a040>,\n",
       " 'sales_2': <neuralprophet.forecaster.NeuralProphet at 0x1fc23060df0>,\n",
       " 'sales_3': <neuralprophet.forecaster.NeuralProphet at 0x1fc2307cd30>,\n",
       " 'sales_4': <neuralprophet.forecaster.NeuralProphet at 0x1fc239a8880>,\n",
       " 'sales_5': <neuralprophet.forecaster.NeuralProphet at 0x1fc23baabb0>,\n",
       " 'sales_6': <neuralprophet.forecaster.NeuralProphet at 0x1fc23c3d610>,\n",
       " 'sales_7': <neuralprophet.forecaster.NeuralProphet at 0x1fc23c37430>,\n",
       " 'sales_8': <neuralprophet.forecaster.NeuralProphet at 0x1fc23b648e0>,\n",
       " 'sales_9': <neuralprophet.forecaster.NeuralProphet at 0x1fc239d4100>,\n",
       " 'sales_10': <neuralprophet.forecaster.NeuralProphet at 0x1fc23072c10>,\n",
       " 'sales_11': <neuralprophet.forecaster.NeuralProphet at 0x1fc23aafc10>,\n",
       " 'sales_12': <neuralprophet.forecaster.NeuralProphet at 0x1fc23cd3430>,\n",
       " 'sales_13': <neuralprophet.forecaster.NeuralProphet at 0x1fc23d6e5b0>,\n",
       " 'sales_14': <neuralprophet.forecaster.NeuralProphet at 0x1fc23dbf610>,\n",
       " 'sales_15': <neuralprophet.forecaster.NeuralProphet at 0x1fc23da85b0>,\n",
       " 'sales_16': <neuralprophet.forecaster.NeuralProphet at 0x1fc23da8f10>,\n",
       " 'sales_17': <neuralprophet.forecaster.NeuralProphet at 0x1fc23e048e0>,\n",
       " 'sales_18': <neuralprophet.forecaster.NeuralProphet at 0x1fc23df0c70>,\n",
       " 'sales_19': <neuralprophet.forecaster.NeuralProphet at 0x1fc23e1e2b0>,\n",
       " 'sales_20': <neuralprophet.forecaster.NeuralProphet at 0x1fc23e304c0>,\n",
       " 'sales_21': <neuralprophet.forecaster.NeuralProphet at 0x1fc23e83220>,\n",
       " 'sales_22': <neuralprophet.forecaster.NeuralProphet at 0x1fc23e537f0>,\n",
       " 'sales_23': <neuralprophet.forecaster.NeuralProphet at 0x1fc23ef4730>,\n",
       " 'sales_24': <neuralprophet.forecaster.NeuralProphet at 0x1fc23921a30>,\n",
       " 'sales_25': <neuralprophet.forecaster.NeuralProphet at 0x1fc23f558b0>,\n",
       " 'sales_26': <neuralprophet.forecaster.NeuralProphet at 0x1fc23a86340>,\n",
       " 'sales_27': <neuralprophet.forecaster.NeuralProphet at 0x1fc23df9970>,\n",
       " 'sales_28': <neuralprophet.forecaster.NeuralProphet at 0x1fc23e83df0>,\n",
       " 'sales_29': <neuralprophet.forecaster.NeuralProphet at 0x1fc23df0790>,\n",
       " 'sales_30': <neuralprophet.forecaster.NeuralProphet at 0x1fc23ff6640>,\n",
       " 'sales_31': <neuralprophet.forecaster.NeuralProphet at 0x1fc23ff6850>,\n",
       " 'sales_32': <neuralprophet.forecaster.NeuralProphet at 0x1fc24068910>,\n",
       " 'sales_33': <neuralprophet.forecaster.NeuralProphet at 0x1fc2404ee50>,\n",
       " 'sales_34': <neuralprophet.forecaster.NeuralProphet at 0x1fc24041400>,\n",
       " 'sales_35': <neuralprophet.forecaster.NeuralProphet at 0x1fc24081a30>,\n",
       " 'sales_36': <neuralprophet.forecaster.NeuralProphet at 0x1fc24105e50>,\n",
       " 'sales_37': <neuralprophet.forecaster.NeuralProphet at 0x1fc24105670>,\n",
       " 'sales_38': <neuralprophet.forecaster.NeuralProphet at 0x1fc240dcdc0>,\n",
       " 'sales_39': <neuralprophet.forecaster.NeuralProphet at 0x1fc240f8640>,\n",
       " 'sales_40': <neuralprophet.forecaster.NeuralProphet at 0x1fc240f85e0>,\n",
       " 'sales_41': <neuralprophet.forecaster.NeuralProphet at 0x1fc240c44c0>,\n",
       " 'sales_42': <neuralprophet.forecaster.NeuralProphet at 0x1fc24099e80>,\n",
       " 'sales_43': <neuralprophet.forecaster.NeuralProphet at 0x1fc23e53610>,\n",
       " 'sales_44': <neuralprophet.forecaster.NeuralProphet at 0x1fc23d6e4f0>,\n",
       " 'sales_45': <neuralprophet.forecaster.NeuralProphet at 0x1fc23d6eb20>,\n",
       " 'sales_46': <neuralprophet.forecaster.NeuralProphet at 0x1fc23f47940>,\n",
       " 'sales_47': <neuralprophet.forecaster.NeuralProphet at 0x1fc241f33a0>,\n",
       " 'sales_48': <neuralprophet.forecaster.NeuralProphet at 0x1fc2423a8e0>,\n",
       " 'sales_49': <neuralprophet.forecaster.NeuralProphet at 0x1fc2423aa30>,\n",
       " 'sales_50': <neuralprophet.forecaster.NeuralProphet at 0x1fc24284b20>}"
      ]
     },
     "execution_count": 137,
     "metadata": {},
     "output_type": "execute_result"
    }
   ],
   "source": [
    "final_models"
   ]
  },
  {
   "cell_type": "markdown",
   "id": "c9cf8d1b",
   "metadata": {
    "hidden": true
   },
   "source": [
    "## Phase 5 : fourcast next month with final models"
   ]
  },
  {
   "cell_type": "code",
   "execution_count": 154,
   "id": "08f2642d",
   "metadata": {
    "ExecuteTime": {
     "end_time": "2022-12-30T11:04:16.174376Z",
     "start_time": "2022-12-30T11:04:16.146774Z"
    },
    "hidden": true
   },
   "outputs": [],
   "source": [
    "def fourcast(final_models,process_data,period=30):    \n",
    "    process_data[\"date\"] = pd.to_datetime(process_data[\"date\"], format=\"%Y-%m-%d\") # date time formate\n",
    "\n",
    "    col_names = process_data.columns\n",
    "    \n",
    "    dict_fourcast = {}\n",
    "    for y_indx in range(1, len(process_data.columns)):\n",
    "        tsdf = process_data.iloc[:, [0, y_indx]]\n",
    "        item_name = col_names[y_indx] # item key for model_dict\n",
    "\n",
    "        tsdf.columns = [\"ds\", \"y\"] # NP formate colums\n",
    "        # model pred and eval\n",
    "        npfinal = final_models[item_name]\n",
    "        future = npfinal.make_future_dataframe(tsdf, periods= period) \n",
    "        forecast = npfinal.predict(future)\n",
    "        dict_fourcast[item_name] = forecast[\"yhat1\"].values\n",
    "        df_fourcast = pd.DataFrame(dict_fourcast)\n",
    "        final_fourcast = pd.concat([future[\"ds\"], df_fourcast], axis=1)\n",
    "        final_fourcast.rename(columns = {\"ds\" : \"Date\"}, inplace = True)\n",
    "    return final_fourcast\n",
    "    "
   ]
  },
  {
   "cell_type": "code",
   "execution_count": 156,
   "id": "266d6af2",
   "metadata": {
    "ExecuteTime": {
     "end_time": "2022-12-30T11:06:19.175570Z",
     "start_time": "2022-12-30T11:06:16.568312Z"
    },
    "collapsed": true,
    "hidden": true
   },
   "outputs": [
    {
     "name": "stderr",
     "output_type": "stream",
     "text": [
      "INFO - (NP.df_utils._infer_frequency) - Major frequency D corresponds to 99.945% of the data.\n",
      "INFO - (NP.df_utils._infer_frequency) - Defined frequency is equal to major frequency - D\n",
      "INFO - (NP.df_utils._infer_frequency) - Major frequency D corresponds to 96.667% of the data.\n",
      "INFO - (NP.df_utils._infer_frequency) - Defined frequency is equal to major frequency - D\n",
      "INFO - (NP.df_utils._infer_frequency) - Major frequency D corresponds to 96.667% of the data.\n",
      "INFO - (NP.df_utils._infer_frequency) - Defined frequency is equal to major frequency - D\n",
      "INFO - (NP.df_utils._infer_frequency) - Major frequency D corresponds to 99.945% of the data.\n",
      "INFO - (NP.df_utils._infer_frequency) - Defined frequency is equal to major frequency - D\n",
      "INFO - (NP.df_utils._infer_frequency) - Major frequency D corresponds to 96.667% of the data.\n",
      "INFO - (NP.df_utils._infer_frequency) - Defined frequency is equal to major frequency - D\n",
      "INFO - (NP.df_utils._infer_frequency) - Major frequency D corresponds to 96.667% of the data.\n",
      "INFO - (NP.df_utils._infer_frequency) - Defined frequency is equal to major frequency - D\n",
      "INFO - (NP.df_utils._infer_frequency) - Major frequency D corresponds to 99.945% of the data.\n",
      "INFO - (NP.df_utils._infer_frequency) - Defined frequency is equal to major frequency - D\n",
      "INFO - (NP.df_utils._infer_frequency) - Major frequency D corresponds to 96.667% of the data.\n",
      "INFO - (NP.df_utils._infer_frequency) - Defined frequency is equal to major frequency - D\n",
      "INFO - (NP.df_utils._infer_frequency) - Major frequency D corresponds to 96.667% of the data.\n",
      "INFO - (NP.df_utils._infer_frequency) - Defined frequency is equal to major frequency - D\n",
      "INFO - (NP.df_utils._infer_frequency) - Major frequency D corresponds to 99.945% of the data.\n",
      "INFO - (NP.df_utils._infer_frequency) - Defined frequency is equal to major frequency - D\n",
      "INFO - (NP.df_utils._infer_frequency) - Major frequency D corresponds to 96.667% of the data.\n",
      "INFO - (NP.df_utils._infer_frequency) - Defined frequency is equal to major frequency - D\n",
      "INFO - (NP.df_utils._infer_frequency) - Major frequency D corresponds to 96.667% of the data.\n",
      "INFO - (NP.df_utils._infer_frequency) - Defined frequency is equal to major frequency - D\n",
      "INFO - (NP.df_utils._infer_frequency) - Major frequency D corresponds to 99.945% of the data.\n",
      "INFO - (NP.df_utils._infer_frequency) - Defined frequency is equal to major frequency - D\n",
      "INFO - (NP.df_utils._infer_frequency) - Major frequency D corresponds to 96.667% of the data.\n",
      "INFO - (NP.df_utils._infer_frequency) - Defined frequency is equal to major frequency - D\n",
      "INFO - (NP.df_utils._infer_frequency) - Major frequency D corresponds to 96.667% of the data.\n",
      "INFO - (NP.df_utils._infer_frequency) - Defined frequency is equal to major frequency - D\n",
      "INFO - (NP.df_utils._infer_frequency) - Major frequency D corresponds to 99.945% of the data.\n",
      "INFO - (NP.df_utils._infer_frequency) - Defined frequency is equal to major frequency - D\n",
      "INFO - (NP.df_utils._infer_frequency) - Major frequency D corresponds to 96.667% of the data.\n",
      "INFO - (NP.df_utils._infer_frequency) - Defined frequency is equal to major frequency - D\n",
      "INFO - (NP.df_utils._infer_frequency) - Major frequency D corresponds to 96.667% of the data.\n",
      "INFO - (NP.df_utils._infer_frequency) - Defined frequency is equal to major frequency - D\n",
      "INFO - (NP.df_utils._infer_frequency) - Major frequency D corresponds to 99.945% of the data.\n",
      "INFO - (NP.df_utils._infer_frequency) - Defined frequency is equal to major frequency - D\n",
      "INFO - (NP.df_utils._infer_frequency) - Major frequency D corresponds to 96.667% of the data.\n",
      "INFO - (NP.df_utils._infer_frequency) - Defined frequency is equal to major frequency - D\n",
      "INFO - (NP.df_utils._infer_frequency) - Major frequency D corresponds to 96.667% of the data.\n",
      "INFO - (NP.df_utils._infer_frequency) - Defined frequency is equal to major frequency - D\n",
      "INFO - (NP.df_utils._infer_frequency) - Major frequency D corresponds to 99.945% of the data.\n",
      "INFO - (NP.df_utils._infer_frequency) - Defined frequency is equal to major frequency - D\n",
      "INFO - (NP.df_utils._infer_frequency) - Major frequency D corresponds to 96.667% of the data.\n",
      "INFO - (NP.df_utils._infer_frequency) - Defined frequency is equal to major frequency - D\n",
      "INFO - (NP.df_utils._infer_frequency) - Major frequency D corresponds to 96.667% of the data.\n",
      "INFO - (NP.df_utils._infer_frequency) - Defined frequency is equal to major frequency - D\n",
      "INFO - (NP.df_utils._infer_frequency) - Major frequency D corresponds to 99.945% of the data.\n",
      "INFO - (NP.df_utils._infer_frequency) - Defined frequency is equal to major frequency - D\n",
      "INFO - (NP.df_utils._infer_frequency) - Major frequency D corresponds to 96.667% of the data.\n",
      "INFO - (NP.df_utils._infer_frequency) - Defined frequency is equal to major frequency - D\n",
      "INFO - (NP.df_utils._infer_frequency) - Major frequency D corresponds to 96.667% of the data.\n",
      "INFO - (NP.df_utils._infer_frequency) - Defined frequency is equal to major frequency - D\n",
      "INFO - (NP.df_utils._infer_frequency) - Major frequency D corresponds to 99.945% of the data.\n",
      "INFO - (NP.df_utils._infer_frequency) - Defined frequency is equal to major frequency - D\n",
      "INFO - (NP.df_utils._infer_frequency) - Major frequency D corresponds to 96.667% of the data.\n",
      "INFO - (NP.df_utils._infer_frequency) - Defined frequency is equal to major frequency - D\n",
      "INFO - (NP.df_utils._infer_frequency) - Major frequency D corresponds to 96.667% of the data.\n",
      "INFO - (NP.df_utils._infer_frequency) - Defined frequency is equal to major frequency - D\n",
      "INFO - (NP.df_utils._infer_frequency) - Major frequency D corresponds to 99.945% of the data.\n",
      "INFO - (NP.df_utils._infer_frequency) - Defined frequency is equal to major frequency - D\n",
      "INFO - (NP.df_utils._infer_frequency) - Major frequency D corresponds to 96.667% of the data.\n",
      "INFO - (NP.df_utils._infer_frequency) - Defined frequency is equal to major frequency - D\n",
      "INFO - (NP.df_utils._infer_frequency) - Major frequency D corresponds to 96.667% of the data.\n",
      "INFO - (NP.df_utils._infer_frequency) - Defined frequency is equal to major frequency - D\n",
      "INFO - (NP.df_utils._infer_frequency) - Major frequency D corresponds to 99.945% of the data.\n",
      "INFO - (NP.df_utils._infer_frequency) - Defined frequency is equal to major frequency - D\n",
      "INFO - (NP.df_utils._infer_frequency) - Major frequency D corresponds to 96.667% of the data.\n",
      "INFO - (NP.df_utils._infer_frequency) - Defined frequency is equal to major frequency - D\n",
      "INFO - (NP.df_utils._infer_frequency) - Major frequency D corresponds to 96.667% of the data.\n",
      "INFO - (NP.df_utils._infer_frequency) - Defined frequency is equal to major frequency - D\n",
      "INFO - (NP.df_utils._infer_frequency) - Major frequency D corresponds to 99.945% of the data.\n",
      "INFO - (NP.df_utils._infer_frequency) - Defined frequency is equal to major frequency - D\n",
      "INFO - (NP.df_utils._infer_frequency) - Major frequency D corresponds to 96.667% of the data.\n",
      "INFO - (NP.df_utils._infer_frequency) - Defined frequency is equal to major frequency - D\n",
      "INFO - (NP.df_utils._infer_frequency) - Major frequency D corresponds to 96.667% of the data.\n",
      "INFO - (NP.df_utils._infer_frequency) - Defined frequency is equal to major frequency - D\n",
      "INFO - (NP.df_utils._infer_frequency) - Major frequency D corresponds to 99.945% of the data.\n",
      "INFO - (NP.df_utils._infer_frequency) - Defined frequency is equal to major frequency - D\n",
      "INFO - (NP.df_utils._infer_frequency) - Major frequency D corresponds to 96.667% of the data.\n",
      "INFO - (NP.df_utils._infer_frequency) - Defined frequency is equal to major frequency - D\n",
      "INFO - (NP.df_utils._infer_frequency) - Major frequency D corresponds to 96.667% of the data.\n",
      "INFO - (NP.df_utils._infer_frequency) - Defined frequency is equal to major frequency - D\n",
      "INFO - (NP.df_utils._infer_frequency) - Major frequency D corresponds to 99.945% of the data.\n",
      "INFO - (NP.df_utils._infer_frequency) - Defined frequency is equal to major frequency - D\n",
      "INFO - (NP.df_utils._infer_frequency) - Major frequency D corresponds to 96.667% of the data.\n",
      "INFO - (NP.df_utils._infer_frequency) - Defined frequency is equal to major frequency - D\n",
      "INFO - (NP.df_utils._infer_frequency) - Major frequency D corresponds to 96.667% of the data.\n",
      "INFO - (NP.df_utils._infer_frequency) - Defined frequency is equal to major frequency - D\n"
     ]
    },
    {
     "name": "stderr",
     "output_type": "stream",
     "text": [
      "INFO - (NP.df_utils._infer_frequency) - Major frequency D corresponds to 99.945% of the data.\n",
      "INFO - (NP.df_utils._infer_frequency) - Defined frequency is equal to major frequency - D\n",
      "INFO - (NP.df_utils._infer_frequency) - Major frequency D corresponds to 96.667% of the data.\n",
      "INFO - (NP.df_utils._infer_frequency) - Defined frequency is equal to major frequency - D\n",
      "INFO - (NP.df_utils._infer_frequency) - Major frequency D corresponds to 96.667% of the data.\n",
      "INFO - (NP.df_utils._infer_frequency) - Defined frequency is equal to major frequency - D\n",
      "INFO - (NP.df_utils._infer_frequency) - Major frequency D corresponds to 99.945% of the data.\n",
      "INFO - (NP.df_utils._infer_frequency) - Defined frequency is equal to major frequency - D\n",
      "INFO - (NP.df_utils._infer_frequency) - Major frequency D corresponds to 96.667% of the data.\n",
      "INFO - (NP.df_utils._infer_frequency) - Defined frequency is equal to major frequency - D\n",
      "INFO - (NP.df_utils._infer_frequency) - Major frequency D corresponds to 96.667% of the data.\n",
      "INFO - (NP.df_utils._infer_frequency) - Defined frequency is equal to major frequency - D\n",
      "INFO - (NP.df_utils._infer_frequency) - Major frequency D corresponds to 99.945% of the data.\n",
      "INFO - (NP.df_utils._infer_frequency) - Defined frequency is equal to major frequency - D\n",
      "INFO - (NP.df_utils._infer_frequency) - Major frequency D corresponds to 96.667% of the data.\n",
      "INFO - (NP.df_utils._infer_frequency) - Defined frequency is equal to major frequency - D\n",
      "INFO - (NP.df_utils._infer_frequency) - Major frequency D corresponds to 96.667% of the data.\n",
      "INFO - (NP.df_utils._infer_frequency) - Defined frequency is equal to major frequency - D\n",
      "INFO - (NP.df_utils._infer_frequency) - Major frequency D corresponds to 99.945% of the data.\n",
      "INFO - (NP.df_utils._infer_frequency) - Defined frequency is equal to major frequency - D\n",
      "INFO - (NP.df_utils._infer_frequency) - Major frequency D corresponds to 96.667% of the data.\n",
      "INFO - (NP.df_utils._infer_frequency) - Defined frequency is equal to major frequency - D\n",
      "INFO - (NP.df_utils._infer_frequency) - Major frequency D corresponds to 96.667% of the data.\n",
      "INFO - (NP.df_utils._infer_frequency) - Defined frequency is equal to major frequency - D\n",
      "INFO - (NP.df_utils._infer_frequency) - Major frequency D corresponds to 99.945% of the data.\n",
      "INFO - (NP.df_utils._infer_frequency) - Defined frequency is equal to major frequency - D\n",
      "INFO - (NP.df_utils._infer_frequency) - Major frequency D corresponds to 96.667% of the data.\n",
      "INFO - (NP.df_utils._infer_frequency) - Defined frequency is equal to major frequency - D\n",
      "INFO - (NP.df_utils._infer_frequency) - Major frequency D corresponds to 96.667% of the data.\n",
      "INFO - (NP.df_utils._infer_frequency) - Defined frequency is equal to major frequency - D\n",
      "INFO - (NP.df_utils._infer_frequency) - Major frequency D corresponds to 99.945% of the data.\n",
      "INFO - (NP.df_utils._infer_frequency) - Defined frequency is equal to major frequency - D\n",
      "INFO - (NP.df_utils._infer_frequency) - Major frequency D corresponds to 96.667% of the data.\n",
      "INFO - (NP.df_utils._infer_frequency) - Defined frequency is equal to major frequency - D\n",
      "INFO - (NP.df_utils._infer_frequency) - Major frequency D corresponds to 96.667% of the data.\n",
      "INFO - (NP.df_utils._infer_frequency) - Defined frequency is equal to major frequency - D\n",
      "INFO - (NP.df_utils._infer_frequency) - Major frequency D corresponds to 99.945% of the data.\n",
      "INFO - (NP.df_utils._infer_frequency) - Defined frequency is equal to major frequency - D\n",
      "INFO - (NP.df_utils._infer_frequency) - Major frequency D corresponds to 96.667% of the data.\n",
      "INFO - (NP.df_utils._infer_frequency) - Defined frequency is equal to major frequency - D\n",
      "INFO - (NP.df_utils._infer_frequency) - Major frequency D corresponds to 96.667% of the data.\n",
      "INFO - (NP.df_utils._infer_frequency) - Defined frequency is equal to major frequency - D\n",
      "INFO - (NP.df_utils._infer_frequency) - Major frequency D corresponds to 99.945% of the data.\n",
      "INFO - (NP.df_utils._infer_frequency) - Defined frequency is equal to major frequency - D\n",
      "INFO - (NP.df_utils._infer_frequency) - Major frequency D corresponds to 96.667% of the data.\n",
      "INFO - (NP.df_utils._infer_frequency) - Defined frequency is equal to major frequency - D\n",
      "INFO - (NP.df_utils._infer_frequency) - Major frequency D corresponds to 96.667% of the data.\n",
      "INFO - (NP.df_utils._infer_frequency) - Defined frequency is equal to major frequency - D\n",
      "INFO - (NP.df_utils._infer_frequency) - Major frequency D corresponds to 99.945% of the data.\n",
      "INFO - (NP.df_utils._infer_frequency) - Defined frequency is equal to major frequency - D\n",
      "INFO - (NP.df_utils._infer_frequency) - Major frequency D corresponds to 96.667% of the data.\n",
      "INFO - (NP.df_utils._infer_frequency) - Defined frequency is equal to major frequency - D\n",
      "INFO - (NP.df_utils._infer_frequency) - Major frequency D corresponds to 96.667% of the data.\n",
      "INFO - (NP.df_utils._infer_frequency) - Defined frequency is equal to major frequency - D\n",
      "INFO - (NP.df_utils._infer_frequency) - Major frequency D corresponds to 99.945% of the data.\n",
      "INFO - (NP.df_utils._infer_frequency) - Defined frequency is equal to major frequency - D\n",
      "INFO - (NP.df_utils._infer_frequency) - Major frequency D corresponds to 96.667% of the data.\n",
      "INFO - (NP.df_utils._infer_frequency) - Defined frequency is equal to major frequency - D\n",
      "INFO - (NP.df_utils._infer_frequency) - Major frequency D corresponds to 96.667% of the data.\n",
      "INFO - (NP.df_utils._infer_frequency) - Defined frequency is equal to major frequency - D\n",
      "INFO - (NP.df_utils._infer_frequency) - Major frequency D corresponds to 99.945% of the data.\n",
      "INFO - (NP.df_utils._infer_frequency) - Defined frequency is equal to major frequency - D\n",
      "INFO - (NP.df_utils._infer_frequency) - Major frequency D corresponds to 96.667% of the data.\n",
      "INFO - (NP.df_utils._infer_frequency) - Defined frequency is equal to major frequency - D\n",
      "INFO - (NP.df_utils._infer_frequency) - Major frequency D corresponds to 96.667% of the data.\n",
      "INFO - (NP.df_utils._infer_frequency) - Defined frequency is equal to major frequency - D\n",
      "INFO - (NP.df_utils._infer_frequency) - Major frequency D corresponds to 99.945% of the data.\n",
      "INFO - (NP.df_utils._infer_frequency) - Defined frequency is equal to major frequency - D\n",
      "INFO - (NP.df_utils._infer_frequency) - Major frequency D corresponds to 96.667% of the data.\n",
      "INFO - (NP.df_utils._infer_frequency) - Defined frequency is equal to major frequency - D\n",
      "INFO - (NP.df_utils._infer_frequency) - Major frequency D corresponds to 96.667% of the data.\n",
      "INFO - (NP.df_utils._infer_frequency) - Defined frequency is equal to major frequency - D\n",
      "INFO - (NP.df_utils._infer_frequency) - Major frequency D corresponds to 99.945% of the data.\n",
      "INFO - (NP.df_utils._infer_frequency) - Defined frequency is equal to major frequency - D\n",
      "INFO - (NP.df_utils._infer_frequency) - Major frequency D corresponds to 96.667% of the data.\n",
      "INFO - (NP.df_utils._infer_frequency) - Defined frequency is equal to major frequency - D\n",
      "INFO - (NP.df_utils._infer_frequency) - Major frequency D corresponds to 96.667% of the data.\n",
      "INFO - (NP.df_utils._infer_frequency) - Defined frequency is equal to major frequency - D\n",
      "INFO - (NP.df_utils._infer_frequency) - Major frequency D corresponds to 99.945% of the data.\n",
      "INFO - (NP.df_utils._infer_frequency) - Defined frequency is equal to major frequency - D\n",
      "INFO - (NP.df_utils._infer_frequency) - Major frequency D corresponds to 96.667% of the data.\n",
      "INFO - (NP.df_utils._infer_frequency) - Defined frequency is equal to major frequency - D\n",
      "INFO - (NP.df_utils._infer_frequency) - Major frequency D corresponds to 96.667% of the data.\n",
      "INFO - (NP.df_utils._infer_frequency) - Defined frequency is equal to major frequency - D\n",
      "INFO - (NP.df_utils._infer_frequency) - Major frequency D corresponds to 99.945% of the data.\n",
      "INFO - (NP.df_utils._infer_frequency) - Defined frequency is equal to major frequency - D\n",
      "INFO - (NP.df_utils._infer_frequency) - Major frequency D corresponds to 96.667% of the data.\n",
      "INFO - (NP.df_utils._infer_frequency) - Defined frequency is equal to major frequency - D\n",
      "INFO - (NP.df_utils._infer_frequency) - Major frequency D corresponds to 96.667% of the data.\n",
      "INFO - (NP.df_utils._infer_frequency) - Defined frequency is equal to major frequency - D\n"
     ]
    },
    {
     "name": "stderr",
     "output_type": "stream",
     "text": [
      "INFO - (NP.df_utils._infer_frequency) - Major frequency D corresponds to 99.945% of the data.\n",
      "INFO - (NP.df_utils._infer_frequency) - Defined frequency is equal to major frequency - D\n",
      "INFO - (NP.df_utils._infer_frequency) - Major frequency D corresponds to 96.667% of the data.\n",
      "INFO - (NP.df_utils._infer_frequency) - Defined frequency is equal to major frequency - D\n",
      "INFO - (NP.df_utils._infer_frequency) - Major frequency D corresponds to 96.667% of the data.\n",
      "INFO - (NP.df_utils._infer_frequency) - Defined frequency is equal to major frequency - D\n",
      "INFO - (NP.df_utils._infer_frequency) - Major frequency D corresponds to 99.945% of the data.\n",
      "INFO - (NP.df_utils._infer_frequency) - Defined frequency is equal to major frequency - D\n",
      "INFO - (NP.df_utils._infer_frequency) - Major frequency D corresponds to 96.667% of the data.\n",
      "INFO - (NP.df_utils._infer_frequency) - Defined frequency is equal to major frequency - D\n",
      "INFO - (NP.df_utils._infer_frequency) - Major frequency D corresponds to 96.667% of the data.\n",
      "INFO - (NP.df_utils._infer_frequency) - Defined frequency is equal to major frequency - D\n",
      "INFO - (NP.df_utils._infer_frequency) - Major frequency D corresponds to 99.945% of the data.\n",
      "INFO - (NP.df_utils._infer_frequency) - Defined frequency is equal to major frequency - D\n",
      "INFO - (NP.df_utils._infer_frequency) - Major frequency D corresponds to 96.667% of the data.\n",
      "INFO - (NP.df_utils._infer_frequency) - Defined frequency is equal to major frequency - D\n",
      "INFO - (NP.df_utils._infer_frequency) - Major frequency D corresponds to 96.667% of the data.\n",
      "INFO - (NP.df_utils._infer_frequency) - Defined frequency is equal to major frequency - D\n",
      "INFO - (NP.df_utils._infer_frequency) - Major frequency D corresponds to 99.945% of the data.\n",
      "INFO - (NP.df_utils._infer_frequency) - Defined frequency is equal to major frequency - D\n",
      "INFO - (NP.df_utils._infer_frequency) - Major frequency D corresponds to 96.667% of the data.\n",
      "INFO - (NP.df_utils._infer_frequency) - Defined frequency is equal to major frequency - D\n",
      "INFO - (NP.df_utils._infer_frequency) - Major frequency D corresponds to 96.667% of the data.\n",
      "INFO - (NP.df_utils._infer_frequency) - Defined frequency is equal to major frequency - D\n",
      "INFO - (NP.df_utils._infer_frequency) - Major frequency D corresponds to 99.945% of the data.\n",
      "INFO - (NP.df_utils._infer_frequency) - Defined frequency is equal to major frequency - D\n",
      "INFO - (NP.df_utils._infer_frequency) - Major frequency D corresponds to 96.667% of the data.\n",
      "INFO - (NP.df_utils._infer_frequency) - Defined frequency is equal to major frequency - D\n",
      "INFO - (NP.df_utils._infer_frequency) - Major frequency D corresponds to 96.667% of the data.\n",
      "INFO - (NP.df_utils._infer_frequency) - Defined frequency is equal to major frequency - D\n",
      "INFO - (NP.df_utils._infer_frequency) - Major frequency D corresponds to 99.945% of the data.\n",
      "INFO - (NP.df_utils._infer_frequency) - Defined frequency is equal to major frequency - D\n",
      "INFO - (NP.df_utils._infer_frequency) - Major frequency D corresponds to 96.667% of the data.\n",
      "INFO - (NP.df_utils._infer_frequency) - Defined frequency is equal to major frequency - D\n",
      "INFO - (NP.df_utils._infer_frequency) - Major frequency D corresponds to 96.667% of the data.\n",
      "INFO - (NP.df_utils._infer_frequency) - Defined frequency is equal to major frequency - D\n",
      "INFO - (NP.df_utils._infer_frequency) - Major frequency D corresponds to 99.945% of the data.\n",
      "INFO - (NP.df_utils._infer_frequency) - Defined frequency is equal to major frequency - D\n",
      "INFO - (NP.df_utils._infer_frequency) - Major frequency D corresponds to 96.667% of the data.\n",
      "INFO - (NP.df_utils._infer_frequency) - Defined frequency is equal to major frequency - D\n",
      "INFO - (NP.df_utils._infer_frequency) - Major frequency D corresponds to 96.667% of the data.\n",
      "INFO - (NP.df_utils._infer_frequency) - Defined frequency is equal to major frequency - D\n",
      "INFO - (NP.df_utils._infer_frequency) - Major frequency D corresponds to 99.945% of the data.\n",
      "INFO - (NP.df_utils._infer_frequency) - Defined frequency is equal to major frequency - D\n",
      "INFO - (NP.df_utils._infer_frequency) - Major frequency D corresponds to 96.667% of the data.\n",
      "INFO - (NP.df_utils._infer_frequency) - Defined frequency is equal to major frequency - D\n",
      "INFO - (NP.df_utils._infer_frequency) - Major frequency D corresponds to 96.667% of the data.\n",
      "INFO - (NP.df_utils._infer_frequency) - Defined frequency is equal to major frequency - D\n",
      "INFO - (NP.df_utils._infer_frequency) - Major frequency D corresponds to 99.945% of the data.\n",
      "INFO - (NP.df_utils._infer_frequency) - Defined frequency is equal to major frequency - D\n",
      "INFO - (NP.df_utils._infer_frequency) - Major frequency D corresponds to 96.667% of the data.\n",
      "INFO - (NP.df_utils._infer_frequency) - Defined frequency is equal to major frequency - D\n",
      "INFO - (NP.df_utils._infer_frequency) - Major frequency D corresponds to 96.667% of the data.\n",
      "INFO - (NP.df_utils._infer_frequency) - Defined frequency is equal to major frequency - D\n",
      "INFO - (NP.df_utils._infer_frequency) - Major frequency D corresponds to 99.945% of the data.\n",
      "INFO - (NP.df_utils._infer_frequency) - Defined frequency is equal to major frequency - D\n",
      "INFO - (NP.df_utils._infer_frequency) - Major frequency D corresponds to 96.667% of the data.\n",
      "INFO - (NP.df_utils._infer_frequency) - Defined frequency is equal to major frequency - D\n",
      "INFO - (NP.df_utils._infer_frequency) - Major frequency D corresponds to 96.667% of the data.\n",
      "INFO - (NP.df_utils._infer_frequency) - Defined frequency is equal to major frequency - D\n",
      "INFO - (NP.df_utils._infer_frequency) - Major frequency D corresponds to 99.945% of the data.\n",
      "INFO - (NP.df_utils._infer_frequency) - Defined frequency is equal to major frequency - D\n",
      "INFO - (NP.df_utils._infer_frequency) - Major frequency D corresponds to 96.667% of the data.\n",
      "INFO - (NP.df_utils._infer_frequency) - Defined frequency is equal to major frequency - D\n",
      "INFO - (NP.df_utils._infer_frequency) - Major frequency D corresponds to 96.667% of the data.\n",
      "INFO - (NP.df_utils._infer_frequency) - Defined frequency is equal to major frequency - D\n",
      "INFO - (NP.df_utils._infer_frequency) - Major frequency D corresponds to 99.945% of the data.\n",
      "INFO - (NP.df_utils._infer_frequency) - Defined frequency is equal to major frequency - D\n",
      "INFO - (NP.df_utils._infer_frequency) - Major frequency D corresponds to 96.667% of the data.\n",
      "INFO - (NP.df_utils._infer_frequency) - Defined frequency is equal to major frequency - D\n",
      "INFO - (NP.df_utils._infer_frequency) - Major frequency D corresponds to 96.667% of the data.\n",
      "INFO - (NP.df_utils._infer_frequency) - Defined frequency is equal to major frequency - D\n",
      "INFO - (NP.df_utils._infer_frequency) - Major frequency D corresponds to 99.945% of the data.\n",
      "INFO - (NP.df_utils._infer_frequency) - Defined frequency is equal to major frequency - D\n",
      "INFO - (NP.df_utils._infer_frequency) - Major frequency D corresponds to 96.667% of the data.\n",
      "INFO - (NP.df_utils._infer_frequency) - Defined frequency is equal to major frequency - D\n",
      "INFO - (NP.df_utils._infer_frequency) - Major frequency D corresponds to 96.667% of the data.\n",
      "INFO - (NP.df_utils._infer_frequency) - Defined frequency is equal to major frequency - D\n",
      "INFO - (NP.df_utils._infer_frequency) - Major frequency D corresponds to 99.945% of the data.\n",
      "INFO - (NP.df_utils._infer_frequency) - Defined frequency is equal to major frequency - D\n",
      "INFO - (NP.df_utils._infer_frequency) - Major frequency D corresponds to 96.667% of the data.\n",
      "INFO - (NP.df_utils._infer_frequency) - Defined frequency is equal to major frequency - D\n",
      "INFO - (NP.df_utils._infer_frequency) - Major frequency D corresponds to 96.667% of the data.\n",
      "INFO - (NP.df_utils._infer_frequency) - Defined frequency is equal to major frequency - D\n",
      "INFO - (NP.df_utils._infer_frequency) - Major frequency D corresponds to 99.945% of the data.\n",
      "INFO - (NP.df_utils._infer_frequency) - Defined frequency is equal to major frequency - D\n",
      "INFO - (NP.df_utils._infer_frequency) - Major frequency D corresponds to 96.667% of the data.\n",
      "INFO - (NP.df_utils._infer_frequency) - Defined frequency is equal to major frequency - D\n",
      "INFO - (NP.df_utils._infer_frequency) - Major frequency D corresponds to 96.667% of the data.\n",
      "INFO - (NP.df_utils._infer_frequency) - Defined frequency is equal to major frequency - D\n"
     ]
    },
    {
     "name": "stderr",
     "output_type": "stream",
     "text": [
      "INFO - (NP.df_utils._infer_frequency) - Major frequency D corresponds to 99.945% of the data.\n",
      "INFO - (NP.df_utils._infer_frequency) - Defined frequency is equal to major frequency - D\n",
      "INFO - (NP.df_utils._infer_frequency) - Major frequency D corresponds to 96.667% of the data.\n",
      "INFO - (NP.df_utils._infer_frequency) - Defined frequency is equal to major frequency - D\n",
      "INFO - (NP.df_utils._infer_frequency) - Major frequency D corresponds to 96.667% of the data.\n",
      "INFO - (NP.df_utils._infer_frequency) - Defined frequency is equal to major frequency - D\n",
      "INFO - (NP.df_utils._infer_frequency) - Major frequency D corresponds to 99.945% of the data.\n",
      "INFO - (NP.df_utils._infer_frequency) - Defined frequency is equal to major frequency - D\n",
      "INFO - (NP.df_utils._infer_frequency) - Major frequency D corresponds to 96.667% of the data.\n",
      "INFO - (NP.df_utils._infer_frequency) - Defined frequency is equal to major frequency - D\n",
      "INFO - (NP.df_utils._infer_frequency) - Major frequency D corresponds to 96.667% of the data.\n",
      "INFO - (NP.df_utils._infer_frequency) - Defined frequency is equal to major frequency - D\n",
      "INFO - (NP.df_utils._infer_frequency) - Major frequency D corresponds to 99.945% of the data.\n",
      "INFO - (NP.df_utils._infer_frequency) - Defined frequency is equal to major frequency - D\n",
      "INFO - (NP.df_utils._infer_frequency) - Major frequency D corresponds to 96.667% of the data.\n",
      "INFO - (NP.df_utils._infer_frequency) - Defined frequency is equal to major frequency - D\n",
      "INFO - (NP.df_utils._infer_frequency) - Major frequency D corresponds to 96.667% of the data.\n",
      "INFO - (NP.df_utils._infer_frequency) - Defined frequency is equal to major frequency - D\n",
      "INFO - (NP.df_utils._infer_frequency) - Major frequency D corresponds to 99.945% of the data.\n",
      "INFO - (NP.df_utils._infer_frequency) - Defined frequency is equal to major frequency - D\n",
      "INFO - (NP.df_utils._infer_frequency) - Major frequency D corresponds to 96.667% of the data.\n",
      "INFO - (NP.df_utils._infer_frequency) - Defined frequency is equal to major frequency - D\n",
      "INFO - (NP.df_utils._infer_frequency) - Major frequency D corresponds to 96.667% of the data.\n",
      "INFO - (NP.df_utils._infer_frequency) - Defined frequency is equal to major frequency - D\n",
      "INFO - (NP.df_utils._infer_frequency) - Major frequency D corresponds to 99.945% of the data.\n",
      "INFO - (NP.df_utils._infer_frequency) - Defined frequency is equal to major frequency - D\n",
      "INFO - (NP.df_utils._infer_frequency) - Major frequency D corresponds to 96.667% of the data.\n",
      "INFO - (NP.df_utils._infer_frequency) - Defined frequency is equal to major frequency - D\n",
      "INFO - (NP.df_utils._infer_frequency) - Major frequency D corresponds to 96.667% of the data.\n",
      "INFO - (NP.df_utils._infer_frequency) - Defined frequency is equal to major frequency - D\n"
     ]
    }
   ],
   "source": [
    "final_fourcast = fourcast(final_models, proc_data, 30)"
   ]
  },
  {
   "cell_type": "code",
   "execution_count": 157,
   "id": "5257d0ba",
   "metadata": {
    "ExecuteTime": {
     "end_time": "2022-12-30T11:06:24.326283Z",
     "start_time": "2022-12-30T11:06:24.284395Z"
    },
    "hidden": true
   },
   "outputs": [
    {
     "data": {
      "text/html": [
       "<div>\n",
       "<style scoped>\n",
       "    .dataframe tbody tr th:only-of-type {\n",
       "        vertical-align: middle;\n",
       "    }\n",
       "\n",
       "    .dataframe tbody tr th {\n",
       "        vertical-align: top;\n",
       "    }\n",
       "\n",
       "    .dataframe thead th {\n",
       "        text-align: right;\n",
       "    }\n",
       "</style>\n",
       "<table border=\"1\" class=\"dataframe\">\n",
       "  <thead>\n",
       "    <tr style=\"text-align: right;\">\n",
       "      <th></th>\n",
       "      <th>Date</th>\n",
       "      <th>sales_1</th>\n",
       "      <th>sales_2</th>\n",
       "      <th>sales_3</th>\n",
       "      <th>sales_4</th>\n",
       "      <th>sales_5</th>\n",
       "      <th>sales_6</th>\n",
       "      <th>sales_7</th>\n",
       "      <th>sales_8</th>\n",
       "      <th>sales_9</th>\n",
       "      <th>...</th>\n",
       "      <th>sales_41</th>\n",
       "      <th>sales_42</th>\n",
       "      <th>sales_43</th>\n",
       "      <th>sales_44</th>\n",
       "      <th>sales_45</th>\n",
       "      <th>sales_46</th>\n",
       "      <th>sales_47</th>\n",
       "      <th>sales_48</th>\n",
       "      <th>sales_49</th>\n",
       "      <th>sales_50</th>\n",
       "    </tr>\n",
       "  </thead>\n",
       "  <tbody>\n",
       "    <tr>\n",
       "      <th>0</th>\n",
       "      <td>2018-01-01</td>\n",
       "      <td>11.359156</td>\n",
       "      <td>35.424644</td>\n",
       "      <td>19.723595</td>\n",
       "      <td>11.087411</td>\n",
       "      <td>9.813377</td>\n",
       "      <td>34.900227</td>\n",
       "      <td>31.508875</td>\n",
       "      <td>43.950386</td>\n",
       "      <td>26.628590</td>\n",
       "      <td>...</td>\n",
       "      <td>12.260443</td>\n",
       "      <td>18.648516</td>\n",
       "      <td>28.090199</td>\n",
       "      <td>17.514156</td>\n",
       "      <td>43.481125</td>\n",
       "      <td>33.297436</td>\n",
       "      <td>12.103880</td>\n",
       "      <td>29.832226</td>\n",
       "      <td>16.882732</td>\n",
       "      <td>35.597202</td>\n",
       "    </tr>\n",
       "    <tr>\n",
       "      <th>1</th>\n",
       "      <td>2018-01-02</td>\n",
       "      <td>14.140992</td>\n",
       "      <td>42.757236</td>\n",
       "      <td>23.223000</td>\n",
       "      <td>14.020658</td>\n",
       "      <td>12.016328</td>\n",
       "      <td>42.303356</td>\n",
       "      <td>38.691879</td>\n",
       "      <td>53.854515</td>\n",
       "      <td>32.344151</td>\n",
       "      <td>...</td>\n",
       "      <td>14.980112</td>\n",
       "      <td>22.375595</td>\n",
       "      <td>33.052452</td>\n",
       "      <td>21.109150</td>\n",
       "      <td>53.245319</td>\n",
       "      <td>40.139599</td>\n",
       "      <td>14.804081</td>\n",
       "      <td>36.801243</td>\n",
       "      <td>20.091303</td>\n",
       "      <td>43.575478</td>\n",
       "    </tr>\n",
       "    <tr>\n",
       "      <th>2</th>\n",
       "      <td>2018-01-03</td>\n",
       "      <td>14.685508</td>\n",
       "      <td>43.985077</td>\n",
       "      <td>23.846638</td>\n",
       "      <td>14.113669</td>\n",
       "      <td>12.313349</td>\n",
       "      <td>42.795845</td>\n",
       "      <td>38.933266</td>\n",
       "      <td>54.112358</td>\n",
       "      <td>32.864571</td>\n",
       "      <td>...</td>\n",
       "      <td>15.293009</td>\n",
       "      <td>23.182060</td>\n",
       "      <td>34.431778</td>\n",
       "      <td>21.100288</td>\n",
       "      <td>53.783348</td>\n",
       "      <td>40.795227</td>\n",
       "      <td>15.097801</td>\n",
       "      <td>36.123810</td>\n",
       "      <td>19.803154</td>\n",
       "      <td>44.549351</td>\n",
       "    </tr>\n",
       "    <tr>\n",
       "      <th>3</th>\n",
       "      <td>2018-01-04</td>\n",
       "      <td>15.529398</td>\n",
       "      <td>46.954239</td>\n",
       "      <td>25.637947</td>\n",
       "      <td>16.153685</td>\n",
       "      <td>13.885095</td>\n",
       "      <td>45.038696</td>\n",
       "      <td>43.100616</td>\n",
       "      <td>58.188259</td>\n",
       "      <td>35.799572</td>\n",
       "      <td>...</td>\n",
       "      <td>16.355579</td>\n",
       "      <td>24.850800</td>\n",
       "      <td>36.928223</td>\n",
       "      <td>23.488472</td>\n",
       "      <td>57.706516</td>\n",
       "      <td>44.734329</td>\n",
       "      <td>16.652641</td>\n",
       "      <td>39.713135</td>\n",
       "      <td>22.886192</td>\n",
       "      <td>47.946236</td>\n",
       "    </tr>\n",
       "    <tr>\n",
       "      <th>4</th>\n",
       "      <td>2018-01-05</td>\n",
       "      <td>17.173433</td>\n",
       "      <td>50.723633</td>\n",
       "      <td>28.551336</td>\n",
       "      <td>16.595592</td>\n",
       "      <td>14.075049</td>\n",
       "      <td>49.380592</td>\n",
       "      <td>45.762459</td>\n",
       "      <td>63.678478</td>\n",
       "      <td>38.654793</td>\n",
       "      <td>...</td>\n",
       "      <td>18.204102</td>\n",
       "      <td>26.970984</td>\n",
       "      <td>40.365440</td>\n",
       "      <td>24.781799</td>\n",
       "      <td>63.637508</td>\n",
       "      <td>48.606369</td>\n",
       "      <td>17.385603</td>\n",
       "      <td>43.637772</td>\n",
       "      <td>23.698809</td>\n",
       "      <td>51.823925</td>\n",
       "    </tr>\n",
       "    <tr>\n",
       "      <th>5</th>\n",
       "      <td>2018-01-06</td>\n",
       "      <td>19.296957</td>\n",
       "      <td>54.839729</td>\n",
       "      <td>30.737381</td>\n",
       "      <td>18.310577</td>\n",
       "      <td>15.702939</td>\n",
       "      <td>53.476315</td>\n",
       "      <td>51.215729</td>\n",
       "      <td>68.302879</td>\n",
       "      <td>42.662216</td>\n",
       "      <td>...</td>\n",
       "      <td>19.998190</td>\n",
       "      <td>29.174887</td>\n",
       "      <td>43.289680</td>\n",
       "      <td>26.964376</td>\n",
       "      <td>68.223007</td>\n",
       "      <td>51.095360</td>\n",
       "      <td>18.648399</td>\n",
       "      <td>46.117191</td>\n",
       "      <td>25.663891</td>\n",
       "      <td>57.100220</td>\n",
       "    </tr>\n",
       "    <tr>\n",
       "      <th>6</th>\n",
       "      <td>2018-01-07</td>\n",
       "      <td>20.209824</td>\n",
       "      <td>58.309959</td>\n",
       "      <td>33.668949</td>\n",
       "      <td>19.296457</td>\n",
       "      <td>16.715927</td>\n",
       "      <td>57.424774</td>\n",
       "      <td>53.769585</td>\n",
       "      <td>73.007889</td>\n",
       "      <td>44.963825</td>\n",
       "      <td>...</td>\n",
       "      <td>20.591986</td>\n",
       "      <td>31.502962</td>\n",
       "      <td>46.723049</td>\n",
       "      <td>28.142611</td>\n",
       "      <td>75.066925</td>\n",
       "      <td>56.155502</td>\n",
       "      <td>20.082243</td>\n",
       "      <td>50.525024</td>\n",
       "      <td>28.300669</td>\n",
       "      <td>59.266804</td>\n",
       "    </tr>\n",
       "    <tr>\n",
       "      <th>7</th>\n",
       "      <td>2018-01-08</td>\n",
       "      <td>11.838045</td>\n",
       "      <td>36.509872</td>\n",
       "      <td>20.432240</td>\n",
       "      <td>11.236192</td>\n",
       "      <td>10.039147</td>\n",
       "      <td>35.621063</td>\n",
       "      <td>32.417168</td>\n",
       "      <td>44.615028</td>\n",
       "      <td>27.203777</td>\n",
       "      <td>...</td>\n",
       "      <td>12.432948</td>\n",
       "      <td>18.752855</td>\n",
       "      <td>28.367178</td>\n",
       "      <td>18.134357</td>\n",
       "      <td>44.779930</td>\n",
       "      <td>34.287666</td>\n",
       "      <td>12.304552</td>\n",
       "      <td>31.093861</td>\n",
       "      <td>17.069271</td>\n",
       "      <td>36.431068</td>\n",
       "    </tr>\n",
       "    <tr>\n",
       "      <th>8</th>\n",
       "      <td>2018-01-09</td>\n",
       "      <td>14.650858</td>\n",
       "      <td>43.896965</td>\n",
       "      <td>23.996050</td>\n",
       "      <td>14.212663</td>\n",
       "      <td>12.284648</td>\n",
       "      <td>43.077145</td>\n",
       "      <td>39.714874</td>\n",
       "      <td>54.610756</td>\n",
       "      <td>33.043041</td>\n",
       "      <td>...</td>\n",
       "      <td>15.174465</td>\n",
       "      <td>22.563232</td>\n",
       "      <td>33.413162</td>\n",
       "      <td>21.747066</td>\n",
       "      <td>54.674507</td>\n",
       "      <td>41.191669</td>\n",
       "      <td>15.020792</td>\n",
       "      <td>38.095375</td>\n",
       "      <td>20.299103</td>\n",
       "      <td>44.534328</td>\n",
       "    </tr>\n",
       "    <tr>\n",
       "      <th>9</th>\n",
       "      <td>2018-01-10</td>\n",
       "      <td>15.219429</td>\n",
       "      <td>45.166149</td>\n",
       "      <td>24.672533</td>\n",
       "      <td>14.344262</td>\n",
       "      <td>12.620101</td>\n",
       "      <td>43.611099</td>\n",
       "      <td>40.056774</td>\n",
       "      <td>54.944881</td>\n",
       "      <td>33.676598</td>\n",
       "      <td>...</td>\n",
       "      <td>15.505055</td>\n",
       "      <td>23.446356</td>\n",
       "      <td>34.866310</td>\n",
       "      <td>21.746899</td>\n",
       "      <td>55.321224</td>\n",
       "      <td>41.894405</td>\n",
       "      <td>15.326606</td>\n",
       "      <td>37.436321</td>\n",
       "      <td>20.026390</td>\n",
       "      <td>45.617722</td>\n",
       "    </tr>\n",
       "    <tr>\n",
       "      <th>10</th>\n",
       "      <td>2018-01-11</td>\n",
       "      <td>16.080561</td>\n",
       "      <td>48.163963</td>\n",
       "      <td>26.505213</td>\n",
       "      <td>16.418167</td>\n",
       "      <td>14.226039</td>\n",
       "      <td>45.884460</td>\n",
       "      <td>44.310371</td>\n",
       "      <td>59.082096</td>\n",
       "      <td>36.713890</td>\n",
       "      <td>...</td>\n",
       "      <td>16.581310</td>\n",
       "      <td>25.185041</td>\n",
       "      <td>37.426685</td>\n",
       "      <td>24.135168</td>\n",
       "      <td>59.331585</td>\n",
       "      <td>45.866287</td>\n",
       "      <td>16.889896</td>\n",
       "      <td>41.030563</td>\n",
       "      <td>23.119276</td>\n",
       "      <td>49.108597</td>\n",
       "    </tr>\n",
       "    <tr>\n",
       "      <th>11</th>\n",
       "      <td>2018-01-12</td>\n",
       "      <td>17.735184</td>\n",
       "      <td>51.949993</td>\n",
       "      <td>29.448708</td>\n",
       "      <td>16.889248</td>\n",
       "      <td>14.445870</td>\n",
       "      <td>50.246521</td>\n",
       "      <td>47.044247</td>\n",
       "      <td>64.619179</td>\n",
       "      <td>39.660416</td>\n",
       "      <td>...</td>\n",
       "      <td>18.439709</td>\n",
       "      <td>27.368462</td>\n",
       "      <td>40.918015</td>\n",
       "      <td>25.420475</td>\n",
       "      <td>65.328705</td>\n",
       "      <td>49.757343</td>\n",
       "      <td>17.628017</td>\n",
       "      <td>44.947441</td>\n",
       "      <td>23.936445</td>\n",
       "      <td>53.064823</td>\n",
       "    </tr>\n",
       "    <tr>\n",
       "      <th>12</th>\n",
       "      <td>2018-01-13</td>\n",
       "      <td>19.862865</td>\n",
       "      <td>56.071400</td>\n",
       "      <td>31.653891</td>\n",
       "      <td>18.628716</td>\n",
       "      <td>16.099283</td>\n",
       "      <td>54.352802</td>\n",
       "      <td>52.555508</td>\n",
       "      <td>69.276642</td>\n",
       "      <td>43.748077</td>\n",
       "      <td>...</td>\n",
       "      <td>20.240070</td>\n",
       "      <td>29.628960</td>\n",
       "      <td>43.886761</td>\n",
       "      <td>27.587521</td>\n",
       "      <td>69.959915</td>\n",
       "      <td>52.252262</td>\n",
       "      <td>18.893042</td>\n",
       "      <td>47.407330</td>\n",
       "      <td>25.901133</td>\n",
       "      <td>58.404430</td>\n",
       "    </tr>\n",
       "    <tr>\n",
       "      <th>13</th>\n",
       "      <td>2018-01-14</td>\n",
       "      <td>20.773745</td>\n",
       "      <td>59.536488</td>\n",
       "      <td>34.594048</td>\n",
       "      <td>19.634457</td>\n",
       "      <td>17.133453</td>\n",
       "      <td>58.303043</td>\n",
       "      <td>55.153633</td>\n",
       "      <td>74.001678</td>\n",
       "      <td>46.118916</td>\n",
       "      <td>...</td>\n",
       "      <td>20.836796</td>\n",
       "      <td>32.007107</td>\n",
       "      <td>47.355301</td>\n",
       "      <td>28.743366</td>\n",
       "      <td>76.829918</td>\n",
       "      <td>57.306053</td>\n",
       "      <td>20.326590</td>\n",
       "      <td>51.784866</td>\n",
       "      <td>28.532948</td>\n",
       "      <td>60.619465</td>\n",
       "    </tr>\n",
       "    <tr>\n",
       "      <th>14</th>\n",
       "      <td>2018-01-15</td>\n",
       "      <td>12.394169</td>\n",
       "      <td>37.721703</td>\n",
       "      <td>21.355902</td>\n",
       "      <td>11.589548</td>\n",
       "      <td>10.473555</td>\n",
       "      <td>36.493221</td>\n",
       "      <td>33.832207</td>\n",
       "      <td>45.616714</td>\n",
       "      <td>28.417213</td>\n",
       "      <td>...</td>\n",
       "      <td>12.677618</td>\n",
       "      <td>19.300735</td>\n",
       "      <td>29.025633</td>\n",
       "      <td>18.706577</td>\n",
       "      <td>46.550407</td>\n",
       "      <td>35.420486</td>\n",
       "      <td>12.546484</td>\n",
       "      <td>32.313744</td>\n",
       "      <td>17.292456</td>\n",
       "      <td>37.817848</td>\n",
       "    </tr>\n",
       "    <tr>\n",
       "      <th>15</th>\n",
       "      <td>2018-01-16</td>\n",
       "      <td>15.193763</td>\n",
       "      <td>45.085575</td>\n",
       "      <td>24.908846</td>\n",
       "      <td>14.577026</td>\n",
       "      <td>12.731725</td>\n",
       "      <td>43.936279</td>\n",
       "      <td>41.148186</td>\n",
       "      <td>55.609222</td>\n",
       "      <td>34.304169</td>\n",
       "      <td>...</td>\n",
       "      <td>15.416235</td>\n",
       "      <td>23.148748</td>\n",
       "      <td>34.089302</td>\n",
       "      <td>22.285389</td>\n",
       "      <td>56.435036</td>\n",
       "      <td>42.296394</td>\n",
       "      <td>15.258616</td>\n",
       "      <td>39.266830</td>\n",
       "      <td>20.509518</td>\n",
       "      <td>45.941509</td>\n",
       "    </tr>\n",
       "    <tr>\n",
       "      <th>16</th>\n",
       "      <td>2018-01-17</td>\n",
       "      <td>15.744123</td>\n",
       "      <td>46.324047</td>\n",
       "      <td>25.565722</td>\n",
       "      <td>14.715481</td>\n",
       "      <td>13.075759</td>\n",
       "      <td>44.451302</td>\n",
       "      <td>41.496311</td>\n",
       "      <td>55.930115</td>\n",
       "      <td>34.975075</td>\n",
       "      <td>...</td>\n",
       "      <td>15.741484</td>\n",
       "      <td>24.063700</td>\n",
       "      <td>35.552124</td>\n",
       "      <td>22.246758</td>\n",
       "      <td>57.055695</td>\n",
       "      <td>42.961750</td>\n",
       "      <td>15.559062</td>\n",
       "      <td>38.552113</td>\n",
       "      <td>20.220852</td>\n",
       "      <td>47.032364</td>\n",
       "    </tr>\n",
       "    <tr>\n",
       "      <th>17</th>\n",
       "      <td>2018-01-18</td>\n",
       "      <td>16.582531</td>\n",
       "      <td>49.284817</td>\n",
       "      <td>27.370836</td>\n",
       "      <td>16.792316</td>\n",
       "      <td>14.686353</td>\n",
       "      <td>46.700886</td>\n",
       "      <td>45.744865</td>\n",
       "      <td>60.045261</td>\n",
       "      <td>38.039780</td>\n",
       "      <td>...</td>\n",
       "      <td>16.810295</td>\n",
       "      <td>25.828730</td>\n",
       "      <td>38.114761</td>\n",
       "      <td>24.592861</td>\n",
       "      <td>61.025349</td>\n",
       "      <td>46.888130</td>\n",
       "      <td>17.116158</td>\n",
       "      <td>42.084759</td>\n",
       "      <td>23.295111</td>\n",
       "      <td>50.518635</td>\n",
       "    </tr>\n",
       "    <tr>\n",
       "      <th>18</th>\n",
       "      <td>2018-01-19</td>\n",
       "      <td>18.210417</td>\n",
       "      <td>53.028587</td>\n",
       "      <td>30.279619</td>\n",
       "      <td>17.262665</td>\n",
       "      <td>14.907104</td>\n",
       "      <td>51.035439</td>\n",
       "      <td>48.463276</td>\n",
       "      <td>65.552689</td>\n",
       "      <td>41.004257</td>\n",
       "      <td>...</td>\n",
       "      <td>18.659496</td>\n",
       "      <td>28.033386</td>\n",
       "      <td>41.601578</td>\n",
       "      <td>25.833176</td>\n",
       "      <td>66.968689</td>\n",
       "      <td>50.726788</td>\n",
       "      <td>17.847683</td>\n",
       "      <td>45.935429</td>\n",
       "      <td>24.091515</td>\n",
       "      <td>54.459148</td>\n",
       "    </tr>\n",
       "    <tr>\n",
       "      <th>19</th>\n",
       "      <td>2018-01-20</td>\n",
       "      <td>20.307896</td>\n",
       "      <td>57.103741</td>\n",
       "      <td>32.443855</td>\n",
       "      <td>18.998035</td>\n",
       "      <td>16.557938</td>\n",
       "      <td>55.111565</td>\n",
       "      <td>53.949615</td>\n",
       "      <td>70.174240</td>\n",
       "      <td>45.100945</td>\n",
       "      <td>...</td>\n",
       "      <td>20.449276</td>\n",
       "      <td>30.310408</td>\n",
       "      <td>44.559742</td>\n",
       "      <td>27.953285</td>\n",
       "      <td>71.534737</td>\n",
       "      <td>53.163681</td>\n",
       "      <td>19.106140</td>\n",
       "      <td>48.325867</td>\n",
       "      <td>26.033842</td>\n",
       "      <td>59.773006</td>\n",
       "    </tr>\n",
       "    <tr>\n",
       "      <th>20</th>\n",
       "      <td>2018-01-21</td>\n",
       "      <td>21.185658</td>\n",
       "      <td>60.519745</td>\n",
       "      <td>35.337749</td>\n",
       "      <td>19.996630</td>\n",
       "      <td>17.586269</td>\n",
       "      <td>59.030117</td>\n",
       "      <td>56.514374</td>\n",
       "      <td>74.858429</td>\n",
       "      <td>47.472504</td>\n",
       "      <td>...</td>\n",
       "      <td>21.034393</td>\n",
       "      <td>32.700802</td>\n",
       "      <td>48.012352</td>\n",
       "      <td>29.061146</td>\n",
       "      <td>78.329933</td>\n",
       "      <td>58.155098</td>\n",
       "      <td>20.533543</td>\n",
       "      <td>52.632050</td>\n",
       "      <td>28.642248</td>\n",
       "      <td>61.953384</td>\n",
       "    </tr>\n",
       "    <tr>\n",
       "      <th>21</th>\n",
       "      <td>2018-01-22</td>\n",
       "      <td>12.770636</td>\n",
       "      <td>38.654274</td>\n",
       "      <td>22.049004</td>\n",
       "      <td>11.941874</td>\n",
       "      <td>10.917568</td>\n",
       "      <td>37.188190</td>\n",
       "      <td>35.152222</td>\n",
       "      <td>46.429085</td>\n",
       "      <td>29.763874</td>\n",
       "      <td>...</td>\n",
       "      <td>12.862946</td>\n",
       "      <td>20.002861</td>\n",
       "      <td>29.662214</td>\n",
       "      <td>18.976219</td>\n",
       "      <td>47.967823</td>\n",
       "      <td>36.204132</td>\n",
       "      <td>12.748108</td>\n",
       "      <td>33.089039</td>\n",
       "      <td>17.377857</td>\n",
       "      <td>39.109417</td>\n",
       "    </tr>\n",
       "    <tr>\n",
       "      <th>22</th>\n",
       "      <td>2018-01-23</td>\n",
       "      <td>15.533042</td>\n",
       "      <td>45.966995</td>\n",
       "      <td>25.548004</td>\n",
       "      <td>14.917161</td>\n",
       "      <td>13.164273</td>\n",
       "      <td>44.599785</td>\n",
       "      <td>42.421242</td>\n",
       "      <td>56.375023</td>\n",
       "      <td>35.636971</td>\n",
       "      <td>...</td>\n",
       "      <td>15.588998</td>\n",
       "      <td>23.855951</td>\n",
       "      <td>34.701653</td>\n",
       "      <td>22.507603</td>\n",
       "      <td>57.763874</td>\n",
       "      <td>43.012924</td>\n",
       "      <td>15.456088</td>\n",
       "      <td>39.971001</td>\n",
       "      <td>20.571068</td>\n",
       "      <td>47.184261</td>\n",
       "    </tr>\n",
       "    <tr>\n",
       "      <th>23</th>\n",
       "      <td>2018-01-24</td>\n",
       "      <td>16.045074</td>\n",
       "      <td>47.155041</td>\n",
       "      <td>26.148613</td>\n",
       "      <td>15.041459</td>\n",
       "      <td>13.494498</td>\n",
       "      <td>45.085045</td>\n",
       "      <td>42.717339</td>\n",
       "      <td>56.648544</td>\n",
       "      <td>36.287834</td>\n",
       "      <td>...</td>\n",
       "      <td>15.901744</td>\n",
       "      <td>24.773108</td>\n",
       "      <td>36.137314</td>\n",
       "      <td>22.423113</td>\n",
       "      <td>58.291870</td>\n",
       "      <td>43.610748</td>\n",
       "      <td>15.753894</td>\n",
       "      <td>39.187214</td>\n",
       "      <td>20.259132</td>\n",
       "      <td>48.221123</td>\n",
       "    </tr>\n",
       "    <tr>\n",
       "      <th>24</th>\n",
       "      <td>2018-01-25</td>\n",
       "      <td>16.844601</td>\n",
       "      <td>50.067207</td>\n",
       "      <td>27.896137</td>\n",
       "      <td>17.102558</td>\n",
       "      <td>15.089284</td>\n",
       "      <td>47.307545</td>\n",
       "      <td>46.909969</td>\n",
       "      <td>60.716877</td>\n",
       "      <td>39.327103</td>\n",
       "      <td>...</td>\n",
       "      <td>16.958458</td>\n",
       "      <td>26.537964</td>\n",
       "      <td>38.670685</td>\n",
       "      <td>24.725737</td>\n",
       "      <td>62.166645</td>\n",
       "      <td>47.470459</td>\n",
       "      <td>17.310165</td>\n",
       "      <td>42.654068</td>\n",
       "      <td>23.311224</td>\n",
       "      <td>51.649521</td>\n",
       "    </tr>\n",
       "    <tr>\n",
       "      <th>25</th>\n",
       "      <td>2018-01-26</td>\n",
       "      <td>18.433651</td>\n",
       "      <td>53.765270</td>\n",
       "      <td>30.747017</td>\n",
       "      <td>17.555984</td>\n",
       "      <td>15.292576</td>\n",
       "      <td>51.618641</td>\n",
       "      <td>49.569778</td>\n",
       "      <td>66.179367</td>\n",
       "      <td>42.261543</td>\n",
       "      <td>...</td>\n",
       "      <td>18.796295</td>\n",
       "      <td>28.740538</td>\n",
       "      <td>42.126976</td>\n",
       "      <td>25.925724</td>\n",
       "      <td>68.014755</td>\n",
       "      <td>51.244545</td>\n",
       "      <td>18.042953</td>\n",
       "      <td>46.443398</td>\n",
       "      <td>24.087049</td>\n",
       "      <td>55.529598</td>\n",
       "    </tr>\n",
       "    <tr>\n",
       "      <th>26</th>\n",
       "      <td>2018-01-27</td>\n",
       "      <td>20.492908</td>\n",
       "      <td>57.798592</td>\n",
       "      <td>32.854019</td>\n",
       "      <td>19.273647</td>\n",
       "      <td>16.924664</td>\n",
       "      <td>55.675819</td>\n",
       "      <td>54.996017</td>\n",
       "      <td>70.759087</td>\n",
       "      <td>46.324425</td>\n",
       "      <td>...</td>\n",
       "      <td>20.575762</td>\n",
       "      <td>31.014059</td>\n",
       "      <td>45.054161</td>\n",
       "      <td>28.009378</td>\n",
       "      <td>72.486984</td>\n",
       "      <td>53.620132</td>\n",
       "      <td>19.304981</td>\n",
       "      <td>48.778011</td>\n",
       "      <td>26.010864</td>\n",
       "      <td>60.781750</td>\n",
       "    </tr>\n",
       "    <tr>\n",
       "      <th>27</th>\n",
       "      <td>2018-01-28</td>\n",
       "      <td>21.333626</td>\n",
       "      <td>61.177593</td>\n",
       "      <td>35.692310</td>\n",
       "      <td>20.254139</td>\n",
       "      <td>17.933325</td>\n",
       "      <td>59.580696</td>\n",
       "      <td>57.500359</td>\n",
       "      <td>75.405792</td>\n",
       "      <td>48.659218</td>\n",
       "      <td>...</td>\n",
       "      <td>21.151905</td>\n",
       "      <td>33.399994</td>\n",
       "      <td>48.476162</td>\n",
       "      <td>29.085323</td>\n",
       "      <td>79.191559</td>\n",
       "      <td>58.554661</td>\n",
       "      <td>20.738462</td>\n",
       "      <td>53.034901</td>\n",
       "      <td>28.603258</td>\n",
       "      <td>62.900433</td>\n",
       "    </tr>\n",
       "    <tr>\n",
       "      <th>28</th>\n",
       "      <td>2018-01-29</td>\n",
       "      <td>12.883267</td>\n",
       "      <td>39.280758</td>\n",
       "      <td>22.350502</td>\n",
       "      <td>12.181273</td>\n",
       "      <td>11.244395</td>\n",
       "      <td>37.731087</td>\n",
       "      <td>36.078632</td>\n",
       "      <td>46.944412</td>\n",
       "      <td>30.911694</td>\n",
       "      <td>...</td>\n",
       "      <td>12.973101</td>\n",
       "      <td>20.697083</td>\n",
       "      <td>30.096558</td>\n",
       "      <td>18.973608</td>\n",
       "      <td>48.743637</td>\n",
       "      <td>36.552238</td>\n",
       "      <td>12.961751</td>\n",
       "      <td>33.449997</td>\n",
       "      <td>17.325748</td>\n",
       "      <td>39.996010</td>\n",
       "    </tr>\n",
       "    <tr>\n",
       "      <th>29</th>\n",
       "      <td>2018-01-30</td>\n",
       "      <td>15.612552</td>\n",
       "      <td>46.568550</td>\n",
       "      <td>25.799843</td>\n",
       "      <td>15.138823</td>\n",
       "      <td>13.470674</td>\n",
       "      <td>45.141594</td>\n",
       "      <td>43.290024</td>\n",
       "      <td>56.864822</td>\n",
       "      <td>36.744568</td>\n",
       "      <td>...</td>\n",
       "      <td>15.693650</td>\n",
       "      <td>24.545116</td>\n",
       "      <td>35.108429</td>\n",
       "      <td>22.483868</td>\n",
       "      <td>58.460304</td>\n",
       "      <td>43.315979</td>\n",
       "      <td>15.681211</td>\n",
       "      <td>40.298271</td>\n",
       "      <td>20.509106</td>\n",
       "      <td>48.012856</td>\n",
       "    </tr>\n",
       "  </tbody>\n",
       "</table>\n",
       "<p>30 rows × 51 columns</p>\n",
       "</div>"
      ],
      "text/plain": [
       "         Date    sales_1    sales_2    sales_3    sales_4    sales_5  \\\n",
       "0  2018-01-01  11.359156  35.424644  19.723595  11.087411   9.813377   \n",
       "1  2018-01-02  14.140992  42.757236  23.223000  14.020658  12.016328   \n",
       "2  2018-01-03  14.685508  43.985077  23.846638  14.113669  12.313349   \n",
       "3  2018-01-04  15.529398  46.954239  25.637947  16.153685  13.885095   \n",
       "4  2018-01-05  17.173433  50.723633  28.551336  16.595592  14.075049   \n",
       "5  2018-01-06  19.296957  54.839729  30.737381  18.310577  15.702939   \n",
       "6  2018-01-07  20.209824  58.309959  33.668949  19.296457  16.715927   \n",
       "7  2018-01-08  11.838045  36.509872  20.432240  11.236192  10.039147   \n",
       "8  2018-01-09  14.650858  43.896965  23.996050  14.212663  12.284648   \n",
       "9  2018-01-10  15.219429  45.166149  24.672533  14.344262  12.620101   \n",
       "10 2018-01-11  16.080561  48.163963  26.505213  16.418167  14.226039   \n",
       "11 2018-01-12  17.735184  51.949993  29.448708  16.889248  14.445870   \n",
       "12 2018-01-13  19.862865  56.071400  31.653891  18.628716  16.099283   \n",
       "13 2018-01-14  20.773745  59.536488  34.594048  19.634457  17.133453   \n",
       "14 2018-01-15  12.394169  37.721703  21.355902  11.589548  10.473555   \n",
       "15 2018-01-16  15.193763  45.085575  24.908846  14.577026  12.731725   \n",
       "16 2018-01-17  15.744123  46.324047  25.565722  14.715481  13.075759   \n",
       "17 2018-01-18  16.582531  49.284817  27.370836  16.792316  14.686353   \n",
       "18 2018-01-19  18.210417  53.028587  30.279619  17.262665  14.907104   \n",
       "19 2018-01-20  20.307896  57.103741  32.443855  18.998035  16.557938   \n",
       "20 2018-01-21  21.185658  60.519745  35.337749  19.996630  17.586269   \n",
       "21 2018-01-22  12.770636  38.654274  22.049004  11.941874  10.917568   \n",
       "22 2018-01-23  15.533042  45.966995  25.548004  14.917161  13.164273   \n",
       "23 2018-01-24  16.045074  47.155041  26.148613  15.041459  13.494498   \n",
       "24 2018-01-25  16.844601  50.067207  27.896137  17.102558  15.089284   \n",
       "25 2018-01-26  18.433651  53.765270  30.747017  17.555984  15.292576   \n",
       "26 2018-01-27  20.492908  57.798592  32.854019  19.273647  16.924664   \n",
       "27 2018-01-28  21.333626  61.177593  35.692310  20.254139  17.933325   \n",
       "28 2018-01-29  12.883267  39.280758  22.350502  12.181273  11.244395   \n",
       "29 2018-01-30  15.612552  46.568550  25.799843  15.138823  13.470674   \n",
       "\n",
       "      sales_6    sales_7    sales_8    sales_9  ...   sales_41   sales_42  \\\n",
       "0   34.900227  31.508875  43.950386  26.628590  ...  12.260443  18.648516   \n",
       "1   42.303356  38.691879  53.854515  32.344151  ...  14.980112  22.375595   \n",
       "2   42.795845  38.933266  54.112358  32.864571  ...  15.293009  23.182060   \n",
       "3   45.038696  43.100616  58.188259  35.799572  ...  16.355579  24.850800   \n",
       "4   49.380592  45.762459  63.678478  38.654793  ...  18.204102  26.970984   \n",
       "5   53.476315  51.215729  68.302879  42.662216  ...  19.998190  29.174887   \n",
       "6   57.424774  53.769585  73.007889  44.963825  ...  20.591986  31.502962   \n",
       "7   35.621063  32.417168  44.615028  27.203777  ...  12.432948  18.752855   \n",
       "8   43.077145  39.714874  54.610756  33.043041  ...  15.174465  22.563232   \n",
       "9   43.611099  40.056774  54.944881  33.676598  ...  15.505055  23.446356   \n",
       "10  45.884460  44.310371  59.082096  36.713890  ...  16.581310  25.185041   \n",
       "11  50.246521  47.044247  64.619179  39.660416  ...  18.439709  27.368462   \n",
       "12  54.352802  52.555508  69.276642  43.748077  ...  20.240070  29.628960   \n",
       "13  58.303043  55.153633  74.001678  46.118916  ...  20.836796  32.007107   \n",
       "14  36.493221  33.832207  45.616714  28.417213  ...  12.677618  19.300735   \n",
       "15  43.936279  41.148186  55.609222  34.304169  ...  15.416235  23.148748   \n",
       "16  44.451302  41.496311  55.930115  34.975075  ...  15.741484  24.063700   \n",
       "17  46.700886  45.744865  60.045261  38.039780  ...  16.810295  25.828730   \n",
       "18  51.035439  48.463276  65.552689  41.004257  ...  18.659496  28.033386   \n",
       "19  55.111565  53.949615  70.174240  45.100945  ...  20.449276  30.310408   \n",
       "20  59.030117  56.514374  74.858429  47.472504  ...  21.034393  32.700802   \n",
       "21  37.188190  35.152222  46.429085  29.763874  ...  12.862946  20.002861   \n",
       "22  44.599785  42.421242  56.375023  35.636971  ...  15.588998  23.855951   \n",
       "23  45.085045  42.717339  56.648544  36.287834  ...  15.901744  24.773108   \n",
       "24  47.307545  46.909969  60.716877  39.327103  ...  16.958458  26.537964   \n",
       "25  51.618641  49.569778  66.179367  42.261543  ...  18.796295  28.740538   \n",
       "26  55.675819  54.996017  70.759087  46.324425  ...  20.575762  31.014059   \n",
       "27  59.580696  57.500359  75.405792  48.659218  ...  21.151905  33.399994   \n",
       "28  37.731087  36.078632  46.944412  30.911694  ...  12.973101  20.697083   \n",
       "29  45.141594  43.290024  56.864822  36.744568  ...  15.693650  24.545116   \n",
       "\n",
       "     sales_43   sales_44   sales_45   sales_46   sales_47   sales_48  \\\n",
       "0   28.090199  17.514156  43.481125  33.297436  12.103880  29.832226   \n",
       "1   33.052452  21.109150  53.245319  40.139599  14.804081  36.801243   \n",
       "2   34.431778  21.100288  53.783348  40.795227  15.097801  36.123810   \n",
       "3   36.928223  23.488472  57.706516  44.734329  16.652641  39.713135   \n",
       "4   40.365440  24.781799  63.637508  48.606369  17.385603  43.637772   \n",
       "5   43.289680  26.964376  68.223007  51.095360  18.648399  46.117191   \n",
       "6   46.723049  28.142611  75.066925  56.155502  20.082243  50.525024   \n",
       "7   28.367178  18.134357  44.779930  34.287666  12.304552  31.093861   \n",
       "8   33.413162  21.747066  54.674507  41.191669  15.020792  38.095375   \n",
       "9   34.866310  21.746899  55.321224  41.894405  15.326606  37.436321   \n",
       "10  37.426685  24.135168  59.331585  45.866287  16.889896  41.030563   \n",
       "11  40.918015  25.420475  65.328705  49.757343  17.628017  44.947441   \n",
       "12  43.886761  27.587521  69.959915  52.252262  18.893042  47.407330   \n",
       "13  47.355301  28.743366  76.829918  57.306053  20.326590  51.784866   \n",
       "14  29.025633  18.706577  46.550407  35.420486  12.546484  32.313744   \n",
       "15  34.089302  22.285389  56.435036  42.296394  15.258616  39.266830   \n",
       "16  35.552124  22.246758  57.055695  42.961750  15.559062  38.552113   \n",
       "17  38.114761  24.592861  61.025349  46.888130  17.116158  42.084759   \n",
       "18  41.601578  25.833176  66.968689  50.726788  17.847683  45.935429   \n",
       "19  44.559742  27.953285  71.534737  53.163681  19.106140  48.325867   \n",
       "20  48.012352  29.061146  78.329933  58.155098  20.533543  52.632050   \n",
       "21  29.662214  18.976219  47.967823  36.204132  12.748108  33.089039   \n",
       "22  34.701653  22.507603  57.763874  43.012924  15.456088  39.971001   \n",
       "23  36.137314  22.423113  58.291870  43.610748  15.753894  39.187214   \n",
       "24  38.670685  24.725737  62.166645  47.470459  17.310165  42.654068   \n",
       "25  42.126976  25.925724  68.014755  51.244545  18.042953  46.443398   \n",
       "26  45.054161  28.009378  72.486984  53.620132  19.304981  48.778011   \n",
       "27  48.476162  29.085323  79.191559  58.554661  20.738462  53.034901   \n",
       "28  30.096558  18.973608  48.743637  36.552238  12.961751  33.449997   \n",
       "29  35.108429  22.483868  58.460304  43.315979  15.681211  40.298271   \n",
       "\n",
       "     sales_49   sales_50  \n",
       "0   16.882732  35.597202  \n",
       "1   20.091303  43.575478  \n",
       "2   19.803154  44.549351  \n",
       "3   22.886192  47.946236  \n",
       "4   23.698809  51.823925  \n",
       "5   25.663891  57.100220  \n",
       "6   28.300669  59.266804  \n",
       "7   17.069271  36.431068  \n",
       "8   20.299103  44.534328  \n",
       "9   20.026390  45.617722  \n",
       "10  23.119276  49.108597  \n",
       "11  23.936445  53.064823  \n",
       "12  25.901133  58.404430  \n",
       "13  28.532948  60.619465  \n",
       "14  17.292456  37.817848  \n",
       "15  20.509518  45.941509  \n",
       "16  20.220852  47.032364  \n",
       "17  23.295111  50.518635  \n",
       "18  24.091515  54.459148  \n",
       "19  26.033842  59.773006  \n",
       "20  28.642248  61.953384  \n",
       "21  17.377857  39.109417  \n",
       "22  20.571068  47.184261  \n",
       "23  20.259132  48.221123  \n",
       "24  23.311224  51.649521  \n",
       "25  24.087049  55.529598  \n",
       "26  26.010864  60.781750  \n",
       "27  28.603258  62.900433  \n",
       "28  17.325748  39.996010  \n",
       "29  20.509106  48.012856  \n",
       "\n",
       "[30 rows x 51 columns]"
      ]
     },
     "execution_count": 157,
     "metadata": {},
     "output_type": "execute_result"
    }
   ],
   "source": [
    "final_fourcast"
   ]
  },
  {
   "cell_type": "markdown",
   "id": "fd5c52f5",
   "metadata": {
    "hidden": true
   },
   "source": [
    "## Phase 6 : retraning model with new data"
   ]
  },
  {
   "cell_type": "code",
   "execution_count": null,
   "id": "e000b0f0",
   "metadata": {
    "hidden": true
   },
   "outputs": [],
   "source": []
  },
  {
   "cell_type": "code",
   "execution_count": null,
   "id": "b4ec92a9",
   "metadata": {
    "hidden": true
   },
   "outputs": [],
   "source": []
  },
  {
   "cell_type": "code",
   "execution_count": null,
   "id": "046fd7cb",
   "metadata": {
    "hidden": true
   },
   "outputs": [],
   "source": []
  },
  {
   "cell_type": "code",
   "execution_count": null,
   "id": "da71bd7c",
   "metadata": {
    "hidden": true
   },
   "outputs": [],
   "source": []
  },
  {
   "cell_type": "code",
   "execution_count": null,
   "id": "292b7502",
   "metadata": {
    "hidden": true
   },
   "outputs": [],
   "source": []
  },
  {
   "cell_type": "markdown",
   "id": "acb2c8b6",
   "metadata": {},
   "source": [
    "# profet "
   ]
  },
  {
   "cell_type": "code",
   "execution_count": 5,
   "id": "ae36d1b0",
   "metadata": {
    "ExecuteTime": {
     "end_time": "2023-01-02T11:06:38.014315Z",
     "start_time": "2023-01-02T11:06:37.991682Z"
    },
    "scrolled": true
   },
   "outputs": [],
   "source": [
    "# pip install prophet"
   ]
  },
  {
   "cell_type": "code",
   "execution_count": 7,
   "id": "5d6dac0b",
   "metadata": {
    "ExecuteTime": {
     "end_time": "2023-01-02T11:17:44.108781Z",
     "start_time": "2023-01-02T11:17:44.094190Z"
    }
   },
   "outputs": [],
   "source": [
    "import pandas as pd \n",
    "import numpy as np \n",
    "from pmdarima.model_selection import train_test_split\n",
    "from neuralprophet import NeuralProphet\n",
    "from prophet import Prophet\n",
    "from sklearn.metrics import mean_absolute_percentage_error\n",
    "import mlflow\n",
    "import warnings\n",
    "warnings.filterwarnings(\"ignore\")"
   ]
  },
  {
   "cell_type": "code",
   "execution_count": 8,
   "id": "117ae0ab",
   "metadata": {
    "ExecuteTime": {
     "end_time": "2023-01-02T11:17:44.833537Z",
     "start_time": "2023-01-02T11:17:44.749775Z"
    }
   },
   "outputs": [
    {
     "data": {
      "text/html": [
       "<div>\n",
       "<style scoped>\n",
       "    .dataframe tbody tr th:only-of-type {\n",
       "        vertical-align: middle;\n",
       "    }\n",
       "\n",
       "    .dataframe tbody tr th {\n",
       "        vertical-align: top;\n",
       "    }\n",
       "\n",
       "    .dataframe thead th {\n",
       "        text-align: right;\n",
       "    }\n",
       "</style>\n",
       "<table border=\"1\" class=\"dataframe\">\n",
       "  <thead>\n",
       "    <tr style=\"text-align: right;\">\n",
       "      <th></th>\n",
       "      <th>date</th>\n",
       "      <th>store</th>\n",
       "      <th>item</th>\n",
       "      <th>sales</th>\n",
       "    </tr>\n",
       "  </thead>\n",
       "  <tbody>\n",
       "    <tr>\n",
       "      <th>0</th>\n",
       "      <td>2013-01-01</td>\n",
       "      <td>1</td>\n",
       "      <td>1</td>\n",
       "      <td>13</td>\n",
       "    </tr>\n",
       "    <tr>\n",
       "      <th>1</th>\n",
       "      <td>2013-01-02</td>\n",
       "      <td>1</td>\n",
       "      <td>1</td>\n",
       "      <td>11</td>\n",
       "    </tr>\n",
       "    <tr>\n",
       "      <th>2</th>\n",
       "      <td>2013-01-03</td>\n",
       "      <td>1</td>\n",
       "      <td>1</td>\n",
       "      <td>14</td>\n",
       "    </tr>\n",
       "    <tr>\n",
       "      <th>3</th>\n",
       "      <td>2013-01-04</td>\n",
       "      <td>1</td>\n",
       "      <td>1</td>\n",
       "      <td>13</td>\n",
       "    </tr>\n",
       "    <tr>\n",
       "      <th>4</th>\n",
       "      <td>2013-01-05</td>\n",
       "      <td>1</td>\n",
       "      <td>1</td>\n",
       "      <td>10</td>\n",
       "    </tr>\n",
       "    <tr>\n",
       "      <th>...</th>\n",
       "      <td>...</td>\n",
       "      <td>...</td>\n",
       "      <td>...</td>\n",
       "      <td>...</td>\n",
       "    </tr>\n",
       "    <tr>\n",
       "      <th>91295</th>\n",
       "      <td>2017-12-27</td>\n",
       "      <td>1</td>\n",
       "      <td>50</td>\n",
       "      <td>38</td>\n",
       "    </tr>\n",
       "    <tr>\n",
       "      <th>91296</th>\n",
       "      <td>2017-12-28</td>\n",
       "      <td>1</td>\n",
       "      <td>50</td>\n",
       "      <td>52</td>\n",
       "    </tr>\n",
       "    <tr>\n",
       "      <th>91297</th>\n",
       "      <td>2017-12-29</td>\n",
       "      <td>1</td>\n",
       "      <td>50</td>\n",
       "      <td>59</td>\n",
       "    </tr>\n",
       "    <tr>\n",
       "      <th>91298</th>\n",
       "      <td>2017-12-30</td>\n",
       "      <td>1</td>\n",
       "      <td>50</td>\n",
       "      <td>66</td>\n",
       "    </tr>\n",
       "    <tr>\n",
       "      <th>91299</th>\n",
       "      <td>2017-12-31</td>\n",
       "      <td>1</td>\n",
       "      <td>50</td>\n",
       "      <td>45</td>\n",
       "    </tr>\n",
       "  </tbody>\n",
       "</table>\n",
       "<p>91300 rows × 4 columns</p>\n",
       "</div>"
      ],
      "text/plain": [
       "             date  store  item  sales\n",
       "0      2013-01-01      1     1     13\n",
       "1      2013-01-02      1     1     11\n",
       "2      2013-01-03      1     1     14\n",
       "3      2013-01-04      1     1     13\n",
       "4      2013-01-05      1     1     10\n",
       "...           ...    ...   ...    ...\n",
       "91295  2017-12-27      1    50     38\n",
       "91296  2017-12-28      1    50     52\n",
       "91297  2017-12-29      1    50     59\n",
       "91298  2017-12-30      1    50     66\n",
       "91299  2017-12-31      1    50     45\n",
       "\n",
       "[91300 rows x 4 columns]"
      ]
     },
     "execution_count": 8,
     "metadata": {},
     "output_type": "execute_result"
    }
   ],
   "source": [
    "df = pd.read_csv(\"train_data.csv\")\n",
    "df"
   ]
  },
  {
   "cell_type": "markdown",
   "id": "79f9b3ba",
   "metadata": {},
   "source": [
    "# Phase 1 : Preprocess"
   ]
  },
  {
   "cell_type": "code",
   "execution_count": 9,
   "id": "4c862945",
   "metadata": {
    "ExecuteTime": {
     "end_time": "2023-01-02T11:17:45.989366Z",
     "start_time": "2023-01-02T11:17:45.965418Z"
    }
   },
   "outputs": [],
   "source": [
    "\"\"\"In pre process first grouping by items i.e. 50 \n",
    "   then by droping unique columns geting final X and Y dataframe\"\"\"\n",
    "def pre_pros(df):\n",
    "    y = {}\n",
    "    X = {}\n",
    "    for item,data in df.groupby(\"item\"):\n",
    "        data = data.drop([col for col in data.columns if data[col].nunique()==1], axis=1)\n",
    "        data.rename(columns={\"sales\" : f\"sales_{item}\"}, inplace=True)\n",
    "        X.update({\"date\" : data[\"date\"].values})\n",
    "        y.update({f\"sales_{item}\" : data[f\"sales_{item}\"].values})\n",
    "    df_X = pd.DataFrame(X)\n",
    "    df_y = pd.DataFrame(y)\n",
    "    df_final = pd.concat([df_X, df_y], axis=1)\n",
    "    \n",
    "    return df_final"
   ]
  },
  {
   "cell_type": "code",
   "execution_count": 10,
   "id": "7f1ae0a7",
   "metadata": {
    "ExecuteTime": {
     "end_time": "2023-01-02T11:17:47.060730Z",
     "start_time": "2023-01-02T11:17:46.989539Z"
    }
   },
   "outputs": [],
   "source": [
    "proc_data = pre_pros(df)"
   ]
  },
  {
   "cell_type": "code",
   "execution_count": 11,
   "id": "5e89f4ba",
   "metadata": {
    "ExecuteTime": {
     "end_time": "2023-01-02T11:17:47.559700Z",
     "start_time": "2023-01-02T11:17:47.492776Z"
    },
    "scrolled": true
   },
   "outputs": [
    {
     "data": {
      "text/html": [
       "<div>\n",
       "<style scoped>\n",
       "    .dataframe tbody tr th:only-of-type {\n",
       "        vertical-align: middle;\n",
       "    }\n",
       "\n",
       "    .dataframe tbody tr th {\n",
       "        vertical-align: top;\n",
       "    }\n",
       "\n",
       "    .dataframe thead th {\n",
       "        text-align: right;\n",
       "    }\n",
       "</style>\n",
       "<table border=\"1\" class=\"dataframe\">\n",
       "  <thead>\n",
       "    <tr style=\"text-align: right;\">\n",
       "      <th></th>\n",
       "      <th>date</th>\n",
       "      <th>sales_1</th>\n",
       "      <th>sales_2</th>\n",
       "      <th>sales_3</th>\n",
       "      <th>sales_4</th>\n",
       "      <th>sales_5</th>\n",
       "      <th>sales_6</th>\n",
       "      <th>sales_7</th>\n",
       "      <th>sales_8</th>\n",
       "      <th>sales_9</th>\n",
       "      <th>sales_10</th>\n",
       "      <th>sales_11</th>\n",
       "      <th>sales_12</th>\n",
       "      <th>sales_13</th>\n",
       "      <th>sales_14</th>\n",
       "      <th>sales_15</th>\n",
       "      <th>sales_16</th>\n",
       "      <th>sales_17</th>\n",
       "      <th>sales_18</th>\n",
       "      <th>sales_19</th>\n",
       "      <th>sales_20</th>\n",
       "      <th>sales_21</th>\n",
       "      <th>sales_22</th>\n",
       "      <th>sales_23</th>\n",
       "      <th>sales_24</th>\n",
       "      <th>sales_25</th>\n",
       "      <th>sales_26</th>\n",
       "      <th>sales_27</th>\n",
       "      <th>sales_28</th>\n",
       "      <th>sales_29</th>\n",
       "      <th>sales_30</th>\n",
       "      <th>sales_31</th>\n",
       "      <th>sales_32</th>\n",
       "      <th>sales_33</th>\n",
       "      <th>sales_34</th>\n",
       "      <th>sales_35</th>\n",
       "      <th>sales_36</th>\n",
       "      <th>sales_37</th>\n",
       "      <th>sales_38</th>\n",
       "      <th>sales_39</th>\n",
       "      <th>sales_40</th>\n",
       "      <th>sales_41</th>\n",
       "      <th>sales_42</th>\n",
       "      <th>sales_43</th>\n",
       "      <th>sales_44</th>\n",
       "      <th>sales_45</th>\n",
       "      <th>sales_46</th>\n",
       "      <th>sales_47</th>\n",
       "      <th>sales_48</th>\n",
       "      <th>sales_49</th>\n",
       "      <th>sales_50</th>\n",
       "    </tr>\n",
       "  </thead>\n",
       "  <tbody>\n",
       "    <tr>\n",
       "      <th>0</th>\n",
       "      <td>2013-01-01</td>\n",
       "      <td>13</td>\n",
       "      <td>33</td>\n",
       "      <td>15</td>\n",
       "      <td>10</td>\n",
       "      <td>11</td>\n",
       "      <td>31</td>\n",
       "      <td>25</td>\n",
       "      <td>33</td>\n",
       "      <td>18</td>\n",
       "      <td>37</td>\n",
       "      <td>37</td>\n",
       "      <td>33</td>\n",
       "      <td>37</td>\n",
       "      <td>22</td>\n",
       "      <td>42</td>\n",
       "      <td>14</td>\n",
       "      <td>13</td>\n",
       "      <td>38</td>\n",
       "      <td>15</td>\n",
       "      <td>22</td>\n",
       "      <td>22</td>\n",
       "      <td>59</td>\n",
       "      <td>14</td>\n",
       "      <td>41</td>\n",
       "      <td>59</td>\n",
       "      <td>16</td>\n",
       "      <td>14</td>\n",
       "      <td>49</td>\n",
       "      <td>34</td>\n",
       "      <td>17</td>\n",
       "      <td>30</td>\n",
       "      <td>22</td>\n",
       "      <td>37</td>\n",
       "      <td>23</td>\n",
       "      <td>28</td>\n",
       "      <td>49</td>\n",
       "      <td>16</td>\n",
       "      <td>21</td>\n",
       "      <td>25</td>\n",
       "      <td>19</td>\n",
       "      <td>6</td>\n",
       "      <td>21</td>\n",
       "      <td>22</td>\n",
       "      <td>20</td>\n",
       "      <td>37</td>\n",
       "      <td>30</td>\n",
       "      <td>17</td>\n",
       "      <td>21</td>\n",
       "      <td>18</td>\n",
       "      <td>30</td>\n",
       "    </tr>\n",
       "    <tr>\n",
       "      <th>1</th>\n",
       "      <td>2013-01-02</td>\n",
       "      <td>11</td>\n",
       "      <td>43</td>\n",
       "      <td>30</td>\n",
       "      <td>11</td>\n",
       "      <td>6</td>\n",
       "      <td>36</td>\n",
       "      <td>23</td>\n",
       "      <td>37</td>\n",
       "      <td>23</td>\n",
       "      <td>34</td>\n",
       "      <td>43</td>\n",
       "      <td>35</td>\n",
       "      <td>31</td>\n",
       "      <td>35</td>\n",
       "      <td>33</td>\n",
       "      <td>11</td>\n",
       "      <td>18</td>\n",
       "      <td>51</td>\n",
       "      <td>18</td>\n",
       "      <td>16</td>\n",
       "      <td>28</td>\n",
       "      <td>29</td>\n",
       "      <td>17</td>\n",
       "      <td>25</td>\n",
       "      <td>26</td>\n",
       "      <td>26</td>\n",
       "      <td>10</td>\n",
       "      <td>39</td>\n",
       "      <td>30</td>\n",
       "      <td>25</td>\n",
       "      <td>19</td>\n",
       "      <td>22</td>\n",
       "      <td>30</td>\n",
       "      <td>6</td>\n",
       "      <td>26</td>\n",
       "      <td>48</td>\n",
       "      <td>13</td>\n",
       "      <td>28</td>\n",
       "      <td>23</td>\n",
       "      <td>15</td>\n",
       "      <td>15</td>\n",
       "      <td>24</td>\n",
       "      <td>27</td>\n",
       "      <td>15</td>\n",
       "      <td>40</td>\n",
       "      <td>30</td>\n",
       "      <td>15</td>\n",
       "      <td>26</td>\n",
       "      <td>10</td>\n",
       "      <td>32</td>\n",
       "    </tr>\n",
       "    <tr>\n",
       "      <th>2</th>\n",
       "      <td>2013-01-03</td>\n",
       "      <td>14</td>\n",
       "      <td>23</td>\n",
       "      <td>14</td>\n",
       "      <td>8</td>\n",
       "      <td>8</td>\n",
       "      <td>18</td>\n",
       "      <td>34</td>\n",
       "      <td>38</td>\n",
       "      <td>25</td>\n",
       "      <td>32</td>\n",
       "      <td>34</td>\n",
       "      <td>41</td>\n",
       "      <td>50</td>\n",
       "      <td>26</td>\n",
       "      <td>45</td>\n",
       "      <td>12</td>\n",
       "      <td>15</td>\n",
       "      <td>42</td>\n",
       "      <td>20</td>\n",
       "      <td>24</td>\n",
       "      <td>23</td>\n",
       "      <td>33</td>\n",
       "      <td>5</td>\n",
       "      <td>32</td>\n",
       "      <td>42</td>\n",
       "      <td>31</td>\n",
       "      <td>12</td>\n",
       "      <td>57</td>\n",
       "      <td>35</td>\n",
       "      <td>25</td>\n",
       "      <td>33</td>\n",
       "      <td>30</td>\n",
       "      <td>40</td>\n",
       "      <td>15</td>\n",
       "      <td>38</td>\n",
       "      <td>45</td>\n",
       "      <td>12</td>\n",
       "      <td>40</td>\n",
       "      <td>29</td>\n",
       "      <td>12</td>\n",
       "      <td>5</td>\n",
       "      <td>14</td>\n",
       "      <td>19</td>\n",
       "      <td>11</td>\n",
       "      <td>42</td>\n",
       "      <td>30</td>\n",
       "      <td>5</td>\n",
       "      <td>25</td>\n",
       "      <td>17</td>\n",
       "      <td>25</td>\n",
       "    </tr>\n",
       "    <tr>\n",
       "      <th>3</th>\n",
       "      <td>2013-01-04</td>\n",
       "      <td>13</td>\n",
       "      <td>18</td>\n",
       "      <td>10</td>\n",
       "      <td>19</td>\n",
       "      <td>9</td>\n",
       "      <td>19</td>\n",
       "      <td>36</td>\n",
       "      <td>54</td>\n",
       "      <td>22</td>\n",
       "      <td>45</td>\n",
       "      <td>52</td>\n",
       "      <td>45</td>\n",
       "      <td>45</td>\n",
       "      <td>32</td>\n",
       "      <td>39</td>\n",
       "      <td>15</td>\n",
       "      <td>19</td>\n",
       "      <td>50</td>\n",
       "      <td>16</td>\n",
       "      <td>24</td>\n",
       "      <td>15</td>\n",
       "      <td>45</td>\n",
       "      <td>16</td>\n",
       "      <td>36</td>\n",
       "      <td>35</td>\n",
       "      <td>25</td>\n",
       "      <td>18</td>\n",
       "      <td>46</td>\n",
       "      <td>46</td>\n",
       "      <td>27</td>\n",
       "      <td>24</td>\n",
       "      <td>24</td>\n",
       "      <td>48</td>\n",
       "      <td>13</td>\n",
       "      <td>38</td>\n",
       "      <td>41</td>\n",
       "      <td>23</td>\n",
       "      <td>45</td>\n",
       "      <td>31</td>\n",
       "      <td>13</td>\n",
       "      <td>9</td>\n",
       "      <td>22</td>\n",
       "      <td>29</td>\n",
       "      <td>22</td>\n",
       "      <td>49</td>\n",
       "      <td>37</td>\n",
       "      <td>13</td>\n",
       "      <td>26</td>\n",
       "      <td>22</td>\n",
       "      <td>32</td>\n",
       "    </tr>\n",
       "    <tr>\n",
       "      <th>4</th>\n",
       "      <td>2013-01-05</td>\n",
       "      <td>10</td>\n",
       "      <td>34</td>\n",
       "      <td>23</td>\n",
       "      <td>12</td>\n",
       "      <td>8</td>\n",
       "      <td>31</td>\n",
       "      <td>38</td>\n",
       "      <td>51</td>\n",
       "      <td>29</td>\n",
       "      <td>35</td>\n",
       "      <td>45</td>\n",
       "      <td>46</td>\n",
       "      <td>49</td>\n",
       "      <td>31</td>\n",
       "      <td>47</td>\n",
       "      <td>22</td>\n",
       "      <td>16</td>\n",
       "      <td>56</td>\n",
       "      <td>19</td>\n",
       "      <td>36</td>\n",
       "      <td>18</td>\n",
       "      <td>32</td>\n",
       "      <td>23</td>\n",
       "      <td>31</td>\n",
       "      <td>45</td>\n",
       "      <td>27</td>\n",
       "      <td>13</td>\n",
       "      <td>45</td>\n",
       "      <td>43</td>\n",
       "      <td>22</td>\n",
       "      <td>32</td>\n",
       "      <td>28</td>\n",
       "      <td>31</td>\n",
       "      <td>15</td>\n",
       "      <td>45</td>\n",
       "      <td>48</td>\n",
       "      <td>23</td>\n",
       "      <td>38</td>\n",
       "      <td>29</td>\n",
       "      <td>19</td>\n",
       "      <td>13</td>\n",
       "      <td>18</td>\n",
       "      <td>34</td>\n",
       "      <td>19</td>\n",
       "      <td>52</td>\n",
       "      <td>28</td>\n",
       "      <td>12</td>\n",
       "      <td>28</td>\n",
       "      <td>15</td>\n",
       "      <td>35</td>\n",
       "    </tr>\n",
       "    <tr>\n",
       "      <th>...</th>\n",
       "      <td>...</td>\n",
       "      <td>...</td>\n",
       "      <td>...</td>\n",
       "      <td>...</td>\n",
       "      <td>...</td>\n",
       "      <td>...</td>\n",
       "      <td>...</td>\n",
       "      <td>...</td>\n",
       "      <td>...</td>\n",
       "      <td>...</td>\n",
       "      <td>...</td>\n",
       "      <td>...</td>\n",
       "      <td>...</td>\n",
       "      <td>...</td>\n",
       "      <td>...</td>\n",
       "      <td>...</td>\n",
       "      <td>...</td>\n",
       "      <td>...</td>\n",
       "      <td>...</td>\n",
       "      <td>...</td>\n",
       "      <td>...</td>\n",
       "      <td>...</td>\n",
       "      <td>...</td>\n",
       "      <td>...</td>\n",
       "      <td>...</td>\n",
       "      <td>...</td>\n",
       "      <td>...</td>\n",
       "      <td>...</td>\n",
       "      <td>...</td>\n",
       "      <td>...</td>\n",
       "      <td>...</td>\n",
       "      <td>...</td>\n",
       "      <td>...</td>\n",
       "      <td>...</td>\n",
       "      <td>...</td>\n",
       "      <td>...</td>\n",
       "      <td>...</td>\n",
       "      <td>...</td>\n",
       "      <td>...</td>\n",
       "      <td>...</td>\n",
       "      <td>...</td>\n",
       "      <td>...</td>\n",
       "      <td>...</td>\n",
       "      <td>...</td>\n",
       "      <td>...</td>\n",
       "      <td>...</td>\n",
       "      <td>...</td>\n",
       "      <td>...</td>\n",
       "      <td>...</td>\n",
       "      <td>...</td>\n",
       "      <td>...</td>\n",
       "    </tr>\n",
       "    <tr>\n",
       "      <th>1821</th>\n",
       "      <td>2017-12-27</td>\n",
       "      <td>14</td>\n",
       "      <td>55</td>\n",
       "      <td>26</td>\n",
       "      <td>16</td>\n",
       "      <td>6</td>\n",
       "      <td>32</td>\n",
       "      <td>45</td>\n",
       "      <td>58</td>\n",
       "      <td>37</td>\n",
       "      <td>55</td>\n",
       "      <td>43</td>\n",
       "      <td>47</td>\n",
       "      <td>49</td>\n",
       "      <td>42</td>\n",
       "      <td>62</td>\n",
       "      <td>16</td>\n",
       "      <td>29</td>\n",
       "      <td>54</td>\n",
       "      <td>31</td>\n",
       "      <td>29</td>\n",
       "      <td>30</td>\n",
       "      <td>44</td>\n",
       "      <td>25</td>\n",
       "      <td>45</td>\n",
       "      <td>65</td>\n",
       "      <td>42</td>\n",
       "      <td>18</td>\n",
       "      <td>58</td>\n",
       "      <td>53</td>\n",
       "      <td>28</td>\n",
       "      <td>34</td>\n",
       "      <td>28</td>\n",
       "      <td>63</td>\n",
       "      <td>19</td>\n",
       "      <td>54</td>\n",
       "      <td>62</td>\n",
       "      <td>15</td>\n",
       "      <td>62</td>\n",
       "      <td>32</td>\n",
       "      <td>24</td>\n",
       "      <td>10</td>\n",
       "      <td>23</td>\n",
       "      <td>29</td>\n",
       "      <td>22</td>\n",
       "      <td>65</td>\n",
       "      <td>43</td>\n",
       "      <td>12</td>\n",
       "      <td>31</td>\n",
       "      <td>17</td>\n",
       "      <td>38</td>\n",
       "    </tr>\n",
       "    <tr>\n",
       "      <th>1822</th>\n",
       "      <td>2017-12-28</td>\n",
       "      <td>19</td>\n",
       "      <td>50</td>\n",
       "      <td>21</td>\n",
       "      <td>20</td>\n",
       "      <td>15</td>\n",
       "      <td>51</td>\n",
       "      <td>36</td>\n",
       "      <td>49</td>\n",
       "      <td>34</td>\n",
       "      <td>63</td>\n",
       "      <td>64</td>\n",
       "      <td>49</td>\n",
       "      <td>68</td>\n",
       "      <td>51</td>\n",
       "      <td>82</td>\n",
       "      <td>24</td>\n",
       "      <td>13</td>\n",
       "      <td>69</td>\n",
       "      <td>33</td>\n",
       "      <td>29</td>\n",
       "      <td>30</td>\n",
       "      <td>60</td>\n",
       "      <td>26</td>\n",
       "      <td>46</td>\n",
       "      <td>63</td>\n",
       "      <td>52</td>\n",
       "      <td>18</td>\n",
       "      <td>57</td>\n",
       "      <td>61</td>\n",
       "      <td>31</td>\n",
       "      <td>46</td>\n",
       "      <td>37</td>\n",
       "      <td>36</td>\n",
       "      <td>20</td>\n",
       "      <td>50</td>\n",
       "      <td>58</td>\n",
       "      <td>18</td>\n",
       "      <td>57</td>\n",
       "      <td>22</td>\n",
       "      <td>28</td>\n",
       "      <td>9</td>\n",
       "      <td>19</td>\n",
       "      <td>28</td>\n",
       "      <td>19</td>\n",
       "      <td>54</td>\n",
       "      <td>41</td>\n",
       "      <td>15</td>\n",
       "      <td>37</td>\n",
       "      <td>21</td>\n",
       "      <td>52</td>\n",
       "    </tr>\n",
       "    <tr>\n",
       "      <th>1823</th>\n",
       "      <td>2017-12-29</td>\n",
       "      <td>15</td>\n",
       "      <td>50</td>\n",
       "      <td>38</td>\n",
       "      <td>25</td>\n",
       "      <td>17</td>\n",
       "      <td>55</td>\n",
       "      <td>57</td>\n",
       "      <td>54</td>\n",
       "      <td>46</td>\n",
       "      <td>56</td>\n",
       "      <td>60</td>\n",
       "      <td>58</td>\n",
       "      <td>73</td>\n",
       "      <td>42</td>\n",
       "      <td>65</td>\n",
       "      <td>11</td>\n",
       "      <td>27</td>\n",
       "      <td>66</td>\n",
       "      <td>30</td>\n",
       "      <td>51</td>\n",
       "      <td>35</td>\n",
       "      <td>69</td>\n",
       "      <td>20</td>\n",
       "      <td>53</td>\n",
       "      <td>58</td>\n",
       "      <td>33</td>\n",
       "      <td>16</td>\n",
       "      <td>60</td>\n",
       "      <td>59</td>\n",
       "      <td>24</td>\n",
       "      <td>49</td>\n",
       "      <td>37</td>\n",
       "      <td>48</td>\n",
       "      <td>25</td>\n",
       "      <td>48</td>\n",
       "      <td>69</td>\n",
       "      <td>21</td>\n",
       "      <td>64</td>\n",
       "      <td>38</td>\n",
       "      <td>22</td>\n",
       "      <td>22</td>\n",
       "      <td>15</td>\n",
       "      <td>32</td>\n",
       "      <td>36</td>\n",
       "      <td>77</td>\n",
       "      <td>48</td>\n",
       "      <td>21</td>\n",
       "      <td>39</td>\n",
       "      <td>23</td>\n",
       "      <td>59</td>\n",
       "    </tr>\n",
       "    <tr>\n",
       "      <th>1824</th>\n",
       "      <td>2017-12-30</td>\n",
       "      <td>27</td>\n",
       "      <td>56</td>\n",
       "      <td>27</td>\n",
       "      <td>19</td>\n",
       "      <td>22</td>\n",
       "      <td>55</td>\n",
       "      <td>60</td>\n",
       "      <td>75</td>\n",
       "      <td>37</td>\n",
       "      <td>78</td>\n",
       "      <td>66</td>\n",
       "      <td>52</td>\n",
       "      <td>70</td>\n",
       "      <td>57</td>\n",
       "      <td>77</td>\n",
       "      <td>28</td>\n",
       "      <td>32</td>\n",
       "      <td>67</td>\n",
       "      <td>40</td>\n",
       "      <td>38</td>\n",
       "      <td>33</td>\n",
       "      <td>63</td>\n",
       "      <td>23</td>\n",
       "      <td>44</td>\n",
       "      <td>70</td>\n",
       "      <td>49</td>\n",
       "      <td>22</td>\n",
       "      <td>81</td>\n",
       "      <td>58</td>\n",
       "      <td>33</td>\n",
       "      <td>42</td>\n",
       "      <td>25</td>\n",
       "      <td>62</td>\n",
       "      <td>23</td>\n",
       "      <td>66</td>\n",
       "      <td>68</td>\n",
       "      <td>23</td>\n",
       "      <td>66</td>\n",
       "      <td>35</td>\n",
       "      <td>18</td>\n",
       "      <td>20</td>\n",
       "      <td>35</td>\n",
       "      <td>58</td>\n",
       "      <td>21</td>\n",
       "      <td>63</td>\n",
       "      <td>56</td>\n",
       "      <td>19</td>\n",
       "      <td>50</td>\n",
       "      <td>29</td>\n",
       "      <td>66</td>\n",
       "    </tr>\n",
       "    <tr>\n",
       "      <th>1825</th>\n",
       "      <td>2017-12-31</td>\n",
       "      <td>23</td>\n",
       "      <td>67</td>\n",
       "      <td>29</td>\n",
       "      <td>15</td>\n",
       "      <td>17</td>\n",
       "      <td>53</td>\n",
       "      <td>55</td>\n",
       "      <td>62</td>\n",
       "      <td>50</td>\n",
       "      <td>74</td>\n",
       "      <td>44</td>\n",
       "      <td>60</td>\n",
       "      <td>75</td>\n",
       "      <td>52</td>\n",
       "      <td>64</td>\n",
       "      <td>38</td>\n",
       "      <td>37</td>\n",
       "      <td>88</td>\n",
       "      <td>35</td>\n",
       "      <td>47</td>\n",
       "      <td>31</td>\n",
       "      <td>87</td>\n",
       "      <td>28</td>\n",
       "      <td>54</td>\n",
       "      <td>82</td>\n",
       "      <td>54</td>\n",
       "      <td>22</td>\n",
       "      <td>93</td>\n",
       "      <td>51</td>\n",
       "      <td>37</td>\n",
       "      <td>48</td>\n",
       "      <td>41</td>\n",
       "      <td>61</td>\n",
       "      <td>32</td>\n",
       "      <td>55</td>\n",
       "      <td>71</td>\n",
       "      <td>17</td>\n",
       "      <td>90</td>\n",
       "      <td>41</td>\n",
       "      <td>40</td>\n",
       "      <td>25</td>\n",
       "      <td>27</td>\n",
       "      <td>41</td>\n",
       "      <td>25</td>\n",
       "      <td>73</td>\n",
       "      <td>52</td>\n",
       "      <td>12</td>\n",
       "      <td>47</td>\n",
       "      <td>21</td>\n",
       "      <td>45</td>\n",
       "    </tr>\n",
       "  </tbody>\n",
       "</table>\n",
       "<p>1826 rows × 51 columns</p>\n",
       "</div>"
      ],
      "text/plain": [
       "            date  sales_1  sales_2  sales_3  sales_4  ...  sales_46  sales_47  sales_48  sales_49  sales_50\n",
       "0     2013-01-01       13       33       15       10  ...        30        17        21        18        30\n",
       "1     2013-01-02       11       43       30       11  ...        30        15        26        10        32\n",
       "2     2013-01-03       14       23       14        8  ...        30         5        25        17        25\n",
       "3     2013-01-04       13       18       10       19  ...        37        13        26        22        32\n",
       "4     2013-01-05       10       34       23       12  ...        28        12        28        15        35\n",
       "...          ...      ...      ...      ...      ...  ...       ...       ...       ...       ...       ...\n",
       "1821  2017-12-27       14       55       26       16  ...        43        12        31        17        38\n",
       "1822  2017-12-28       19       50       21       20  ...        41        15        37        21        52\n",
       "1823  2017-12-29       15       50       38       25  ...        48        21        39        23        59\n",
       "1824  2017-12-30       27       56       27       19  ...        56        19        50        29        66\n",
       "1825  2017-12-31       23       67       29       15  ...        52        12        47        21        45\n",
       "\n",
       "[1826 rows x 51 columns]"
      ]
     },
     "execution_count": 11,
     "metadata": {},
     "output_type": "execute_result"
    }
   ],
   "source": [
    "proc_data"
   ]
  },
  {
   "cell_type": "markdown",
   "id": "b864bbeb",
   "metadata": {},
   "source": [
    "# Phase 2 : NP Build Model"
   ]
  },
  {
   "cell_type": "code",
   "execution_count": 12,
   "id": "2ba92daa",
   "metadata": {
    "ExecuteTime": {
     "end_time": "2023-01-02T11:17:49.207093Z",
     "start_time": "2023-01-02T11:17:49.191798Z"
    }
   },
   "outputs": [],
   "source": [
    "def train_test_data(data, split_test = 0.2):\n",
    "    train, test = train_test_split(data, test_size = split_test) # splite by dates \n",
    "    return {\"train\" : train, \"test\" : test}"
   ]
  },
  {
   "cell_type": "code",
   "execution_count": 13,
   "id": "e6bb29b6",
   "metadata": {
    "ExecuteTime": {
     "end_time": "2023-01-02T11:17:49.501114Z",
     "start_time": "2023-01-02T11:17:49.494651Z"
    }
   },
   "outputs": [],
   "source": [
    "dict_data = train_test_data(proc_data, 0.1)"
   ]
  },
  {
   "cell_type": "code",
   "execution_count": 14,
   "id": "3bc55b9a",
   "metadata": {
    "ExecuteTime": {
     "end_time": "2023-01-02T11:17:50.266987Z",
     "start_time": "2023-01-02T11:17:50.195518Z"
    },
    "scrolled": true
   },
   "outputs": [
    {
     "data": {
      "text/plain": [
       "{'train':             date  sales_1  sales_2  sales_3  sales_4  ...  sales_46  sales_47  sales_48  sales_49  sales_50\n",
       " 0     2013-01-01       13       33       15       10  ...        30        17        21        18        30\n",
       " 1     2013-01-02       11       43       30       11  ...        30        15        26        10        32\n",
       " 2     2013-01-03       14       23       14        8  ...        30         5        25        17        25\n",
       " 3     2013-01-04       13       18       10       19  ...        37        13        26        22        32\n",
       " 4     2013-01-05       10       34       23       12  ...        28        12        28        15        35\n",
       " ...          ...      ...      ...      ...      ...  ...       ...       ...       ...       ...       ...\n",
       " 1638  2017-06-27       32       53       39       27  ...        73        18        67        30        56\n",
       " 1639  2017-06-28       50       63       40       18  ...        68        26        50        31        79\n",
       " 1640  2017-06-29       28       64       35       32  ...        67        24        79        26        93\n",
       " 1641  2017-06-30       28       82       45       29  ...        85        40        65        47        83\n",
       " 1642  2017-07-01       31       83       41       37  ...        91        29        76        31        91\n",
       " \n",
       " [1643 rows x 51 columns],\n",
       " 'test':             date  sales_1  sales_2  sales_3  sales_4  ...  sales_46  sales_47  sales_48  sales_49  sales_50\n",
       " 1643  2017-07-02       38       98       58       39  ...        99        23        90        46        97\n",
       " 1644  2017-07-03       18       52       36       18  ...        55        23        49        25        68\n",
       " 1645  2017-07-04       23       66       47       30  ...        65        29        53        42        84\n",
       " 1646  2017-07-05       23       67       41       30  ...        59        32        61        40        91\n",
       " 1647  2017-07-06       31       67       43       26  ...        81        37        70        31        88\n",
       " ...          ...      ...      ...      ...      ...  ...       ...       ...       ...       ...       ...\n",
       " 1821  2017-12-27       14       55       26       16  ...        43        12        31        17        38\n",
       " 1822  2017-12-28       19       50       21       20  ...        41        15        37        21        52\n",
       " 1823  2017-12-29       15       50       38       25  ...        48        21        39        23        59\n",
       " 1824  2017-12-30       27       56       27       19  ...        56        19        50        29        66\n",
       " 1825  2017-12-31       23       67       29       15  ...        52        12        47        21        45\n",
       " \n",
       " [183 rows x 51 columns]}"
      ]
     },
     "execution_count": 14,
     "metadata": {},
     "output_type": "execute_result"
    }
   ],
   "source": [
    "dict_data"
   ]
  },
  {
   "cell_type": "code",
   "execution_count": null,
   "id": "c9f98ce0",
   "metadata": {},
   "outputs": [],
   "source": []
  },
  {
   "cell_type": "code",
   "execution_count": 17,
   "id": "87a1558d",
   "metadata": {
    "ExecuteTime": {
     "end_time": "2023-01-02T11:18:18.388545Z",
     "start_time": "2023-01-02T11:18:18.358253Z"
    }
   },
   "outputs": [],
   "source": [
    "\"\"\"building nuralprofet model for each item i.e. 50 models\"\"\"\n",
    "def model_build_NP(data):    \n",
    "    \"\"\"using only train data\"\"\"\n",
    "    train = data[\"train\"]\n",
    "    train[\"date\"] = pd.to_datetime(train[\"date\"], format=\"%Y-%m-%d\") # date time formate\n",
    "    model_dict = {}\n",
    "    col_names = train.columns\n",
    "    for y_indx in range(1, len(train.columns)):\n",
    "        tsdf = train.iloc[:, [0, y_indx]]\n",
    "        item_name = col_names[y_indx] # item key for model_dict\n",
    "        tsdf.columns = [\"ds\", \"y\"] # NP formate colums\n",
    "        # model traning\n",
    "        npf = Prophet() \n",
    "        npf.fit(tsdf)\n",
    "        model_dict[item_name] = npf\n",
    "    return model_dict"
   ]
  },
  {
   "cell_type": "code",
   "execution_count": 18,
   "id": "79571db6",
   "metadata": {
    "ExecuteTime": {
     "end_time": "2023-01-02T11:18:35.517075Z",
     "start_time": "2023-01-02T11:18:19.228274Z"
    },
    "scrolled": true
   },
   "outputs": [
    {
     "name": "stderr",
     "output_type": "stream",
     "text": [
      "16:48:19 - cmdstanpy - INFO - Chain [1] start processing\n",
      "16:48:19 - cmdstanpy - INFO - Chain [1] done processing\n",
      "16:48:19 - cmdstanpy - INFO - Chain [1] start processing\n",
      "16:48:19 - cmdstanpy - INFO - Chain [1] done processing\n",
      "16:48:20 - cmdstanpy - INFO - Chain [1] start processing\n",
      "16:48:20 - cmdstanpy - INFO - Chain [1] done processing\n",
      "16:48:20 - cmdstanpy - INFO - Chain [1] start processing\n",
      "16:48:20 - cmdstanpy - INFO - Chain [1] done processing\n",
      "16:48:20 - cmdstanpy - INFO - Chain [1] start processing\n",
      "16:48:20 - cmdstanpy - INFO - Chain [1] done processing\n",
      "16:48:20 - cmdstanpy - INFO - Chain [1] start processing\n",
      "16:48:21 - cmdstanpy - INFO - Chain [1] done processing\n",
      "16:48:21 - cmdstanpy - INFO - Chain [1] start processing\n",
      "16:48:21 - cmdstanpy - INFO - Chain [1] done processing\n",
      "16:48:21 - cmdstanpy - INFO - Chain [1] start processing\n",
      "16:48:21 - cmdstanpy - INFO - Chain [1] done processing\n",
      "16:48:21 - cmdstanpy - INFO - Chain [1] start processing\n",
      "16:48:22 - cmdstanpy - INFO - Chain [1] done processing\n",
      "16:48:22 - cmdstanpy - INFO - Chain [1] start processing\n",
      "16:48:22 - cmdstanpy - INFO - Chain [1] done processing\n",
      "16:48:22 - cmdstanpy - INFO - Chain [1] start processing\n",
      "16:48:22 - cmdstanpy - INFO - Chain [1] done processing\n",
      "16:48:22 - cmdstanpy - INFO - Chain [1] start processing\n",
      "16:48:23 - cmdstanpy - INFO - Chain [1] done processing\n",
      "16:48:23 - cmdstanpy - INFO - Chain [1] start processing\n",
      "16:48:23 - cmdstanpy - INFO - Chain [1] done processing\n",
      "16:48:23 - cmdstanpy - INFO - Chain [1] start processing\n",
      "16:48:23 - cmdstanpy - INFO - Chain [1] done processing\n",
      "16:48:23 - cmdstanpy - INFO - Chain [1] start processing\n",
      "16:48:24 - cmdstanpy - INFO - Chain [1] done processing\n",
      "16:48:24 - cmdstanpy - INFO - Chain [1] start processing\n",
      "16:48:24 - cmdstanpy - INFO - Chain [1] done processing\n",
      "16:48:24 - cmdstanpy - INFO - Chain [1] start processing\n",
      "16:48:24 - cmdstanpy - INFO - Chain [1] done processing\n",
      "16:48:24 - cmdstanpy - INFO - Chain [1] start processing\n",
      "16:48:25 - cmdstanpy - INFO - Chain [1] done processing\n",
      "16:48:25 - cmdstanpy - INFO - Chain [1] start processing\n",
      "16:48:25 - cmdstanpy - INFO - Chain [1] done processing\n",
      "16:48:25 - cmdstanpy - INFO - Chain [1] start processing\n",
      "16:48:25 - cmdstanpy - INFO - Chain [1] done processing\n",
      "16:48:25 - cmdstanpy - INFO - Chain [1] start processing\n",
      "16:48:25 - cmdstanpy - INFO - Chain [1] done processing\n",
      "16:48:26 - cmdstanpy - INFO - Chain [1] start processing\n",
      "16:48:26 - cmdstanpy - INFO - Chain [1] done processing\n",
      "16:48:26 - cmdstanpy - INFO - Chain [1] start processing\n",
      "16:48:26 - cmdstanpy - INFO - Chain [1] done processing\n",
      "16:48:26 - cmdstanpy - INFO - Chain [1] start processing\n",
      "16:48:27 - cmdstanpy - INFO - Chain [1] done processing\n",
      "16:48:27 - cmdstanpy - INFO - Chain [1] start processing\n",
      "16:48:27 - cmdstanpy - INFO - Chain [1] done processing\n",
      "16:48:27 - cmdstanpy - INFO - Chain [1] start processing\n",
      "16:48:27 - cmdstanpy - INFO - Chain [1] done processing\n",
      "16:48:27 - cmdstanpy - INFO - Chain [1] start processing\n",
      "16:48:27 - cmdstanpy - INFO - Chain [1] done processing\n",
      "16:48:28 - cmdstanpy - INFO - Chain [1] start processing\n",
      "16:48:28 - cmdstanpy - INFO - Chain [1] done processing\n",
      "16:48:28 - cmdstanpy - INFO - Chain [1] start processing\n",
      "16:48:28 - cmdstanpy - INFO - Chain [1] done processing\n",
      "16:48:28 - cmdstanpy - INFO - Chain [1] start processing\n",
      "16:48:28 - cmdstanpy - INFO - Chain [1] done processing\n",
      "16:48:29 - cmdstanpy - INFO - Chain [1] start processing\n",
      "16:48:29 - cmdstanpy - INFO - Chain [1] done processing\n",
      "16:48:29 - cmdstanpy - INFO - Chain [1] start processing\n",
      "16:48:29 - cmdstanpy - INFO - Chain [1] done processing\n",
      "16:48:29 - cmdstanpy - INFO - Chain [1] start processing\n",
      "16:48:29 - cmdstanpy - INFO - Chain [1] done processing\n",
      "16:48:30 - cmdstanpy - INFO - Chain [1] start processing\n",
      "16:48:30 - cmdstanpy - INFO - Chain [1] done processing\n",
      "16:48:30 - cmdstanpy - INFO - Chain [1] start processing\n",
      "16:48:30 - cmdstanpy - INFO - Chain [1] done processing\n",
      "16:48:30 - cmdstanpy - INFO - Chain [1] start processing\n",
      "16:48:30 - cmdstanpy - INFO - Chain [1] done processing\n",
      "16:48:31 - cmdstanpy - INFO - Chain [1] start processing\n",
      "16:48:31 - cmdstanpy - INFO - Chain [1] done processing\n",
      "16:48:31 - cmdstanpy - INFO - Chain [1] start processing\n",
      "16:48:31 - cmdstanpy - INFO - Chain [1] done processing\n",
      "16:48:31 - cmdstanpy - INFO - Chain [1] start processing\n",
      "16:48:31 - cmdstanpy - INFO - Chain [1] done processing\n",
      "16:48:32 - cmdstanpy - INFO - Chain [1] start processing\n",
      "16:48:32 - cmdstanpy - INFO - Chain [1] done processing\n",
      "16:48:32 - cmdstanpy - INFO - Chain [1] start processing\n",
      "16:48:32 - cmdstanpy - INFO - Chain [1] done processing\n",
      "16:48:32 - cmdstanpy - INFO - Chain [1] start processing\n",
      "16:48:32 - cmdstanpy - INFO - Chain [1] done processing\n",
      "16:48:33 - cmdstanpy - INFO - Chain [1] start processing\n",
      "16:48:33 - cmdstanpy - INFO - Chain [1] done processing\n",
      "16:48:33 - cmdstanpy - INFO - Chain [1] start processing\n",
      "16:48:33 - cmdstanpy - INFO - Chain [1] done processing\n",
      "16:48:33 - cmdstanpy - INFO - Chain [1] start processing\n",
      "16:48:33 - cmdstanpy - INFO - Chain [1] done processing\n",
      "16:48:34 - cmdstanpy - INFO - Chain [1] start processing\n",
      "16:48:34 - cmdstanpy - INFO - Chain [1] done processing\n",
      "16:48:34 - cmdstanpy - INFO - Chain [1] start processing\n",
      "16:48:34 - cmdstanpy - INFO - Chain [1] done processing\n",
      "16:48:34 - cmdstanpy - INFO - Chain [1] start processing\n",
      "16:48:34 - cmdstanpy - INFO - Chain [1] done processing\n",
      "16:48:35 - cmdstanpy - INFO - Chain [1] start processing\n",
      "16:48:35 - cmdstanpy - INFO - Chain [1] done processing\n",
      "16:48:35 - cmdstanpy - INFO - Chain [1] start processing\n",
      "16:48:35 - cmdstanpy - INFO - Chain [1] done processing\n"
     ]
    }
   ],
   "source": [
    "dict_models = model_build_NP(dict_data)"
   ]
  },
  {
   "cell_type": "code",
   "execution_count": 19,
   "id": "feda3b61",
   "metadata": {
    "ExecuteTime": {
     "end_time": "2023-01-02T11:18:51.387238Z",
     "start_time": "2023-01-02T11:18:51.370393Z"
    },
    "scrolled": true
   },
   "outputs": [
    {
     "data": {
      "text/plain": [
       "{'sales_1': <prophet.forecaster.Prophet at 0x2dd93022640>,\n",
       " 'sales_2': <prophet.forecaster.Prophet at 0x2dd93022760>,\n",
       " 'sales_3': <prophet.forecaster.Prophet at 0x2dd93022820>,\n",
       " 'sales_4': <prophet.forecaster.Prophet at 0x2dd93016fd0>,\n",
       " 'sales_5': <prophet.forecaster.Prophet at 0x2dd93022970>,\n",
       " 'sales_6': <prophet.forecaster.Prophet at 0x2dd93016550>,\n",
       " 'sales_7': <prophet.forecaster.Prophet at 0x2dd930168b0>,\n",
       " 'sales_8': <prophet.forecaster.Prophet at 0x2dd93145910>,\n",
       " 'sales_9': <prophet.forecaster.Prophet at 0x2dd93142cd0>,\n",
       " 'sales_10': <prophet.forecaster.Prophet at 0x2dd93105f40>,\n",
       " 'sales_11': <prophet.forecaster.Prophet at 0x2dd93535ee0>,\n",
       " 'sales_12': <prophet.forecaster.Prophet at 0x2dd93105100>,\n",
       " 'sales_13': <prophet.forecaster.Prophet at 0x2dd9357f520>,\n",
       " 'sales_14': <prophet.forecaster.Prophet at 0x2dd9357f3a0>,\n",
       " 'sales_15': <prophet.forecaster.Prophet at 0x2dd9353cfa0>,\n",
       " 'sales_16': <prophet.forecaster.Prophet at 0x2dd93065730>,\n",
       " 'sales_17': <prophet.forecaster.Prophet at 0x2dd9353fbe0>,\n",
       " 'sales_18': <prophet.forecaster.Prophet at 0x2dd93366c70>,\n",
       " 'sales_19': <prophet.forecaster.Prophet at 0x2dd93746700>,\n",
       " 'sales_20': <prophet.forecaster.Prophet at 0x2dd93416f10>,\n",
       " 'sales_21': <prophet.forecaster.Prophet at 0x2dd93065f70>,\n",
       " 'sales_22': <prophet.forecaster.Prophet at 0x2dd932e0a30>,\n",
       " 'sales_23': <prophet.forecaster.Prophet at 0x2dd932dafd0>,\n",
       " 'sales_24': <prophet.forecaster.Prophet at 0x2dd932da250>,\n",
       " 'sales_25': <prophet.forecaster.Prophet at 0x2dd93293040>,\n",
       " 'sales_26': <prophet.forecaster.Prophet at 0x2dd93295550>,\n",
       " 'sales_27': <prophet.forecaster.Prophet at 0x2dd939099a0>,\n",
       " 'sales_28': <prophet.forecaster.Prophet at 0x2dd93909ac0>,\n",
       " 'sales_29': <prophet.forecaster.Prophet at 0x2dd93965c40>,\n",
       " 'sales_30': <prophet.forecaster.Prophet at 0x2dd93965e80>,\n",
       " 'sales_31': <prophet.forecaster.Prophet at 0x2dd938bf5b0>,\n",
       " 'sales_32': <prophet.forecaster.Prophet at 0x2dd93aa7790>,\n",
       " 'sales_33': <prophet.forecaster.Prophet at 0x2dd93aa73a0>,\n",
       " 'sales_34': <prophet.forecaster.Prophet at 0x2dd93ba3d60>,\n",
       " 'sales_35': <prophet.forecaster.Prophet at 0x2dd93a7a100>,\n",
       " 'sales_36': <prophet.forecaster.Prophet at 0x2dd93a7e6a0>,\n",
       " 'sales_37': <prophet.forecaster.Prophet at 0x2dd93c6e730>,\n",
       " 'sales_38': <prophet.forecaster.Prophet at 0x2dd93c37130>,\n",
       " 'sales_39': <prophet.forecaster.Prophet at 0x2dd93c377f0>,\n",
       " 'sales_40': <prophet.forecaster.Prophet at 0x2dd932d3880>,\n",
       " 'sales_41': <prophet.forecaster.Prophet at 0x2dd925c3520>,\n",
       " 'sales_42': <prophet.forecaster.Prophet at 0x2dd93c392b0>,\n",
       " 'sales_43': <prophet.forecaster.Prophet at 0x2dd925c3df0>,\n",
       " 'sales_44': <prophet.forecaster.Prophet at 0x2dd92ff9b50>,\n",
       " 'sales_45': <prophet.forecaster.Prophet at 0x2dd92fb7880>,\n",
       " 'sales_46': <prophet.forecaster.Prophet at 0x2dd92800d90>,\n",
       " 'sales_47': <prophet.forecaster.Prophet at 0x2dd93991c10>,\n",
       " 'sales_48': <prophet.forecaster.Prophet at 0x2dd92800430>,\n",
       " 'sales_49': <prophet.forecaster.Prophet at 0x2dd93fa43d0>,\n",
       " 'sales_50': <prophet.forecaster.Prophet at 0x2dd9326b130>}"
      ]
     },
     "execution_count": 19,
     "metadata": {},
     "output_type": "execute_result"
    }
   ],
   "source": [
    "dict_models"
   ]
  },
  {
   "cell_type": "markdown",
   "id": "bea17d01",
   "metadata": {},
   "source": [
    "# phase 3 : model evaluation "
   ]
  },
  {
   "cell_type": "code",
   "execution_count": 20,
   "id": "7aa60580",
   "metadata": {
    "ExecuteTime": {
     "end_time": "2023-01-02T11:18:57.987498Z",
     "start_time": "2023-01-02T11:18:57.960198Z"
    }
   },
   "outputs": [],
   "source": [
    "def eval_model(model, data):\n",
    "    \"\"\"using only train data\"\"\"\n",
    "    train = data[\"train\"]\n",
    "    test = data[\"test\"]\n",
    "    \n",
    "    train[\"date\"] = pd.to_datetime(train[\"date\"], format=\"%Y-%m-%d\") # date time formate\n",
    "    test[\"date\"] = pd.to_datetime(test[\"date\"], format=\"%Y-%m-%d\")\n",
    "    \n",
    "    eval_dict = {}\n",
    "    col_names = train.columns\n",
    "\n",
    "    for y_indx in range(1, len(train.columns)):\n",
    "        item_dict_eval = {}\n",
    "        for name,dat in data.items():\n",
    "            tsdf = dat.iloc[:, [0, y_indx]]\n",
    "            item_name = col_names[y_indx] # item key for model_dict\n",
    "\n",
    "            tsdf.columns = [\"ds\", \"y\"] # NP formate colums\n",
    "            # model pred and eval\n",
    "            npf = model[item_name]\n",
    "            pred = npf.predict(tsdf)\n",
    "            mape = mean_absolute_percentage_error(pred.iloc[:,1], pred.iloc[:,2]) \n",
    "            item_dict_eval[f\"MAPE_{name}\"] = mape\n",
    "        eval_dict[f\"{item_name}\"] = item_dict_eval\n",
    "    \"\"\"overall MAPE\"\"\" \n",
    "    avg_mape_train = []\n",
    "    avg_mape_test = []\n",
    "    for i in eval_dict.values():\n",
    "        avg_mape_train.append(i[\"MAPE_train\"])\n",
    "        avg_mape_test.append(i[\"MAPE_test\"]) \n",
    "    avg_mape_train = sum(avg_mape_train)/50 # 50 no of items\n",
    "    avg_mape_test = sum(avg_mape_test)/50 # 50 no of items\n",
    "    eval_dict[\"AVG_accuracy_Train\"] = 1 - avg_mape_train\n",
    "    eval_dict[\"AVG_accuracy_Test\"] = 1 - avg_mape_test   \n",
    "    return eval_dict\n",
    "    "
   ]
  },
  {
   "cell_type": "code",
   "execution_count": 21,
   "id": "11301361",
   "metadata": {
    "ExecuteTime": {
     "end_time": "2023-01-02T11:19:32.570314Z",
     "start_time": "2023-01-02T11:18:59.143272Z"
    }
   },
   "outputs": [],
   "source": [
    "eval_dic = eval_model(dict_models, dict_data)"
   ]
  },
  {
   "cell_type": "code",
   "execution_count": 22,
   "id": "5f312c80",
   "metadata": {
    "ExecuteTime": {
     "end_time": "2023-01-02T11:19:32.585608Z",
     "start_time": "2023-01-02T11:19:32.570314Z"
    },
    "scrolled": true
   },
   "outputs": [
    {
     "data": {
      "text/plain": [
       "{'sales_1': {'MAPE_train': 0.3118567361314326,\n",
       "  'MAPE_test': 0.24141286309997112},\n",
       " 'sales_2': {'MAPE_train': 0.23568240583300012,\n",
       "  'MAPE_test': 0.1834004765127847},\n",
       " 'sales_3': {'MAPE_train': 0.26380748299445544,\n",
       "  'MAPE_test': 0.20185118725151344},\n",
       " 'sales_4': {'MAPE_train': 0.3107693821364924,\n",
       "  'MAPE_test': 0.24341478511464226},\n",
       " 'sales_5': {'MAPE_train': 0.3282212140600581,\n",
       "  'MAPE_test': 0.2512178095211391},\n",
       " 'sales_6': {'MAPE_train': 0.23243924032953545,\n",
       "  'MAPE_test': 0.1843501610319281},\n",
       " 'sales_7': {'MAPE_train': 0.2387577256054227,\n",
       "  'MAPE_test': 0.18462448119114316},\n",
       " 'sales_8': {'MAPE_train': 0.21810793728691366,\n",
       "  'MAPE_test': 0.16579713885963537},\n",
       " 'sales_9': {'MAPE_train': 0.23976927682211066,\n",
       "  'MAPE_test': 0.19146499707858397},\n",
       " 'sales_10': {'MAPE_train': 0.22219156269783014,\n",
       "  'MAPE_test': 0.1705076499769635},\n",
       " 'sales_11': {'MAPE_train': 0.22130581311503197,\n",
       "  'MAPE_test': 0.17211863776201092},\n",
       " 'sales_12': {'MAPE_train': 0.2273283636461636,\n",
       "  'MAPE_test': 0.17113627221425903},\n",
       " 'sales_13': {'MAPE_train': 0.2141920901966318,\n",
       "  'MAPE_test': 0.16195935150027657},\n",
       " 'sales_14': {'MAPE_train': 0.23133619523774696,\n",
       "  'MAPE_test': 0.17812437478197032},\n",
       " 'sales_15': {'MAPE_train': 0.22082830383270183,\n",
       "  'MAPE_test': 0.17545130053667704},\n",
       " 'sales_16': {'MAPE_train': 0.2929470043202055,\n",
       "  'MAPE_test': 0.23045906883145054},\n",
       " 'sales_17': {'MAPE_train': 0.2707628571605421,\n",
       "  'MAPE_test': 0.20272250616449136},\n",
       " 'sales_18': {'MAPE_train': 0.2249756689607983,\n",
       "  'MAPE_test': 0.17411792748010987},\n",
       " 'sales_19': {'MAPE_train': 0.2639747256800563,\n",
       "  'MAPE_test': 0.19455800448575086},\n",
       " 'sales_20': {'MAPE_train': 0.2383919987517602,\n",
       "  'MAPE_test': 0.17577642319770503},\n",
       " 'sales_21': {'MAPE_train': 0.257326988665333, 'MAPE_test': 0.20317007329923},\n",
       " 'sales_22': {'MAPE_train': 0.2204774093450109,\n",
       "  'MAPE_test': 0.16946009903051673},\n",
       " 'sales_23': {'MAPE_train': 0.2903837911808618,\n",
       "  'MAPE_test': 0.22043807323141495},\n",
       " 'sales_24': {'MAPE_train': 0.22751121133118013,\n",
       "  'MAPE_test': 0.17179596627451849},\n",
       " 'sales_25': {'MAPE_train': 0.21932625729728245,\n",
       "  'MAPE_test': 0.16718824855266393},\n",
       " 'sales_26': {'MAPE_train': 0.24853423055617496,\n",
       "  'MAPE_test': 0.19652238766116023},\n",
       " 'sales_27': {'MAPE_train': 0.3088135401785731,\n",
       "  'MAPE_test': 0.2427094652532733},\n",
       " 'sales_28': {'MAPE_train': 0.21784010996949968,\n",
       "  'MAPE_test': 0.16177418088147702},\n",
       " 'sales_29': {'MAPE_train': 0.22362068502203783,\n",
       "  'MAPE_test': 0.17064224166400802},\n",
       " 'sales_30': {'MAPE_train': 0.2582821446372147,\n",
       "  'MAPE_test': 0.19704202861598455},\n",
       " 'sales_31': {'MAPE_train': 0.23344185679800314,\n",
       "  'MAPE_test': 0.17692001362263482},\n",
       " 'sales_32': {'MAPE_train': 0.2493511141995799,\n",
       "  'MAPE_test': 0.19447800447240274},\n",
       " 'sales_33': {'MAPE_train': 0.22368766447884483,\n",
       "  'MAPE_test': 0.17247095168598434},\n",
       " 'sales_34': {'MAPE_train': 0.2976661040015089, 'MAPE_test': 0.23273050327367},\n",
       " 'sales_35': {'MAPE_train': 0.22895590054668863,\n",
       "  'MAPE_test': 0.17748449748326722},\n",
       " 'sales_36': {'MAPE_train': 0.22176789195379298,\n",
       "  'MAPE_test': 0.17283321815004746},\n",
       " 'sales_37': {'MAPE_train': 0.2813195644621581,\n",
       "  'MAPE_test': 0.22774908580380107},\n",
       " 'sales_38': {'MAPE_train': 0.22092134860153473,\n",
       "  'MAPE_test': 0.16533703069254607},\n",
       " 'sales_39': {'MAPE_train': 0.2500375197436327,\n",
       "  'MAPE_test': 0.1933451204771238},\n",
       " 'sales_40': {'MAPE_train': 0.27687199786325367,\n",
       "  'MAPE_test': 0.20983756991124158},\n",
       " 'sales_41': {'MAPE_train': 0.3077490553513843,\n",
       "  'MAPE_test': 0.23112375232469023},\n",
       " 'sales_42': {'MAPE_train': 0.24992072500941576,\n",
       "  'MAPE_test': 0.19000461325000356},\n",
       " 'sales_43': {'MAPE_train': 0.2434624739360581,\n",
       "  'MAPE_test': 0.18207655347929788},\n",
       " 'sales_44': {'MAPE_train': 0.2806611315794273,\n",
       "  'MAPE_test': 0.22534197451266058},\n",
       " 'sales_45': {'MAPE_train': 0.22100462839591853,\n",
       "  'MAPE_test': 0.17192692863005926},\n",
       " 'sales_46': {'MAPE_train': 0.23455674059567305,\n",
       "  'MAPE_test': 0.18247383629067201},\n",
       " 'sales_47': {'MAPE_train': 0.3053412422544477,\n",
       "  'MAPE_test': 0.22699783907838672},\n",
       " 'sales_48': {'MAPE_train': 0.24200086881504332,\n",
       "  'MAPE_test': 0.19131225859172635},\n",
       " 'sales_49': {'MAPE_train': 0.2805521398834645,\n",
       "  'MAPE_test': 0.2097657501976125},\n",
       " 'sales_50': {'MAPE_train': 0.2268337509560397,\n",
       "  'MAPE_test': 0.17511346722907006},\n",
       " 'AVG_accuracy_Train': 0.7488826785518414,\n",
       " 'AVG_accuracy_Test': 0.806709376995717}"
      ]
     },
     "execution_count": 22,
     "metadata": {},
     "output_type": "execute_result"
    }
   ],
   "source": [
    "eval_dic"
   ]
  },
  {
   "cell_type": "code",
   "execution_count": 179,
   "id": "d52d76da",
   "metadata": {
    "ExecuteTime": {
     "end_time": "2022-12-30T11:55:35.911859Z",
     "start_time": "2022-12-30T11:55:35.899595Z"
    }
   },
   "outputs": [],
   "source": [
    "  "
   ]
  },
  {
   "cell_type": "code",
   "execution_count": null,
   "id": "1d27cccc",
   "metadata": {
    "ExecuteTime": {
     "end_time": "2022-12-30T11:55:41.040718Z",
     "start_time": "2022-12-30T11:55:41.024075Z"
    }
   },
   "outputs": [],
   "source": []
  },
  {
   "cell_type": "markdown",
   "id": "4babfb31",
   "metadata": {},
   "source": [
    "# phase 4 : final model building with all data (we can add model compare in future here)"
   ]
  },
  {
   "cell_type": "code",
   "execution_count": 23,
   "id": "ec8376f6",
   "metadata": {
    "ExecuteTime": {
     "end_time": "2023-01-02T11:20:21.565334Z",
     "start_time": "2023-01-02T11:20:21.535621Z"
    }
   },
   "outputs": [],
   "source": [
    "def final_model_build_NP(data): \n",
    "    \"\"\"considering whole data for traning final models\"\"\"\n",
    "    data[\"date\"] = pd.to_datetime(data[\"date\"], format=\"%Y-%m-%d\") # date time formate\n",
    "    final_model_dict = {}\n",
    "    col_names = data.columns\n",
    "    for y_indx in range(1, len(data.columns)):\n",
    "        tsdf = data.iloc[:, [0, y_indx]]\n",
    "        item_name = col_names[y_indx] # item key for model_dict\n",
    "        tsdf.columns = [\"ds\", \"y\"] # NP formate colums\n",
    "        # model traning\n",
    "        npf = Prophet() \n",
    "        npf.fit(tsdf)\n",
    "        final_model_dict[item_name] = npf\n",
    "      \n",
    "    return final_model_dict"
   ]
  },
  {
   "cell_type": "code",
   "execution_count": 24,
   "id": "0c11d924",
   "metadata": {
    "ExecuteTime": {
     "end_time": "2023-01-02T11:20:39.413386Z",
     "start_time": "2023-01-02T11:20:23.101882Z"
    },
    "scrolled": true
   },
   "outputs": [
    {
     "name": "stderr",
     "output_type": "stream",
     "text": [
      "16:50:23 - cmdstanpy - INFO - Chain [1] start processing\n",
      "16:50:23 - cmdstanpy - INFO - Chain [1] done processing\n",
      "16:50:23 - cmdstanpy - INFO - Chain [1] start processing\n",
      "16:50:23 - cmdstanpy - INFO - Chain [1] done processing\n",
      "16:50:23 - cmdstanpy - INFO - Chain [1] start processing\n",
      "16:50:23 - cmdstanpy - INFO - Chain [1] done processing\n",
      "16:50:24 - cmdstanpy - INFO - Chain [1] start processing\n",
      "16:50:24 - cmdstanpy - INFO - Chain [1] done processing\n",
      "16:50:24 - cmdstanpy - INFO - Chain [1] start processing\n",
      "16:50:24 - cmdstanpy - INFO - Chain [1] done processing\n",
      "16:50:24 - cmdstanpy - INFO - Chain [1] start processing\n",
      "16:50:24 - cmdstanpy - INFO - Chain [1] done processing\n",
      "16:50:25 - cmdstanpy - INFO - Chain [1] start processing\n",
      "16:50:25 - cmdstanpy - INFO - Chain [1] done processing\n",
      "16:50:25 - cmdstanpy - INFO - Chain [1] start processing\n",
      "16:50:25 - cmdstanpy - INFO - Chain [1] done processing\n",
      "16:50:25 - cmdstanpy - INFO - Chain [1] start processing\n",
      "16:50:25 - cmdstanpy - INFO - Chain [1] done processing\n",
      "16:50:26 - cmdstanpy - INFO - Chain [1] start processing\n",
      "16:50:26 - cmdstanpy - INFO - Chain [1] done processing\n",
      "16:50:26 - cmdstanpy - INFO - Chain [1] start processing\n",
      "16:50:26 - cmdstanpy - INFO - Chain [1] done processing\n",
      "16:50:26 - cmdstanpy - INFO - Chain [1] start processing\n",
      "16:50:26 - cmdstanpy - INFO - Chain [1] done processing\n",
      "16:50:27 - cmdstanpy - INFO - Chain [1] start processing\n",
      "16:50:27 - cmdstanpy - INFO - Chain [1] done processing\n",
      "16:50:27 - cmdstanpy - INFO - Chain [1] start processing\n",
      "16:50:27 - cmdstanpy - INFO - Chain [1] done processing\n",
      "16:50:27 - cmdstanpy - INFO - Chain [1] start processing\n",
      "16:50:27 - cmdstanpy - INFO - Chain [1] done processing\n",
      "16:50:28 - cmdstanpy - INFO - Chain [1] start processing\n",
      "16:50:28 - cmdstanpy - INFO - Chain [1] done processing\n",
      "16:50:28 - cmdstanpy - INFO - Chain [1] start processing\n",
      "16:50:28 - cmdstanpy - INFO - Chain [1] done processing\n",
      "16:50:28 - cmdstanpy - INFO - Chain [1] start processing\n",
      "16:50:28 - cmdstanpy - INFO - Chain [1] done processing\n",
      "16:50:29 - cmdstanpy - INFO - Chain [1] start processing\n",
      "16:50:29 - cmdstanpy - INFO - Chain [1] done processing\n",
      "16:50:29 - cmdstanpy - INFO - Chain [1] start processing\n",
      "16:50:29 - cmdstanpy - INFO - Chain [1] done processing\n",
      "16:50:29 - cmdstanpy - INFO - Chain [1] start processing\n",
      "16:50:29 - cmdstanpy - INFO - Chain [1] done processing\n",
      "16:50:30 - cmdstanpy - INFO - Chain [1] start processing\n",
      "16:50:30 - cmdstanpy - INFO - Chain [1] done processing\n",
      "16:50:30 - cmdstanpy - INFO - Chain [1] start processing\n",
      "16:50:30 - cmdstanpy - INFO - Chain [1] done processing\n",
      "16:50:30 - cmdstanpy - INFO - Chain [1] start processing\n",
      "16:50:30 - cmdstanpy - INFO - Chain [1] done processing\n",
      "16:50:31 - cmdstanpy - INFO - Chain [1] start processing\n",
      "16:50:31 - cmdstanpy - INFO - Chain [1] done processing\n",
      "16:50:31 - cmdstanpy - INFO - Chain [1] start processing\n",
      "16:50:31 - cmdstanpy - INFO - Chain [1] done processing\n",
      "16:50:31 - cmdstanpy - INFO - Chain [1] start processing\n",
      "16:50:31 - cmdstanpy - INFO - Chain [1] done processing\n",
      "16:50:32 - cmdstanpy - INFO - Chain [1] start processing\n",
      "16:50:32 - cmdstanpy - INFO - Chain [1] done processing\n",
      "16:50:32 - cmdstanpy - INFO - Chain [1] start processing\n",
      "16:50:32 - cmdstanpy - INFO - Chain [1] done processing\n",
      "16:50:32 - cmdstanpy - INFO - Chain [1] start processing\n",
      "16:50:32 - cmdstanpy - INFO - Chain [1] done processing\n",
      "16:50:32 - cmdstanpy - INFO - Chain [1] start processing\n",
      "16:50:33 - cmdstanpy - INFO - Chain [1] done processing\n",
      "16:50:33 - cmdstanpy - INFO - Chain [1] start processing\n",
      "16:50:33 - cmdstanpy - INFO - Chain [1] done processing\n",
      "16:50:33 - cmdstanpy - INFO - Chain [1] start processing\n",
      "16:50:33 - cmdstanpy - INFO - Chain [1] done processing\n",
      "16:50:33 - cmdstanpy - INFO - Chain [1] start processing\n",
      "16:50:34 - cmdstanpy - INFO - Chain [1] done processing\n",
      "16:50:34 - cmdstanpy - INFO - Chain [1] start processing\n",
      "16:50:34 - cmdstanpy - INFO - Chain [1] done processing\n",
      "16:50:34 - cmdstanpy - INFO - Chain [1] start processing\n",
      "16:50:34 - cmdstanpy - INFO - Chain [1] done processing\n",
      "16:50:34 - cmdstanpy - INFO - Chain [1] start processing\n",
      "16:50:35 - cmdstanpy - INFO - Chain [1] done processing\n",
      "16:50:35 - cmdstanpy - INFO - Chain [1] start processing\n",
      "16:50:35 - cmdstanpy - INFO - Chain [1] done processing\n",
      "16:50:35 - cmdstanpy - INFO - Chain [1] start processing\n",
      "16:50:35 - cmdstanpy - INFO - Chain [1] done processing\n",
      "16:50:35 - cmdstanpy - INFO - Chain [1] start processing\n",
      "16:50:36 - cmdstanpy - INFO - Chain [1] done processing\n",
      "16:50:36 - cmdstanpy - INFO - Chain [1] start processing\n",
      "16:50:36 - cmdstanpy - INFO - Chain [1] done processing\n",
      "16:50:36 - cmdstanpy - INFO - Chain [1] start processing\n",
      "16:50:36 - cmdstanpy - INFO - Chain [1] done processing\n",
      "16:50:36 - cmdstanpy - INFO - Chain [1] start processing\n",
      "16:50:37 - cmdstanpy - INFO - Chain [1] done processing\n",
      "16:50:37 - cmdstanpy - INFO - Chain [1] start processing\n",
      "16:50:37 - cmdstanpy - INFO - Chain [1] done processing\n",
      "16:50:37 - cmdstanpy - INFO - Chain [1] start processing\n",
      "16:50:37 - cmdstanpy - INFO - Chain [1] done processing\n",
      "16:50:37 - cmdstanpy - INFO - Chain [1] start processing\n",
      "16:50:38 - cmdstanpy - INFO - Chain [1] done processing\n",
      "16:50:38 - cmdstanpy - INFO - Chain [1] start processing\n",
      "16:50:38 - cmdstanpy - INFO - Chain [1] done processing\n",
      "16:50:38 - cmdstanpy - INFO - Chain [1] start processing\n",
      "16:50:38 - cmdstanpy - INFO - Chain [1] done processing\n",
      "16:50:38 - cmdstanpy - INFO - Chain [1] start processing\n",
      "16:50:39 - cmdstanpy - INFO - Chain [1] done processing\n",
      "16:50:39 - cmdstanpy - INFO - Chain [1] start processing\n",
      "16:50:39 - cmdstanpy - INFO - Chain [1] done processing\n"
     ]
    }
   ],
   "source": [
    "final_models = final_model_build_NP(proc_data)"
   ]
  },
  {
   "cell_type": "code",
   "execution_count": 25,
   "id": "33dce2c8",
   "metadata": {
    "ExecuteTime": {
     "end_time": "2023-01-02T11:20:39.438952Z",
     "start_time": "2023-01-02T11:20:39.413386Z"
    },
    "scrolled": true
   },
   "outputs": [
    {
     "data": {
      "text/plain": [
       "{'sales_1': <prophet.forecaster.Prophet at 0x2dd907168e0>,\n",
       " 'sales_2': <prophet.forecaster.Prophet at 0x2dd94040370>,\n",
       " 'sales_3': <prophet.forecaster.Prophet at 0x2dd92fd1b50>,\n",
       " 'sales_4': <prophet.forecaster.Prophet at 0x2dd93f20d90>,\n",
       " 'sales_5': <prophet.forecaster.Prophet at 0x2dd94118340>,\n",
       " 'sales_6': <prophet.forecaster.Prophet at 0x2dd94118d30>,\n",
       " 'sales_7': <prophet.forecaster.Prophet at 0x2dd94118850>,\n",
       " 'sales_8': <prophet.forecaster.Prophet at 0x2dd935e08b0>,\n",
       " 'sales_9': <prophet.forecaster.Prophet at 0x2dd948aefd0>,\n",
       " 'sales_10': <prophet.forecaster.Prophet at 0x2dd939e83d0>,\n",
       " 'sales_11': <prophet.forecaster.Prophet at 0x2dd948b9040>,\n",
       " 'sales_12': <prophet.forecaster.Prophet at 0x2dd93d1d7c0>,\n",
       " 'sales_13': <prophet.forecaster.Prophet at 0x2dd939e8430>,\n",
       " 'sales_14': <prophet.forecaster.Prophet at 0x2dd948a07f0>,\n",
       " 'sales_15': <prophet.forecaster.Prophet at 0x2dd937fe820>,\n",
       " 'sales_16': <prophet.forecaster.Prophet at 0x2dd939d7af0>,\n",
       " 'sales_17': <prophet.forecaster.Prophet at 0x2dd930c1340>,\n",
       " 'sales_18': <prophet.forecaster.Prophet at 0x2dd937c4fa0>,\n",
       " 'sales_19': <prophet.forecaster.Prophet at 0x2dd9408dee0>,\n",
       " 'sales_20': <prophet.forecaster.Prophet at 0x2dd937a6910>,\n",
       " 'sales_21': <prophet.forecaster.Prophet at 0x2dd937a6280>,\n",
       " 'sales_22': <prophet.forecaster.Prophet at 0x2dd93307160>,\n",
       " 'sales_23': <prophet.forecaster.Prophet at 0x2dd9408d610>,\n",
       " 'sales_24': <prophet.forecaster.Prophet at 0x2dd9492e6a0>,\n",
       " 'sales_25': <prophet.forecaster.Prophet at 0x2dd948dc250>,\n",
       " 'sales_26': <prophet.forecaster.Prophet at 0x2dd937a6a90>,\n",
       " 'sales_27': <prophet.forecaster.Prophet at 0x2dd94a79a00>,\n",
       " 'sales_28': <prophet.forecaster.Prophet at 0x2dd94a799d0>,\n",
       " 'sales_29': <prophet.forecaster.Prophet at 0x2dd93030a30>,\n",
       " 'sales_30': <prophet.forecaster.Prophet at 0x2dd94162fa0>,\n",
       " 'sales_31': <prophet.forecaster.Prophet at 0x2dd930308b0>,\n",
       " 'sales_32': <prophet.forecaster.Prophet at 0x2dd940cfa60>,\n",
       " 'sales_33': <prophet.forecaster.Prophet at 0x2dd927f3520>,\n",
       " 'sales_34': <prophet.forecaster.Prophet at 0x2dd94162220>,\n",
       " 'sales_35': <prophet.forecaster.Prophet at 0x2dd941fdee0>,\n",
       " 'sales_36': <prophet.forecaster.Prophet at 0x2dd93326100>,\n",
       " 'sales_37': <prophet.forecaster.Prophet at 0x2dd939f5580>,\n",
       " 'sales_38': <prophet.forecaster.Prophet at 0x2dd927f3e50>,\n",
       " 'sales_39': <prophet.forecaster.Prophet at 0x2dd927f3a90>,\n",
       " 'sales_40': <prophet.forecaster.Prophet at 0x2dd939f5820>,\n",
       " 'sales_41': <prophet.forecaster.Prophet at 0x2dd94a81460>,\n",
       " 'sales_42': <prophet.forecaster.Prophet at 0x2dd949a5be0>,\n",
       " 'sales_43': <prophet.forecaster.Prophet at 0x2dd948ce400>,\n",
       " 'sales_44': <prophet.forecaster.Prophet at 0x2dd948ce520>,\n",
       " 'sales_45': <prophet.forecaster.Prophet at 0x2dd939cdd00>,\n",
       " 'sales_46': <prophet.forecaster.Prophet at 0x2dd937d9a60>,\n",
       " 'sales_47': <prophet.forecaster.Prophet at 0x2dd9302c880>,\n",
       " 'sales_48': <prophet.forecaster.Prophet at 0x2dd94ae3a30>,\n",
       " 'sales_49': <prophet.forecaster.Prophet at 0x2dd94a16d60>,\n",
       " 'sales_50': <prophet.forecaster.Prophet at 0x2dd94955130>}"
      ]
     },
     "execution_count": 25,
     "metadata": {},
     "output_type": "execute_result"
    }
   ],
   "source": [
    "final_models"
   ]
  },
  {
   "cell_type": "markdown",
   "id": "71261b25",
   "metadata": {},
   "source": [
    "# Phase 5 : fourcast next month with final models"
   ]
  },
  {
   "cell_type": "code",
   "execution_count": 55,
   "id": "85872dac",
   "metadata": {
    "ExecuteTime": {
     "end_time": "2023-01-02T11:33:19.608431Z",
     "start_time": "2023-01-02T11:33:19.593143Z"
    }
   },
   "outputs": [],
   "source": [
    "def fourcast(final_models,process_data,period=30):    \n",
    "    process_data[\"date\"] = pd.to_datetime(process_data[\"date\"], format=\"%Y-%m-%d\") # date time formate\n",
    "\n",
    "    col_names = process_data.columns\n",
    "    \n",
    "    dict_fourcast = {}\n",
    "    for y_indx in range(1, len(process_data.columns)):\n",
    "        tsdf = process_data.iloc[:, [0, y_indx]]\n",
    "        item_name = col_names[y_indx] # item key for model_dict\n",
    "        \n",
    "        tsdf.columns = [\"ds\", \"y\"] # NP formate colums\n",
    "        # model pred and eval\n",
    "        npfinal = final_models[item_name]\n",
    "        future = npfinal.make_future_dataframe(periods= period, include_history=False) \n",
    "        forecast = npfinal.predict(future)\n",
    "        dict_fourcast[item_name] = forecast[\"yhat\"].values\n",
    "        df_fourcast = pd.DataFrame(dict_fourcast)\n",
    "        final_fourcast = pd.concat([future[\"ds\"], df_fourcast], axis=1)\n",
    "        final_fourcast.rename(columns = {\"ds\" : \"Date\"}, inplace = True)\n",
    "    return final_fourcast\n",
    "    "
   ]
  },
  {
   "cell_type": "code",
   "execution_count": 56,
   "id": "20a324f4",
   "metadata": {
    "ExecuteTime": {
     "end_time": "2023-01-02T11:33:29.684810Z",
     "start_time": "2023-01-02T11:33:19.979350Z"
    },
    "scrolled": true
   },
   "outputs": [],
   "source": [
    "final_fourcast1 = fourcast(final_models, proc_data, 30)"
   ]
  },
  {
   "cell_type": "code",
   "execution_count": 58,
   "id": "50a1cb24",
   "metadata": {
    "ExecuteTime": {
     "end_time": "2023-01-02T11:34:45.582959Z",
     "start_time": "2023-01-02T11:34:45.505979Z"
    },
    "scrolled": true
   },
   "outputs": [
    {
     "data": {
      "text/html": [
       "<div>\n",
       "<style scoped>\n",
       "    .dataframe tbody tr th:only-of-type {\n",
       "        vertical-align: middle;\n",
       "    }\n",
       "\n",
       "    .dataframe tbody tr th {\n",
       "        vertical-align: top;\n",
       "    }\n",
       "\n",
       "    .dataframe thead th {\n",
       "        text-align: right;\n",
       "    }\n",
       "</style>\n",
       "<table border=\"1\" class=\"dataframe\">\n",
       "  <thead>\n",
       "    <tr style=\"text-align: right;\">\n",
       "      <th></th>\n",
       "      <th>Date</th>\n",
       "      <th>sales_1</th>\n",
       "      <th>sales_2</th>\n",
       "      <th>sales_3</th>\n",
       "      <th>sales_4</th>\n",
       "      <th>sales_5</th>\n",
       "      <th>sales_6</th>\n",
       "      <th>sales_7</th>\n",
       "      <th>sales_8</th>\n",
       "      <th>sales_9</th>\n",
       "      <th>sales_10</th>\n",
       "      <th>sales_11</th>\n",
       "      <th>sales_12</th>\n",
       "      <th>sales_13</th>\n",
       "      <th>sales_14</th>\n",
       "      <th>sales_15</th>\n",
       "      <th>sales_16</th>\n",
       "      <th>sales_17</th>\n",
       "      <th>sales_18</th>\n",
       "      <th>sales_19</th>\n",
       "      <th>sales_20</th>\n",
       "      <th>sales_21</th>\n",
       "      <th>sales_22</th>\n",
       "      <th>sales_23</th>\n",
       "      <th>sales_24</th>\n",
       "      <th>sales_25</th>\n",
       "      <th>sales_26</th>\n",
       "      <th>sales_27</th>\n",
       "      <th>sales_28</th>\n",
       "      <th>sales_29</th>\n",
       "      <th>sales_30</th>\n",
       "      <th>sales_31</th>\n",
       "      <th>sales_32</th>\n",
       "      <th>sales_33</th>\n",
       "      <th>sales_34</th>\n",
       "      <th>sales_35</th>\n",
       "      <th>sales_36</th>\n",
       "      <th>sales_37</th>\n",
       "      <th>sales_38</th>\n",
       "      <th>sales_39</th>\n",
       "      <th>sales_40</th>\n",
       "      <th>sales_41</th>\n",
       "      <th>sales_42</th>\n",
       "      <th>sales_43</th>\n",
       "      <th>sales_44</th>\n",
       "      <th>sales_45</th>\n",
       "      <th>sales_46</th>\n",
       "      <th>sales_47</th>\n",
       "      <th>sales_48</th>\n",
       "      <th>sales_49</th>\n",
       "      <th>sales_50</th>\n",
       "    </tr>\n",
       "  </thead>\n",
       "  <tbody>\n",
       "    <tr>\n",
       "      <th>0</th>\n",
       "      <td>2018-01-01</td>\n",
       "      <td>12.985044</td>\n",
       "      <td>36.710568</td>\n",
       "      <td>22.229259</td>\n",
       "      <td>13.111308</td>\n",
       "      <td>10.751645</td>\n",
       "      <td>35.706397</td>\n",
       "      <td>33.393508</td>\n",
       "      <td>47.521532</td>\n",
       "      <td>28.731201</td>\n",
       "      <td>46.197571</td>\n",
       "      <td>43.661105</td>\n",
       "      <td>42.330743</td>\n",
       "      <td>50.812915</td>\n",
       "      <td>36.707847</td>\n",
       "      <td>55.240342</td>\n",
       "      <td>14.939308</td>\n",
       "      <td>19.912046</td>\n",
       "      <td>51.635435</td>\n",
       "      <td>25.257486</td>\n",
       "      <td>29.257100</td>\n",
       "      <td>24.084673</td>\n",
       "      <td>49.475954</td>\n",
       "      <td>18.280958</td>\n",
       "      <td>37.450522</td>\n",
       "      <td>48.348721</td>\n",
       "      <td>28.122115</td>\n",
       "      <td>13.231951</td>\n",
       "      <td>54.543767</td>\n",
       "      <td>43.550812</td>\n",
       "      <td>24.922787</td>\n",
       "      <td>34.628129</td>\n",
       "      <td>27.352922</td>\n",
       "      <td>44.299444</td>\n",
       "      <td>15.946828</td>\n",
       "      <td>40.034154</td>\n",
       "      <td>46.875610</td>\n",
       "      <td>16.993280</td>\n",
       "      <td>49.844642</td>\n",
       "      <td>26.256823</td>\n",
       "      <td>18.136559</td>\n",
       "      <td>14.149819</td>\n",
       "      <td>21.089687</td>\n",
       "      <td>32.401213</td>\n",
       "      <td>18.867933</td>\n",
       "      <td>48.377187</td>\n",
       "      <td>36.003788</td>\n",
       "      <td>13.663385</td>\n",
       "      <td>31.277886</td>\n",
       "      <td>18.439793</td>\n",
       "      <td>39.342718</td>\n",
       "    </tr>\n",
       "    <tr>\n",
       "      <th>1</th>\n",
       "      <td>2018-01-02</td>\n",
       "      <td>15.639651</td>\n",
       "      <td>43.581355</td>\n",
       "      <td>25.773522</td>\n",
       "      <td>16.093750</td>\n",
       "      <td>13.015092</td>\n",
       "      <td>43.082880</td>\n",
       "      <td>40.416297</td>\n",
       "      <td>57.712273</td>\n",
       "      <td>34.454733</td>\n",
       "      <td>54.953465</td>\n",
       "      <td>51.382387</td>\n",
       "      <td>50.331376</td>\n",
       "      <td>60.839411</td>\n",
       "      <td>42.889600</td>\n",
       "      <td>65.714564</td>\n",
       "      <td>18.185186</td>\n",
       "      <td>23.082207</td>\n",
       "      <td>62.409690</td>\n",
       "      <td>29.944071</td>\n",
       "      <td>34.739973</td>\n",
       "      <td>29.393042</td>\n",
       "      <td>58.989095</td>\n",
       "      <td>22.023253</td>\n",
       "      <td>45.738247</td>\n",
       "      <td>58.703638</td>\n",
       "      <td>34.651942</td>\n",
       "      <td>16.413542</td>\n",
       "      <td>65.016801</td>\n",
       "      <td>51.063167</td>\n",
       "      <td>29.815222</td>\n",
       "      <td>41.968553</td>\n",
       "      <td>31.821178</td>\n",
       "      <td>52.538074</td>\n",
       "      <td>19.015618</td>\n",
       "      <td>47.723545</td>\n",
       "      <td>55.607094</td>\n",
       "      <td>20.716238</td>\n",
       "      <td>58.399808</td>\n",
       "      <td>31.649334</td>\n",
       "      <td>21.316893</td>\n",
       "      <td>16.730039</td>\n",
       "      <td>24.927707</td>\n",
       "      <td>37.238748</td>\n",
       "      <td>22.477640</td>\n",
       "      <td>57.899596</td>\n",
       "      <td>42.652918</td>\n",
       "      <td>16.241997</td>\n",
       "      <td>37.846493</td>\n",
       "      <td>21.499608</td>\n",
       "      <td>47.159162</td>\n",
       "    </tr>\n",
       "    <tr>\n",
       "      <th>2</th>\n",
       "      <td>2018-01-03</td>\n",
       "      <td>16.282702</td>\n",
       "      <td>44.430075</td>\n",
       "      <td>26.367537</td>\n",
       "      <td>16.107757</td>\n",
       "      <td>13.355709</td>\n",
       "      <td>43.457675</td>\n",
       "      <td>40.532429</td>\n",
       "      <td>57.446577</td>\n",
       "      <td>34.918296</td>\n",
       "      <td>55.531401</td>\n",
       "      <td>52.175500</td>\n",
       "      <td>51.047117</td>\n",
       "      <td>60.763097</td>\n",
       "      <td>43.195627</td>\n",
       "      <td>65.943514</td>\n",
       "      <td>18.251989</td>\n",
       "      <td>24.187588</td>\n",
       "      <td>61.599343</td>\n",
       "      <td>30.664277</td>\n",
       "      <td>34.977715</td>\n",
       "      <td>28.781784</td>\n",
       "      <td>60.127896</td>\n",
       "      <td>22.520820</td>\n",
       "      <td>45.790194</td>\n",
       "      <td>57.840152</td>\n",
       "      <td>34.303622</td>\n",
       "      <td>16.233139</td>\n",
       "      <td>64.899306</td>\n",
       "      <td>51.870551</td>\n",
       "      <td>29.792993</td>\n",
       "      <td>42.230203</td>\n",
       "      <td>31.971180</td>\n",
       "      <td>52.434637</td>\n",
       "      <td>19.073501</td>\n",
       "      <td>47.878503</td>\n",
       "      <td>55.735528</td>\n",
       "      <td>20.637144</td>\n",
       "      <td>59.641035</td>\n",
       "      <td>32.247911</td>\n",
       "      <td>21.917749</td>\n",
       "      <td>16.776495</td>\n",
       "      <td>25.680489</td>\n",
       "      <td>38.220930</td>\n",
       "      <td>22.254179</td>\n",
       "      <td>58.128030</td>\n",
       "      <td>43.255077</td>\n",
       "      <td>16.479984</td>\n",
       "      <td>37.235145</td>\n",
       "      <td>21.167820</td>\n",
       "      <td>48.034584</td>\n",
       "    </tr>\n",
       "    <tr>\n",
       "      <th>3</th>\n",
       "      <td>2018-01-04</td>\n",
       "      <td>16.943584</td>\n",
       "      <td>47.228741</td>\n",
       "      <td>28.246913</td>\n",
       "      <td>18.006822</td>\n",
       "      <td>14.904728</td>\n",
       "      <td>45.450960</td>\n",
       "      <td>44.654300</td>\n",
       "      <td>61.479733</td>\n",
       "      <td>38.185144</td>\n",
       "      <td>60.158793</td>\n",
       "      <td>55.324040</td>\n",
       "      <td>54.650229</td>\n",
       "      <td>63.973368</td>\n",
       "      <td>45.820572</td>\n",
       "      <td>71.120889</td>\n",
       "      <td>19.813277</td>\n",
       "      <td>25.186258</td>\n",
       "      <td>66.710217</td>\n",
       "      <td>31.899062</td>\n",
       "      <td>37.292181</td>\n",
       "      <td>32.366250</td>\n",
       "      <td>63.999294</td>\n",
       "      <td>23.710176</td>\n",
       "      <td>49.473871</td>\n",
       "      <td>62.426855</td>\n",
       "      <td>37.400267</td>\n",
       "      <td>17.587486</td>\n",
       "      <td>70.166656</td>\n",
       "      <td>56.003761</td>\n",
       "      <td>32.322470</td>\n",
       "      <td>45.099791</td>\n",
       "      <td>33.947176</td>\n",
       "      <td>56.120851</td>\n",
       "      <td>20.922340</td>\n",
       "      <td>51.625747</td>\n",
       "      <td>60.159305</td>\n",
       "      <td>22.608571</td>\n",
       "      <td>64.161791</td>\n",
       "      <td>33.965388</td>\n",
       "      <td>23.864638</td>\n",
       "      <td>17.636249</td>\n",
       "      <td>27.385687</td>\n",
       "      <td>40.630639</td>\n",
       "      <td>24.513469</td>\n",
       "      <td>61.910220</td>\n",
       "      <td>47.041795</td>\n",
       "      <td>17.711119</td>\n",
       "      <td>40.532925</td>\n",
       "      <td>23.974697</td>\n",
       "      <td>51.136841</td>\n",
       "    </tr>\n",
       "    <tr>\n",
       "      <th>4</th>\n",
       "      <td>2018-01-05</td>\n",
       "      <td>18.492588</td>\n",
       "      <td>50.577074</td>\n",
       "      <td>30.958861</td>\n",
       "      <td>18.358678</td>\n",
       "      <td>15.247390</td>\n",
       "      <td>49.769385</td>\n",
       "      <td>47.243917</td>\n",
       "      <td>66.666959</td>\n",
       "      <td>40.501279</td>\n",
       "      <td>64.749780</td>\n",
       "      <td>59.591344</td>\n",
       "      <td>59.120646</td>\n",
       "      <td>70.106567</td>\n",
       "      <td>48.514807</td>\n",
       "      <td>76.848020</td>\n",
       "      <td>21.016863</td>\n",
       "      <td>27.792668</td>\n",
       "      <td>72.909158</td>\n",
       "      <td>34.220709</td>\n",
       "      <td>39.378454</td>\n",
       "      <td>33.912933</td>\n",
       "      <td>68.112679</td>\n",
       "      <td>25.843771</td>\n",
       "      <td>53.979825</td>\n",
       "      <td>66.880980</td>\n",
       "      <td>39.339330</td>\n",
       "      <td>19.555143</td>\n",
       "      <td>74.923697</td>\n",
       "      <td>59.265863</td>\n",
       "      <td>34.641445</td>\n",
       "      <td>48.649242</td>\n",
       "      <td>37.095290</td>\n",
       "      <td>60.768377</td>\n",
       "      <td>22.194057</td>\n",
       "      <td>55.644068</td>\n",
       "      <td>65.453503</td>\n",
       "      <td>24.107287</td>\n",
       "      <td>69.366898</td>\n",
       "      <td>36.526430</td>\n",
       "      <td>24.663733</td>\n",
       "      <td>19.263431</td>\n",
       "      <td>29.425888</td>\n",
       "      <td>43.531861</td>\n",
       "      <td>25.766943</td>\n",
       "      <td>67.431962</td>\n",
       "      <td>50.585150</td>\n",
       "      <td>18.645780</td>\n",
       "      <td>44.006066</td>\n",
       "      <td>24.631133</td>\n",
       "      <td>54.659629</td>\n",
       "    </tr>\n",
       "    <tr>\n",
       "      <th>5</th>\n",
       "      <td>2018-01-06</td>\n",
       "      <td>20.421802</td>\n",
       "      <td>54.351079</td>\n",
       "      <td>32.851716</td>\n",
       "      <td>20.217864</td>\n",
       "      <td>16.543732</td>\n",
       "      <td>53.441561</td>\n",
       "      <td>52.288174</td>\n",
       "      <td>71.070867</td>\n",
       "      <td>44.377169</td>\n",
       "      <td>68.376738</td>\n",
       "      <td>64.453688</td>\n",
       "      <td>62.400004</td>\n",
       "      <td>74.703721</td>\n",
       "      <td>53.086690</td>\n",
       "      <td>80.933997</td>\n",
       "      <td>23.432363</td>\n",
       "      <td>29.392149</td>\n",
       "      <td>77.850513</td>\n",
       "      <td>37.504372</td>\n",
       "      <td>43.012133</td>\n",
       "      <td>36.315088</td>\n",
       "      <td>73.748439</td>\n",
       "      <td>28.216418</td>\n",
       "      <td>57.605679</td>\n",
       "      <td>71.662273</td>\n",
       "      <td>43.418944</td>\n",
       "      <td>19.632489</td>\n",
       "      <td>80.915310</td>\n",
       "      <td>64.418630</td>\n",
       "      <td>37.658484</td>\n",
       "      <td>51.674606</td>\n",
       "      <td>39.601054</td>\n",
       "      <td>65.005266</td>\n",
       "      <td>23.884745</td>\n",
       "      <td>59.781196</td>\n",
       "      <td>69.657609</td>\n",
       "      <td>25.666417</td>\n",
       "      <td>73.274224</td>\n",
       "      <td>39.337679</td>\n",
       "      <td>27.292813</td>\n",
       "      <td>20.796395</td>\n",
       "      <td>31.524547</td>\n",
       "      <td>46.460475</td>\n",
       "      <td>27.644829</td>\n",
       "      <td>71.484849</td>\n",
       "      <td>53.346193</td>\n",
       "      <td>19.833498</td>\n",
       "      <td>46.388392</td>\n",
       "      <td>26.484180</td>\n",
       "      <td>59.498182</td>\n",
       "    </tr>\n",
       "    <tr>\n",
       "      <th>6</th>\n",
       "      <td>2018-01-07</td>\n",
       "      <td>21.204999</td>\n",
       "      <td>57.679681</td>\n",
       "      <td>35.691408</td>\n",
       "      <td>21.095477</td>\n",
       "      <td>17.632182</td>\n",
       "      <td>56.887229</td>\n",
       "      <td>54.597584</td>\n",
       "      <td>75.539965</td>\n",
       "      <td>46.817519</td>\n",
       "      <td>74.312311</td>\n",
       "      <td>67.571494</td>\n",
       "      <td>66.893459</td>\n",
       "      <td>79.378977</td>\n",
       "      <td>55.329832</td>\n",
       "      <td>87.169432</td>\n",
       "      <td>23.690478</td>\n",
       "      <td>31.289431</td>\n",
       "      <td>82.676114</td>\n",
       "      <td>39.847515</td>\n",
       "      <td>45.957327</td>\n",
       "      <td>38.646313</td>\n",
       "      <td>79.371506</td>\n",
       "      <td>29.506345</td>\n",
       "      <td>62.288602</td>\n",
       "      <td>77.475795</td>\n",
       "      <td>45.902918</td>\n",
       "      <td>21.090079</td>\n",
       "      <td>85.878880</td>\n",
       "      <td>68.319544</td>\n",
       "      <td>40.014585</td>\n",
       "      <td>56.481372</td>\n",
       "      <td>41.895339</td>\n",
       "      <td>68.122697</td>\n",
       "      <td>25.829757</td>\n",
       "      <td>63.892676</td>\n",
       "      <td>73.332737</td>\n",
       "      <td>27.458732</td>\n",
       "      <td>78.280775</td>\n",
       "      <td>41.736647</td>\n",
       "      <td>28.683530</td>\n",
       "      <td>21.067188</td>\n",
       "      <td>33.918394</td>\n",
       "      <td>49.730641</td>\n",
       "      <td>28.792757</td>\n",
       "      <td>78.255477</td>\n",
       "      <td>57.889461</td>\n",
       "      <td>20.996246</td>\n",
       "      <td>50.475094</td>\n",
       "      <td>28.823480</td>\n",
       "      <td>61.915829</td>\n",
       "    </tr>\n",
       "    <tr>\n",
       "      <th>7</th>\n",
       "      <td>2018-01-08</td>\n",
       "      <td>12.936869</td>\n",
       "      <td>36.496774</td>\n",
       "      <td>22.614185</td>\n",
       "      <td>12.932792</td>\n",
       "      <td>11.124412</td>\n",
       "      <td>35.432325</td>\n",
       "      <td>33.355741</td>\n",
       "      <td>47.526816</td>\n",
       "      <td>29.140175</td>\n",
       "      <td>47.155193</td>\n",
       "      <td>42.979687</td>\n",
       "      <td>42.026352</td>\n",
       "      <td>50.144351</td>\n",
       "      <td>35.715745</td>\n",
       "      <td>54.928668</td>\n",
       "      <td>14.338124</td>\n",
       "      <td>19.582720</td>\n",
       "      <td>51.298487</td>\n",
       "      <td>25.065182</td>\n",
       "      <td>28.657238</td>\n",
       "      <td>24.080441</td>\n",
       "      <td>48.931990</td>\n",
       "      <td>18.741431</td>\n",
       "      <td>38.396492</td>\n",
       "      <td>47.656308</td>\n",
       "      <td>27.990473</td>\n",
       "      <td>12.900363</td>\n",
       "      <td>53.588670</td>\n",
       "      <td>43.555601</td>\n",
       "      <td>25.236869</td>\n",
       "      <td>34.216004</td>\n",
       "      <td>27.100719</td>\n",
       "      <td>43.738877</td>\n",
       "      <td>15.975552</td>\n",
       "      <td>40.205095</td>\n",
       "      <td>46.254491</td>\n",
       "      <td>16.990690</td>\n",
       "      <td>49.832711</td>\n",
       "      <td>25.390075</td>\n",
       "      <td>18.089806</td>\n",
       "      <td>13.019366</td>\n",
       "      <td>21.461387</td>\n",
       "      <td>31.658435</td>\n",
       "      <td>18.698932</td>\n",
       "      <td>48.403278</td>\n",
       "      <td>36.281390</td>\n",
       "      <td>13.417882</td>\n",
       "      <td>31.334490</td>\n",
       "      <td>18.032492</td>\n",
       "      <td>39.012750</td>\n",
       "    </tr>\n",
       "    <tr>\n",
       "      <th>8</th>\n",
       "      <td>2018-01-09</td>\n",
       "      <td>15.497225</td>\n",
       "      <td>43.291646</td>\n",
       "      <td>26.113596</td>\n",
       "      <td>15.825043</td>\n",
       "      <td>13.361080</td>\n",
       "      <td>42.766771</td>\n",
       "      <td>40.421488</td>\n",
       "      <td>57.604399</td>\n",
       "      <td>34.920118</td>\n",
       "      <td>55.639778</td>\n",
       "      <td>50.657848</td>\n",
       "      <td>50.055929</td>\n",
       "      <td>60.123842</td>\n",
       "      <td>41.825668</td>\n",
       "      <td>65.215270</td>\n",
       "      <td>17.566079</td>\n",
       "      <td>22.731841</td>\n",
       "      <td>61.914984</td>\n",
       "      <td>29.728835</td>\n",
       "      <td>34.136869</td>\n",
       "      <td>29.319845</td>\n",
       "      <td>58.275944</td>\n",
       "      <td>22.366219</td>\n",
       "      <td>46.769196</td>\n",
       "      <td>57.970176</td>\n",
       "      <td>34.487337</td>\n",
       "      <td>16.047261</td>\n",
       "      <td>64.042871</td>\n",
       "      <td>51.002706</td>\n",
       "      <td>30.034065</td>\n",
       "      <td>41.613864</td>\n",
       "      <td>31.554350</td>\n",
       "      <td>51.842817</td>\n",
       "      <td>19.002670</td>\n",
       "      <td>47.870469</td>\n",
       "      <td>54.819319</td>\n",
       "      <td>20.783738</td>\n",
       "      <td>58.420630</td>\n",
       "      <td>30.815286</td>\n",
       "      <td>21.234137</td>\n",
       "      <td>15.533121</td>\n",
       "      <td>25.358228</td>\n",
       "      <td>36.372882</td>\n",
       "      <td>22.281588</td>\n",
       "      <td>57.839672</td>\n",
       "      <td>42.899084</td>\n",
       "      <td>15.998010</td>\n",
       "      <td>37.885292</td>\n",
       "      <td>21.074712</td>\n",
       "      <td>46.790394</td>\n",
       "    </tr>\n",
       "    <tr>\n",
       "      <th>9</th>\n",
       "      <td>2018-01-10</td>\n",
       "      <td>16.057844</td>\n",
       "      <td>44.081409</td>\n",
       "      <td>26.661161</td>\n",
       "      <td>15.758130</td>\n",
       "      <td>13.670267</td>\n",
       "      <td>43.113178</td>\n",
       "      <td>40.594057</td>\n",
       "      <td>57.236818</td>\n",
       "      <td>35.445499</td>\n",
       "      <td>55.949341</td>\n",
       "      <td>51.441315</td>\n",
       "      <td>50.819069</td>\n",
       "      <td>60.032781</td>\n",
       "      <td>42.088137</td>\n",
       "      <td>65.290297</td>\n",
       "      <td>17.631860</td>\n",
       "      <td>23.830077</td>\n",
       "      <td>60.971797</td>\n",
       "      <td>30.437160</td>\n",
       "      <td>34.382345</td>\n",
       "      <td>28.644953</td>\n",
       "      <td>59.279579</td>\n",
       "      <td>22.749190</td>\n",
       "      <td>46.895672</td>\n",
       "      <td>57.091229</td>\n",
       "      <td>34.127394</td>\n",
       "      <td>15.847190</td>\n",
       "      <td>63.942916</td>\n",
       "      <td>51.765690</td>\n",
       "      <td>29.923224</td>\n",
       "      <td>41.951214</td>\n",
       "      <td>31.701308</td>\n",
       "      <td>51.629712</td>\n",
       "      <td>19.019552</td>\n",
       "      <td>48.008766</td>\n",
       "      <td>54.817473</td>\n",
       "      <td>20.777255</td>\n",
       "      <td>59.710050</td>\n",
       "      <td>31.474258</td>\n",
       "      <td>21.803871</td>\n",
       "      <td>15.542974</td>\n",
       "      <td>26.164222</td>\n",
       "      <td>37.257034</td>\n",
       "      <td>22.043697</td>\n",
       "      <td>57.999176</td>\n",
       "      <td>43.478155</td>\n",
       "      <td>16.248360</td>\n",
       "      <td>37.269788</td>\n",
       "      <td>20.740216</td>\n",
       "      <td>47.645049</td>\n",
       "    </tr>\n",
       "    <tr>\n",
       "      <th>10</th>\n",
       "      <td>2018-01-11</td>\n",
       "      <td>16.650358</td>\n",
       "      <td>46.838688</td>\n",
       "      <td>28.494107</td>\n",
       "      <td>17.587951</td>\n",
       "      <td>15.184378</td>\n",
       "      <td>45.092523</td>\n",
       "      <td>44.784584</td>\n",
       "      <td>61.181852</td>\n",
       "      <td>38.779330</td>\n",
       "      <td>60.317383</td>\n",
       "      <td>54.613701</td>\n",
       "      <td>54.486711</td>\n",
       "      <td>63.261551</td>\n",
       "      <td>44.700291</td>\n",
       "      <td>70.350884</td>\n",
       "      <td>19.209156</td>\n",
       "      <td>24.835576</td>\n",
       "      <td>65.978117</td>\n",
       "      <td>31.671558</td>\n",
       "      <td>36.715351</td>\n",
       "      <td>32.172938</td>\n",
       "      <td>63.053408</td>\n",
       "      <td>23.829847</td>\n",
       "      <td>50.641915</td>\n",
       "      <td>61.688355</td>\n",
       "      <td>37.234211</td>\n",
       "      <td>17.197286</td>\n",
       "      <td>69.264046</td>\n",
       "      <td>55.876279</td>\n",
       "      <td>32.373528</td>\n",
       "      <td>44.913224</td>\n",
       "      <td>33.686925</td>\n",
       "      <td>55.232583</td>\n",
       "      <td>20.829278</td>\n",
       "      <td>51.747694</td>\n",
       "      <td>59.150156</td>\n",
       "      <td>22.821672</td>\n",
       "      <td>64.293169</td>\n",
       "      <td>33.277981</td>\n",
       "      <td>23.725058</td>\n",
       "      <td>16.396690</td>\n",
       "      <td>27.916271</td>\n",
       "      <td>39.596429</td>\n",
       "      <td>24.301020</td>\n",
       "      <td>61.731008</td>\n",
       "      <td>47.249949</td>\n",
       "      <td>17.502470</td>\n",
       "      <td>40.577119</td>\n",
       "      <td>23.559173</td>\n",
       "      <td>50.745793</td>\n",
       "    </tr>\n",
       "    <tr>\n",
       "      <th>11</th>\n",
       "      <td>2018-01-12</td>\n",
       "      <td>18.146806</td>\n",
       "      <td>50.163233</td>\n",
       "      <td>31.161178</td>\n",
       "      <td>17.884264</td>\n",
       "      <td>15.489844</td>\n",
       "      <td>49.411748</td>\n",
       "      <td>47.453292</td>\n",
       "      <td>66.296691</td>\n",
       "      <td>41.166985</td>\n",
       "      <td>64.663612</td>\n",
       "      <td>58.937271</td>\n",
       "      <td>59.036876</td>\n",
       "      <td>69.446391</td>\n",
       "      <td>47.414161</td>\n",
       "      <td>76.000599</td>\n",
       "      <td>20.445460</td>\n",
       "      <td>27.462418</td>\n",
       "      <td>72.103207</td>\n",
       "      <td>34.004366</td>\n",
       "      <td>38.830518</td>\n",
       "      <td>33.671888</td>\n",
       "      <td>67.109203</td>\n",
       "      <td>25.863288</td>\n",
       "      <td>55.197041</td>\n",
       "      <td>66.178210</td>\n",
       "      <td>39.204934</td>\n",
       "      <td>19.175975</td>\n",
       "      <td>74.109838</td>\n",
       "      <td>59.137618</td>\n",
       "      <td>34.625169</td>\n",
       "      <td>48.569669</td>\n",
       "      <td>36.857970</td>\n",
       "      <td>59.823582</td>\n",
       "      <td>22.064926</td>\n",
       "      <td>55.766668</td>\n",
       "      <td>64.393979</td>\n",
       "      <td>24.391577</td>\n",
       "      <td>69.572929</td>\n",
       "      <td>35.948475</td>\n",
       "      <td>24.504252</td>\n",
       "      <td>18.048293</td>\n",
       "      <td>29.996306</td>\n",
       "      <td>42.456857</td>\n",
       "      <td>25.564423</td>\n",
       "      <td>67.221775</td>\n",
       "      <td>50.786026</td>\n",
       "      <td>18.470144</td>\n",
       "      <td>44.073101</td>\n",
       "      <td>24.241896</td>\n",
       "      <td>54.286890</td>\n",
       "    </tr>\n",
       "    <tr>\n",
       "      <th>12</th>\n",
       "      <td>2018-01-13</td>\n",
       "      <td>20.040483</td>\n",
       "      <td>53.930538</td>\n",
       "      <td>33.012130</td>\n",
       "      <td>19.703217</td>\n",
       "      <td>16.747888</td>\n",
       "      <td>53.099278</td>\n",
       "      <td>52.584862</td>\n",
       "      <td>70.645398</td>\n",
       "      <td>45.117955</td>\n",
       "      <td>68.065361</td>\n",
       "      <td>63.886211</td>\n",
       "      <td>62.408788</td>\n",
       "      <td>74.127195</td>\n",
       "      <td>52.038909</td>\n",
       "      <td>80.049572</td>\n",
       "      <td>22.909648</td>\n",
       "      <td>29.095150</td>\n",
       "      <td>77.002865</td>\n",
       "      <td>37.310426</td>\n",
       "      <td>42.502756</td>\n",
       "      <td>36.036403</td>\n",
       "      <td>72.728525</td>\n",
       "      <td>28.146585</td>\n",
       "      <td>58.857408</td>\n",
       "      <td>71.019155</td>\n",
       "      <td>43.336675</td>\n",
       "      <td>19.278992</td>\n",
       "      <td>80.222842</td>\n",
       "      <td>64.310746</td>\n",
       "      <td>37.588660</td>\n",
       "      <td>51.713919</td>\n",
       "      <td>39.400175</td>\n",
       "      <td>64.030488</td>\n",
       "      <td>23.723661</td>\n",
       "      <td>59.913699</td>\n",
       "      <td>68.588695</td>\n",
       "      <td>26.017960</td>\n",
       "      <td>73.564816</td>\n",
       "      <td>38.889036</td>\n",
       "      <td>27.119462</td>\n",
       "      <td>19.635239</td>\n",
       "      <td>32.127255</td>\n",
       "      <td>45.375127</td>\n",
       "      <td>27.463202</td>\n",
       "      <td>71.263237</td>\n",
       "      <td>53.546649</td>\n",
       "      <td>19.700024</td>\n",
       "      <td>46.490704</td>\n",
       "      <td>26.134407</td>\n",
       "      <td>59.163510</td>\n",
       "    </tr>\n",
       "    <tr>\n",
       "      <th>13</th>\n",
       "      <td>2018-01-14</td>\n",
       "      <td>20.805822</td>\n",
       "      <td>57.268549</td>\n",
       "      <td>35.814179</td>\n",
       "      <td>20.557058</td>\n",
       "      <td>17.798096</td>\n",
       "      <td>56.574216</td>\n",
       "      <td>54.987256</td>\n",
       "      <td>75.077417</td>\n",
       "      <td>47.635658</td>\n",
       "      <td>73.799555</td>\n",
       "      <td>67.117940</td>\n",
       "      <td>67.004791</td>\n",
       "      <td>78.916027</td>\n",
       "      <td>54.368081</td>\n",
       "      <td>86.288296</td>\n",
       "      <td>23.231296</td>\n",
       "      <td>31.037338</td>\n",
       "      <td>81.819415</td>\n",
       "      <td>39.686550</td>\n",
       "      <td>45.495293</td>\n",
       "      <td>38.341155</td>\n",
       "      <td>78.376282</td>\n",
       "      <td>29.359798</td>\n",
       "      <td>63.559149</td>\n",
       "      <td>76.914149</td>\n",
       "      <td>45.891565</td>\n",
       "      <td>20.775771</td>\n",
       "      <td>85.337156</td>\n",
       "      <td>68.251673</td>\n",
       "      <td>39.906453</td>\n",
       "      <td>56.648352</td>\n",
       "      <td>41.744178</td>\n",
       "      <td>67.143512</td>\n",
       "      <td>25.641812</td>\n",
       "      <td>64.044287</td>\n",
       "      <td>72.294464</td>\n",
       "      <td>27.871577</td>\n",
       "      <td>78.663065</td>\n",
       "      <td>41.433254</td>\n",
       "      <td>28.502446</td>\n",
       "      <td>19.987926</td>\n",
       "      <td>34.545476</td>\n",
       "      <td>48.665460</td>\n",
       "      <td>28.641746</td>\n",
       "      <td>78.041562</td>\n",
       "      <td>58.095358</td>\n",
       "      <td>20.912921</td>\n",
       "      <td>50.623879</td>\n",
       "      <td>28.524914</td>\n",
       "      <td>61.638312</td>\n",
       "    </tr>\n",
       "    <tr>\n",
       "      <th>14</th>\n",
       "      <td>2018-01-15</td>\n",
       "      <td>12.537615</td>\n",
       "      <td>36.109782</td>\n",
       "      <td>22.704704</td>\n",
       "      <td>12.387740</td>\n",
       "      <td>11.253244</td>\n",
       "      <td>35.161467</td>\n",
       "      <td>33.841286</td>\n",
       "      <td>47.045750</td>\n",
       "      <td>30.036396</td>\n",
       "      <td>46.468427</td>\n",
       "      <td>42.663586</td>\n",
       "      <td>42.247139</td>\n",
       "      <td>49.821971</td>\n",
       "      <td>34.872270</td>\n",
       "      <td>54.089902</td>\n",
       "      <td>13.955862</td>\n",
       "      <td>19.385697</td>\n",
       "      <td>50.464954</td>\n",
       "      <td>24.946838</td>\n",
       "      <td>28.250309</td>\n",
       "      <td>23.760771</td>\n",
       "      <td>48.001413</td>\n",
       "      <td>18.532177</td>\n",
       "      <td>39.669422</td>\n",
       "      <td>47.195240</td>\n",
       "      <td>28.066576</td>\n",
       "      <td>12.637207</td>\n",
       "      <td>53.222922</td>\n",
       "      <td>43.545264</td>\n",
       "      <td>25.106614</td>\n",
       "      <td>34.516001</td>\n",
       "      <td>27.011902</td>\n",
       "      <td>42.779278</td>\n",
       "      <td>15.766688</td>\n",
       "      <td>40.384690</td>\n",
       "      <td>45.284800</td>\n",
       "      <td>17.457066</td>\n",
       "      <td>50.310804</td>\n",
       "      <td>25.243513</td>\n",
       "      <td>17.907108</td>\n",
       "      <td>12.047566</td>\n",
       "      <td>22.104742</td>\n",
       "      <td>30.643153</td>\n",
       "      <td>18.586767</td>\n",
       "      <td>48.215230</td>\n",
       "      <td>36.497458</td>\n",
       "      <td>13.391302</td>\n",
       "      <td>31.539381</td>\n",
       "      <td>17.795107</td>\n",
       "      <td>38.810241</td>\n",
       "    </tr>\n",
       "    <tr>\n",
       "      <th>15</th>\n",
       "      <td>2018-01-16</td>\n",
       "      <td>15.115239</td>\n",
       "      <td>42.941837</td>\n",
       "      <td>26.178217</td>\n",
       "      <td>15.290693</td>\n",
       "      <td>13.455017</td>\n",
       "      <td>42.549584</td>\n",
       "      <td>41.002899</td>\n",
       "      <td>57.123353</td>\n",
       "      <td>35.893416</td>\n",
       "      <td>54.809134</td>\n",
       "      <td>50.498289</td>\n",
       "      <td>50.389825</td>\n",
       "      <td>59.965371</td>\n",
       "      <td>41.130979</td>\n",
       "      <td>64.455745</td>\n",
       "      <td>17.272379</td>\n",
       "      <td>22.598293</td>\n",
       "      <td>61.135538</td>\n",
       "      <td>29.661558</td>\n",
       "      <td>33.791701</td>\n",
       "      <td>28.998129</td>\n",
       "      <td>57.447727</td>\n",
       "      <td>22.109165</td>\n",
       "      <td>48.027688</td>\n",
       "      <td>57.625591</td>\n",
       "      <td>34.664698</td>\n",
       "      <td>15.845297</td>\n",
       "      <td>63.873532</td>\n",
       "      <td>51.064743</td>\n",
       "      <td>29.898301</td>\n",
       "      <td>42.048587</td>\n",
       "      <td>31.539470</td>\n",
       "      <td>50.924703</td>\n",
       "      <td>18.779550</td>\n",
       "      <td>48.086345</td>\n",
       "      <td>53.953024</td>\n",
       "      <td>21.294313</td>\n",
       "      <td>58.995464</td>\n",
       "      <td>30.832487</td>\n",
       "      <td>21.055835</td>\n",
       "      <td>14.691394</td>\n",
       "      <td>26.009773</td>\n",
       "      <td>35.435657</td>\n",
       "      <td>22.214825</td>\n",
       "      <td>57.694257</td>\n",
       "      <td>43.128856</td>\n",
       "      <td>16.033196</td>\n",
       "      <td>38.154097</td>\n",
       "      <td>20.906436</td>\n",
       "      <td>46.679017</td>\n",
       "    </tr>\n",
       "    <tr>\n",
       "      <th>16</th>\n",
       "      <td>2018-01-17</td>\n",
       "      <td>15.709518</td>\n",
       "      <td>43.779912</td>\n",
       "      <td>26.707013</td>\n",
       "      <td>15.251536</td>\n",
       "      <td>13.732431</td>\n",
       "      <td>42.959537</td>\n",
       "      <td>41.268418</td>\n",
       "      <td>56.773884</td>\n",
       "      <td>36.493015</td>\n",
       "      <td>55.006930</td>\n",
       "      <td>51.452465</td>\n",
       "      <td>51.266431</td>\n",
       "      <td>60.057325</td>\n",
       "      <td>41.570243</td>\n",
       "      <td>64.643784</td>\n",
       "      <td>17.436390</td>\n",
       "      <td>23.766444</td>\n",
       "      <td>60.275279</td>\n",
       "      <td>30.428004</td>\n",
       "      <td>34.104447</td>\n",
       "      <td>28.333881</td>\n",
       "      <td>58.588226</td>\n",
       "      <td>22.459663</td>\n",
       "      <td>48.122915</td>\n",
       "      <td>56.875470</td>\n",
       "      <td>34.416701</td>\n",
       "      <td>15.714231</td>\n",
       "      <td>63.985103</td>\n",
       "      <td>51.911831</td>\n",
       "      <td>29.798484</td>\n",
       "      <td>42.518652</td>\n",
       "      <td>31.770581</td>\n",
       "      <td>50.772477</td>\n",
       "      <td>18.789412</td>\n",
       "      <td>48.268435</td>\n",
       "      <td>54.085369</td>\n",
       "      <td>21.321451</td>\n",
       "      <td>60.379394</td>\n",
       "      <td>31.657371</td>\n",
       "      <td>21.635781</td>\n",
       "      <td>14.850446</td>\n",
       "      <td>26.816108</td>\n",
       "      <td>36.423734</td>\n",
       "      <td>22.027104</td>\n",
       "      <td>57.911384</td>\n",
       "      <td>43.723967</td>\n",
       "      <td>16.348635</td>\n",
       "      <td>37.608310</td>\n",
       "      <td>20.646736</td>\n",
       "      <td>47.638772</td>\n",
       "    </tr>\n",
       "    <tr>\n",
       "      <th>17</th>\n",
       "      <td>2018-01-18</td>\n",
       "      <td>16.350661</td>\n",
       "      <td>46.594587</td>\n",
       "      <td>28.528903</td>\n",
       "      <td>17.125428</td>\n",
       "      <td>15.218708</td>\n",
       "      <td>45.010465</td>\n",
       "      <td>45.546179</td>\n",
       "      <td>60.754296</td>\n",
       "      <td>39.896295</td>\n",
       "      <td>59.296496</td>\n",
       "      <td>54.804489</td>\n",
       "      <td>55.044674</td>\n",
       "      <td>63.483547</td>\n",
       "      <td>44.383999</td>\n",
       "      <td>69.847305</td>\n",
       "      <td>19.119444</td>\n",
       "      <td>24.846199</td>\n",
       "      <td>65.390600</td>\n",
       "      <td>31.726044</td>\n",
       "      <td>36.509099</td>\n",
       "      <td>31.885141</td>\n",
       "      <td>62.529365</td>\n",
       "      <td>23.523131</td>\n",
       "      <td>51.821537</td>\n",
       "      <td>61.609987</td>\n",
       "      <td>37.642767</td>\n",
       "      <td>17.138695</td>\n",
       "      <td>69.527216</td>\n",
       "      <td>56.114840</td>\n",
       "      <td>32.275777</td>\n",
       "      <td>45.607684</td>\n",
       "      <td>33.848899</td>\n",
       "      <td>54.452823</td>\n",
       "      <td>20.599771</td>\n",
       "      <td>52.057725</td>\n",
       "      <td>58.578284</td>\n",
       "      <td>23.388030</td>\n",
       "      <td>65.051740</td>\n",
       "      <td>33.624394</td>\n",
       "      <td>23.572740</td>\n",
       "      <td>15.868583</td>\n",
       "      <td>28.561108</td>\n",
       "      <td>38.889997</td>\n",
       "      <td>24.337532</td>\n",
       "      <td>61.713774</td>\n",
       "      <td>47.513012</td>\n",
       "      <td>17.669387</td>\n",
       "      <td>40.989041</td>\n",
       "      <td>23.543819</td>\n",
       "      <td>50.856074</td>\n",
       "    </tr>\n",
       "    <tr>\n",
       "      <th>18</th>\n",
       "      <td>2018-01-19</td>\n",
       "      <td>17.908865</td>\n",
       "      <td>49.983518</td>\n",
       "      <td>31.193013</td>\n",
       "      <td>17.480960</td>\n",
       "      <td>15.500976</td>\n",
       "      <td>49.407352</td>\n",
       "      <td>48.293808</td>\n",
       "      <td>65.920638</td>\n",
       "      <td>42.346748</td>\n",
       "      <td>63.597958</td>\n",
       "      <td>59.311258</td>\n",
       "      <td>59.699533</td>\n",
       "      <td>69.875334</td>\n",
       "      <td>47.320476</td>\n",
       "      <td>75.665426</td>\n",
       "      <td>20.466793</td>\n",
       "      <td>27.549474</td>\n",
       "      <td>71.647418</td>\n",
       "      <td>34.126394</td>\n",
       "      <td>38.699205</td>\n",
       "      <td>33.419667</td>\n",
       "      <td>66.778166</td>\n",
       "      <td>25.554183</td>\n",
       "      <td>56.313558</td>\n",
       "      <td>66.241936</td>\n",
       "      <td>39.736510</td>\n",
       "      <td>19.194527</td>\n",
       "      <td>74.597626</td>\n",
       "      <td>59.473334</td>\n",
       "      <td>34.569353</td>\n",
       "      <td>49.381934</td>\n",
       "      <td>37.119282</td>\n",
       "      <td>59.134919</td>\n",
       "      <td>21.843953</td>\n",
       "      <td>56.132568</td>\n",
       "      <td>64.003055</td>\n",
       "      <td>24.968149</td>\n",
       "      <td>70.412640</td>\n",
       "      <td>36.450983</td>\n",
       "      <td>24.372966</td>\n",
       "      <td>17.695612</td>\n",
       "      <td>30.627381</td>\n",
       "      <td>41.896783</td>\n",
       "      <td>25.655163</td>\n",
       "      <td>67.285783</td>\n",
       "      <td>51.066553</td>\n",
       "      <td>18.703472</td>\n",
       "      <td>44.559951</td>\n",
       "      <td>24.305601</td>\n",
       "      <td>54.522425</td>\n",
       "    </tr>\n",
       "    <tr>\n",
       "      <th>19</th>\n",
       "      <td>2018-01-20</td>\n",
       "      <td>19.875233</td>\n",
       "      <td>53.820147</td>\n",
       "      <td>33.049279</td>\n",
       "      <td>19.372722</td>\n",
       "      <td>16.741010</td>\n",
       "      <td>53.176611</td>\n",
       "      <td>53.493695</td>\n",
       "      <td>70.335564</td>\n",
       "      <td>46.352077</td>\n",
       "      <td>66.988329</td>\n",
       "      <td>64.441633</td>\n",
       "      <td>63.167480</td>\n",
       "      <td>74.767530</td>\n",
       "      <td>52.184522</td>\n",
       "      <td>79.903383</td>\n",
       "      <td>23.045028</td>\n",
       "      <td>29.258661</td>\n",
       "      <td>76.697734</td>\n",
       "      <td>37.502248</td>\n",
       "      <td>42.448683</td>\n",
       "      <td>35.831481</td>\n",
       "      <td>72.610900</td>\n",
       "      <td>27.849001</td>\n",
       "      <td>59.896670</td>\n",
       "      <td>71.225876</td>\n",
       "      <td>43.991473</td>\n",
       "      <td>19.374819</td>\n",
       "      <td>80.933079</td>\n",
       "      <td>64.744739</td>\n",
       "      <td>37.588301</td>\n",
       "      <td>52.631524</td>\n",
       "      <td>39.765379</td>\n",
       "      <td>63.443505</td>\n",
       "      <td>23.519206</td>\n",
       "      <td>60.339849</td>\n",
       "      <td>68.393731</td>\n",
       "      <td>26.592728</td>\n",
       "      <td>74.475115</td>\n",
       "      <td>39.536158</td>\n",
       "      <td>27.014135</td>\n",
       "      <td>19.464584</td>\n",
       "      <td>32.738738</td>\n",
       "      <td>44.977034</td>\n",
       "      <td>27.607570</td>\n",
       "      <td>71.416822</td>\n",
       "      <td>53.844024</td>\n",
       "      <td>19.997793</td>\n",
       "      <td>47.051895</td>\n",
       "      <td>26.275751</td>\n",
       "      <td>59.530058</td>\n",
       "    </tr>\n",
       "    <tr>\n",
       "      <th>20</th>\n",
       "      <td>2018-01-21</td>\n",
       "      <td>20.721722</td>\n",
       "      <td>57.230483</td>\n",
       "      <td>35.864895</td>\n",
       "      <td>20.311070</td>\n",
       "      <td>17.778809</td>\n",
       "      <td>56.735371</td>\n",
       "      <td>55.951897</td>\n",
       "      <td>74.846911</td>\n",
       "      <td>48.914078</td>\n",
       "      <td>72.743533</td>\n",
       "      <td>67.847922</td>\n",
       "      <td>67.848482</td>\n",
       "      <td>79.767186</td>\n",
       "      <td>54.764979</td>\n",
       "      <td>86.346495</td>\n",
       "      <td>23.481461</td>\n",
       "      <td>31.275249</td>\n",
       "      <td>81.679752</td>\n",
       "      <td>39.948799</td>\n",
       "      <td>45.519895</td>\n",
       "      <td>38.194442</td>\n",
       "      <td>78.486814</td>\n",
       "      <td>29.086395</td>\n",
       "      <td>64.508781</td>\n",
       "      <td>77.261151</td>\n",
       "      <td>46.666297</td>\n",
       "      <td>20.946402</td>\n",
       "      <td>86.262064</td>\n",
       "      <td>68.781553</td>\n",
       "      <td>39.973301</td>\n",
       "      <td>57.655964</td>\n",
       "      <td>42.215627</td>\n",
       "      <td>66.665796</td>\n",
       "      <td>25.461763</td>\n",
       "      <td>64.533918</td>\n",
       "      <td>72.304580</td>\n",
       "      <td>28.432871</td>\n",
       "      <td>79.631375</td>\n",
       "      <td>42.209681</td>\n",
       "      <td>28.427653</td>\n",
       "      <td>20.001414</td>\n",
       "      <td>35.132616</td>\n",
       "      <td>48.440815</td>\n",
       "      <td>28.837561</td>\n",
       "      <td>78.290688</td>\n",
       "      <td>58.408357</td>\n",
       "      <td>21.271513</td>\n",
       "      <td>51.256813</td>\n",
       "      <td>28.740246</td>\n",
       "      <td>62.138620</td>\n",
       "    </tr>\n",
       "    <tr>\n",
       "      <th>21</th>\n",
       "      <td>2018-01-22</td>\n",
       "      <td>12.540453</td>\n",
       "      <td>36.145292</td>\n",
       "      <td>22.777023</td>\n",
       "      <td>12.235786</td>\n",
       "      <td>11.227405</td>\n",
       "      <td>35.406655</td>\n",
       "      <td>34.847779</td>\n",
       "      <td>46.905931</td>\n",
       "      <td>31.347667</td>\n",
       "      <td>45.464184</td>\n",
       "      <td>43.556522</td>\n",
       "      <td>43.162865</td>\n",
       "      <td>50.878569</td>\n",
       "      <td>35.527460</td>\n",
       "      <td>54.362603</td>\n",
       "      <td>14.319357</td>\n",
       "      <td>19.694016</td>\n",
       "      <td>50.501261</td>\n",
       "      <td>25.278598</td>\n",
       "      <td>28.354296</td>\n",
       "      <td>23.682159</td>\n",
       "      <td>48.348996</td>\n",
       "      <td>18.294056</td>\n",
       "      <td>40.519233</td>\n",
       "      <td>47.676503</td>\n",
       "      <td>28.954654</td>\n",
       "      <td>12.877691</td>\n",
       "      <td>54.349473</td>\n",
       "      <td>44.165360</td>\n",
       "      <td>25.250365</td>\n",
       "      <td>35.595886</td>\n",
       "      <td>27.589707</td>\n",
       "      <td>42.415575</td>\n",
       "      <td>15.618675</td>\n",
       "      <td>40.939898</td>\n",
       "      <td>45.503220</td>\n",
       "      <td>17.993978</td>\n",
       "      <td>51.323033</td>\n",
       "      <td>26.130667</td>\n",
       "      <td>17.867068</td>\n",
       "      <td>12.242888</td>\n",
       "      <td>22.664029</td>\n",
       "      <td>30.599103</td>\n",
       "      <td>18.830466</td>\n",
       "      <td>48.563553</td>\n",
       "      <td>36.824491</td>\n",
       "      <td>13.805602</td>\n",
       "      <td>32.239618</td>\n",
       "      <td>18.078730</td>\n",
       "      <td>39.444062</td>\n",
       "    </tr>\n",
       "    <tr>\n",
       "      <th>22</th>\n",
       "      <td>2018-01-23</td>\n",
       "      <td>15.208013</td>\n",
       "      <td>43.050664</td>\n",
       "      <td>26.279770</td>\n",
       "      <td>15.239911</td>\n",
       "      <td>13.428591</td>\n",
       "      <td>42.877298</td>\n",
       "      <td>42.036343</td>\n",
       "      <td>57.083750</td>\n",
       "      <td>37.224992</td>\n",
       "      <td>53.885279</td>\n",
       "      <td>51.538364</td>\n",
       "      <td>51.363206</td>\n",
       "      <td>61.217538</td>\n",
       "      <td>42.046341</td>\n",
       "      <td>64.947809</td>\n",
       "      <td>17.745688</td>\n",
       "      <td>22.971295</td>\n",
       "      <td>61.353956</td>\n",
       "      <td>30.060494</td>\n",
       "      <td>33.975216</td>\n",
       "      <td>28.996315</td>\n",
       "      <td>58.035380</td>\n",
       "      <td>21.915627</td>\n",
       "      <td>48.770042</td>\n",
       "      <td>58.232201</td>\n",
       "      <td>35.656521</td>\n",
       "      <td>16.148406</td>\n",
       "      <td>65.183958</td>\n",
       "      <td>51.766444</td>\n",
       "      <td>30.126383</td>\n",
       "      <td>43.181166</td>\n",
       "      <td>32.221514</td>\n",
       "      <td>50.677149</td>\n",
       "      <td>18.670778</td>\n",
       "      <td>48.708145</td>\n",
       "      <td>54.377263</td>\n",
       "      <td>21.797093</td>\n",
       "      <td>60.036569</td>\n",
       "      <td>31.809181</td>\n",
       "      <td>21.054408</td>\n",
       "      <td>15.061975</td>\n",
       "      <td>26.539074</td>\n",
       "      <td>35.575000</td>\n",
       "      <td>22.501699</td>\n",
       "      <td>58.143254</td>\n",
       "      <td>43.468226</td>\n",
       "      <td>16.496778</td>\n",
       "      <td>38.915586</td>\n",
       "      <td>21.250867</td>\n",
       "      <td>47.443213</td>\n",
       "    </tr>\n",
       "    <tr>\n",
       "      <th>23</th>\n",
       "      <td>2018-01-24</td>\n",
       "      <td>15.892408</td>\n",
       "      <td>43.960577</td>\n",
       "      <td>26.844853</td>\n",
       "      <td>15.306536</td>\n",
       "      <td>13.711344</td>\n",
       "      <td>43.366773</td>\n",
       "      <td>42.313520</td>\n",
       "      <td>56.842167</td>\n",
       "      <td>37.831587</td>\n",
       "      <td>54.189448</td>\n",
       "      <td>52.620309</td>\n",
       "      <td>52.282220</td>\n",
       "      <td>61.491161</td>\n",
       "      <td>42.742506</td>\n",
       "      <td>65.355017</td>\n",
       "      <td>18.014107</td>\n",
       "      <td>24.196924</td>\n",
       "      <td>60.677664</td>\n",
       "      <td>30.890521</td>\n",
       "      <td>34.367234</td>\n",
       "      <td>28.416217</td>\n",
       "      <td>59.413244</td>\n",
       "      <td>22.318032</td>\n",
       "      <td>48.753041</td>\n",
       "      <td>57.596122</td>\n",
       "      <td>35.500033</td>\n",
       "      <td>16.070745</td>\n",
       "      <td>65.457539</td>\n",
       "      <td>52.684030</td>\n",
       "      <td>30.115924</td>\n",
       "      <td>43.683106</td>\n",
       "      <td>32.552607</td>\n",
       "      <td>50.640919</td>\n",
       "      <td>18.726504</td>\n",
       "      <td>48.956842</td>\n",
       "      <td>54.707590</td>\n",
       "      <td>21.781860</td>\n",
       "      <td>61.433980</td>\n",
       "      <td>32.700539</td>\n",
       "      <td>21.676475</td>\n",
       "      <td>15.385722</td>\n",
       "      <td>27.314761</td>\n",
       "      <td>36.745009</td>\n",
       "      <td>22.351567</td>\n",
       "      <td>58.460551</td>\n",
       "      <td>44.074139</td>\n",
       "      <td>16.853987</td>\n",
       "      <td>38.423656</td>\n",
       "      <td>21.043010</td>\n",
       "      <td>48.527496</td>\n",
       "    </tr>\n",
       "    <tr>\n",
       "      <th>24</th>\n",
       "      <td>2018-01-25</td>\n",
       "      <td>16.621084</td>\n",
       "      <td>46.844707</td>\n",
       "      <td>28.709347</td>\n",
       "      <td>17.288214</td>\n",
       "      <td>15.208703</td>\n",
       "      <td>45.492986</td>\n",
       "      <td>46.587803</td>\n",
       "      <td>60.936308</td>\n",
       "      <td>41.228170</td>\n",
       "      <td>58.608387</td>\n",
       "      <td>56.077932</td>\n",
       "      <td>56.087328</td>\n",
       "      <td>65.081678</td>\n",
       "      <td>45.804850</td>\n",
       "      <td>70.772781</td>\n",
       "      <td>19.794488</td>\n",
       "      <td>25.325768</td>\n",
       "      <td>65.974720</td>\n",
       "      <td>32.247484</td>\n",
       "      <td>36.850664</td>\n",
       "      <td>32.057521</td>\n",
       "      <td>63.583630</td>\n",
       "      <td>23.438644</td>\n",
       "      <td>52.337777</td>\n",
       "      <td>62.431560</td>\n",
       "      <td>38.803185</td>\n",
       "      <td>17.537744</td>\n",
       "      <td>71.136454</td>\n",
       "      <td>56.944465</td>\n",
       "      <td>32.685143</td>\n",
       "      <td>46.782608</td>\n",
       "      <td>34.724647</td>\n",
       "      <td>54.435193</td>\n",
       "      <td>20.588625</td>\n",
       "      <td>52.811865</td>\n",
       "      <td>59.385812</td>\n",
       "      <td>23.799654</td>\n",
       "      <td>66.104667</td>\n",
       "      <td>34.709873</td>\n",
       "      <td>23.658721</td>\n",
       "      <td>16.554376</td>\n",
       "      <td>29.029978</td>\n",
       "      <td>39.387703</td>\n",
       "      <td>24.693410</td>\n",
       "      <td>62.360867</td>\n",
       "      <td>47.872866</td>\n",
       "      <td>18.208172</td>\n",
       "      <td>41.849822</td>\n",
       "      <td>23.981839</td>\n",
       "      <td>51.861035</td>\n",
       "    </tr>\n",
       "    <tr>\n",
       "      <th>25</th>\n",
       "      <td>2018-01-26</td>\n",
       "      <td>18.261611</td>\n",
       "      <td>50.300140</td>\n",
       "      <td>31.421506</td>\n",
       "      <td>17.750935</td>\n",
       "      <td>15.507479</td>\n",
       "      <td>49.959989</td>\n",
       "      <td>49.317537</td>\n",
       "      <td>66.220464</td>\n",
       "      <td>43.658249</td>\n",
       "      <td>63.058953</td>\n",
       "      <td>60.666166</td>\n",
       "      <td>60.753797</td>\n",
       "      <td>71.617562</td>\n",
       "      <td>48.976787</td>\n",
       "      <td>76.795938</td>\n",
       "      <td>21.230645</td>\n",
       "      <td>28.068888</td>\n",
       "      <td>72.407260</td>\n",
       "      <td>34.701257</td>\n",
       "      <td>39.118969</td>\n",
       "      <td>33.686447</td>\n",
       "      <td>68.048598</td>\n",
       "      <td>25.529954</td>\n",
       "      <td>56.717536</td>\n",
       "      <td>67.150114</td>\n",
       "      <td>40.957913</td>\n",
       "      <td>19.623994</td>\n",
       "      <td>76.315959</td>\n",
       "      <td>60.345942</td>\n",
       "      <td>35.070774</td>\n",
       "      <td>50.546008</td>\n",
       "      <td>38.080691</td>\n",
       "      <td>59.227658</td>\n",
       "      <td>21.889613</td>\n",
       "      <td>56.950805</td>\n",
       "      <td>64.979032</td>\n",
       "      <td>25.326655</td>\n",
       "      <td>71.449619</td>\n",
       "      <td>37.554325</td>\n",
       "      <td>24.507064</td>\n",
       "      <td>18.514594</td>\n",
       "      <td>31.068868</td>\n",
       "      <td>42.561699</td>\n",
       "      <td>26.036001</td>\n",
       "      <td>68.027103</td>\n",
       "      <td>51.435622</td>\n",
       "      <td>19.266800</td>\n",
       "      <td>45.457049</td>\n",
       "      <td>24.774523</td>\n",
       "      <td>55.633204</td>\n",
       "    </tr>\n",
       "    <tr>\n",
       "      <th>26</th>\n",
       "      <td>2018-01-27</td>\n",
       "      <td>20.302678</td>\n",
       "      <td>54.200086</td>\n",
       "      <td>33.330273</td>\n",
       "      <td>19.746756</td>\n",
       "      <td>16.769015</td>\n",
       "      <td>53.793592</td>\n",
       "      <td>54.486363</td>\n",
       "      <td>70.755648</td>\n",
       "      <td>47.629954</td>\n",
       "      <td>66.614714</td>\n",
       "      <td>65.852793</td>\n",
       "      <td>64.218938</td>\n",
       "      <td>76.631535</td>\n",
       "      <td>54.058692</td>\n",
       "      <td>81.225990</td>\n",
       "      <td>23.888001</td>\n",
       "      <td>29.808171</td>\n",
       "      <td>77.623912</td>\n",
       "      <td>38.124426</td>\n",
       "      <td>42.946119</td>\n",
       "      <td>36.195433</td>\n",
       "      <td>74.080046</td>\n",
       "      <td>27.886058</td>\n",
       "      <td>60.193377</td>\n",
       "      <td>72.205797</td>\n",
       "      <td>45.256631</td>\n",
       "      <td>19.821783</td>\n",
       "      <td>82.731197</td>\n",
       "      <td>65.645152</td>\n",
       "      <td>38.179562</td>\n",
       "      <td>53.764190</td>\n",
       "      <td>40.802828</td>\n",
       "      <td>63.642009</td>\n",
       "      <td>23.625754</td>\n",
       "      <td>61.219922</td>\n",
       "      <td>69.517881</td>\n",
       "      <td>26.896049</td>\n",
       "      <td>75.483280</td>\n",
       "      <td>40.633434</td>\n",
       "      <td>27.198852</td>\n",
       "      <td>20.396811</td>\n",
       "      <td>33.156743</td>\n",
       "      <td>45.796648</td>\n",
       "      <td>28.006926</td>\n",
       "      <td>72.247521</td>\n",
       "      <td>54.222706</td>\n",
       "      <td>20.576515</td>\n",
       "      <td>47.975851</td>\n",
       "      <td>26.764379</td>\n",
       "      <td>60.734492</td>\n",
       "    </tr>\n",
       "    <tr>\n",
       "      <th>27</th>\n",
       "      <td>2018-01-28</td>\n",
       "      <td>21.214111</td>\n",
       "      <td>57.670644</td>\n",
       "      <td>36.201763</td>\n",
       "      <td>20.783639</td>\n",
       "      <td>17.832765</td>\n",
       "      <td>57.410651</td>\n",
       "      <td>56.902082</td>\n",
       "      <td>75.388193</td>\n",
       "      <td>50.145925</td>\n",
       "      <td>72.548058</td>\n",
       "      <td>69.289953</td>\n",
       "      <td>68.884090</td>\n",
       "      <td>81.729273</td>\n",
       "      <td>56.835382</td>\n",
       "      <td>87.845152</td>\n",
       "      <td>24.392978</td>\n",
       "      <td>31.844957</td>\n",
       "      <td>82.759995</td>\n",
       "      <td>40.611821</td>\n",
       "      <td>46.094636</td>\n",
       "      <td>38.656743</td>\n",
       "      <td>80.133536</td>\n",
       "      <td>29.183777</td>\n",
       "      <td>64.706570</td>\n",
       "      <td>78.298058</td>\n",
       "      <td>47.957427</td>\n",
       "      <td>21.397606</td>\n",
       "      <td>88.109989</td>\n",
       "      <td>69.694514</td>\n",
       "      <td>40.650012</td>\n",
       "      <td>58.738079</td>\n",
       "      <td>43.318222</td>\n",
       "      <td>66.964878</td>\n",
       "      <td>25.632228</td>\n",
       "      <td>65.473088</td>\n",
       "      <td>73.554067</td>\n",
       "      <td>28.681330</td>\n",
       "      <td>80.599793</td>\n",
       "      <td>43.278265</td>\n",
       "      <td>28.665166</td>\n",
       "      <td>21.024923</td>\n",
       "      <td>35.532455</td>\n",
       "      <td>49.399828</td>\n",
       "      <td>29.249299</td>\n",
       "      <td>79.205094</td>\n",
       "      <td>58.798080</td>\n",
       "      <td>21.856517</td>\n",
       "      <td>52.198181</td>\n",
       "      <td>29.237437</td>\n",
       "      <td>63.423211</td>\n",
       "    </tr>\n",
       "    <tr>\n",
       "      <th>28</th>\n",
       "      <td>2018-01-29</td>\n",
       "      <td>13.086241</td>\n",
       "      <td>36.642971</td>\n",
       "      <td>23.171989</td>\n",
       "      <td>12.799173</td>\n",
       "      <td>11.311133</td>\n",
       "      <td>36.134257</td>\n",
       "      <td>35.746238</td>\n",
       "      <td>47.568025</td>\n",
       "      <td>32.522319</td>\n",
       "      <td>45.456062</td>\n",
       "      <td>45.004775</td>\n",
       "      <td>44.171427</td>\n",
       "      <td>52.914431</td>\n",
       "      <td>37.768987</td>\n",
       "      <td>56.018841</td>\n",
       "      <td>15.288236</td>\n",
       "      <td>20.274237</td>\n",
       "      <td>51.720962</td>\n",
       "      <td>25.975875</td>\n",
       "      <td>29.006220</td>\n",
       "      <td>24.242414</td>\n",
       "      <td>50.149247</td>\n",
       "      <td>18.448980</td>\n",
       "      <td>40.629721</td>\n",
       "      <td>48.756378</td>\n",
       "      <td>30.253995</td>\n",
       "      <td>13.320025</td>\n",
       "      <td>56.217492</td>\n",
       "      <td>45.076190</td>\n",
       "      <td>26.006187</td>\n",
       "      <td>36.610344</td>\n",
       "      <td>28.745597</td>\n",
       "      <td>42.809910</td>\n",
       "      <td>15.854966</td>\n",
       "      <td>41.935090</td>\n",
       "      <td>46.853556</td>\n",
       "      <td>18.190328</td>\n",
       "      <td>52.243155</td>\n",
       "      <td>27.149973</td>\n",
       "      <td>18.159222</td>\n",
       "      <td>13.334330</td>\n",
       "      <td>23.052302</td>\n",
       "      <td>31.680001</td>\n",
       "      <td>19.249021</td>\n",
       "      <td>49.555491</td>\n",
       "      <td>37.227835</td>\n",
       "      <td>14.388097</td>\n",
       "      <td>33.189315</td>\n",
       "      <td>18.573791</td>\n",
       "      <td>40.794423</td>\n",
       "    </tr>\n",
       "    <tr>\n",
       "      <th>29</th>\n",
       "      <td>2018-01-30</td>\n",
       "      <td>15.794254</td>\n",
       "      <td>43.603810</td>\n",
       "      <td>26.733877</td>\n",
       "      <td>15.884468</td>\n",
       "      <td>13.545214</td>\n",
       "      <td>43.651632</td>\n",
       "      <td>42.876384</td>\n",
       "      <td>57.865124</td>\n",
       "      <td>38.332900</td>\n",
       "      <td>54.070270</td>\n",
       "      <td>52.969793</td>\n",
       "      <td>52.335784</td>\n",
       "      <td>63.303006</td>\n",
       "      <td>44.431017</td>\n",
       "      <td>66.741458</td>\n",
       "      <td>18.760424</td>\n",
       "      <td>23.552896</td>\n",
       "      <td>62.696765</td>\n",
       "      <td>30.785547</td>\n",
       "      <td>34.704496</td>\n",
       "      <td>29.652610</td>\n",
       "      <td>59.963043</td>\n",
       "      <td>22.123703</td>\n",
       "      <td>48.807919</td>\n",
       "      <td>59.342362</td>\n",
       "      <td>36.946898</td>\n",
       "      <td>16.569389</td>\n",
       "      <td>67.043536</td>\n",
       "      <td>52.661674</td>\n",
       "      <td>30.953317</td>\n",
       "      <td>44.113452</td>\n",
       "      <td>33.418227</td>\n",
       "      <td>51.161701</td>\n",
       "      <td>18.973641</td>\n",
       "      <td>49.756086</td>\n",
       "      <td>55.803253</td>\n",
       "      <td>21.946478</td>\n",
       "      <td>60.902592</td>\n",
       "      <td>32.761322</td>\n",
       "      <td>21.402710</td>\n",
       "      <td>16.197273</td>\n",
       "      <td>26.923496</td>\n",
       "      <td>36.758675</td>\n",
       "      <td>22.922315</td>\n",
       "      <td>59.206364</td>\n",
       "      <td>43.888993</td>\n",
       "      <td>17.068572</td>\n",
       "      <td>39.865216</td>\n",
       "      <td>21.733925</td>\n",
       "      <td>48.844519</td>\n",
       "    </tr>\n",
       "  </tbody>\n",
       "</table>\n",
       "</div>"
      ],
      "text/plain": [
       "         Date    sales_1    sales_2    sales_3    sales_4  ...   sales_46   sales_47   sales_48   sales_49   sales_50\n",
       "0  2018-01-01  12.985044  36.710568  22.229259  13.111308  ...  36.003788  13.663385  31.277886  18.439793  39.342718\n",
       "1  2018-01-02  15.639651  43.581355  25.773522  16.093750  ...  42.652918  16.241997  37.846493  21.499608  47.159162\n",
       "2  2018-01-03  16.282702  44.430075  26.367537  16.107757  ...  43.255077  16.479984  37.235145  21.167820  48.034584\n",
       "3  2018-01-04  16.943584  47.228741  28.246913  18.006822  ...  47.041795  17.711119  40.532925  23.974697  51.136841\n",
       "4  2018-01-05  18.492588  50.577074  30.958861  18.358678  ...  50.585150  18.645780  44.006066  24.631133  54.659629\n",
       "5  2018-01-06  20.421802  54.351079  32.851716  20.217864  ...  53.346193  19.833498  46.388392  26.484180  59.498182\n",
       "6  2018-01-07  21.204999  57.679681  35.691408  21.095477  ...  57.889461  20.996246  50.475094  28.823480  61.915829\n",
       "7  2018-01-08  12.936869  36.496774  22.614185  12.932792  ...  36.281390  13.417882  31.334490  18.032492  39.012750\n",
       "8  2018-01-09  15.497225  43.291646  26.113596  15.825043  ...  42.899084  15.998010  37.885292  21.074712  46.790394\n",
       "9  2018-01-10  16.057844  44.081409  26.661161  15.758130  ...  43.478155  16.248360  37.269788  20.740216  47.645049\n",
       "10 2018-01-11  16.650358  46.838688  28.494107  17.587951  ...  47.249949  17.502470  40.577119  23.559173  50.745793\n",
       "11 2018-01-12  18.146806  50.163233  31.161178  17.884264  ...  50.786026  18.470144  44.073101  24.241896  54.286890\n",
       "12 2018-01-13  20.040483  53.930538  33.012130  19.703217  ...  53.546649  19.700024  46.490704  26.134407  59.163510\n",
       "13 2018-01-14  20.805822  57.268549  35.814179  20.557058  ...  58.095358  20.912921  50.623879  28.524914  61.638312\n",
       "14 2018-01-15  12.537615  36.109782  22.704704  12.387740  ...  36.497458  13.391302  31.539381  17.795107  38.810241\n",
       "15 2018-01-16  15.115239  42.941837  26.178217  15.290693  ...  43.128856  16.033196  38.154097  20.906436  46.679017\n",
       "16 2018-01-17  15.709518  43.779912  26.707013  15.251536  ...  43.723967  16.348635  37.608310  20.646736  47.638772\n",
       "17 2018-01-18  16.350661  46.594587  28.528903  17.125428  ...  47.513012  17.669387  40.989041  23.543819  50.856074\n",
       "18 2018-01-19  17.908865  49.983518  31.193013  17.480960  ...  51.066553  18.703472  44.559951  24.305601  54.522425\n",
       "19 2018-01-20  19.875233  53.820147  33.049279  19.372722  ...  53.844024  19.997793  47.051895  26.275751  59.530058\n",
       "20 2018-01-21  20.721722  57.230483  35.864895  20.311070  ...  58.408357  21.271513  51.256813  28.740246  62.138620\n",
       "21 2018-01-22  12.540453  36.145292  22.777023  12.235786  ...  36.824491  13.805602  32.239618  18.078730  39.444062\n",
       "22 2018-01-23  15.208013  43.050664  26.279770  15.239911  ...  43.468226  16.496778  38.915586  21.250867  47.443213\n",
       "23 2018-01-24  15.892408  43.960577  26.844853  15.306536  ...  44.074139  16.853987  38.423656  21.043010  48.527496\n",
       "24 2018-01-25  16.621084  46.844707  28.709347  17.288214  ...  47.872866  18.208172  41.849822  23.981839  51.861035\n",
       "25 2018-01-26  18.261611  50.300140  31.421506  17.750935  ...  51.435622  19.266800  45.457049  24.774523  55.633204\n",
       "26 2018-01-27  20.302678  54.200086  33.330273  19.746756  ...  54.222706  20.576515  47.975851  26.764379  60.734492\n",
       "27 2018-01-28  21.214111  57.670644  36.201763  20.783639  ...  58.798080  21.856517  52.198181  29.237437  63.423211\n",
       "28 2018-01-29  13.086241  36.642971  23.171989  12.799173  ...  37.227835  14.388097  33.189315  18.573791  40.794423\n",
       "29 2018-01-30  15.794254  43.603810  26.733877  15.884468  ...  43.888993  17.068572  39.865216  21.733925  48.844519\n",
       "\n",
       "[30 rows x 51 columns]"
      ]
     },
     "execution_count": 58,
     "metadata": {},
     "output_type": "execute_result"
    }
   ],
   "source": [
    "final_fourcast1"
   ]
  },
  {
   "cell_type": "markdown",
   "id": "b804585e",
   "metadata": {},
   "source": [
    "# Phase 6 : retraning model with new data"
   ]
  },
  {
   "cell_type": "code",
   "execution_count": 59,
   "id": "eb80cbb8",
   "metadata": {
    "ExecuteTime": {
     "end_time": "2023-01-03T07:12:30.273433Z",
     "start_time": "2023-01-03T07:12:29.764062Z"
    },
    "scrolled": true
   },
   "outputs": [
    {
     "ename": "MlflowException",
     "evalue": "Run '7c5c3713427e45d685723670f886cc69' not found",
     "output_type": "error",
     "traceback": [
      "\u001b[1;31m---------------------------------------------------------------------------\u001b[0m",
      "\u001b[1;31mMlflowException\u001b[0m                           Traceback (most recent call last)",
      "Input \u001b[1;32mIn [59]\u001b[0m, in \u001b[0;36m<cell line: 4>\u001b[1;34m()\u001b[0m\n\u001b[0;32m      2\u001b[0m run_id \u001b[38;5;241m=\u001b[39m \u001b[38;5;124m\"\u001b[39m\u001b[38;5;124m7c5c3713427e45d685723670f886cc69\u001b[39m\u001b[38;5;124m\"\u001b[39m \n\u001b[0;32m      3\u001b[0m pyfunc_uri \u001b[38;5;241m=\u001b[39m \u001b[38;5;124mf\u001b[39m\u001b[38;5;124m\"\u001b[39m\u001b[38;5;124mruns:/\u001b[39m\u001b[38;5;132;01m{\u001b[39;00mrun_id\u001b[38;5;132;01m}\u001b[39;00m\u001b[38;5;124m/model\u001b[39m\u001b[38;5;124m\"\u001b[39m\n\u001b[1;32m----> 4\u001b[0m pyfunc_model \u001b[38;5;241m=\u001b[39m \u001b[43mmlflow\u001b[49m\u001b[38;5;241;43m.\u001b[39;49m\u001b[43mpyfunc\u001b[49m\u001b[38;5;241;43m.\u001b[39;49m\u001b[43mload_model\u001b[49m\u001b[43m(\u001b[49m\u001b[43mpyfunc_uri\u001b[49m\u001b[43m)\u001b[49m \u001b[38;5;66;03m# we are using python flavor\u001b[39;00m\n\u001b[0;32m      5\u001b[0m \u001b[38;5;28mprint\u001b[39m(\u001b[38;5;124mf\u001b[39m\u001b[38;5;124m\"\u001b[39m\u001b[38;5;124mLoading RF Model=\u001b[39m\u001b[38;5;132;01m{\u001b[39;00mpyfunc_uri\u001b[38;5;132;01m}\u001b[39;00m\u001b[38;5;124m as Pyfunc Model\u001b[39m\u001b[38;5;124m\"\u001b[39m)\n",
      "File \u001b[1;32m~\\AppData\\Roaming\\Python\\Python39\\site-packages\\mlflow\\pyfunc\\__init__.py:716\u001b[0m, in \u001b[0;36mload_model\u001b[1;34m(model_uri, suppress_warnings, dst_path)\u001b[0m\n\u001b[0;32m    690\u001b[0m \u001b[38;5;28;01mdef\u001b[39;00m \u001b[38;5;21mload_model\u001b[39m(\n\u001b[0;32m    691\u001b[0m     model_uri: \u001b[38;5;28mstr\u001b[39m, suppress_warnings: \u001b[38;5;28mbool\u001b[39m \u001b[38;5;241m=\u001b[39m \u001b[38;5;28;01mFalse\u001b[39;00m, dst_path: \u001b[38;5;28mstr\u001b[39m \u001b[38;5;241m=\u001b[39m \u001b[38;5;28;01mNone\u001b[39;00m\n\u001b[0;32m    692\u001b[0m ) \u001b[38;5;241m-\u001b[39m\u001b[38;5;241m>\u001b[39m PyFuncModel:\n\u001b[0;32m    693\u001b[0m     \u001b[38;5;124;03m\"\"\"\u001b[39;00m\n\u001b[0;32m    694\u001b[0m \u001b[38;5;124;03m    Load a model stored in Python function format.\u001b[39;00m\n\u001b[0;32m    695\u001b[0m \n\u001b[1;32m   (...)\u001b[0m\n\u001b[0;32m    714\u001b[0m \u001b[38;5;124;03m                     path will be created.\u001b[39;00m\n\u001b[0;32m    715\u001b[0m \u001b[38;5;124;03m    \"\"\"\u001b[39;00m\n\u001b[1;32m--> 716\u001b[0m     local_path \u001b[38;5;241m=\u001b[39m \u001b[43m_download_artifact_from_uri\u001b[49m\u001b[43m(\u001b[49m\u001b[43martifact_uri\u001b[49m\u001b[38;5;241;43m=\u001b[39;49m\u001b[43mmodel_uri\u001b[49m\u001b[43m,\u001b[49m\u001b[43m \u001b[49m\u001b[43moutput_path\u001b[49m\u001b[38;5;241;43m=\u001b[39;49m\u001b[43mdst_path\u001b[49m\u001b[43m)\u001b[49m\n\u001b[0;32m    718\u001b[0m     \u001b[38;5;28;01mif\u001b[39;00m \u001b[38;5;129;01mnot\u001b[39;00m suppress_warnings:\n\u001b[0;32m    719\u001b[0m         _warn_dependency_requirement_mismatches(local_path)\n",
      "File \u001b[1;32m~\\AppData\\Roaming\\Python\\Python39\\site-packages\\mlflow\\tracking\\artifact_utils.py:94\u001b[0m, in \u001b[0;36m_download_artifact_from_uri\u001b[1;34m(artifact_uri, output_path)\u001b[0m\n\u001b[0;32m     91\u001b[0m     parsed_uri \u001b[38;5;241m=\u001b[39m parsed_uri\u001b[38;5;241m.\u001b[39m_replace(path\u001b[38;5;241m=\u001b[39mposixpath\u001b[38;5;241m.\u001b[39mdirname(parsed_uri\u001b[38;5;241m.\u001b[39mpath))\n\u001b[0;32m     92\u001b[0m     root_uri \u001b[38;5;241m=\u001b[39m prefix \u001b[38;5;241m+\u001b[39m urllib\u001b[38;5;241m.\u001b[39mparse\u001b[38;5;241m.\u001b[39murlunparse(parsed_uri)\n\u001b[1;32m---> 94\u001b[0m \u001b[38;5;28;01mreturn\u001b[39;00m \u001b[43mget_artifact_repository\u001b[49m\u001b[43m(\u001b[49m\u001b[43martifact_uri\u001b[49m\u001b[38;5;241;43m=\u001b[39;49m\u001b[43mroot_uri\u001b[49m\u001b[43m)\u001b[49m\u001b[38;5;241m.\u001b[39mdownload_artifacts(\n\u001b[0;32m     95\u001b[0m     artifact_path\u001b[38;5;241m=\u001b[39martifact_path, dst_path\u001b[38;5;241m=\u001b[39moutput_path\n\u001b[0;32m     96\u001b[0m )\n",
      "File \u001b[1;32m~\\AppData\\Roaming\\Python\\Python39\\site-packages\\mlflow\\store\\artifact\\artifact_repository_registry.py:107\u001b[0m, in \u001b[0;36mget_artifact_repository\u001b[1;34m(artifact_uri)\u001b[0m\n\u001b[0;32m     97\u001b[0m \u001b[38;5;28;01mdef\u001b[39;00m \u001b[38;5;21mget_artifact_repository\u001b[39m(artifact_uri):\n\u001b[0;32m     98\u001b[0m     \u001b[38;5;124;03m\"\"\"Get an artifact repository from the registry based on the scheme of artifact_uri\u001b[39;00m\n\u001b[0;32m     99\u001b[0m \n\u001b[0;32m    100\u001b[0m \u001b[38;5;124;03m    :param artifact_uri: The artifact store URI. This URI is used to select which artifact\u001b[39;00m\n\u001b[1;32m   (...)\u001b[0m\n\u001b[0;32m    105\u001b[0m \u001b[38;5;124;03m             requirements.\u001b[39;00m\n\u001b[0;32m    106\u001b[0m \u001b[38;5;124;03m    \"\"\"\u001b[39;00m\n\u001b[1;32m--> 107\u001b[0m     \u001b[38;5;28;01mreturn\u001b[39;00m \u001b[43m_artifact_repository_registry\u001b[49m\u001b[38;5;241;43m.\u001b[39;49m\u001b[43mget_artifact_repository\u001b[49m\u001b[43m(\u001b[49m\u001b[43martifact_uri\u001b[49m\u001b[43m)\u001b[49m\n",
      "File \u001b[1;32m~\\AppData\\Roaming\\Python\\Python39\\site-packages\\mlflow\\store\\artifact\\artifact_repository_registry.py:73\u001b[0m, in \u001b[0;36mArtifactRepositoryRegistry.get_artifact_repository\u001b[1;34m(self, artifact_uri)\u001b[0m\n\u001b[0;32m     66\u001b[0m \u001b[38;5;28;01mif\u001b[39;00m repository \u001b[38;5;129;01mis\u001b[39;00m \u001b[38;5;28;01mNone\u001b[39;00m:\n\u001b[0;32m     67\u001b[0m     \u001b[38;5;28;01mraise\u001b[39;00m MlflowException(\n\u001b[0;32m     68\u001b[0m         \u001b[38;5;124m\"\u001b[39m\u001b[38;5;124mCould not find a registered artifact repository for: \u001b[39m\u001b[38;5;132;01m{}\u001b[39;00m\u001b[38;5;124m. \u001b[39m\u001b[38;5;124m\"\u001b[39m\n\u001b[0;32m     69\u001b[0m         \u001b[38;5;124m\"\u001b[39m\u001b[38;5;124mCurrently registered schemes are: \u001b[39m\u001b[38;5;132;01m{}\u001b[39;00m\u001b[38;5;124m\"\u001b[39m\u001b[38;5;241m.\u001b[39mformat(\n\u001b[0;32m     70\u001b[0m             artifact_uri, \u001b[38;5;28mlist\u001b[39m(\u001b[38;5;28mself\u001b[39m\u001b[38;5;241m.\u001b[39m_registry\u001b[38;5;241m.\u001b[39mkeys())\n\u001b[0;32m     71\u001b[0m         )\n\u001b[0;32m     72\u001b[0m     )\n\u001b[1;32m---> 73\u001b[0m \u001b[38;5;28;01mreturn\u001b[39;00m \u001b[43mrepository\u001b[49m\u001b[43m(\u001b[49m\u001b[43martifact_uri\u001b[49m\u001b[43m)\u001b[49m\n",
      "File \u001b[1;32m~\\AppData\\Roaming\\Python\\Python39\\site-packages\\mlflow\\store\\artifact\\runs_artifact_repo.py:26\u001b[0m, in \u001b[0;36mRunsArtifactRepository.__init__\u001b[1;34m(self, artifact_uri)\u001b[0m\n\u001b[0;32m     23\u001b[0m \u001b[38;5;28;01mfrom\u001b[39;00m \u001b[38;5;21;01mmlflow\u001b[39;00m\u001b[38;5;21;01m.\u001b[39;00m\u001b[38;5;21;01mstore\u001b[39;00m\u001b[38;5;21;01m.\u001b[39;00m\u001b[38;5;21;01martifact\u001b[39;00m\u001b[38;5;21;01m.\u001b[39;00m\u001b[38;5;21;01martifact_repository_registry\u001b[39;00m \u001b[38;5;28;01mimport\u001b[39;00m get_artifact_repository\n\u001b[0;32m     25\u001b[0m \u001b[38;5;28msuper\u001b[39m()\u001b[38;5;241m.\u001b[39m\u001b[38;5;21m__init__\u001b[39m(artifact_uri)\n\u001b[1;32m---> 26\u001b[0m uri \u001b[38;5;241m=\u001b[39m \u001b[43mRunsArtifactRepository\u001b[49m\u001b[38;5;241;43m.\u001b[39;49m\u001b[43mget_underlying_uri\u001b[49m\u001b[43m(\u001b[49m\u001b[43martifact_uri\u001b[49m\u001b[43m)\u001b[49m\n\u001b[0;32m     27\u001b[0m \u001b[38;5;28mself\u001b[39m\u001b[38;5;241m.\u001b[39mrepo \u001b[38;5;241m=\u001b[39m get_artifact_repository(uri)\n",
      "File \u001b[1;32m~\\AppData\\Roaming\\Python\\Python39\\site-packages\\mlflow\\store\\artifact\\runs_artifact_repo.py:39\u001b[0m, in \u001b[0;36mRunsArtifactRepository.get_underlying_uri\u001b[1;34m(runs_uri)\u001b[0m\n\u001b[0;32m     37\u001b[0m (run_id, artifact_path) \u001b[38;5;241m=\u001b[39m RunsArtifactRepository\u001b[38;5;241m.\u001b[39mparse_runs_uri(runs_uri)\n\u001b[0;32m     38\u001b[0m tracking_uri \u001b[38;5;241m=\u001b[39m get_databricks_profile_uri_from_artifact_uri(runs_uri)\n\u001b[1;32m---> 39\u001b[0m uri \u001b[38;5;241m=\u001b[39m \u001b[43mget_artifact_uri\u001b[49m\u001b[43m(\u001b[49m\u001b[43mrun_id\u001b[49m\u001b[43m,\u001b[49m\u001b[43m \u001b[49m\u001b[43martifact_path\u001b[49m\u001b[43m,\u001b[49m\u001b[43m \u001b[49m\u001b[43mtracking_uri\u001b[49m\u001b[43m)\u001b[49m\n\u001b[0;32m     40\u001b[0m \u001b[38;5;28;01massert\u001b[39;00m \u001b[38;5;129;01mnot\u001b[39;00m RunsArtifactRepository\u001b[38;5;241m.\u001b[39mis_runs_uri(uri)  \u001b[38;5;66;03m# avoid an infinite loop\u001b[39;00m\n\u001b[0;32m     41\u001b[0m \u001b[38;5;28;01mreturn\u001b[39;00m add_databricks_profile_info_to_artifact_uri(uri, tracking_uri)\n",
      "File \u001b[1;32m~\\AppData\\Roaming\\Python\\Python39\\site-packages\\mlflow\\tracking\\artifact_utils.py:47\u001b[0m, in \u001b[0;36mget_artifact_uri\u001b[1;34m(run_id, artifact_path, tracking_uri)\u001b[0m\n\u001b[0;32m     41\u001b[0m     \u001b[38;5;28;01mraise\u001b[39;00m MlflowException(\n\u001b[0;32m     42\u001b[0m         message\u001b[38;5;241m=\u001b[39m\u001b[38;5;124m\"\u001b[39m\u001b[38;5;124mA run_id must be specified in order to obtain an artifact uri!\u001b[39m\u001b[38;5;124m\"\u001b[39m,\n\u001b[0;32m     43\u001b[0m         error_code\u001b[38;5;241m=\u001b[39mINVALID_PARAMETER_VALUE,\n\u001b[0;32m     44\u001b[0m     )\n\u001b[0;32m     46\u001b[0m store \u001b[38;5;241m=\u001b[39m _get_store(tracking_uri)\n\u001b[1;32m---> 47\u001b[0m run \u001b[38;5;241m=\u001b[39m \u001b[43mstore\u001b[49m\u001b[38;5;241;43m.\u001b[39;49m\u001b[43mget_run\u001b[49m\u001b[43m(\u001b[49m\u001b[43mrun_id\u001b[49m\u001b[43m)\u001b[49m\n\u001b[0;32m     48\u001b[0m \u001b[38;5;66;03m# Maybe move this method to RunsArtifactRepository so the circular dependency is clearer.\u001b[39;00m\n\u001b[0;32m     49\u001b[0m \u001b[38;5;28;01massert\u001b[39;00m urllib\u001b[38;5;241m.\u001b[39mparse\u001b[38;5;241m.\u001b[39murlparse(run\u001b[38;5;241m.\u001b[39minfo\u001b[38;5;241m.\u001b[39martifact_uri)\u001b[38;5;241m.\u001b[39mscheme \u001b[38;5;241m!=\u001b[39m \u001b[38;5;124m\"\u001b[39m\u001b[38;5;124mruns\u001b[39m\u001b[38;5;124m\"\u001b[39m  \u001b[38;5;66;03m# avoid an infinite loop\u001b[39;00m\n",
      "File \u001b[1;32m~\\AppData\\Roaming\\Python\\Python39\\site-packages\\mlflow\\store\\tracking\\file_store.py:530\u001b[0m, in \u001b[0;36mFileStore.get_run\u001b[1;34m(self, run_id)\u001b[0m\n\u001b[0;32m    526\u001b[0m \u001b[38;5;124;03m\"\"\"\u001b[39;00m\n\u001b[0;32m    527\u001b[0m \u001b[38;5;124;03mNote: Will get both active and deleted runs.\u001b[39;00m\n\u001b[0;32m    528\u001b[0m \u001b[38;5;124;03m\"\"\"\u001b[39;00m\n\u001b[0;32m    529\u001b[0m _validate_run_id(run_id)\n\u001b[1;32m--> 530\u001b[0m run_info \u001b[38;5;241m=\u001b[39m \u001b[38;5;28;43mself\u001b[39;49m\u001b[38;5;241;43m.\u001b[39;49m\u001b[43m_get_run_info\u001b[49m\u001b[43m(\u001b[49m\u001b[43mrun_id\u001b[49m\u001b[43m)\u001b[49m\n\u001b[0;32m    531\u001b[0m \u001b[38;5;28;01mif\u001b[39;00m run_info \u001b[38;5;129;01mis\u001b[39;00m \u001b[38;5;28;01mNone\u001b[39;00m:\n\u001b[0;32m    532\u001b[0m     \u001b[38;5;28;01mraise\u001b[39;00m MlflowException(\n\u001b[0;32m    533\u001b[0m         \u001b[38;5;124m\"\u001b[39m\u001b[38;5;124mRun \u001b[39m\u001b[38;5;124m'\u001b[39m\u001b[38;5;132;01m%s\u001b[39;00m\u001b[38;5;124m'\u001b[39m\u001b[38;5;124m metadata is in invalid state.\u001b[39m\u001b[38;5;124m\"\u001b[39m \u001b[38;5;241m%\u001b[39m run_id, databricks_pb2\u001b[38;5;241m.\u001b[39mINVALID_STATE\n\u001b[0;32m    534\u001b[0m     )\n",
      "File \u001b[1;32m~\\AppData\\Roaming\\Python\\Python39\\site-packages\\mlflow\\store\\tracking\\file_store.py:549\u001b[0m, in \u001b[0;36mFileStore._get_run_info\u001b[1;34m(self, run_uuid)\u001b[0m\n\u001b[0;32m    547\u001b[0m exp_id, run_dir \u001b[38;5;241m=\u001b[39m \u001b[38;5;28mself\u001b[39m\u001b[38;5;241m.\u001b[39m_find_run_root(run_uuid)\n\u001b[0;32m    548\u001b[0m \u001b[38;5;28;01mif\u001b[39;00m run_dir \u001b[38;5;129;01mis\u001b[39;00m \u001b[38;5;28;01mNone\u001b[39;00m:\n\u001b[1;32m--> 549\u001b[0m     \u001b[38;5;28;01mraise\u001b[39;00m MlflowException(\n\u001b[0;32m    550\u001b[0m         \u001b[38;5;124m\"\u001b[39m\u001b[38;5;124mRun \u001b[39m\u001b[38;5;124m'\u001b[39m\u001b[38;5;132;01m%s\u001b[39;00m\u001b[38;5;124m'\u001b[39m\u001b[38;5;124m not found\u001b[39m\u001b[38;5;124m\"\u001b[39m \u001b[38;5;241m%\u001b[39m run_uuid, databricks_pb2\u001b[38;5;241m.\u001b[39mRESOURCE_DOES_NOT_EXIST\n\u001b[0;32m    551\u001b[0m     )\n\u001b[0;32m    552\u001b[0m run_info \u001b[38;5;241m=\u001b[39m \u001b[38;5;28mself\u001b[39m\u001b[38;5;241m.\u001b[39m_get_run_info_from_dir(run_dir)\n\u001b[0;32m    553\u001b[0m \u001b[38;5;28;01mif\u001b[39;00m run_info\u001b[38;5;241m.\u001b[39mexperiment_id \u001b[38;5;241m!=\u001b[39m exp_id:\n",
      "\u001b[1;31mMlflowException\u001b[0m: Run '7c5c3713427e45d685723670f886cc69' not found"
     ]
    }
   ],
   "source": []
  },
  {
   "cell_type": "code",
   "execution_count": 60,
   "id": "6f9eda7f",
   "metadata": {
    "ExecuteTime": {
     "end_time": "2023-01-03T07:13:21.938659Z",
     "start_time": "2023-01-03T07:13:21.913901Z"
    },
    "scrolled": true
   },
   "outputs": [
    {
     "ename": "NameError",
     "evalue": "name 'pyfunc_model' is not defined",
     "output_type": "error",
     "traceback": [
      "\u001b[1;31m---------------------------------------------------------------------------\u001b[0m",
      "\u001b[1;31mNameError\u001b[0m                                 Traceback (most recent call last)",
      "Input \u001b[1;32mIn [60]\u001b[0m, in \u001b[0;36m<cell line: 5>\u001b[1;34m()\u001b[0m\n\u001b[0;32m      1\u001b[0m df \u001b[38;5;241m=\u001b[39m pd\u001b[38;5;241m.\u001b[39mDataFrame(np\u001b[38;5;241m.\u001b[39marray([[\u001b[38;5;241m5.\u001b[39m , \u001b[38;5;241m3.4\u001b[39m, \u001b[38;5;241m1.5\u001b[39m, \u001b[38;5;241m0.2\u001b[39m], \n\u001b[0;32m      2\u001b[0m                             [\u001b[38;5;241m4.8\u001b[39m, \u001b[38;5;241m3.4\u001b[39m, \u001b[38;5;241m1.6\u001b[39m, \u001b[38;5;241m0.2\u001b[39m],\n\u001b[0;32m      3\u001b[0m                             [\u001b[38;5;241m6.3\u001b[39m, \u001b[38;5;241m3.4\u001b[39m, \u001b[38;5;241m5.6\u001b[39m, \u001b[38;5;241m2.4\u001b[39m],\n\u001b[0;32m      4\u001b[0m                             [\u001b[38;5;241m6.4\u001b[39m, \u001b[38;5;241m3.1\u001b[39m, \u001b[38;5;241m5.5\u001b[39m, \u001b[38;5;241m1.8\u001b[39m],]))\n\u001b[1;32m----> 5\u001b[0m pred \u001b[38;5;241m=\u001b[39m \u001b[43mpyfunc_model\u001b[49m\u001b[38;5;241m.\u001b[39mpredict(df)\n\u001b[0;32m      6\u001b[0m \u001b[38;5;28mprint\u001b[39m(pred)\n",
      "\u001b[1;31mNameError\u001b[0m: name 'pyfunc_model' is not defined"
     ]
    }
   ],
   "source": []
  },
  {
   "cell_type": "code",
   "execution_count": null,
   "id": "24fa25a0",
   "metadata": {},
   "outputs": [],
   "source": []
  }
 ],
 "metadata": {
  "kernelspec": {
   "display_name": "Python 3 (ipykernel)",
   "language": "python",
   "name": "python3"
  },
  "language_info": {
   "codemirror_mode": {
    "name": "ipython",
    "version": 3
   },
   "file_extension": ".py",
   "mimetype": "text/x-python",
   "name": "python",
   "nbconvert_exporter": "python",
   "pygments_lexer": "ipython3",
   "version": "3.9.12"
  },
  "latex_envs": {
   "LaTeX_envs_menu_present": true,
   "autoclose": false,
   "autocomplete": true,
   "bibliofile": "biblio.bib",
   "cite_by": "apalike",
   "current_citInitial": 1,
   "eqLabelWithNumbers": true,
   "eqNumInitial": 1,
   "hotkeys": {
    "equation": "Ctrl-E",
    "itemize": "Ctrl-I"
   },
   "labels_anchors": false,
   "latex_user_defs": false,
   "report_style_numbering": false,
   "user_envs_cfg": false
  }
 },
 "nbformat": 4,
 "nbformat_minor": 5
}
